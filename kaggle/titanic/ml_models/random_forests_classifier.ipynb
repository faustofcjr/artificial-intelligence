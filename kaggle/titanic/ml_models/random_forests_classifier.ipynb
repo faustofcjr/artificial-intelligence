{
 "cells": [
  {
   "cell_type": "markdown",
   "id": "bdb183c8-51d1-4f54-882c-4b86497ad7ed",
   "metadata": {
    "id": "bdb183c8-51d1-4f54-882c-4b86497ad7ed"
   },
   "source": [
    "# Random Forest Classifier"
   ]
  },
  {
   "cell_type": "code",
   "execution_count": 1,
   "id": "9768ddd9-ad10-4698-93fb-3e5abcb97a77",
   "metadata": {
    "executionInfo": {
     "elapsed": 493,
     "status": "ok",
     "timestamp": 1639421503705,
     "user": {
      "displayName": "Fausto Carvalho",
      "photoUrl": "https://lh3.googleusercontent.com/a-/AOh14GhQSp8A75VnSre8_0cZLC_op7xUuyx_SZKDhtk6rw=s64",
      "userId": "14769586862712322629"
     },
     "user_tz": 180
    },
    "id": "9768ddd9-ad10-4698-93fb-3e5abcb97a77"
   },
   "outputs": [],
   "source": [
    "import pandas as pd\n",
    "import numpy as np\n",
    "\n",
    "import functions_classifier as func\n",
    "\n",
    "from sklearn.ensemble import RandomForestClassifier\n",
    "\n",
    "from sklearn.preprocessing import scale\n",
    "from sklearn.model_selection import train_test_split"
   ]
  },
  {
   "cell_type": "markdown",
   "id": "7071b52e-3b2f-4083-9964-7bacf46ee705",
   "metadata": {},
   "source": [
    "## Constants"
   ]
  },
  {
   "cell_type": "code",
   "execution_count": 2,
   "id": "27d2fca8-3ed9-431d-bca1-e53a6693d0c7",
   "metadata": {},
   "outputs": [],
   "source": [
    "PATH_PROCESSED_TRAIN_CSV = \"../data/processed_train.csv\""
   ]
  },
  {
   "cell_type": "markdown",
   "id": "e94661e7-3aa3-48a9-9269-dfb730f6a3fb",
   "metadata": {
    "id": "e94661e7-3aa3-48a9-9269-dfb730f6a3fb"
   },
   "source": [
    "## Data Collection"
   ]
  },
  {
   "cell_type": "code",
   "execution_count": 3,
   "id": "6233a5c2-0bbd-4979-9159-fbeb8bd3a832",
   "metadata": {
    "executionInfo": {
     "elapsed": 492,
     "status": "ok",
     "timestamp": 1639421504755,
     "user": {
      "displayName": "Fausto Carvalho",
      "photoUrl": "https://lh3.googleusercontent.com/a-/AOh14GhQSp8A75VnSre8_0cZLC_op7xUuyx_SZKDhtk6rw=s64",
      "userId": "14769586862712322629"
     },
     "user_tz": 180
    },
    "id": "6233a5c2-0bbd-4979-9159-fbeb8bd3a832"
   },
   "outputs": [
    {
     "data": {
      "text/html": [
       "<div>\n",
       "<style scoped>\n",
       "    .dataframe tbody tr th:only-of-type {\n",
       "        vertical-align: middle;\n",
       "    }\n",
       "\n",
       "    .dataframe tbody tr th {\n",
       "        vertical-align: top;\n",
       "    }\n",
       "\n",
       "    .dataframe thead th {\n",
       "        text-align: right;\n",
       "    }\n",
       "</style>\n",
       "<table border=\"1\" class=\"dataframe\">\n",
       "  <thead>\n",
       "    <tr style=\"text-align: right;\">\n",
       "      <th></th>\n",
       "      <th>Survived</th>\n",
       "      <th>Pclass</th>\n",
       "      <th>Sex</th>\n",
       "      <th>Age</th>\n",
       "      <th>SibSp</th>\n",
       "      <th>Parch</th>\n",
       "      <th>Ticket</th>\n",
       "      <th>Fare</th>\n",
       "      <th>Embarked</th>\n",
       "      <th>Title</th>\n",
       "      <th>FamilyName</th>\n",
       "      <th>Kinship</th>\n",
       "      <th>Deck</th>\n",
       "      <th>Alone</th>\n",
       "      <th>AgeGroup</th>\n",
       "    </tr>\n",
       "  </thead>\n",
       "  <tbody>\n",
       "    <tr>\n",
       "      <th>0</th>\n",
       "      <td>0</td>\n",
       "      <td>3</td>\n",
       "      <td>1</td>\n",
       "      <td>22.0</td>\n",
       "      <td>1</td>\n",
       "      <td>0</td>\n",
       "      <td>523</td>\n",
       "      <td>7.25</td>\n",
       "      <td>2</td>\n",
       "      <td>2</td>\n",
       "      <td>73</td>\n",
       "      <td>1</td>\n",
       "      <td>8</td>\n",
       "      <td>0</td>\n",
       "      <td>0</td>\n",
       "    </tr>\n",
       "    <tr>\n",
       "      <th>1</th>\n",
       "      <td>1</td>\n",
       "      <td>1</td>\n",
       "      <td>0</td>\n",
       "      <td>38.0</td>\n",
       "      <td>1</td>\n",
       "      <td>0</td>\n",
       "      <td>596</td>\n",
       "      <td>71.28</td>\n",
       "      <td>0</td>\n",
       "      <td>3</td>\n",
       "      <td>136</td>\n",
       "      <td>1</td>\n",
       "      <td>2</td>\n",
       "      <td>0</td>\n",
       "      <td>0</td>\n",
       "    </tr>\n",
       "    <tr>\n",
       "      <th>2</th>\n",
       "      <td>1</td>\n",
       "      <td>3</td>\n",
       "      <td>0</td>\n",
       "      <td>26.0</td>\n",
       "      <td>0</td>\n",
       "      <td>0</td>\n",
       "      <td>669</td>\n",
       "      <td>7.92</td>\n",
       "      <td>2</td>\n",
       "      <td>1</td>\n",
       "      <td>251</td>\n",
       "      <td>0</td>\n",
       "      <td>8</td>\n",
       "      <td>1</td>\n",
       "      <td>0</td>\n",
       "    </tr>\n",
       "    <tr>\n",
       "      <th>3</th>\n",
       "      <td>1</td>\n",
       "      <td>1</td>\n",
       "      <td>0</td>\n",
       "      <td>35.0</td>\n",
       "      <td>1</td>\n",
       "      <td>0</td>\n",
       "      <td>49</td>\n",
       "      <td>26.55</td>\n",
       "      <td>2</td>\n",
       "      <td>3</td>\n",
       "      <td>198</td>\n",
       "      <td>1</td>\n",
       "      <td>2</td>\n",
       "      <td>0</td>\n",
       "      <td>0</td>\n",
       "    </tr>\n",
       "    <tr>\n",
       "      <th>4</th>\n",
       "      <td>0</td>\n",
       "      <td>3</td>\n",
       "      <td>1</td>\n",
       "      <td>35.0</td>\n",
       "      <td>0</td>\n",
       "      <td>0</td>\n",
       "      <td>472</td>\n",
       "      <td>8.05</td>\n",
       "      <td>2</td>\n",
       "      <td>2</td>\n",
       "      <td>11</td>\n",
       "      <td>0</td>\n",
       "      <td>8</td>\n",
       "      <td>1</td>\n",
       "      <td>0</td>\n",
       "    </tr>\n",
       "    <tr>\n",
       "      <th>...</th>\n",
       "      <td>...</td>\n",
       "      <td>...</td>\n",
       "      <td>...</td>\n",
       "      <td>...</td>\n",
       "      <td>...</td>\n",
       "      <td>...</td>\n",
       "      <td>...</td>\n",
       "      <td>...</td>\n",
       "      <td>...</td>\n",
       "      <td>...</td>\n",
       "      <td>...</td>\n",
       "      <td>...</td>\n",
       "      <td>...</td>\n",
       "      <td>...</td>\n",
       "      <td>...</td>\n",
       "    </tr>\n",
       "    <tr>\n",
       "      <th>886</th>\n",
       "      <td>0</td>\n",
       "      <td>2</td>\n",
       "      <td>1</td>\n",
       "      <td>27.0</td>\n",
       "      <td>0</td>\n",
       "      <td>0</td>\n",
       "      <td>101</td>\n",
       "      <td>13.00</td>\n",
       "      <td>2</td>\n",
       "      <td>4</td>\n",
       "      <td>406</td>\n",
       "      <td>0</td>\n",
       "      <td>8</td>\n",
       "      <td>1</td>\n",
       "      <td>0</td>\n",
       "    </tr>\n",
       "    <tr>\n",
       "      <th>887</th>\n",
       "      <td>1</td>\n",
       "      <td>1</td>\n",
       "      <td>0</td>\n",
       "      <td>19.0</td>\n",
       "      <td>0</td>\n",
       "      <td>0</td>\n",
       "      <td>14</td>\n",
       "      <td>30.00</td>\n",
       "      <td>2</td>\n",
       "      <td>1</td>\n",
       "      <td>221</td>\n",
       "      <td>0</td>\n",
       "      <td>1</td>\n",
       "      <td>1</td>\n",
       "      <td>0</td>\n",
       "    </tr>\n",
       "    <tr>\n",
       "      <th>888</th>\n",
       "      <td>0</td>\n",
       "      <td>3</td>\n",
       "      <td>0</td>\n",
       "      <td>29.0</td>\n",
       "      <td>1</td>\n",
       "      <td>2</td>\n",
       "      <td>675</td>\n",
       "      <td>11.72</td>\n",
       "      <td>2</td>\n",
       "      <td>1</td>\n",
       "      <td>293</td>\n",
       "      <td>3</td>\n",
       "      <td>8</td>\n",
       "      <td>0</td>\n",
       "      <td>0</td>\n",
       "    </tr>\n",
       "    <tr>\n",
       "      <th>889</th>\n",
       "      <td>1</td>\n",
       "      <td>1</td>\n",
       "      <td>1</td>\n",
       "      <td>26.0</td>\n",
       "      <td>0</td>\n",
       "      <td>0</td>\n",
       "      <td>8</td>\n",
       "      <td>30.00</td>\n",
       "      <td>0</td>\n",
       "      <td>2</td>\n",
       "      <td>52</td>\n",
       "      <td>0</td>\n",
       "      <td>2</td>\n",
       "      <td>1</td>\n",
       "      <td>0</td>\n",
       "    </tr>\n",
       "    <tr>\n",
       "      <th>890</th>\n",
       "      <td>0</td>\n",
       "      <td>3</td>\n",
       "      <td>1</td>\n",
       "      <td>32.0</td>\n",
       "      <td>0</td>\n",
       "      <td>0</td>\n",
       "      <td>466</td>\n",
       "      <td>7.75</td>\n",
       "      <td>1</td>\n",
       "      <td>2</td>\n",
       "      <td>159</td>\n",
       "      <td>0</td>\n",
       "      <td>8</td>\n",
       "      <td>1</td>\n",
       "      <td>0</td>\n",
       "    </tr>\n",
       "  </tbody>\n",
       "</table>\n",
       "<p>891 rows × 15 columns</p>\n",
       "</div>"
      ],
      "text/plain": [
       "     Survived  Pclass  Sex   Age  SibSp  Parch  Ticket   Fare  Embarked  \\\n",
       "0           0       3    1  22.0      1      0     523   7.25         2   \n",
       "1           1       1    0  38.0      1      0     596  71.28         0   \n",
       "2           1       3    0  26.0      0      0     669   7.92         2   \n",
       "3           1       1    0  35.0      1      0      49  26.55         2   \n",
       "4           0       3    1  35.0      0      0     472   8.05         2   \n",
       "..        ...     ...  ...   ...    ...    ...     ...    ...       ...   \n",
       "886         0       2    1  27.0      0      0     101  13.00         2   \n",
       "887         1       1    0  19.0      0      0      14  30.00         2   \n",
       "888         0       3    0  29.0      1      2     675  11.72         2   \n",
       "889         1       1    1  26.0      0      0       8  30.00         0   \n",
       "890         0       3    1  32.0      0      0     466   7.75         1   \n",
       "\n",
       "     Title  FamilyName  Kinship  Deck  Alone  AgeGroup  \n",
       "0        2          73        1     8      0         0  \n",
       "1        3         136        1     2      0         0  \n",
       "2        1         251        0     8      1         0  \n",
       "3        3         198        1     2      0         0  \n",
       "4        2          11        0     8      1         0  \n",
       "..     ...         ...      ...   ...    ...       ...  \n",
       "886      4         406        0     8      1         0  \n",
       "887      1         221        0     1      1         0  \n",
       "888      1         293        3     8      0         0  \n",
       "889      2          52        0     2      1         0  \n",
       "890      2         159        0     8      1         0  \n",
       "\n",
       "[891 rows x 15 columns]"
      ]
     },
     "execution_count": 3,
     "metadata": {},
     "output_type": "execute_result"
    }
   ],
   "source": [
    "train_df = pd.read_csv(PATH_PROCESSED_TRAIN_CSV)\n",
    "train_df"
   ]
  },
  {
   "cell_type": "markdown",
   "id": "3490cc2c-9b1c-4bc8-89b4-0cf497fb8b0f",
   "metadata": {},
   "source": [
    "### Feature Selection\n",
    "\n",
    "_Legend:_\n",
    "\n",
    "X: Feature Variables (or Independent Variables)\n",
    "\n",
    "y: Target Variables (or dependent Variables)"
   ]
  },
  {
   "cell_type": "code",
   "execution_count": 4,
   "id": "bea76638-f7f6-41c0-9333-50dd996e15bc",
   "metadata": {},
   "outputs": [],
   "source": [
    "X = train_df.drop([\"Survived\"], axis=1)\n",
    "y = train_df[\"Survived\"]\n",
    "\n",
    "X = scale(X)"
   ]
  },
  {
   "cell_type": "markdown",
   "id": "8808639b-50d4-4170-b63d-b1cb04b1aed4",
   "metadata": {},
   "source": [
    "### Split dataset into train and test sets"
   ]
  },
  {
   "cell_type": "code",
   "execution_count": 5,
   "id": "da952659-540b-416b-a25b-68e0fbd11c57",
   "metadata": {},
   "outputs": [],
   "source": [
    "X_train, X_test, y_train, y_test = train_test_split(X, y, test_size=.3, random_state=42)"
   ]
  },
  {
   "cell_type": "code",
   "execution_count": 6,
   "id": "6f91104c-3ad2-4db5-aaac-7b677cb5ff4d",
   "metadata": {},
   "outputs": [
    {
     "data": {
      "text/plain": [
       "((623, 14), (623,))"
      ]
     },
     "execution_count": 6,
     "metadata": {},
     "output_type": "execute_result"
    }
   ],
   "source": [
    "X_train.shape, y_train.shape"
   ]
  },
  {
   "cell_type": "code",
   "execution_count": 7,
   "id": "1f01c868-335f-4b1a-88b9-c693827eec63",
   "metadata": {},
   "outputs": [
    {
     "data": {
      "text/plain": [
       "((268, 14), (268,))"
      ]
     },
     "execution_count": 7,
     "metadata": {},
     "output_type": "execute_result"
    }
   ],
   "source": [
    "X_test.shape, y_test.shape"
   ]
  },
  {
   "cell_type": "markdown",
   "id": "iOpIXPrS8YBB",
   "metadata": {
    "id": "iOpIXPrS8YBB"
   },
   "source": [
    "## Modeling"
   ]
  },
  {
   "cell_type": "markdown",
   "id": "693ae0a5-49f7-4139-a462-25997042b5ed",
   "metadata": {
    "executionInfo": {
     "elapsed": 398,
     "status": "ok",
     "timestamp": 1639421508263,
     "user": {
      "displayName": "Fausto Carvalho",
      "photoUrl": "https://lh3.googleusercontent.com/a-/AOh14GhQSp8A75VnSre8_0cZLC_op7xUuyx_SZKDhtk6rw=s64",
      "userId": "14769586862712322629"
     },
     "user_tz": 180
    },
    "id": "AxRi37pw8Wlh"
   },
   "source": [
    "#### Building, train and predict model"
   ]
  },
  {
   "cell_type": "code",
   "execution_count": 26,
   "id": "be4e5a17-32d7-47db-acc0-68060dd61f1e",
   "metadata": {},
   "outputs": [],
   "source": [
    "params =  {\n",
    "    \"criterion\": \"entropy\", \n",
    "    \"max_depth\": 9, \n",
    "    \"n_estimators\": 50\n",
    "}\n",
    "\n",
    "classifier = RandomForestClassifier()\n",
    "\n",
    "classifier.fit(X_train, y_train)\n",
    "y_predict = classifier.predict(X_test)"
   ]
  },
  {
   "cell_type": "markdown",
   "id": "54e28c14-369e-4e14-815e-5adb21d05bd2",
   "metadata": {},
   "source": [
    "**Getting Best Hyperparameter Optimization**\n",
    "\n",
    "*Note: The execution of the code below may take a few minutes or hours.*\n",
    "\n",
    "*Uncomment and run it when you need to optimize hyperparameters.*"
   ]
  },
  {
   "cell_type": "code",
   "execution_count": 21,
   "id": "7f9f9450-94cb-464b-a5a4-9fb4dbd43ed9",
   "metadata": {},
   "outputs": [],
   "source": [
    "# from sklearn.model_selection import (GridSearchCV)\n",
    "\n",
    "# import warnings\n",
    "# warnings.filterwarnings(\"ignore\")\n",
    "\n",
    "# parameters = {\n",
    "#     \"n_estimators\":[50, 100, 200., 300, 400, 500, 600],\n",
    "#     \"criterion\": (\"gini\", \"entropy\", \"log_loss\"),\n",
    "#     \"max_depth\": [None, 3, 5, 7, 9],\n",
    "#     \"min_samples_split\": [2, 6, 10, 14],\n",
    "#     \"min_samples_leaf\": [1, 2, 3, 4],\n",
    "    \n",
    "# }\n",
    "\n",
    "# gridsearch = GridSearchCV(RandomForestClassifier(), parameters)\n",
    "# gridsearch.fit(X_train, y_train)\n",
    "\n",
    "# print(\"Tuned Hyperparameters :\", gridsearch.best_params_)\n",
    "# print(\"Best Score:\",gridsearch.best_score_)"
   ]
  },
  {
   "cell_type": "markdown",
   "id": "b218daf2-e321-4a92-9ad5-966b9ab0d306",
   "metadata": {},
   "source": [
    "Tuned Hyperparameters : {'criterion': 'entropy', 'max_depth': 9, 'n_estimators': 50}  \n",
    "Best Score: 0.8394967741935485"
   ]
  },
  {
   "cell_type": "markdown",
   "id": "91d9b687-2e05-4878-807e-e8af4424f3cc",
   "metadata": {},
   "source": [
    "#### Predict and show model result"
   ]
  },
  {
   "cell_type": "code",
   "execution_count": 23,
   "id": "c4297d52-c37b-4d63-b6e6-a747c16cc476",
   "metadata": {},
   "outputs": [
    {
     "name": "stdout",
     "output_type": "stream",
     "text": [
      "\n",
      "Computing cross-validated metrics\n",
      "----------------------------------------------------------------------\n",
      "Scores: [0.82681564 0.79775281 0.82022472 0.81460674 0.84831461]\n",
      "Mean = 0.82 / Standard Deviation = 0.02\n",
      "\n",
      "Confunsion Matrix\n",
      "----------------------------------------------------------------------\n",
      "[[140  17]\n",
      " [ 32  79]]\n",
      "\n",
      "Classification Report\n",
      "----------------------------------------------------------------------\n",
      "              precision    recall  f1-score   support\n",
      "\n",
      "           0       0.81      0.89      0.85       157\n",
      "           1       0.82      0.71      0.76       111\n",
      "\n",
      "    accuracy                           0.82       268\n",
      "   macro avg       0.82      0.80      0.81       268\n",
      "weighted avg       0.82      0.82      0.81       268\n",
      "\n",
      "----------------------------------------------------------------------\n",
      "Accuracy: 0.82\n",
      "Precicion: 0.82\n",
      "Sensitivity aka Recall: 0.82\n",
      "F1-Score: 0.81\n"
     ]
    }
   ],
   "source": [
    "func.show_model_result(classifier, X, y, y_test, y_predict)"
   ]
  },
  {
   "cell_type": "markdown",
   "id": "3e6c7b64-5fa6-4ba7-8762-6b48cfded378",
   "metadata": {},
   "source": [
    "#### Show Curve ROC and Area Under the ROC"
   ]
  },
  {
   "cell_type": "code",
   "execution_count": 12,
   "id": "12215fbc-3756-4b88-9f62-efa2dba03e14",
   "metadata": {},
   "outputs": [
    {
     "name": "stdout",
     "output_type": "stream",
     "text": [
      "----------------------------------------------------------------------\n",
      "AUC-Area Under the ROC Curve: 0.81\n",
      "----------------------------------------------------------------------\n"
     ]
    },
    {
     "data": {
      "image/png": "[encoded data removed]",
      "text/plain": [
       "<Figure size 640x480 with 1 Axes>"
      ]
     },
     "metadata": {},
     "output_type": "display_data"
    }
   ],
   "source": [
    "func.show_curve_roc(classifier, X_test, y_test, y_predict)"
   ]
  },
  {
   "cell_type": "markdown",
   "id": "1f32deb4-b0c0-40ac-bfac-1e81358e6849",
   "metadata": {},
   "source": [
    "### Predict Test Dataset"
   ]
  },
  {
   "cell_type": "code",
   "execution_count": null,
   "id": "8322078c-25ab-49e7-b5c9-5159ca63caef",
   "metadata": {},
   "outputs": [],
   "source": [
    "# XX = test_df.drop([\"PassengerId\"], axis=1)\n",
    "# passenger_ids = test_df[\"PassengerId\"]"
   ]
  },
  {
   "cell_type": "code",
   "execution_count": null,
   "id": "ea746094-c8df-4b4c-92f4-c1b436e4dd9b",
   "metadata": {},
   "outputs": [],
   "source": [
    "yy_predict = pipeline.predict(XX)"
   ]
  },
  {
   "cell_type": "markdown",
   "id": "eb3c3e2a-67e8-4244-8400-e90e7934975e",
   "metadata": {},
   "source": [
    "__Creates dataset prediction__"
   ]
  },
  {
   "cell_type": "code",
   "execution_count": null,
   "id": "e5515c9c-289d-4666-839b-ea4af50b9fcb",
   "metadata": {},
   "outputs": [],
   "source": [
    "# prediction_df = pd.DataFrame({\"PassengerId\": passenger_ids, \"Survived\": yy_predict})"
   ]
  },
  {
   "cell_type": "code",
   "execution_count": null,
   "id": "cd140d9d-de09-440e-a15c-1d2b2f168524",
   "metadata": {},
   "outputs": [],
   "source": [
    "# prediction_df.head()"
   ]
  },
  {
   "cell_type": "markdown",
   "id": "a4fd9327-9ec7-4abe-b5f5-c6606d5a61ab",
   "metadata": {},
   "source": [
    "__Save Dataframe with promising transformations__"
   ]
  },
  {
   "cell_type": "code",
   "execution_count": null,
   "id": "f0c3f7c6-6fb7-455e-ada1-9b8c703c74d4",
   "metadata": {},
   "outputs": [],
   "source": [
    "# prediction_df.to_csv(PATH_MY_PREDICTION_CSV, index=False)"
   ]
  }
 ],
 "metadata": {
  "colab": {
   "collapsed_sections": [
    "e94661e7-3aa3-48a9-9269-dfb730f6a3fb"
   ],
   "name": "notebook.ipynb",
   "provenance": []
  },
  "kernelspec": {
   "display_name": "Python 3 (ipykernel)",
   "language": "python",
   "name": "python3"
  },
  "language_info": {
   "codemirror_mode": {
    "name": "ipython",
    "version": 3
   },
   "file_extension": ".py",
   "mimetype": "text/x-python",
   "name": "python",
   "nbconvert_exporter": "python",
   "pygments_lexer": "ipython3",
   "version": "3.9.12"
  }
 },
 "nbformat": 4,
 "nbformat_minor": 5
}
