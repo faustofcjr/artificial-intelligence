{
 "cells": [
  {
   "cell_type": "markdown",
   "id": "bdb183c8-51d1-4f54-882c-4b86497ad7ed",
   "metadata": {
    "id": "bdb183c8-51d1-4f54-882c-4b86497ad7ed"
   },
   "source": [
    "# Voting Classifier"
   ]
  },
  {
   "cell_type": "code",
   "execution_count": 1,
   "id": "fc273319-bc32-4cd5-a225-43357ed32f61",
   "metadata": {},
   "outputs": [],
   "source": [
    "import pandas as pd\n",
    "import numpy as np\n",
    "\n",
    "import functions_classifier as func\n",
    "\n",
    "from sklearn.linear_model import LogisticRegression\n",
    "\n",
    "from sklearn.preprocessing import scale\n",
    "from sklearn.model_selection import train_test_split"
   ]
  },
  {
   "cell_type": "markdown",
   "id": "9fc83741-03d4-4ef0-859f-f6ec2b60eb2e",
   "metadata": {},
   "source": [
    "## Constants"
   ]
  },
  {
   "cell_type": "code",
   "execution_count": 2,
   "id": "e3c9034e-8b1c-4911-add7-4d382a7bd029",
   "metadata": {},
   "outputs": [],
   "source": [
    "PATH_PROCESSED_TRAIN_CSV = \"../data/processed_train.csv\""
   ]
  },
  {
   "cell_type": "markdown",
   "id": "e94661e7-3aa3-48a9-9269-dfb730f6a3fb",
   "metadata": {
    "id": "e94661e7-3aa3-48a9-9269-dfb730f6a3fb"
   },
   "source": [
    "## Data Collection"
   ]
  },
  {
   "cell_type": "code",
   "execution_count": 3,
   "id": "6233a5c2-0bbd-4979-9159-fbeb8bd3a832",
   "metadata": {
    "executionInfo": {
     "elapsed": 492,
     "status": "ok",
     "timestamp": 1639421504755,
     "user": {
      "displayName": "Fausto Carvalho",
      "photoUrl": "https://lh3.googleusercontent.com/a-/AOh14GhQSp8A75VnSre8_0cZLC_op7xUuyx_SZKDhtk6rw=s64",
      "userId": "14769586862712322629"
     },
     "user_tz": 180
    },
    "id": "6233a5c2-0bbd-4979-9159-fbeb8bd3a832"
   },
   "outputs": [
    {
     "data": {
      "text/html": [
       "<div>\n",
       "<style scoped>\n",
       "    .dataframe tbody tr th:only-of-type {\n",
       "        vertical-align: middle;\n",
       "    }\n",
       "\n",
       "    .dataframe tbody tr th {\n",
       "        vertical-align: top;\n",
       "    }\n",
       "\n",
       "    .dataframe thead th {\n",
       "        text-align: right;\n",
       "    }\n",
       "</style>\n",
       "<table border=\"1\" class=\"dataframe\">\n",
       "  <thead>\n",
       "    <tr style=\"text-align: right;\">\n",
       "      <th></th>\n",
       "      <th>Survived</th>\n",
       "      <th>Pclass</th>\n",
       "      <th>Sex</th>\n",
       "      <th>Age</th>\n",
       "      <th>SibSp</th>\n",
       "      <th>Parch</th>\n",
       "      <th>Ticket</th>\n",
       "      <th>Fare</th>\n",
       "      <th>Embarked</th>\n",
       "      <th>Title</th>\n",
       "      <th>FamilyName</th>\n",
       "      <th>Kinship</th>\n",
       "      <th>Deck</th>\n",
       "      <th>Alone</th>\n",
       "      <th>AgeGroup</th>\n",
       "    </tr>\n",
       "  </thead>\n",
       "  <tbody>\n",
       "    <tr>\n",
       "      <th>0</th>\n",
       "      <td>0</td>\n",
       "      <td>3</td>\n",
       "      <td>1</td>\n",
       "      <td>22.0</td>\n",
       "      <td>1</td>\n",
       "      <td>0</td>\n",
       "      <td>523</td>\n",
       "      <td>7.25</td>\n",
       "      <td>2</td>\n",
       "      <td>2</td>\n",
       "      <td>73</td>\n",
       "      <td>1</td>\n",
       "      <td>8</td>\n",
       "      <td>0</td>\n",
       "      <td>0</td>\n",
       "    </tr>\n",
       "    <tr>\n",
       "      <th>1</th>\n",
       "      <td>1</td>\n",
       "      <td>1</td>\n",
       "      <td>0</td>\n",
       "      <td>38.0</td>\n",
       "      <td>1</td>\n",
       "      <td>0</td>\n",
       "      <td>596</td>\n",
       "      <td>71.28</td>\n",
       "      <td>0</td>\n",
       "      <td>3</td>\n",
       "      <td>136</td>\n",
       "      <td>1</td>\n",
       "      <td>2</td>\n",
       "      <td>0</td>\n",
       "      <td>0</td>\n",
       "    </tr>\n",
       "    <tr>\n",
       "      <th>2</th>\n",
       "      <td>1</td>\n",
       "      <td>3</td>\n",
       "      <td>0</td>\n",
       "      <td>26.0</td>\n",
       "      <td>0</td>\n",
       "      <td>0</td>\n",
       "      <td>669</td>\n",
       "      <td>7.92</td>\n",
       "      <td>2</td>\n",
       "      <td>1</td>\n",
       "      <td>251</td>\n",
       "      <td>0</td>\n",
       "      <td>8</td>\n",
       "      <td>1</td>\n",
       "      <td>0</td>\n",
       "    </tr>\n",
       "    <tr>\n",
       "      <th>3</th>\n",
       "      <td>1</td>\n",
       "      <td>1</td>\n",
       "      <td>0</td>\n",
       "      <td>35.0</td>\n",
       "      <td>1</td>\n",
       "      <td>0</td>\n",
       "      <td>49</td>\n",
       "      <td>26.55</td>\n",
       "      <td>2</td>\n",
       "      <td>3</td>\n",
       "      <td>198</td>\n",
       "      <td>1</td>\n",
       "      <td>2</td>\n",
       "      <td>0</td>\n",
       "      <td>0</td>\n",
       "    </tr>\n",
       "    <tr>\n",
       "      <th>4</th>\n",
       "      <td>0</td>\n",
       "      <td>3</td>\n",
       "      <td>1</td>\n",
       "      <td>35.0</td>\n",
       "      <td>0</td>\n",
       "      <td>0</td>\n",
       "      <td>472</td>\n",
       "      <td>8.05</td>\n",
       "      <td>2</td>\n",
       "      <td>2</td>\n",
       "      <td>11</td>\n",
       "      <td>0</td>\n",
       "      <td>8</td>\n",
       "      <td>1</td>\n",
       "      <td>0</td>\n",
       "    </tr>\n",
       "    <tr>\n",
       "      <th>...</th>\n",
       "      <td>...</td>\n",
       "      <td>...</td>\n",
       "      <td>...</td>\n",
       "      <td>...</td>\n",
       "      <td>...</td>\n",
       "      <td>...</td>\n",
       "      <td>...</td>\n",
       "      <td>...</td>\n",
       "      <td>...</td>\n",
       "      <td>...</td>\n",
       "      <td>...</td>\n",
       "      <td>...</td>\n",
       "      <td>...</td>\n",
       "      <td>...</td>\n",
       "      <td>...</td>\n",
       "    </tr>\n",
       "    <tr>\n",
       "      <th>886</th>\n",
       "      <td>0</td>\n",
       "      <td>2</td>\n",
       "      <td>1</td>\n",
       "      <td>27.0</td>\n",
       "      <td>0</td>\n",
       "      <td>0</td>\n",
       "      <td>101</td>\n",
       "      <td>13.00</td>\n",
       "      <td>2</td>\n",
       "      <td>4</td>\n",
       "      <td>406</td>\n",
       "      <td>0</td>\n",
       "      <td>8</td>\n",
       "      <td>1</td>\n",
       "      <td>0</td>\n",
       "    </tr>\n",
       "    <tr>\n",
       "      <th>887</th>\n",
       "      <td>1</td>\n",
       "      <td>1</td>\n",
       "      <td>0</td>\n",
       "      <td>19.0</td>\n",
       "      <td>0</td>\n",
       "      <td>0</td>\n",
       "      <td>14</td>\n",
       "      <td>30.00</td>\n",
       "      <td>2</td>\n",
       "      <td>1</td>\n",
       "      <td>221</td>\n",
       "      <td>0</td>\n",
       "      <td>1</td>\n",
       "      <td>1</td>\n",
       "      <td>0</td>\n",
       "    </tr>\n",
       "    <tr>\n",
       "      <th>888</th>\n",
       "      <td>0</td>\n",
       "      <td>3</td>\n",
       "      <td>0</td>\n",
       "      <td>29.0</td>\n",
       "      <td>1</td>\n",
       "      <td>2</td>\n",
       "      <td>675</td>\n",
       "      <td>11.72</td>\n",
       "      <td>2</td>\n",
       "      <td>1</td>\n",
       "      <td>293</td>\n",
       "      <td>3</td>\n",
       "      <td>8</td>\n",
       "      <td>0</td>\n",
       "      <td>0</td>\n",
       "    </tr>\n",
       "    <tr>\n",
       "      <th>889</th>\n",
       "      <td>1</td>\n",
       "      <td>1</td>\n",
       "      <td>1</td>\n",
       "      <td>26.0</td>\n",
       "      <td>0</td>\n",
       "      <td>0</td>\n",
       "      <td>8</td>\n",
       "      <td>30.00</td>\n",
       "      <td>0</td>\n",
       "      <td>2</td>\n",
       "      <td>52</td>\n",
       "      <td>0</td>\n",
       "      <td>2</td>\n",
       "      <td>1</td>\n",
       "      <td>0</td>\n",
       "    </tr>\n",
       "    <tr>\n",
       "      <th>890</th>\n",
       "      <td>0</td>\n",
       "      <td>3</td>\n",
       "      <td>1</td>\n",
       "      <td>32.0</td>\n",
       "      <td>0</td>\n",
       "      <td>0</td>\n",
       "      <td>466</td>\n",
       "      <td>7.75</td>\n",
       "      <td>1</td>\n",
       "      <td>2</td>\n",
       "      <td>159</td>\n",
       "      <td>0</td>\n",
       "      <td>8</td>\n",
       "      <td>1</td>\n",
       "      <td>0</td>\n",
       "    </tr>\n",
       "  </tbody>\n",
       "</table>\n",
       "<p>891 rows × 15 columns</p>\n",
       "</div>"
      ],
      "text/plain": [
       "     Survived  Pclass  Sex   Age  SibSp  Parch  Ticket   Fare  Embarked  \\\n",
       "0           0       3    1  22.0      1      0     523   7.25         2   \n",
       "1           1       1    0  38.0      1      0     596  71.28         0   \n",
       "2           1       3    0  26.0      0      0     669   7.92         2   \n",
       "3           1       1    0  35.0      1      0      49  26.55         2   \n",
       "4           0       3    1  35.0      0      0     472   8.05         2   \n",
       "..        ...     ...  ...   ...    ...    ...     ...    ...       ...   \n",
       "886         0       2    1  27.0      0      0     101  13.00         2   \n",
       "887         1       1    0  19.0      0      0      14  30.00         2   \n",
       "888         0       3    0  29.0      1      2     675  11.72         2   \n",
       "889         1       1    1  26.0      0      0       8  30.00         0   \n",
       "890         0       3    1  32.0      0      0     466   7.75         1   \n",
       "\n",
       "     Title  FamilyName  Kinship  Deck  Alone  AgeGroup  \n",
       "0        2          73        1     8      0         0  \n",
       "1        3         136        1     2      0         0  \n",
       "2        1         251        0     8      1         0  \n",
       "3        3         198        1     2      0         0  \n",
       "4        2          11        0     8      1         0  \n",
       "..     ...         ...      ...   ...    ...       ...  \n",
       "886      4         406        0     8      1         0  \n",
       "887      1         221        0     1      1         0  \n",
       "888      1         293        3     8      0         0  \n",
       "889      2          52        0     2      1         0  \n",
       "890      2         159        0     8      1         0  \n",
       "\n",
       "[891 rows x 15 columns]"
      ]
     },
     "execution_count": 3,
     "metadata": {},
     "output_type": "execute_result"
    }
   ],
   "source": [
    "train_df = pd.read_csv(PATH_PROCESSED_TRAIN_CSV)\n",
    "train_df"
   ]
  },
  {
   "cell_type": "markdown",
   "id": "8h7cslzd-kYB",
   "metadata": {
    "id": "8h7cslzd-kYB",
    "tags": []
   },
   "source": [
    "## Feature Selection\n",
    "\n",
    "_Legend:_\n",
    "\n",
    "X: Feature Variables (or Independent Variables)\n",
    "\n",
    "y: Target Variables (or dependent Variables)"
   ]
  },
  {
   "cell_type": "code",
   "execution_count": 4,
   "id": "2cb9e80c-a47f-4cbd-9390-bc82a8a65662",
   "metadata": {},
   "outputs": [],
   "source": [
    "X = train_df.drop([\"Survived\"], axis=1)\n",
    "y = train_df[\"Survived\"]\n",
    "\n",
    "X = scale(X)"
   ]
  },
  {
   "cell_type": "markdown",
   "id": "9df1f705-be7f-4dbb-bc5e-963a3f45f5f7",
   "metadata": {},
   "source": [
    "### Split dataset into train and test sets"
   ]
  },
  {
   "cell_type": "code",
   "execution_count": 5,
   "id": "8a0f09ca-758e-4a31-adeb-666e0e9de1c9",
   "metadata": {},
   "outputs": [],
   "source": [
    "X_train, X_test, y_train, y_test = train_test_split(X, y, test_size=0.25, random_state=42)"
   ]
  },
  {
   "cell_type": "code",
   "execution_count": 6,
   "id": "52916b24-dd5f-4017-b19e-835e57eed8c1",
   "metadata": {},
   "outputs": [
    {
     "data": {
      "text/plain": [
       "((668, 14), (668,))"
      ]
     },
     "execution_count": 6,
     "metadata": {},
     "output_type": "execute_result"
    }
   ],
   "source": [
    "X_train.shape, y_train.shape"
   ]
  },
  {
   "cell_type": "code",
   "execution_count": 7,
   "id": "RhHIipua-ji2",
   "metadata": {
    "executionInfo": {
     "elapsed": 10,
     "status": "ok",
     "timestamp": 1639421507870,
     "user": {
      "displayName": "Fausto Carvalho",
      "photoUrl": "https://lh3.googleusercontent.com/a-/AOh14GhQSp8A75VnSre8_0cZLC_op7xUuyx_SZKDhtk6rw=s64",
      "userId": "14769586862712322629"
     },
     "user_tz": 180
    },
    "id": "RhHIipua-ji2"
   },
   "outputs": [
    {
     "data": {
      "text/plain": [
       "((223, 14), (223,))"
      ]
     },
     "execution_count": 7,
     "metadata": {},
     "output_type": "execute_result"
    }
   ],
   "source": [
    "X_test.shape, y_test.shape"
   ]
  },
  {
   "cell_type": "markdown",
   "id": "4BsrgtnZ8fvF",
   "metadata": {
    "id": "4BsrgtnZ8fvF"
   },
   "source": [
    "## Modeling"
   ]
  },
  {
   "cell_type": "markdown",
   "id": "92936237-95da-45d8-84f8-079191f32d19",
   "metadata": {
    "tags": []
   },
   "source": [
    "### scikit-learn"
   ]
  },
  {
   "cell_type": "markdown",
   "id": "E6mqBYSKA_KQ",
   "metadata": {},
   "source": [
    "#### Building, train and predict model"
   ]
  },
  {
   "cell_type": "code",
   "execution_count": 8,
   "id": "b971953a-0d31-413c-925c-2a4c25d127af",
   "metadata": {},
   "outputs": [],
   "source": [
    "params = {\n",
    "    'C': 3.0, \n",
    "    'penalty': 'l2', \n",
    "    'tol': 0.1\n",
    "}\n",
    "classifier = LogisticRegression(**params)\n",
    "classifier.fit(X_train, y_train)\n",
    "y_predict = classifier.predict(X_test)"
   ]
  },
  {
   "cell_type": "markdown",
   "id": "7ad56f18-0cb0-4581-8ef6-139488e4364f",
   "metadata": {},
   "source": [
    "#### Getting Best Hyperparameter Optimization\n",
    "\n",
    "*Note: The execution of the code below may take a few minutes or hours.*\n",
    "\n",
    "*Uncomment and run it when you need to optimize hyperparameters.*"
   ]
  },
  {
   "cell_type": "code",
   "execution_count": 9,
   "id": "0dbc8f59-6de9-4f54-958e-5e6efead379f",
   "metadata": {},
   "outputs": [],
   "source": [
    "# from sklearn.model_selection import (GridSearchCV)\n",
    "# import warnings\n",
    "\n",
    "# warnings.filterwarnings(\"ignore\")\n",
    "\n",
    "# parameters = {\n",
    "#     \"penalty\": ('l1', 'l2', 'elasticnet'),\n",
    "#     \"tol\": [1e-1, 1e-2, 1e-3, 1e-4],\n",
    "#     \"C\": [0.5, 1., 2., 3., 4.],\n",
    "    \n",
    "# }\n",
    "\n",
    "# gridsearch = GridSearchCV(LogisticRegression(), parameters)\n",
    "# gridsearch.fit(X_train, y_train)\n",
    "\n",
    "# print(\"Tuned Hyperparameters :\", gridsearch.best_params_)\n",
    "# print(\"Best Score:\",gridsearch.best_score_)"
   ]
  },
  {
   "cell_type": "markdown",
   "id": "7fda18e8-de18-4788-ab4c-fa08300edb0f",
   "metadata": {},
   "source": [
    "Tuned Hyperparameters : {'C': 3.0, 'penalty': 'l2', 'tol': 0.1}  \n",
    "Best Score: 0.7978341375827628"
   ]
  },
  {
   "cell_type": "markdown",
   "id": "60b4db15-eb23-4ec8-a391-cec5d0cf73d5",
   "metadata": {},
   "source": [
    "#### Predict and show model result"
   ]
  },
  {
   "cell_type": "code",
   "execution_count": 10,
   "id": "b59cf318-9887-479d-ab20-3828a072375b",
   "metadata": {},
   "outputs": [
    {
     "name": "stdout",
     "output_type": "stream",
     "text": [
      "\n",
      "Computing cross-validated metrics\n",
      "----------------------------------------------------------------------\n",
      "Scores: [0.79329609 0.79213483 0.7752809  0.78651685 0.82022472]\n",
      "Mean = 0.79 / Standard Deviation = 0.01\n",
      "\n",
      "Confunsion Matrix\n",
      "----------------------------------------------------------------------\n",
      "[[115  19]\n",
      " [ 23  66]]\n",
      "\n",
      "Classification Report\n",
      "----------------------------------------------------------------------\n",
      "              precision    recall  f1-score   support\n",
      "\n",
      "           0       0.83      0.86      0.85       134\n",
      "           1       0.78      0.74      0.76        89\n",
      "\n",
      "    accuracy                           0.81       223\n",
      "   macro avg       0.80      0.80      0.80       223\n",
      "weighted avg       0.81      0.81      0.81       223\n",
      "\n",
      "----------------------------------------------------------------------\n",
      "Accuracy: 0.81\n",
      "Precicion: 0.81\n",
      "Sensitivity aka Recall: 0.81\n",
      "F1-Score: 0.81\n"
     ]
    }
   ],
   "source": [
    "func.show_model_result(classifier, X, y, y_test, y_predict)"
   ]
  },
  {
   "cell_type": "markdown",
   "id": "3e6c7b64-5fa6-4ba7-8762-6b48cfded378",
   "metadata": {},
   "source": [
    "#### Display Confusion Matrix"
   ]
  },
  {
   "cell_type": "code",
   "execution_count": 11,
   "id": "12215fbc-3756-4b88-9f62-efa2dba03e14",
   "metadata": {},
   "outputs": [
    {
     "data": {
      "image/png": "[encoded data removed]",
      "text/plain": [
       "<Figure size 500x500 with 2 Axes>"
      ]
     },
     "metadata": {},
     "output_type": "display_data"
    }
   ],
   "source": [
    "func.display_confusion_matrix(classifier, y_test, y_predict)"
   ]
  },
  {
   "cell_type": "markdown",
   "id": "053a2aef-532c-49d5-8a29-3160ba199450",
   "metadata": {},
   "source": [
    "### Tensorflow"
   ]
  },
  {
   "cell_type": "code",
   "execution_count": 14,
   "id": "ead2d778-c6be-41e8-bc64-3e6fef362868",
   "metadata": {},
   "outputs": [
    {
     "name": "stdout",
     "output_type": "stream",
     "text": [
      "2.4.1\n"
     ]
    }
   ],
   "source": [
    "import tensorflow as tf\n",
    "from tensorflow.keras.models import Model\n",
    "from tensorflow.keras.layers import Input, Dense, Activation, Dropout\n",
    "\n",
    "print(tf.__version__)"
   ]
  },
  {
   "cell_type": "code",
   "execution_count": 57,
   "id": "093f2114-21eb-4047-a009-34c062bf883e",
   "metadata": {},
   "outputs": [],
   "source": [
    "input_layer = Input(shape=(X.shape[1],))\n",
    "dense_layer_1 = Dense(15, activation=\"sigmoid\")(input_layer)\n",
    "dense_layer_2 = Dense(10, activation=\"sigmoid\")(dense_layer_1)\n",
    "output = Dense(1, activation=\"softmax\")(dense_layer_2)\n",
    "\n",
    "model = Model(inputs=input_layer, outputs=output)\n",
    "model.compile(loss=\"binary_crossentropy\", optimizer=\"adam\", metrics=['acc'])"
   ]
  },
  {
   "cell_type": "code",
   "execution_count": 58,
   "id": "5f9ad67c-4392-4d0d-9290-b9cb0732eefd",
   "metadata": {},
   "outputs": [
    {
     "name": "stdout",
     "output_type": "stream",
     "text": [
      "Model: \"model_4\"\n",
      "_________________________________________________________________\n",
      "Layer (type)                 Output Shape              Param #   \n",
      "=================================================================\n",
      "input_13 (InputLayer)        [(None, 14)]              0         \n",
      "_________________________________________________________________\n",
      "dense_31 (Dense)             (None, 15)                225       \n",
      "_________________________________________________________________\n",
      "dense_32 (Dense)             (None, 10)                160       \n",
      "_________________________________________________________________\n",
      "dense_33 (Dense)             (None, 1)                 11        \n",
      "=================================================================\n",
      "Total params: 396\n",
      "Trainable params: 396\n",
      "Non-trainable params: 0\n",
      "_________________________________________________________________\n"
     ]
    }
   ],
   "source": [
    "model.summary()"
   ]
  },
  {
   "cell_type": "code",
   "execution_count": 59,
   "id": "387f323d-3b79-403d-b424-d2e3c9cfd832",
   "metadata": {},
   "outputs": [
    {
     "name": "stdout",
     "output_type": "stream",
     "text": [
      "Epoch 1/50\n",
      "67/67 [==============================] - 1s 9ms/step - loss: 0.7307 - acc: 0.3951 - val_loss: 0.6782 - val_acc: 0.3433\n",
      "Epoch 2/50\n",
      "67/67 [==============================] - 1s 8ms/step - loss: 0.6734 - acc: 0.3698 - val_loss: 0.6437 - val_acc: 0.3433\n",
      "Epoch 3/50\n",
      "67/67 [==============================] - 0s 6ms/step - loss: 0.6513 - acc: 0.3697 - val_loss: 0.6284 - val_acc: 0.3433\n",
      "Epoch 4/50\n",
      "67/67 [==============================] - 0s 6ms/step - loss: 0.6399 - acc: 0.3808 - val_loss: 0.6137 - val_acc: 0.3433\n",
      "Epoch 5/50\n",
      "67/67 [==============================] - 0s 5ms/step - loss: 0.6278 - acc: 0.3713 - val_loss: 0.5997 - val_acc: 0.3433\n",
      "Epoch 6/50\n",
      "67/67 [==============================] - 0s 5ms/step - loss: 0.6061 - acc: 0.3509 - val_loss: 0.5847 - val_acc: 0.3433\n",
      "Epoch 7/50\n",
      "67/67 [==============================] - 0s 6ms/step - loss: 0.5822 - acc: 0.3391 - val_loss: 0.5692 - val_acc: 0.3433\n",
      "Epoch 8/50\n",
      "67/67 [==============================] - 0s 6ms/step - loss: 0.5848 - acc: 0.3673 - val_loss: 0.5513 - val_acc: 0.3433\n",
      "Epoch 9/50\n",
      "67/67 [==============================] - 0s 6ms/step - loss: 0.5715 - acc: 0.3969 - val_loss: 0.5330 - val_acc: 0.3433\n",
      "Epoch 10/50\n",
      "67/67 [==============================] - 1s 8ms/step - loss: 0.5323 - acc: 0.3514 - val_loss: 0.5161 - val_acc: 0.3433\n",
      "Epoch 11/50\n",
      "67/67 [==============================] - 0s 4ms/step - loss: 0.5379 - acc: 0.4034 - val_loss: 0.4996 - val_acc: 0.3433\n",
      "Epoch 12/50\n",
      "67/67 [==============================] - 0s 5ms/step - loss: 0.5451 - acc: 0.4302 - val_loss: 0.4846 - val_acc: 0.3433\n",
      "Epoch 13/50\n",
      "67/67 [==============================] - 0s 3ms/step - loss: 0.4909 - acc: 0.3725 - val_loss: 0.4725 - val_acc: 0.3433\n",
      "Epoch 14/50\n",
      "67/67 [==============================] - 0s 4ms/step - loss: 0.4845 - acc: 0.3710 - val_loss: 0.4602 - val_acc: 0.3433\n",
      "Epoch 15/50\n",
      "67/67 [==============================] - 0s 5ms/step - loss: 0.4844 - acc: 0.4051 - val_loss: 0.4547 - val_acc: 0.3433\n",
      "Epoch 16/50\n",
      "67/67 [==============================] - 0s 5ms/step - loss: 0.4881 - acc: 0.4064 - val_loss: 0.4468 - val_acc: 0.3433\n",
      "Epoch 17/50\n",
      "67/67 [==============================] - 0s 6ms/step - loss: 0.4691 - acc: 0.3914 - val_loss: 0.4402 - val_acc: 0.3433\n",
      "Epoch 18/50\n",
      "67/67 [==============================] - 0s 6ms/step - loss: 0.4488 - acc: 0.3868 - val_loss: 0.4364 - val_acc: 0.3433\n",
      "Epoch 19/50\n",
      "67/67 [==============================] - 0s 6ms/step - loss: 0.4755 - acc: 0.3836 - val_loss: 0.4337 - val_acc: 0.3433\n",
      "Epoch 20/50\n",
      "67/67 [==============================] - 0s 5ms/step - loss: 0.3941 - acc: 0.3894 - val_loss: 0.4313 - val_acc: 0.3433\n",
      "Epoch 21/50\n",
      "67/67 [==============================] - 0s 7ms/step - loss: 0.4520 - acc: 0.3884 - val_loss: 0.4302 - val_acc: 0.3433\n",
      "Epoch 22/50\n",
      "67/67 [==============================] - 0s 7ms/step - loss: 0.4537 - acc: 0.3883 - val_loss: 0.4275 - val_acc: 0.3433\n",
      "Epoch 23/50\n",
      "67/67 [==============================] - 0s 6ms/step - loss: 0.4866 - acc: 0.3914 - val_loss: 0.4281 - val_acc: 0.3433\n",
      "Epoch 24/50\n",
      "67/67 [==============================] - 1s 8ms/step - loss: 0.4090 - acc: 0.3791 - val_loss: 0.4260 - val_acc: 0.3433\n",
      "Epoch 25/50\n",
      "67/67 [==============================] - 0s 5ms/step - loss: 0.4471 - acc: 0.4058 - val_loss: 0.4255 - val_acc: 0.3433\n",
      "Epoch 26/50\n",
      "67/67 [==============================] - 0s 5ms/step - loss: 0.4337 - acc: 0.3816 - val_loss: 0.4258 - val_acc: 0.3433\n",
      "Epoch 27/50\n",
      "67/67 [==============================] - 1s 8ms/step - loss: 0.4134 - acc: 0.3742 - val_loss: 0.4257 - val_acc: 0.3433\n",
      "Epoch 28/50\n",
      "67/67 [==============================] - 0s 6ms/step - loss: 0.4266 - acc: 0.3809 - val_loss: 0.4261 - val_acc: 0.3433\n",
      "Epoch 29/50\n",
      "67/67 [==============================] - 0s 5ms/step - loss: 0.4614 - acc: 0.3808 - val_loss: 0.4248 - val_acc: 0.3433\n",
      "Epoch 30/50\n",
      "67/67 [==============================] - 0s 5ms/step - loss: 0.4630 - acc: 0.3934 - val_loss: 0.4252 - val_acc: 0.3433\n",
      "Epoch 31/50\n",
      "67/67 [==============================] - 0s 4ms/step - loss: 0.4411 - acc: 0.3712 - val_loss: 0.4256 - val_acc: 0.3433\n",
      "Epoch 32/50\n",
      "67/67 [==============================] - 0s 3ms/step - loss: 0.4642 - acc: 0.4179 - val_loss: 0.4252 - val_acc: 0.3433\n",
      "Epoch 33/50\n",
      "67/67 [==============================] - 0s 6ms/step - loss: 0.4461 - acc: 0.3917 - val_loss: 0.4239 - val_acc: 0.3433\n",
      "Epoch 34/50\n",
      "67/67 [==============================] - 0s 6ms/step - loss: 0.4243 - acc: 0.3753 - val_loss: 0.4248 - val_acc: 0.3433\n",
      "Epoch 35/50\n",
      "67/67 [==============================] - 0s 5ms/step - loss: 0.4370 - acc: 0.3388 - val_loss: 0.4253 - val_acc: 0.3433\n",
      "Epoch 36/50\n",
      "67/67 [==============================] - 0s 5ms/step - loss: 0.4575 - acc: 0.3962 - val_loss: 0.4248 - val_acc: 0.3433\n",
      "Epoch 37/50\n",
      "67/67 [==============================] - 0s 4ms/step - loss: 0.4482 - acc: 0.3743 - val_loss: 0.4256 - val_acc: 0.3433\n",
      "Epoch 38/50\n",
      "67/67 [==============================] - 0s 5ms/step - loss: 0.4441 - acc: 0.3741 - val_loss: 0.4241 - val_acc: 0.3433\n",
      "Epoch 39/50\n",
      "67/67 [==============================] - 0s 5ms/step - loss: 0.3968 - acc: 0.3987 - val_loss: 0.4251 - val_acc: 0.3433\n",
      "Epoch 40/50\n",
      "67/67 [==============================] - 0s 5ms/step - loss: 0.4028 - acc: 0.3721 - val_loss: 0.4241 - val_acc: 0.3433\n",
      "Epoch 41/50\n",
      "67/67 [==============================] - 1s 8ms/step - loss: 0.4114 - acc: 0.3664 - val_loss: 0.4240 - val_acc: 0.3433\n",
      "Epoch 42/50\n",
      "67/67 [==============================] - 0s 6ms/step - loss: 0.4456 - acc: 0.3650 - val_loss: 0.4255 - val_acc: 0.3433\n",
      "Epoch 43/50\n",
      "67/67 [==============================] - 0s 6ms/step - loss: 0.4202 - acc: 0.3599 - val_loss: 0.4252 - val_acc: 0.3433\n",
      "Epoch 44/50\n",
      "67/67 [==============================] - 1s 9ms/step - loss: 0.4133 - acc: 0.3931 - val_loss: 0.4236 - val_acc: 0.3433\n",
      "Epoch 45/50\n",
      "67/67 [==============================] - 1s 8ms/step - loss: 0.4356 - acc: 0.3902 - val_loss: 0.4258 - val_acc: 0.3433\n",
      "Epoch 46/50\n",
      "67/67 [==============================] - 0s 7ms/step - loss: 0.4051 - acc: 0.3933 - val_loss: 0.4241 - val_acc: 0.3433\n",
      "Epoch 47/50\n",
      "67/67 [==============================] - 0s 7ms/step - loss: 0.4211 - acc: 0.4117 - val_loss: 0.4247 - val_acc: 0.3433\n",
      "Epoch 48/50\n",
      "67/67 [==============================] - 0s 7ms/step - loss: 0.3923 - acc: 0.4217 - val_loss: 0.4240 - val_acc: 0.3433\n",
      "Epoch 49/50\n",
      "67/67 [==============================] - 1s 9ms/step - loss: 0.4389 - acc: 0.3782 - val_loss: 0.4235 - val_acc: 0.3433\n",
      "Epoch 50/50\n",
      "67/67 [==============================] - 0s 5ms/step - loss: 0.4323 - acc: 0.3838 - val_loss: 0.4248 - val_acc: 0.3433\n"
     ]
    }
   ],
   "source": [
    "history = model.fit(X_train, y_train, batch_size=8, epochs=50, verbose=1, validation_split=0.2)"
   ]
  }
 ],
 "metadata": {
  "colab": {
   "collapsed_sections": [
    "e94661e7-3aa3-48a9-9269-dfb730f6a3fb"
   ],
   "name": "notebook.ipynb",
   "provenance": []
  },
  "kernelspec": {
   "display_name": "Python 3 (ipykernel)",
   "language": "python",
   "name": "python3"
  },
  "language_info": {
   "codemirror_mode": {
    "name": "ipython",
    "version": 3
   },
   "file_extension": ".py",
   "mimetype": "text/x-python",
   "name": "python",
   "nbconvert_exporter": "python",
   "pygments_lexer": "ipython3",
   "version": "3.9.12"
  }
 },
 "nbformat": 4,
 "nbformat_minor": 5
}
