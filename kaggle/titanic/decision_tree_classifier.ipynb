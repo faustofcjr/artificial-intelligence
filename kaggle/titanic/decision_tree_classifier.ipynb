{
 "cells": [
  {
   "cell_type": "markdown",
   "id": "bdb183c8-51d1-4f54-882c-4b86497ad7ed",
   "metadata": {
    "id": "bdb183c8-51d1-4f54-882c-4b86497ad7ed"
   },
   "source": [
    "# Titanic - Machine Learning from Disaster\n",
    "\n",
    "## Decision Tree Model"
   ]
  },
  {
   "cell_type": "code",
   "execution_count": 1,
   "id": "fc273319-bc32-4cd5-a225-43357ed32f61",
   "metadata": {},
   "outputs": [],
   "source": [
    "import pandas as pd\n",
    "import numpy as np\n",
    "\n",
    "from sklearn.pipeline import make_pipeline\n",
    "from sklearn.model_selection import train_test_split\n",
    "from sklearn.preprocessing import LabelEncoder, StandardScaler"
   ]
  },
  {
   "cell_type": "markdown",
   "id": "9fc83741-03d4-4ef0-859f-f6ec2b60eb2e",
   "metadata": {},
   "source": [
    "## Constants"
   ]
  },
  {
   "cell_type": "code",
   "execution_count": 2,
   "id": "e3c9034e-8b1c-4911-add7-4d382a7bd029",
   "metadata": {},
   "outputs": [],
   "source": [
    "PATH_PROCESSED_TRAIN_CSV = \"data/processed_train.csv\""
   ]
  },
  {
   "cell_type": "markdown",
   "id": "e94661e7-3aa3-48a9-9269-dfb730f6a3fb",
   "metadata": {
    "id": "e94661e7-3aa3-48a9-9269-dfb730f6a3fb"
   },
   "source": [
    "## Data Collection"
   ]
  },
  {
   "cell_type": "code",
   "execution_count": 3,
   "id": "6233a5c2-0bbd-4979-9159-fbeb8bd3a832",
   "metadata": {
    "executionInfo": {
     "elapsed": 492,
     "status": "ok",
     "timestamp": 1639421504755,
     "user": {
      "displayName": "Fausto Carvalho",
      "photoUrl": "https://lh3.googleusercontent.com/a-/AOh14GhQSp8A75VnSre8_0cZLC_op7xUuyx_SZKDhtk6rw=s64",
      "userId": "14769586862712322629"
     },
     "user_tz": 180
    },
    "id": "6233a5c2-0bbd-4979-9159-fbeb8bd3a832"
   },
   "outputs": [
    {
     "data": {
      "text/html": [
       "<div>\n",
       "<style scoped>\n",
       "    .dataframe tbody tr th:only-of-type {\n",
       "        vertical-align: middle;\n",
       "    }\n",
       "\n",
       "    .dataframe tbody tr th {\n",
       "        vertical-align: top;\n",
       "    }\n",
       "\n",
       "    .dataframe thead th {\n",
       "        text-align: right;\n",
       "    }\n",
       "</style>\n",
       "<table border=\"1\" class=\"dataframe\">\n",
       "  <thead>\n",
       "    <tr style=\"text-align: right;\">\n",
       "      <th></th>\n",
       "      <th>PassengerId</th>\n",
       "      <th>Survived</th>\n",
       "      <th>Pclass</th>\n",
       "      <th>Name</th>\n",
       "      <th>Sex</th>\n",
       "      <th>Age</th>\n",
       "      <th>SibSp</th>\n",
       "      <th>Parch</th>\n",
       "      <th>Ticket</th>\n",
       "      <th>Fare</th>\n",
       "      <th>Cabin</th>\n",
       "      <th>Embarked</th>\n",
       "    </tr>\n",
       "  </thead>\n",
       "  <tbody>\n",
       "    <tr>\n",
       "      <th>0</th>\n",
       "      <td>1</td>\n",
       "      <td>0</td>\n",
       "      <td>3</td>\n",
       "      <td>Braund, Mr. Owen Harris</td>\n",
       "      <td>1</td>\n",
       "      <td>22.0</td>\n",
       "      <td>1</td>\n",
       "      <td>0</td>\n",
       "      <td>523</td>\n",
       "      <td>7.25</td>\n",
       "      <td>NaN</td>\n",
       "      <td>2</td>\n",
       "    </tr>\n",
       "    <tr>\n",
       "      <th>1</th>\n",
       "      <td>2</td>\n",
       "      <td>1</td>\n",
       "      <td>1</td>\n",
       "      <td>Cumings, Mrs. John Bradley (Florence Briggs Th...</td>\n",
       "      <td>0</td>\n",
       "      <td>38.0</td>\n",
       "      <td>1</td>\n",
       "      <td>0</td>\n",
       "      <td>596</td>\n",
       "      <td>71.28</td>\n",
       "      <td>C85</td>\n",
       "      <td>0</td>\n",
       "    </tr>\n",
       "    <tr>\n",
       "      <th>2</th>\n",
       "      <td>3</td>\n",
       "      <td>1</td>\n",
       "      <td>3</td>\n",
       "      <td>Heikkinen, Miss. Laina</td>\n",
       "      <td>0</td>\n",
       "      <td>26.0</td>\n",
       "      <td>0</td>\n",
       "      <td>0</td>\n",
       "      <td>669</td>\n",
       "      <td>7.92</td>\n",
       "      <td>NaN</td>\n",
       "      <td>2</td>\n",
       "    </tr>\n",
       "    <tr>\n",
       "      <th>3</th>\n",
       "      <td>4</td>\n",
       "      <td>1</td>\n",
       "      <td>1</td>\n",
       "      <td>Futrelle, Mrs. Jacques Heath (Lily May Peel)</td>\n",
       "      <td>0</td>\n",
       "      <td>35.0</td>\n",
       "      <td>1</td>\n",
       "      <td>0</td>\n",
       "      <td>49</td>\n",
       "      <td>26.55</td>\n",
       "      <td>C123</td>\n",
       "      <td>2</td>\n",
       "    </tr>\n",
       "    <tr>\n",
       "      <th>4</th>\n",
       "      <td>5</td>\n",
       "      <td>0</td>\n",
       "      <td>3</td>\n",
       "      <td>Allen, Mr. William Henry</td>\n",
       "      <td>1</td>\n",
       "      <td>35.0</td>\n",
       "      <td>0</td>\n",
       "      <td>0</td>\n",
       "      <td>472</td>\n",
       "      <td>8.05</td>\n",
       "      <td>NaN</td>\n",
       "      <td>2</td>\n",
       "    </tr>\n",
       "    <tr>\n",
       "      <th>...</th>\n",
       "      <td>...</td>\n",
       "      <td>...</td>\n",
       "      <td>...</td>\n",
       "      <td>...</td>\n",
       "      <td>...</td>\n",
       "      <td>...</td>\n",
       "      <td>...</td>\n",
       "      <td>...</td>\n",
       "      <td>...</td>\n",
       "      <td>...</td>\n",
       "      <td>...</td>\n",
       "      <td>...</td>\n",
       "    </tr>\n",
       "    <tr>\n",
       "      <th>886</th>\n",
       "      <td>887</td>\n",
       "      <td>0</td>\n",
       "      <td>2</td>\n",
       "      <td>Montvila, Rev. Juozas</td>\n",
       "      <td>1</td>\n",
       "      <td>27.0</td>\n",
       "      <td>0</td>\n",
       "      <td>0</td>\n",
       "      <td>101</td>\n",
       "      <td>13.00</td>\n",
       "      <td>NaN</td>\n",
       "      <td>2</td>\n",
       "    </tr>\n",
       "    <tr>\n",
       "      <th>887</th>\n",
       "      <td>888</td>\n",
       "      <td>1</td>\n",
       "      <td>1</td>\n",
       "      <td>Graham, Miss. Margaret Edith</td>\n",
       "      <td>0</td>\n",
       "      <td>19.0</td>\n",
       "      <td>0</td>\n",
       "      <td>0</td>\n",
       "      <td>14</td>\n",
       "      <td>30.00</td>\n",
       "      <td>B42</td>\n",
       "      <td>2</td>\n",
       "    </tr>\n",
       "    <tr>\n",
       "      <th>888</th>\n",
       "      <td>889</td>\n",
       "      <td>0</td>\n",
       "      <td>3</td>\n",
       "      <td>Johnston, Miss. Catherine Helen \"Carrie\"</td>\n",
       "      <td>0</td>\n",
       "      <td>29.0</td>\n",
       "      <td>1</td>\n",
       "      <td>2</td>\n",
       "      <td>675</td>\n",
       "      <td>11.72</td>\n",
       "      <td>NaN</td>\n",
       "      <td>2</td>\n",
       "    </tr>\n",
       "    <tr>\n",
       "      <th>889</th>\n",
       "      <td>890</td>\n",
       "      <td>1</td>\n",
       "      <td>1</td>\n",
       "      <td>Behr, Mr. Karl Howell</td>\n",
       "      <td>1</td>\n",
       "      <td>26.0</td>\n",
       "      <td>0</td>\n",
       "      <td>0</td>\n",
       "      <td>8</td>\n",
       "      <td>30.00</td>\n",
       "      <td>C148</td>\n",
       "      <td>0</td>\n",
       "    </tr>\n",
       "    <tr>\n",
       "      <th>890</th>\n",
       "      <td>891</td>\n",
       "      <td>0</td>\n",
       "      <td>3</td>\n",
       "      <td>Dooley, Mr. Patrick</td>\n",
       "      <td>1</td>\n",
       "      <td>32.0</td>\n",
       "      <td>0</td>\n",
       "      <td>0</td>\n",
       "      <td>466</td>\n",
       "      <td>7.75</td>\n",
       "      <td>NaN</td>\n",
       "      <td>1</td>\n",
       "    </tr>\n",
       "  </tbody>\n",
       "</table>\n",
       "<p>891 rows × 12 columns</p>\n",
       "</div>"
      ],
      "text/plain": [
       "     PassengerId  Survived  Pclass  \\\n",
       "0              1         0       3   \n",
       "1              2         1       1   \n",
       "2              3         1       3   \n",
       "3              4         1       1   \n",
       "4              5         0       3   \n",
       "..           ...       ...     ...   \n",
       "886          887         0       2   \n",
       "887          888         1       1   \n",
       "888          889         0       3   \n",
       "889          890         1       1   \n",
       "890          891         0       3   \n",
       "\n",
       "                                                  Name  Sex   Age  SibSp  \\\n",
       "0                              Braund, Mr. Owen Harris    1  22.0      1   \n",
       "1    Cumings, Mrs. John Bradley (Florence Briggs Th...    0  38.0      1   \n",
       "2                               Heikkinen, Miss. Laina    0  26.0      0   \n",
       "3         Futrelle, Mrs. Jacques Heath (Lily May Peel)    0  35.0      1   \n",
       "4                             Allen, Mr. William Henry    1  35.0      0   \n",
       "..                                                 ...  ...   ...    ...   \n",
       "886                              Montvila, Rev. Juozas    1  27.0      0   \n",
       "887                       Graham, Miss. Margaret Edith    0  19.0      0   \n",
       "888           Johnston, Miss. Catherine Helen \"Carrie\"    0  29.0      1   \n",
       "889                              Behr, Mr. Karl Howell    1  26.0      0   \n",
       "890                                Dooley, Mr. Patrick    1  32.0      0   \n",
       "\n",
       "     Parch  Ticket   Fare Cabin  Embarked  \n",
       "0        0     523   7.25   NaN         2  \n",
       "1        0     596  71.28   C85         0  \n",
       "2        0     669   7.92   NaN         2  \n",
       "3        0      49  26.55  C123         2  \n",
       "4        0     472   8.05   NaN         2  \n",
       "..     ...     ...    ...   ...       ...  \n",
       "886      0     101  13.00   NaN         2  \n",
       "887      0      14  30.00   B42         2  \n",
       "888      2     675  11.72   NaN         2  \n",
       "889      0       8  30.00  C148         0  \n",
       "890      0     466   7.75   NaN         1  \n",
       "\n",
       "[891 rows x 12 columns]"
      ]
     },
     "execution_count": 3,
     "metadata": {},
     "output_type": "execute_result"
    }
   ],
   "source": [
    "train_df = pd.read_csv(PATH_PROCESSED_TRAIN_CSV)\n",
    "train_df"
   ]
  },
  {
   "cell_type": "markdown",
   "id": "8h7cslzd-kYB",
   "metadata": {
    "id": "8h7cslzd-kYB",
    "tags": []
   },
   "source": [
    "### Feature Selection\n",
    "\n",
    "_Legend:_\n",
    "\n",
    "X: Feature Variables (or Independent Variables)\n",
    "\n",
    "y: Target Variables (or dependent Variables)"
   ]
  },
  {
   "cell_type": "code",
   "execution_count": 4,
   "id": "2cb9e80c-a47f-4cbd-9390-bc82a8a65662",
   "metadata": {},
   "outputs": [],
   "source": [
    "X = train_df.drop([\"PassengerId\", \"Survived\", \"Name\", \"Cabin\"], axis=1)\n",
    "y = train_df[\"Survived\"]"
   ]
  },
  {
   "cell_type": "markdown",
   "id": "9df1f705-be7f-4dbb-bc5e-963a3f45f5f7",
   "metadata": {},
   "source": [
    "### Split dataset into train and test sets"
   ]
  },
  {
   "cell_type": "code",
   "execution_count": 5,
   "id": "8a0f09ca-758e-4a31-adeb-666e0e9de1c9",
   "metadata": {},
   "outputs": [],
   "source": [
    "X_train, X_test, y_train, y_test = train_test_split(X, y, test_size=0.25, random_state=42)"
   ]
  },
  {
   "cell_type": "code",
   "execution_count": 6,
   "id": "52916b24-dd5f-4017-b19e-835e57eed8c1",
   "metadata": {},
   "outputs": [
    {
     "data": {
      "text/plain": [
       "((668, 6), (668,))"
      ]
     },
     "execution_count": 6,
     "metadata": {},
     "output_type": "execute_result"
    }
   ],
   "source": [
    "X_train.shape, y_train.shape"
   ]
  },
  {
   "cell_type": "code",
   "execution_count": 7,
   "id": "RhHIipua-ji2",
   "metadata": {
    "executionInfo": {
     "elapsed": 10,
     "status": "ok",
     "timestamp": 1639421507870,
     "user": {
      "displayName": "Fausto Carvalho",
      "photoUrl": "https://lh3.googleusercontent.com/a-/AOh14GhQSp8A75VnSre8_0cZLC_op7xUuyx_SZKDhtk6rw=s64",
      "userId": "14769586862712322629"
     },
     "user_tz": 180
    },
    "id": "RhHIipua-ji2"
   },
   "outputs": [
    {
     "data": {
      "text/plain": [
       "((223, 6), (223,))"
      ]
     },
     "execution_count": 7,
     "metadata": {},
     "output_type": "execute_result"
    }
   ],
   "source": [
    "X_test.shape, y_test.shape"
   ]
  },
  {
   "cell_type": "markdown",
   "id": "4BsrgtnZ8fvF",
   "metadata": {
    "id": "4BsrgtnZ8fvF"
   },
   "source": [
    "### Decision Tree Classifier"
   ]
  },
  {
   "cell_type": "code",
   "execution_count": 8,
   "id": "AxRi37pw8Wlh",
   "metadata": {
    "executionInfo": {
     "elapsed": 398,
     "status": "ok",
     "timestamp": 1639421508263,
     "user": {
      "displayName": "Fausto Carvalho",
      "photoUrl": "https://lh3.googleusercontent.com/a-/AOh14GhQSp8A75VnSre8_0cZLC_op7xUuyx_SZKDhtk6rw=s64",
      "userId": "14769586862712322629"
     },
     "user_tz": 180
    },
    "id": "AxRi37pw8Wlh"
   },
   "outputs": [],
   "source": [
    "from common import functions as func\n",
    "\n",
    "from sklearn import tree\n",
    "from sklearn.tree import DecisionTreeClassifier"
   ]
  },
  {
   "cell_type": "markdown",
   "id": "5b05986d-a17e-4942-a18f-9688311efecf",
   "metadata": {},
   "source": [
    "**Getting Best Hyperparameter Optimization**\n",
    "\n",
    "*Note: The execution of the code below may take a few minutes or hours.*\n",
    "\n",
    "*Uncomment and run it when you need to optimize hyperparameters.*"
   ]
  },
  {
   "cell_type": "code",
   "execution_count": 9,
   "id": "c40f5f7f-801a-4fdd-8302-d3c6f5269f1c",
   "metadata": {},
   "outputs": [],
   "source": [
    "# space = dict()\n",
    "# space['criterion'] = [\"gini\", \"entropy\"]\n",
    "# space['splitter'] = [\"best\", \"random\"]\n",
    "# space['max_depth'] = [n for n in range(20)]\n",
    "# space['min_samples_split'] = [n for n in range(20)]\n",
    "# space['min_samples_leaf'] = [n for n in range(20)]\n",
    "\n",
    "# func.show_best_hyperparameter_optimization(\n",
    "#     DecisionTreeClassifier(), \n",
    "#     space, \n",
    "#     X_train, \n",
    "#     y_train\n",
    "# )"
   ]
  },
  {
   "cell_type": "markdown",
   "id": "E6mqBYSKA_KQ",
   "metadata": {},
   "source": [
    "**Building, train and predict model**"
   ]
  },
  {
   "cell_type": "code",
   "execution_count": 10,
   "id": "_rZfUiCbBBDR",
   "metadata": {},
   "outputs": [],
   "source": [
    "decision_tree_classifier = DecisionTreeClassifier(\n",
    "    criterion=\"entropy\",\n",
    "    max_depth=6, \n",
    "    min_samples_leaf=3,\n",
    "    splitter=\"random\")\n",
    "\n",
    "pipeline = make_pipeline(\n",
    "    StandardScaler(),\n",
    "    decision_tree_classifier\n",
    ")\n",
    "\n",
    "_ = pipeline.fit(X_train, y_train)"
   ]
  },
  {
   "cell_type": "markdown",
   "id": "e69bf92c-3c76-45a0-bd88-3e03bed10c18",
   "metadata": {},
   "source": [
    "__Check the most relevant features for the training model__"
   ]
  },
  {
   "cell_type": "code",
   "execution_count": 14,
   "id": "575ca398-7956-42bb-921d-e859cb3a2e46",
   "metadata": {},
   "outputs": [
    {
     "data": {
      "text/html": [
       "<div>\n",
       "<style scoped>\n",
       "    .dataframe tbody tr th:only-of-type {\n",
       "        vertical-align: middle;\n",
       "    }\n",
       "\n",
       "    .dataframe tbody tr th {\n",
       "        vertical-align: top;\n",
       "    }\n",
       "\n",
       "    .dataframe thead th {\n",
       "        text-align: right;\n",
       "    }\n",
       "</style>\n",
       "<table border=\"1\" class=\"dataframe\">\n",
       "  <thead>\n",
       "    <tr style=\"text-align: right;\">\n",
       "      <th></th>\n",
       "      <th>Features</th>\n",
       "      <th>Relevance (%)</th>\n",
       "    </tr>\n",
       "  </thead>\n",
       "  <tbody>\n",
       "    <tr>\n",
       "      <th>0</th>\n",
       "      <td>Pclass</td>\n",
       "      <td>24</td>\n",
       "    </tr>\n",
       "    <tr>\n",
       "      <th>1</th>\n",
       "      <td>Sex</td>\n",
       "      <td>51</td>\n",
       "    </tr>\n",
       "    <tr>\n",
       "      <th>2</th>\n",
       "      <td>Age</td>\n",
       "      <td>9</td>\n",
       "    </tr>\n",
       "    <tr>\n",
       "      <th>3</th>\n",
       "      <td>SibSp</td>\n",
       "      <td>3</td>\n",
       "    </tr>\n",
       "    <tr>\n",
       "      <th>4</th>\n",
       "      <td>Parch</td>\n",
       "      <td>3</td>\n",
       "    </tr>\n",
       "    <tr>\n",
       "      <th>5</th>\n",
       "      <td>Ticket</td>\n",
       "      <td>9</td>\n",
       "    </tr>\n",
       "  </tbody>\n",
       "</table>\n",
       "</div>"
      ],
      "text/plain": [
       "  Features  Relevance (%)\n",
       "0   Pclass             24\n",
       "1      Sex             51\n",
       "2      Age              9\n",
       "3    SibSp              3\n",
       "4    Parch              3\n",
       "5   Ticket              9"
      ]
     },
     "execution_count": 11,
     "metadata": {},
     "output_type": "execute_result"
    }
   ],
   "source": [
    "featimps = decision_tree_classifier.feature_importances_\n",
    "pctimps = list(map(lambda fi: round(fi * 100), featimps))\n",
    "\n",
    "pd.DataFrame({\n",
    "    \"Features\": X_train.columns, \n",
    "    \"Relevance (%)\": pctimps\n",
    "})"
   ]
  },
  {
   "cell_type": "markdown",
   "id": "60b4db15-eb23-4ec8-a391-cec5d0cf73d5",
   "metadata": {},
   "source": [
    "__Predict and show model result__"
   ]
  },
  {
   "cell_type": "code",
   "execution_count": 12,
   "id": "b59cf318-9887-479d-ab20-3828a072375b",
   "metadata": {},
   "outputs": [
    {
     "name": "stdout",
     "output_type": "stream",
     "text": [
      "\n",
      "Computing cross-validated metrics\n",
      "----------------------------------------------------------------------\n",
      "Scores: [0.76536313 0.82022472 0.78089888 0.79775281 0.83146067]\n",
      "Mean = 0.80 / Standard Deviation = 0.02\n",
      "\n",
      "Confunsion Matrix\n",
      "----------------------------------------------------------------------\n",
      "[[124  10]\n",
      " [ 36  53]]\n",
      "\n",
      "Classification Report\n",
      "----------------------------------------------------------------------\n",
      "              precision    recall  f1-score   support\n",
      "\n",
      "           0       0.78      0.93      0.84       134\n",
      "           1       0.84      0.60      0.70        89\n",
      "\n",
      "    accuracy                           0.79       223\n",
      "   macro avg       0.81      0.76      0.77       223\n",
      "weighted avg       0.80      0.79      0.79       223\n",
      "\n",
      "----------------------------------------------------------------------\n",
      "Accuracy: 0.79\n",
      "Precicion: 0.84\n",
      "Sensitivity aka Recall: 0.60\n",
      "F1-Score: 0.70\n"
     ]
    }
   ],
   "source": [
    "y_predict = pipeline.predict(X_test)\n",
    "func.show_model_result(pipeline, X, y, y_test, y_predict)"
   ]
  },
  {
   "cell_type": "markdown",
   "id": "3e6c7b64-5fa6-4ba7-8762-6b48cfded378",
   "metadata": {},
   "source": [
    "**Show Curve ROC and Area Under the ROC**"
   ]
  },
  {
   "cell_type": "code",
   "execution_count": 13,
   "id": "12215fbc-3756-4b88-9f62-efa2dba03e14",
   "metadata": {},
   "outputs": [
    {
     "name": "stdout",
     "output_type": "stream",
     "text": [
      "----------------------------------------------------------------------\n",
      "AUC-Area Under the ROC Curve: 0.76\n",
      "----------------------------------------------------------------------\n"
     ]
    },
    {
     "data": {
      "image/png": "[encoded data removed]",
      "text/plain": [
       "<Figure size 432x288 with 1 Axes>"
      ]
     },
     "metadata": {
      "needs_background": "light"
     },
     "output_type": "display_data"
    }
   ],
   "source": [
    "label = \"Decision Tree Classifier\"\n",
    "func.show_curve_roc(pipeline, X_test, y_test, y_predict, label=label)"
   ]
  }
 ],
 "metadata": {
  "colab": {
   "collapsed_sections": [
    "e94661e7-3aa3-48a9-9269-dfb730f6a3fb"
   ],
   "name": "notebook.ipynb",
   "provenance": []
  },
  "kernelspec": {
   "display_name": "Python 3 (ipykernel)",
   "language": "python",
   "name": "python3"
  },
  "language_info": {
   "codemirror_mode": {
    "name": "ipython",
    "version": 3
   },
   "file_extension": ".py",
   "mimetype": "text/x-python",
   "name": "python",
   "nbconvert_exporter": "python",
   "pygments_lexer": "ipython3",
   "version": "3.9.7"
  }
 },
 "nbformat": 4,
 "nbformat_minor": 5
}
