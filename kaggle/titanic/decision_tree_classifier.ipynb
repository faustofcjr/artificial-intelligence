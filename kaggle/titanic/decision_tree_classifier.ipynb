{
 "cells": [
  {
   "cell_type": "markdown",
   "id": "bdb183c8-51d1-4f54-882c-4b86497ad7ed",
   "metadata": {
    "id": "bdb183c8-51d1-4f54-882c-4b86497ad7ed"
   },
   "source": [
    "# Titanic - Machine Learning from Disaster\n",
    "\n",
    "## Decision Tree Model"
   ]
  },
  {
   "cell_type": "code",
   "execution_count": null,
   "id": "fc273319-bc32-4cd5-a225-43357ed32f61",
   "metadata": {},
   "outputs": [],
   "source": [
    "import pandas as pd\n",
    "import numpy as np\n",
    "\n",
    "import matplotlib.pyplot as plt\n",
    "\n",
    "from sklearn.pipeline import make_pipeline\n",
    "from sklearn.model_selection import train_test_split\n",
    "from sklearn.preprocessing import LabelEncoder, StandardScaler"
   ]
  },
  {
   "cell_type": "markdown",
   "id": "9fc83741-03d4-4ef0-859f-f6ec2b60eb2e",
   "metadata": {},
   "source": [
    "## Constants"
   ]
  },
  {
   "cell_type": "code",
   "execution_count": null,
   "id": "e3c9034e-8b1c-4911-add7-4d382a7bd029",
   "metadata": {},
   "outputs": [],
   "source": [
    "PATH_PROCESSED_TRAIN_CSV = \"data/processed_train.csv\""
   ]
  },
  {
   "cell_type": "markdown",
   "id": "e94661e7-3aa3-48a9-9269-dfb730f6a3fb",
   "metadata": {
    "id": "e94661e7-3aa3-48a9-9269-dfb730f6a3fb"
   },
   "source": [
    "## Data Collection"
   ]
  },
  {
   "cell_type": "code",
   "execution_count": null,
   "id": "6233a5c2-0bbd-4979-9159-fbeb8bd3a832",
   "metadata": {
    "executionInfo": {
     "elapsed": 492,
     "status": "ok",
     "timestamp": 1639421504755,
     "user": {
      "displayName": "Fausto Carvalho",
      "photoUrl": "https://lh3.googleusercontent.com/a-/AOh14GhQSp8A75VnSre8_0cZLC_op7xUuyx_SZKDhtk6rw=s64",
      "userId": "14769586862712322629"
     },
     "user_tz": 180
    },
    "id": "6233a5c2-0bbd-4979-9159-fbeb8bd3a832"
   },
   "outputs": [],
   "source": [
    "train_df = pd.read_csv(PATH_PROCESSED_TRAIN_CSV)\n",
    "train_df"
   ]
  },
  {
   "cell_type": "markdown",
   "id": "8h7cslzd-kYB",
   "metadata": {
    "id": "8h7cslzd-kYB",
    "tags": []
   },
   "source": [
    "### Feature Selection\n",
    "\n",
    "_Legend:_\n",
    "\n",
    "X: Feature Variables (or Independent Variables)\n",
    "\n",
    "y: Target Variables (or dependent Variables)"
   ]
  },
  {
   "cell_type": "code",
   "execution_count": null,
   "id": "2cb9e80c-a47f-4cbd-9390-bc82a8a65662",
   "metadata": {},
   "outputs": [],
   "source": [
    "X = train_df.drop([\"Survived\"], axis=1)\n",
    "y = train_df[\"Survived\"]"
   ]
  },
  {
   "cell_type": "markdown",
   "id": "9df1f705-be7f-4dbb-bc5e-963a3f45f5f7",
   "metadata": {},
   "source": [
    "### Split dataset into train and test sets"
   ]
  },
  {
   "cell_type": "code",
   "execution_count": null,
   "id": "8a0f09ca-758e-4a31-adeb-666e0e9de1c9",
   "metadata": {},
   "outputs": [],
   "source": [
    "X_train, X_test, y_train, y_test = train_test_split(X, y, test_size=0.25, random_state=42)"
   ]
  },
  {
   "cell_type": "code",
   "execution_count": null,
   "id": "52916b24-dd5f-4017-b19e-835e57eed8c1",
   "metadata": {},
   "outputs": [],
   "source": [
    "X_train.shape, y_train.shape"
   ]
  },
  {
   "cell_type": "code",
   "execution_count": null,
   "id": "RhHIipua-ji2",
   "metadata": {
    "executionInfo": {
     "elapsed": 10,
     "status": "ok",
     "timestamp": 1639421507870,
     "user": {
      "displayName": "Fausto Carvalho",
      "photoUrl": "https://lh3.googleusercontent.com/a-/AOh14GhQSp8A75VnSre8_0cZLC_op7xUuyx_SZKDhtk6rw=s64",
      "userId": "14769586862712322629"
     },
     "user_tz": 180
    },
    "id": "RhHIipua-ji2"
   },
   "outputs": [],
   "source": [
    "X_test.shape, y_test.shape"
   ]
  },
  {
   "cell_type": "markdown",
   "id": "4BsrgtnZ8fvF",
   "metadata": {
    "id": "4BsrgtnZ8fvF"
   },
   "source": [
    "## Modeling"
   ]
  },
  {
   "cell_type": "code",
   "execution_count": null,
   "id": "AxRi37pw8Wlh",
   "metadata": {
    "executionInfo": {
     "elapsed": 398,
     "status": "ok",
     "timestamp": 1639421508263,
     "user": {
      "displayName": "Fausto Carvalho",
      "photoUrl": "https://lh3.googleusercontent.com/a-/AOh14GhQSp8A75VnSre8_0cZLC_op7xUuyx_SZKDhtk6rw=s64",
      "userId": "14769586862712322629"
     },
     "user_tz": 180
    },
    "id": "AxRi37pw8Wlh"
   },
   "outputs": [],
   "source": [
    "from common import functions as func\n",
    "\n",
    "from sklearn import tree\n",
    "from sklearn.tree import DecisionTreeClassifier"
   ]
  },
  {
   "cell_type": "markdown",
   "id": "5b05986d-a17e-4942-a18f-9688311efecf",
   "metadata": {},
   "source": [
    "**Getting Best Hyperparameter Optimization**\n",
    "\n",
    "*Note: The execution of the code below may take a few minutes or hours.*\n",
    "\n",
    "*Uncomment and run it when you need to optimize hyperparameters.*"
   ]
  },
  {
   "cell_type": "code",
   "execution_count": null,
   "id": "c40f5f7f-801a-4fdd-8302-d3c6f5269f1c",
   "metadata": {},
   "outputs": [],
   "source": [
    "# space = dict()\n",
    "# space['criterion'] = [\"gini\", \"entropy\"]\n",
    "# space['splitter'] = [\"best\", \"random\"]\n",
    "# space['max_depth'] = [n for n in range(50)]\n",
    "# space['min_samples_split'] = [n for n in range(10)]\n",
    "# space['min_samples_leaf'] = [n for n in range(10)]\n",
    "\n",
    "# func.show_best_hyperparameter_optimization(\n",
    "#     DecisionTreeClassifier(), \n",
    "#     space, \n",
    "#     X_train, \n",
    "#     y_train\n",
    "# )"
   ]
  },
  {
   "cell_type": "markdown",
   "id": "f9b63eb4-2b7a-4856-9e42-0760c89c7f9d",
   "metadata": {},
   "source": [
    "Best Score: 0.818920548771295\n",
    "\n",
    "Best Hyperparameters: {'criterion': 'entropy', 'max_depth': 6, 'min_samples_split': 4, 'splitter': 'random'}"
   ]
  },
  {
   "cell_type": "markdown",
   "id": "E6mqBYSKA_KQ",
   "metadata": {},
   "source": [
    "**Building, train and predict model**"
   ]
  },
  {
   "cell_type": "code",
   "execution_count": null,
   "id": "_rZfUiCbBBDR",
   "metadata": {},
   "outputs": [],
   "source": [
    "decision_tree_classifier = DecisionTreeClassifier(\n",
    "    criterion=\"entropy\", \n",
    "    max_depth=6, \n",
    "    min_samples_split=4,\n",
    "    splitter=\"random\"\n",
    ")\n",
    "pipeline = make_pipeline(\n",
    "    StandardScaler(),\n",
    "    decision_tree_classifier\n",
    ")\n",
    "\n",
    "_ = pipeline.fit(X_train, y_train)"
   ]
  },
  {
   "cell_type": "markdown",
   "id": "e69bf92c-3c76-45a0-bd88-3e03bed10c18",
   "metadata": {},
   "source": [
    "__Check the most relevant features for the training model__"
   ]
  },
  {
   "cell_type": "code",
   "execution_count": null,
   "id": "575ca398-7956-42bb-921d-e859cb3a2e46",
   "metadata": {},
   "outputs": [],
   "source": [
    "func.get_feature_importances(decision_tree_classifier, X_train)"
   ]
  },
  {
   "cell_type": "markdown",
   "id": "60b4db15-eb23-4ec8-a391-cec5d0cf73d5",
   "metadata": {},
   "source": [
    "__Predict and show model result__"
   ]
  },
  {
   "cell_type": "code",
   "execution_count": null,
   "id": "b59cf318-9887-479d-ab20-3828a072375b",
   "metadata": {},
   "outputs": [],
   "source": [
    "y_predict = pipeline.predict(X_test)\n",
    "func.show_model_result(pipeline, X, y, y_test, y_predict)"
   ]
  },
  {
   "cell_type": "markdown",
   "id": "3e6c7b64-5fa6-4ba7-8762-6b48cfded378",
   "metadata": {},
   "source": [
    "**Show Curve ROC and Area Under the ROC**"
   ]
  },
  {
   "cell_type": "code",
   "execution_count": null,
   "id": "12215fbc-3756-4b88-9f62-efa2dba03e14",
   "metadata": {},
   "outputs": [],
   "source": [
    "func.show_curve_roc(pipeline, X_test, y_test, y_predict)"
   ]
  },
  {
   "cell_type": "markdown",
   "id": "e59ada1a-678f-4f22-9804-d9702377054b",
   "metadata": {},
   "source": [
    "__Compare Ground Truth vs Prediction Model__"
   ]
  },
  {
   "cell_type": "code",
   "execution_count": null,
   "id": "78ce0a42-be91-4e61-a28f-f7ec48bf6e6f",
   "metadata": {},
   "outputs": [],
   "source": [
    "func.get_error_prediction(X_test, y_test, y_predict)"
   ]
  },
  {
   "cell_type": "code",
   "execution_count": null,
   "id": "f7a8819f-98e2-411b-bcaf-b5832f1d4197",
   "metadata": {},
   "outputs": [],
   "source": [
    "train_df[train_df[\"Ticket\"] == 203]"
   ]
  },
  {
   "cell_type": "code",
   "execution_count": null,
   "id": "dc7765de-9a74-4d30-8953-39c103e884ae",
   "metadata": {},
   "outputs": [],
   "source": [
    "plt.figure(figsize=(20, 25))\n",
    "tree.plot_tree(decision_tree_classifier, filled=True, fontsize=10)\n",
    "plt.show()"
   ]
  }
 ],
 "metadata": {
  "colab": {
   "collapsed_sections": [
    "e94661e7-3aa3-48a9-9269-dfb730f6a3fb"
   ],
   "name": "notebook.ipynb",
   "provenance": []
  },
  "kernelspec": {
   "display_name": "Python 3 (ipykernel)",
   "language": "python",
   "name": "python3"
  },
  "language_info": {
   "codemirror_mode": {
    "name": "ipython",
    "version": 3
   },
   "file_extension": ".py",
   "mimetype": "text/x-python",
   "name": "python",
   "nbconvert_exporter": "python",
   "pygments_lexer": "ipython3",
   "version": "3.9.7"
  }
 },
 "nbformat": 4,
 "nbformat_minor": 5
}
