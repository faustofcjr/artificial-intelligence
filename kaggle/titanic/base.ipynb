{
 "cells": [
  {
   "cell_type": "markdown",
   "id": "ae76c253-cd3b-4a82-9b46-1e2312d9e7d7",
   "metadata": {
    "tags": []
   },
   "source": [
    "# Titanic - Machine Learning from Disaster\n",
    "\n",
    "__Predict survival on the Titanic and get familiar with ML basics__\n",
    "\n",
    "_See more: https://www.kaggle.com/c/titanic_\n",
    "\n",
    "__Legends__\n",
    "\n",
    "| Variable   | Definition           | Key\n",
    "|:---        |:---                  |:---\n",
    "| survival   | Survival             | 0 = No, 1 = Yes\n",
    "| pclass     |  Ticket class        |1 = 1st, 2 = 2nd, 3 = 3rd\n",
    "| embarked   | Port of Embarkation  | C = Cherbourg, Q = Queenstown, S = Southampton\n",
    "\n",
    "\n",
    "**Passenger fare**\n",
    "\n",
    "| Class      | Price\n",
    "|:---        |:---\n",
    "| 1st        | between £30 and £870\n",
    "| 2nd        | mean £13\n",
    "| 3nd        | £3–£8"
   ]
  },
  {
   "cell_type": "code",
   "execution_count": 1,
   "id": "4a5dd5a0-059f-48f6-a91b-e7a84d67cd68",
   "metadata": {},
   "outputs": [],
   "source": [
    "import numpy as np\n",
    "import pandas as pd\n",
    "\n",
    "import seaborn as sns\n",
    "import matplotlib.pyplot as plt\n",
    "\n",
    "from sklearn.preprocessing import LabelEncoder\n",
    "\n",
    "from common import data_preparation"
   ]
  },
  {
   "cell_type": "markdown",
   "id": "9fcd29f9-245f-466f-97ef-a2ef44dc40c4",
   "metadata": {},
   "source": [
    "## Constants"
   ]
  },
  {
   "cell_type": "code",
   "execution_count": 2,
   "id": "3f275413-5038-4771-830e-ece0c57efac3",
   "metadata": {},
   "outputs": [],
   "source": [
    "PATH_TRAIN_CSV = \"data/train.csv\"\n",
    "PATH_TEST_CSV = \"data/test.csv\"\n",
    "PATH_PROCESSED_TRAIN_CSV = \"data/processed_train.csv\"\n",
    "PATH_PROCESSED_TEST_CSV = \"data/processed_test.csv\""
   ]
  },
  {
   "cell_type": "markdown",
   "id": "362a1d4c-8abe-40ee-8790-647533c2430a",
   "metadata": {},
   "source": [
    "## Getting the Data"
   ]
  },
  {
   "cell_type": "code",
   "execution_count": 3,
   "id": "b55f2ba3-2506-47ca-8d2b-62e8fcb3bfb3",
   "metadata": {},
   "outputs": [],
   "source": [
    "df_train = pd.read_csv(PATH_TRAIN_CSV)\n",
    "df_test = pd.read_csv(PATH_TEST_CSV)"
   ]
  },
  {
   "cell_type": "markdown",
   "id": "4a28467a-bf54-489c-ac85-16c7437444c6",
   "metadata": {},
   "source": [
    "__Show the first head rows of train dataset__"
   ]
  },
  {
   "cell_type": "code",
   "execution_count": 4,
   "id": "4380a7de-e325-41c8-b502-f8ed086960d1",
   "metadata": {},
   "outputs": [
    {
     "data": {
      "text/html": [
       "<div>\n",
       "<style scoped>\n",
       "    .dataframe tbody tr th:only-of-type {\n",
       "        vertical-align: middle;\n",
       "    }\n",
       "\n",
       "    .dataframe tbody tr th {\n",
       "        vertical-align: top;\n",
       "    }\n",
       "\n",
       "    .dataframe thead th {\n",
       "        text-align: right;\n",
       "    }\n",
       "</style>\n",
       "<table border=\"1\" class=\"dataframe\">\n",
       "  <thead>\n",
       "    <tr style=\"text-align: right;\">\n",
       "      <th></th>\n",
       "      <th>PassengerId</th>\n",
       "      <th>Survived</th>\n",
       "      <th>Pclass</th>\n",
       "      <th>Name</th>\n",
       "      <th>Sex</th>\n",
       "      <th>Age</th>\n",
       "      <th>SibSp</th>\n",
       "      <th>Parch</th>\n",
       "      <th>Ticket</th>\n",
       "      <th>Fare</th>\n",
       "      <th>Cabin</th>\n",
       "      <th>Embarked</th>\n",
       "    </tr>\n",
       "  </thead>\n",
       "  <tbody>\n",
       "    <tr>\n",
       "      <th>0</th>\n",
       "      <td>1</td>\n",
       "      <td>0</td>\n",
       "      <td>3</td>\n",
       "      <td>Braund, Mr. Owen Harris</td>\n",
       "      <td>male</td>\n",
       "      <td>22.0</td>\n",
       "      <td>1</td>\n",
       "      <td>0</td>\n",
       "      <td>A/5 21171</td>\n",
       "      <td>7.2500</td>\n",
       "      <td>NaN</td>\n",
       "      <td>S</td>\n",
       "    </tr>\n",
       "    <tr>\n",
       "      <th>1</th>\n",
       "      <td>2</td>\n",
       "      <td>1</td>\n",
       "      <td>1</td>\n",
       "      <td>Cumings, Mrs. John Bradley (Florence Briggs Th...</td>\n",
       "      <td>female</td>\n",
       "      <td>38.0</td>\n",
       "      <td>1</td>\n",
       "      <td>0</td>\n",
       "      <td>PC 17599</td>\n",
       "      <td>71.2833</td>\n",
       "      <td>C85</td>\n",
       "      <td>C</td>\n",
       "    </tr>\n",
       "    <tr>\n",
       "      <th>2</th>\n",
       "      <td>3</td>\n",
       "      <td>1</td>\n",
       "      <td>3</td>\n",
       "      <td>Heikkinen, Miss. Laina</td>\n",
       "      <td>female</td>\n",
       "      <td>26.0</td>\n",
       "      <td>0</td>\n",
       "      <td>0</td>\n",
       "      <td>STON/O2. 3101282</td>\n",
       "      <td>7.9250</td>\n",
       "      <td>NaN</td>\n",
       "      <td>S</td>\n",
       "    </tr>\n",
       "    <tr>\n",
       "      <th>3</th>\n",
       "      <td>4</td>\n",
       "      <td>1</td>\n",
       "      <td>1</td>\n",
       "      <td>Futrelle, Mrs. Jacques Heath (Lily May Peel)</td>\n",
       "      <td>female</td>\n",
       "      <td>35.0</td>\n",
       "      <td>1</td>\n",
       "      <td>0</td>\n",
       "      <td>113803</td>\n",
       "      <td>53.1000</td>\n",
       "      <td>C123</td>\n",
       "      <td>S</td>\n",
       "    </tr>\n",
       "    <tr>\n",
       "      <th>4</th>\n",
       "      <td>5</td>\n",
       "      <td>0</td>\n",
       "      <td>3</td>\n",
       "      <td>Allen, Mr. William Henry</td>\n",
       "      <td>male</td>\n",
       "      <td>35.0</td>\n",
       "      <td>0</td>\n",
       "      <td>0</td>\n",
       "      <td>373450</td>\n",
       "      <td>8.0500</td>\n",
       "      <td>NaN</td>\n",
       "      <td>S</td>\n",
       "    </tr>\n",
       "  </tbody>\n",
       "</table>\n",
       "</div>"
      ],
      "text/plain": [
       "   PassengerId  Survived  Pclass  \\\n",
       "0            1         0       3   \n",
       "1            2         1       1   \n",
       "2            3         1       3   \n",
       "3            4         1       1   \n",
       "4            5         0       3   \n",
       "\n",
       "                                                Name     Sex   Age  SibSp  \\\n",
       "0                            Braund, Mr. Owen Harris    male  22.0      1   \n",
       "1  Cumings, Mrs. John Bradley (Florence Briggs Th...  female  38.0      1   \n",
       "2                             Heikkinen, Miss. Laina  female  26.0      0   \n",
       "3       Futrelle, Mrs. Jacques Heath (Lily May Peel)  female  35.0      1   \n",
       "4                           Allen, Mr. William Henry    male  35.0      0   \n",
       "\n",
       "   Parch            Ticket     Fare Cabin Embarked  \n",
       "0      0         A/5 21171   7.2500   NaN        S  \n",
       "1      0          PC 17599  71.2833   C85        C  \n",
       "2      0  STON/O2. 3101282   7.9250   NaN        S  \n",
       "3      0            113803  53.1000  C123        S  \n",
       "4      0            373450   8.0500   NaN        S  "
      ]
     },
     "execution_count": 4,
     "metadata": {},
     "output_type": "execute_result"
    }
   ],
   "source": [
    "df_train.head()"
   ]
  },
  {
   "cell_type": "markdown",
   "id": "cfcf87e4-a154-4a7d-baec-58cbb97b8a56",
   "metadata": {},
   "source": [
    "__Show the first head rows of test dataset__"
   ]
  },
  {
   "cell_type": "code",
   "execution_count": 5,
   "id": "ff3016cd-5768-4cf2-bbca-2641543284b9",
   "metadata": {},
   "outputs": [
    {
     "data": {
      "text/html": [
       "<div>\n",
       "<style scoped>\n",
       "    .dataframe tbody tr th:only-of-type {\n",
       "        vertical-align: middle;\n",
       "    }\n",
       "\n",
       "    .dataframe tbody tr th {\n",
       "        vertical-align: top;\n",
       "    }\n",
       "\n",
       "    .dataframe thead th {\n",
       "        text-align: right;\n",
       "    }\n",
       "</style>\n",
       "<table border=\"1\" class=\"dataframe\">\n",
       "  <thead>\n",
       "    <tr style=\"text-align: right;\">\n",
       "      <th></th>\n",
       "      <th>PassengerId</th>\n",
       "      <th>Pclass</th>\n",
       "      <th>Name</th>\n",
       "      <th>Sex</th>\n",
       "      <th>Age</th>\n",
       "      <th>SibSp</th>\n",
       "      <th>Parch</th>\n",
       "      <th>Ticket</th>\n",
       "      <th>Fare</th>\n",
       "      <th>Cabin</th>\n",
       "      <th>Embarked</th>\n",
       "    </tr>\n",
       "  </thead>\n",
       "  <tbody>\n",
       "    <tr>\n",
       "      <th>0</th>\n",
       "      <td>892</td>\n",
       "      <td>3</td>\n",
       "      <td>Kelly, Mr. James</td>\n",
       "      <td>male</td>\n",
       "      <td>34.5</td>\n",
       "      <td>0</td>\n",
       "      <td>0</td>\n",
       "      <td>330911</td>\n",
       "      <td>7.8292</td>\n",
       "      <td>NaN</td>\n",
       "      <td>Q</td>\n",
       "    </tr>\n",
       "    <tr>\n",
       "      <th>1</th>\n",
       "      <td>893</td>\n",
       "      <td>3</td>\n",
       "      <td>Wilkes, Mrs. James (Ellen Needs)</td>\n",
       "      <td>female</td>\n",
       "      <td>47.0</td>\n",
       "      <td>1</td>\n",
       "      <td>0</td>\n",
       "      <td>363272</td>\n",
       "      <td>7.0000</td>\n",
       "      <td>NaN</td>\n",
       "      <td>S</td>\n",
       "    </tr>\n",
       "    <tr>\n",
       "      <th>2</th>\n",
       "      <td>894</td>\n",
       "      <td>2</td>\n",
       "      <td>Myles, Mr. Thomas Francis</td>\n",
       "      <td>male</td>\n",
       "      <td>62.0</td>\n",
       "      <td>0</td>\n",
       "      <td>0</td>\n",
       "      <td>240276</td>\n",
       "      <td>9.6875</td>\n",
       "      <td>NaN</td>\n",
       "      <td>Q</td>\n",
       "    </tr>\n",
       "    <tr>\n",
       "      <th>3</th>\n",
       "      <td>895</td>\n",
       "      <td>3</td>\n",
       "      <td>Wirz, Mr. Albert</td>\n",
       "      <td>male</td>\n",
       "      <td>27.0</td>\n",
       "      <td>0</td>\n",
       "      <td>0</td>\n",
       "      <td>315154</td>\n",
       "      <td>8.6625</td>\n",
       "      <td>NaN</td>\n",
       "      <td>S</td>\n",
       "    </tr>\n",
       "    <tr>\n",
       "      <th>4</th>\n",
       "      <td>896</td>\n",
       "      <td>3</td>\n",
       "      <td>Hirvonen, Mrs. Alexander (Helga E Lindqvist)</td>\n",
       "      <td>female</td>\n",
       "      <td>22.0</td>\n",
       "      <td>1</td>\n",
       "      <td>1</td>\n",
       "      <td>3101298</td>\n",
       "      <td>12.2875</td>\n",
       "      <td>NaN</td>\n",
       "      <td>S</td>\n",
       "    </tr>\n",
       "  </tbody>\n",
       "</table>\n",
       "</div>"
      ],
      "text/plain": [
       "   PassengerId  Pclass                                          Name     Sex  \\\n",
       "0          892       3                              Kelly, Mr. James    male   \n",
       "1          893       3              Wilkes, Mrs. James (Ellen Needs)  female   \n",
       "2          894       2                     Myles, Mr. Thomas Francis    male   \n",
       "3          895       3                              Wirz, Mr. Albert    male   \n",
       "4          896       3  Hirvonen, Mrs. Alexander (Helga E Lindqvist)  female   \n",
       "\n",
       "    Age  SibSp  Parch   Ticket     Fare Cabin Embarked  \n",
       "0  34.5      0      0   330911   7.8292   NaN        Q  \n",
       "1  47.0      1      0   363272   7.0000   NaN        S  \n",
       "2  62.0      0      0   240276   9.6875   NaN        Q  \n",
       "3  27.0      0      0   315154   8.6625   NaN        S  \n",
       "4  22.0      1      1  3101298  12.2875   NaN        S  "
      ]
     },
     "execution_count": 5,
     "metadata": {},
     "output_type": "execute_result"
    }
   ],
   "source": [
    "df_test.head()"
   ]
  },
  {
   "cell_type": "markdown",
   "id": "3abb2657-d389-4fc3-a1b8-5828deefe52f",
   "metadata": {},
   "source": [
    "## Explore the data"
   ]
  },
  {
   "cell_type": "markdown",
   "id": "7fc813c9-e9ff-4e27-91d9-43dd75f15d11",
   "metadata": {},
   "source": [
    "### Show detail about features"
   ]
  },
  {
   "cell_type": "code",
   "execution_count": 6,
   "id": "09eefb0a-d949-411f-948f-27d48922ab06",
   "metadata": {},
   "outputs": [
    {
     "name": "stdout",
     "output_type": "stream",
     "text": [
      "<class 'pandas.core.frame.DataFrame'>\n",
      "RangeIndex: 891 entries, 0 to 890\n",
      "Data columns (total 12 columns):\n",
      " #   Column       Non-Null Count  Dtype  \n",
      "---  ------       --------------  -----  \n",
      " 0   PassengerId  891 non-null    int64  \n",
      " 1   Survived     891 non-null    int64  \n",
      " 2   Pclass       891 non-null    int64  \n",
      " 3   Name         891 non-null    object \n",
      " 4   Sex          891 non-null    object \n",
      " 5   Age          714 non-null    float64\n",
      " 6   SibSp        891 non-null    int64  \n",
      " 7   Parch        891 non-null    int64  \n",
      " 8   Ticket       891 non-null    object \n",
      " 9   Fare         891 non-null    float64\n",
      " 10  Cabin        204 non-null    object \n",
      " 11  Embarked     889 non-null    object \n",
      "dtypes: float64(2), int64(5), object(5)\n",
      "memory usage: 83.7+ KB\n"
     ]
    }
   ],
   "source": [
    "df_train.info()"
   ]
  },
  {
   "cell_type": "code",
   "execution_count": 7,
   "id": "4b1c3539-0f2f-4abe-9b23-017a78dde63f",
   "metadata": {},
   "outputs": [
    {
     "name": "stdout",
     "output_type": "stream",
     "text": [
      "<class 'pandas.core.frame.DataFrame'>\n",
      "RangeIndex: 418 entries, 0 to 417\n",
      "Data columns (total 11 columns):\n",
      " #   Column       Non-Null Count  Dtype  \n",
      "---  ------       --------------  -----  \n",
      " 0   PassengerId  418 non-null    int64  \n",
      " 1   Pclass       418 non-null    int64  \n",
      " 2   Name         418 non-null    object \n",
      " 3   Sex          418 non-null    object \n",
      " 4   Age          332 non-null    float64\n",
      " 5   SibSp        418 non-null    int64  \n",
      " 6   Parch        418 non-null    int64  \n",
      " 7   Ticket       418 non-null    object \n",
      " 8   Fare         417 non-null    float64\n",
      " 9   Cabin        91 non-null     object \n",
      " 10  Embarked     418 non-null    object \n",
      "dtypes: float64(2), int64(4), object(5)\n",
      "memory usage: 36.0+ KB\n"
     ]
    }
   ],
   "source": [
    "df_test.info()"
   ]
  },
  {
   "cell_type": "markdown",
   "id": "0802d326-46fa-401b-a5a7-0949eb739040",
   "metadata": {},
   "source": [
    "### Percentage of missing data"
   ]
  },
  {
   "cell_type": "code",
   "execution_count": 8,
   "id": "a94c7ab8-247b-45cc-b402-2cef0f031e30",
   "metadata": {},
   "outputs": [
    {
     "data": {
      "text/html": [
       "<div>\n",
       "<style scoped>\n",
       "    .dataframe tbody tr th:only-of-type {\n",
       "        vertical-align: middle;\n",
       "    }\n",
       "\n",
       "    .dataframe tbody tr th {\n",
       "        vertical-align: top;\n",
       "    }\n",
       "\n",
       "    .dataframe thead th {\n",
       "        text-align: right;\n",
       "    }\n",
       "</style>\n",
       "<table border=\"1\" class=\"dataframe\">\n",
       "  <thead>\n",
       "    <tr style=\"text-align: right;\">\n",
       "      <th></th>\n",
       "      <th>Total</th>\n",
       "      <th>%</th>\n",
       "    </tr>\n",
       "  </thead>\n",
       "  <tbody>\n",
       "    <tr>\n",
       "      <th>Cabin</th>\n",
       "      <td>687</td>\n",
       "      <td>77.1</td>\n",
       "    </tr>\n",
       "    <tr>\n",
       "      <th>Age</th>\n",
       "      <td>177</td>\n",
       "      <td>19.9</td>\n",
       "    </tr>\n",
       "    <tr>\n",
       "      <th>Embarked</th>\n",
       "      <td>2</td>\n",
       "      <td>0.2</td>\n",
       "    </tr>\n",
       "    <tr>\n",
       "      <th>PassengerId</th>\n",
       "      <td>0</td>\n",
       "      <td>0.0</td>\n",
       "    </tr>\n",
       "    <tr>\n",
       "      <th>Survived</th>\n",
       "      <td>0</td>\n",
       "      <td>0.0</td>\n",
       "    </tr>\n",
       "  </tbody>\n",
       "</table>\n",
       "</div>"
      ],
      "text/plain": [
       "             Total     %\n",
       "Cabin          687  77.1\n",
       "Age            177  19.9\n",
       "Embarked         2   0.2\n",
       "PassengerId      0   0.0\n",
       "Survived         0   0.0"
      ]
     },
     "execution_count": 8,
     "metadata": {},
     "output_type": "execute_result"
    }
   ],
   "source": [
    "total = df_train.isnull().sum().sort_values(ascending=False)\n",
    "percent = df_train.isnull().sum() / df_train.isnull().count() * 100\n",
    "percent = (round(percent, 1)).sort_values(ascending=False)\n",
    "\n",
    "missing_data = pd.concat([total, percent], keys=['Total', '%'], axis=1)\n",
    "missing_data.head(5)"
   ]
  },
  {
   "cell_type": "code",
   "execution_count": 9,
   "id": "336b1a5b-0ceb-4e69-8488-13370470d297",
   "metadata": {},
   "outputs": [
    {
     "data": {
      "text/html": [
       "<div>\n",
       "<style scoped>\n",
       "    .dataframe tbody tr th:only-of-type {\n",
       "        vertical-align: middle;\n",
       "    }\n",
       "\n",
       "    .dataframe tbody tr th {\n",
       "        vertical-align: top;\n",
       "    }\n",
       "\n",
       "    .dataframe thead th {\n",
       "        text-align: right;\n",
       "    }\n",
       "</style>\n",
       "<table border=\"1\" class=\"dataframe\">\n",
       "  <thead>\n",
       "    <tr style=\"text-align: right;\">\n",
       "      <th></th>\n",
       "      <th>Total</th>\n",
       "      <th>%</th>\n",
       "    </tr>\n",
       "  </thead>\n",
       "  <tbody>\n",
       "    <tr>\n",
       "      <th>Cabin</th>\n",
       "      <td>327</td>\n",
       "      <td>78.2</td>\n",
       "    </tr>\n",
       "    <tr>\n",
       "      <th>Age</th>\n",
       "      <td>86</td>\n",
       "      <td>20.6</td>\n",
       "    </tr>\n",
       "    <tr>\n",
       "      <th>Fare</th>\n",
       "      <td>1</td>\n",
       "      <td>0.2</td>\n",
       "    </tr>\n",
       "    <tr>\n",
       "      <th>PassengerId</th>\n",
       "      <td>0</td>\n",
       "      <td>0.0</td>\n",
       "    </tr>\n",
       "    <tr>\n",
       "      <th>Pclass</th>\n",
       "      <td>0</td>\n",
       "      <td>0.0</td>\n",
       "    </tr>\n",
       "  </tbody>\n",
       "</table>\n",
       "</div>"
      ],
      "text/plain": [
       "             Total     %\n",
       "Cabin          327  78.2\n",
       "Age             86  20.6\n",
       "Fare             1   0.2\n",
       "PassengerId      0   0.0\n",
       "Pclass           0   0.0"
      ]
     },
     "execution_count": 9,
     "metadata": {},
     "output_type": "execute_result"
    }
   ],
   "source": [
    "total = df_test.isnull().sum().sort_values(ascending=False)\n",
    "percent = df_test.isnull().sum() / df_test.isnull().count() * 100\n",
    "percent = (round(percent, 1)).sort_values(ascending=False)\n",
    "\n",
    "missing_data = pd.concat([total, percent], keys=['Total', '%'], axis=1)\n",
    "missing_data.head(5)"
   ]
  },
  {
   "cell_type": "markdown",
   "id": "5d9fbfed-7d7d-4b58-9877-49b52ca6b7b9",
   "metadata": {},
   "source": [
    "### Describe train dataset\n",
    "\n",
    "_here we can find some contradition in the data like noisiness and type of noise (stochastic, outliers, rounding errors, etc.)_"
   ]
  },
  {
   "cell_type": "code",
   "execution_count": 10,
   "id": "5b2d9867-2c65-424f-a0b2-6de4c71eaafb",
   "metadata": {},
   "outputs": [
    {
     "data": {
      "text/html": [
       "<div>\n",
       "<style scoped>\n",
       "    .dataframe tbody tr th:only-of-type {\n",
       "        vertical-align: middle;\n",
       "    }\n",
       "\n",
       "    .dataframe tbody tr th {\n",
       "        vertical-align: top;\n",
       "    }\n",
       "\n",
       "    .dataframe thead th {\n",
       "        text-align: right;\n",
       "    }\n",
       "</style>\n",
       "<table border=\"1\" class=\"dataframe\">\n",
       "  <thead>\n",
       "    <tr style=\"text-align: right;\">\n",
       "      <th></th>\n",
       "      <th>PassengerId</th>\n",
       "      <th>Survived</th>\n",
       "      <th>Pclass</th>\n",
       "      <th>Age</th>\n",
       "      <th>SibSp</th>\n",
       "      <th>Parch</th>\n",
       "      <th>Fare</th>\n",
       "    </tr>\n",
       "  </thead>\n",
       "  <tbody>\n",
       "    <tr>\n",
       "      <th>count</th>\n",
       "      <td>891.000000</td>\n",
       "      <td>891.000000</td>\n",
       "      <td>891.000000</td>\n",
       "      <td>714.000000</td>\n",
       "      <td>891.000000</td>\n",
       "      <td>891.000000</td>\n",
       "      <td>891.000000</td>\n",
       "    </tr>\n",
       "    <tr>\n",
       "      <th>mean</th>\n",
       "      <td>446.000000</td>\n",
       "      <td>0.383838</td>\n",
       "      <td>2.308642</td>\n",
       "      <td>29.699118</td>\n",
       "      <td>0.523008</td>\n",
       "      <td>0.381594</td>\n",
       "      <td>32.204208</td>\n",
       "    </tr>\n",
       "    <tr>\n",
       "      <th>std</th>\n",
       "      <td>257.353842</td>\n",
       "      <td>0.486592</td>\n",
       "      <td>0.836071</td>\n",
       "      <td>14.526497</td>\n",
       "      <td>1.102743</td>\n",
       "      <td>0.806057</td>\n",
       "      <td>49.693429</td>\n",
       "    </tr>\n",
       "    <tr>\n",
       "      <th>min</th>\n",
       "      <td>1.000000</td>\n",
       "      <td>0.000000</td>\n",
       "      <td>1.000000</td>\n",
       "      <td>0.420000</td>\n",
       "      <td>0.000000</td>\n",
       "      <td>0.000000</td>\n",
       "      <td>0.000000</td>\n",
       "    </tr>\n",
       "    <tr>\n",
       "      <th>25%</th>\n",
       "      <td>223.500000</td>\n",
       "      <td>0.000000</td>\n",
       "      <td>2.000000</td>\n",
       "      <td>20.125000</td>\n",
       "      <td>0.000000</td>\n",
       "      <td>0.000000</td>\n",
       "      <td>7.910400</td>\n",
       "    </tr>\n",
       "    <tr>\n",
       "      <th>50%</th>\n",
       "      <td>446.000000</td>\n",
       "      <td>0.000000</td>\n",
       "      <td>3.000000</td>\n",
       "      <td>28.000000</td>\n",
       "      <td>0.000000</td>\n",
       "      <td>0.000000</td>\n",
       "      <td>14.454200</td>\n",
       "    </tr>\n",
       "    <tr>\n",
       "      <th>75%</th>\n",
       "      <td>668.500000</td>\n",
       "      <td>1.000000</td>\n",
       "      <td>3.000000</td>\n",
       "      <td>38.000000</td>\n",
       "      <td>1.000000</td>\n",
       "      <td>0.000000</td>\n",
       "      <td>31.000000</td>\n",
       "    </tr>\n",
       "    <tr>\n",
       "      <th>max</th>\n",
       "      <td>891.000000</td>\n",
       "      <td>1.000000</td>\n",
       "      <td>3.000000</td>\n",
       "      <td>80.000000</td>\n",
       "      <td>8.000000</td>\n",
       "      <td>6.000000</td>\n",
       "      <td>512.329200</td>\n",
       "    </tr>\n",
       "  </tbody>\n",
       "</table>\n",
       "</div>"
      ],
      "text/plain": [
       "       PassengerId    Survived      Pclass         Age       SibSp  \\\n",
       "count   891.000000  891.000000  891.000000  714.000000  891.000000   \n",
       "mean    446.000000    0.383838    2.308642   29.699118    0.523008   \n",
       "std     257.353842    0.486592    0.836071   14.526497    1.102743   \n",
       "min       1.000000    0.000000    1.000000    0.420000    0.000000   \n",
       "25%     223.500000    0.000000    2.000000   20.125000    0.000000   \n",
       "50%     446.000000    0.000000    3.000000   28.000000    0.000000   \n",
       "75%     668.500000    1.000000    3.000000   38.000000    1.000000   \n",
       "max     891.000000    1.000000    3.000000   80.000000    8.000000   \n",
       "\n",
       "            Parch        Fare  \n",
       "count  891.000000  891.000000  \n",
       "mean     0.381594   32.204208  \n",
       "std      0.806057   49.693429  \n",
       "min      0.000000    0.000000  \n",
       "25%      0.000000    7.910400  \n",
       "50%      0.000000   14.454200  \n",
       "75%      0.000000   31.000000  \n",
       "max      6.000000  512.329200  "
      ]
     },
     "execution_count": 10,
     "metadata": {},
     "output_type": "execute_result"
    }
   ],
   "source": [
    "df_train.describe()"
   ]
  },
  {
   "cell_type": "code",
   "execution_count": 11,
   "id": "583d6403-8792-4e59-8203-52fbe6a14b7f",
   "metadata": {},
   "outputs": [
    {
     "data": {
      "text/html": [
       "<div>\n",
       "<style scoped>\n",
       "    .dataframe tbody tr th:only-of-type {\n",
       "        vertical-align: middle;\n",
       "    }\n",
       "\n",
       "    .dataframe tbody tr th {\n",
       "        vertical-align: top;\n",
       "    }\n",
       "\n",
       "    .dataframe thead th {\n",
       "        text-align: right;\n",
       "    }\n",
       "</style>\n",
       "<table border=\"1\" class=\"dataframe\">\n",
       "  <thead>\n",
       "    <tr style=\"text-align: right;\">\n",
       "      <th></th>\n",
       "      <th>PassengerId</th>\n",
       "      <th>Pclass</th>\n",
       "      <th>Age</th>\n",
       "      <th>SibSp</th>\n",
       "      <th>Parch</th>\n",
       "      <th>Fare</th>\n",
       "    </tr>\n",
       "  </thead>\n",
       "  <tbody>\n",
       "    <tr>\n",
       "      <th>count</th>\n",
       "      <td>418.000000</td>\n",
       "      <td>418.000000</td>\n",
       "      <td>332.000000</td>\n",
       "      <td>418.000000</td>\n",
       "      <td>418.000000</td>\n",
       "      <td>417.000000</td>\n",
       "    </tr>\n",
       "    <tr>\n",
       "      <th>mean</th>\n",
       "      <td>1100.500000</td>\n",
       "      <td>2.265550</td>\n",
       "      <td>30.272590</td>\n",
       "      <td>0.447368</td>\n",
       "      <td>0.392344</td>\n",
       "      <td>35.627188</td>\n",
       "    </tr>\n",
       "    <tr>\n",
       "      <th>std</th>\n",
       "      <td>120.810458</td>\n",
       "      <td>0.841838</td>\n",
       "      <td>14.181209</td>\n",
       "      <td>0.896760</td>\n",
       "      <td>0.981429</td>\n",
       "      <td>55.907576</td>\n",
       "    </tr>\n",
       "    <tr>\n",
       "      <th>min</th>\n",
       "      <td>892.000000</td>\n",
       "      <td>1.000000</td>\n",
       "      <td>0.170000</td>\n",
       "      <td>0.000000</td>\n",
       "      <td>0.000000</td>\n",
       "      <td>0.000000</td>\n",
       "    </tr>\n",
       "    <tr>\n",
       "      <th>25%</th>\n",
       "      <td>996.250000</td>\n",
       "      <td>1.000000</td>\n",
       "      <td>21.000000</td>\n",
       "      <td>0.000000</td>\n",
       "      <td>0.000000</td>\n",
       "      <td>7.895800</td>\n",
       "    </tr>\n",
       "    <tr>\n",
       "      <th>50%</th>\n",
       "      <td>1100.500000</td>\n",
       "      <td>3.000000</td>\n",
       "      <td>27.000000</td>\n",
       "      <td>0.000000</td>\n",
       "      <td>0.000000</td>\n",
       "      <td>14.454200</td>\n",
       "    </tr>\n",
       "    <tr>\n",
       "      <th>75%</th>\n",
       "      <td>1204.750000</td>\n",
       "      <td>3.000000</td>\n",
       "      <td>39.000000</td>\n",
       "      <td>1.000000</td>\n",
       "      <td>0.000000</td>\n",
       "      <td>31.500000</td>\n",
       "    </tr>\n",
       "    <tr>\n",
       "      <th>max</th>\n",
       "      <td>1309.000000</td>\n",
       "      <td>3.000000</td>\n",
       "      <td>76.000000</td>\n",
       "      <td>8.000000</td>\n",
       "      <td>9.000000</td>\n",
       "      <td>512.329200</td>\n",
       "    </tr>\n",
       "  </tbody>\n",
       "</table>\n",
       "</div>"
      ],
      "text/plain": [
       "       PassengerId      Pclass         Age       SibSp       Parch        Fare\n",
       "count   418.000000  418.000000  332.000000  418.000000  418.000000  417.000000\n",
       "mean   1100.500000    2.265550   30.272590    0.447368    0.392344   35.627188\n",
       "std     120.810458    0.841838   14.181209    0.896760    0.981429   55.907576\n",
       "min     892.000000    1.000000    0.170000    0.000000    0.000000    0.000000\n",
       "25%     996.250000    1.000000   21.000000    0.000000    0.000000    7.895800\n",
       "50%    1100.500000    3.000000   27.000000    0.000000    0.000000   14.454200\n",
       "75%    1204.750000    3.000000   39.000000    1.000000    0.000000   31.500000\n",
       "max    1309.000000    3.000000   76.000000    8.000000    9.000000  512.329200"
      ]
     },
     "execution_count": 11,
     "metadata": {},
     "output_type": "execute_result"
    }
   ],
   "source": [
    "df_test.describe()"
   ]
  },
  {
   "cell_type": "markdown",
   "id": "f2357c44-9ae3-4225-831a-d51b6763ab46",
   "metadata": {},
   "source": [
    "### Understanding \"Sex\" Feature"
   ]
  },
  {
   "cell_type": "markdown",
   "id": "11de7f4f-0d5e-41be-8344-3b517f46c111",
   "metadata": {},
   "source": [
    "__Total between women and men__"
   ]
  },
  {
   "cell_type": "code",
   "execution_count": 12,
   "id": "d40c9996-1828-4d01-b01f-1689f56d7cfb",
   "metadata": {},
   "outputs": [
    {
     "data": {
      "text/html": [
       "<div>\n",
       "<style scoped>\n",
       "    .dataframe tbody tr th:only-of-type {\n",
       "        vertical-align: middle;\n",
       "    }\n",
       "\n",
       "    .dataframe tbody tr th {\n",
       "        vertical-align: top;\n",
       "    }\n",
       "\n",
       "    .dataframe thead th {\n",
       "        text-align: right;\n",
       "    }\n",
       "</style>\n",
       "<table border=\"1\" class=\"dataframe\">\n",
       "  <thead>\n",
       "    <tr style=\"text-align: right;\">\n",
       "      <th></th>\n",
       "      <th>Sex</th>\n",
       "      <th>Total</th>\n",
       "    </tr>\n",
       "  </thead>\n",
       "  <tbody>\n",
       "    <tr>\n",
       "      <th>0</th>\n",
       "      <td>female</td>\n",
       "      <td>314</td>\n",
       "    </tr>\n",
       "    <tr>\n",
       "      <th>1</th>\n",
       "      <td>male</td>\n",
       "      <td>577</td>\n",
       "    </tr>\n",
       "  </tbody>\n",
       "</table>\n",
       "</div>"
      ],
      "text/plain": [
       "      Sex  Total\n",
       "0  female    314\n",
       "1    male    577"
      ]
     },
     "execution_count": 12,
     "metadata": {},
     "output_type": "execute_result"
    }
   ],
   "source": [
    "df_train.groupby([\"Sex\"]).size().reset_index(name='Total')"
   ]
  },
  {
   "cell_type": "code",
   "execution_count": 13,
   "id": "7386e47b-e974-4908-ab44-b2df8ba2b14e",
   "metadata": {},
   "outputs": [
    {
     "data": {
      "text/html": [
       "<div>\n",
       "<style scoped>\n",
       "    .dataframe tbody tr th:only-of-type {\n",
       "        vertical-align: middle;\n",
       "    }\n",
       "\n",
       "    .dataframe tbody tr th {\n",
       "        vertical-align: top;\n",
       "    }\n",
       "\n",
       "    .dataframe thead th {\n",
       "        text-align: right;\n",
       "    }\n",
       "</style>\n",
       "<table border=\"1\" class=\"dataframe\">\n",
       "  <thead>\n",
       "    <tr style=\"text-align: right;\">\n",
       "      <th></th>\n",
       "      <th>Sex</th>\n",
       "      <th>Total</th>\n",
       "    </tr>\n",
       "  </thead>\n",
       "  <tbody>\n",
       "    <tr>\n",
       "      <th>0</th>\n",
       "      <td>female</td>\n",
       "      <td>152</td>\n",
       "    </tr>\n",
       "    <tr>\n",
       "      <th>1</th>\n",
       "      <td>male</td>\n",
       "      <td>266</td>\n",
       "    </tr>\n",
       "  </tbody>\n",
       "</table>\n",
       "</div>"
      ],
      "text/plain": [
       "      Sex  Total\n",
       "0  female    152\n",
       "1    male    266"
      ]
     },
     "execution_count": 13,
     "metadata": {},
     "output_type": "execute_result"
    }
   ],
   "source": [
    "df_test.groupby([\"Sex\"]).size().reset_index(name='Total')"
   ]
  },
  {
   "cell_type": "markdown",
   "id": "8f741b19-803d-46b7-a300-e63830ef9a8e",
   "metadata": {},
   "source": [
    "__Survival rate by Sex and Age__"
   ]
  },
  {
   "cell_type": "code",
   "execution_count": 14,
   "id": "5e98abed-12ee-4680-85c7-b3b243673b8c",
   "metadata": {},
   "outputs": [
    {
     "data": {
      "image/png": "[encoded data removed]",
      "text/plain": [
       "<Figure size 1080x360 with 2 Axes>"
      ]
     },
     "metadata": {
      "needs_background": "light"
     },
     "output_type": "display_data"
    }
   ],
   "source": [
    "fig, axes = plt.subplots(nrows=1, ncols=2, figsize=(15, 5))\n",
    "\n",
    "females = df_train[df_train[\"Sex\"] == \"female\"]\n",
    "males = df_train[df_train[\"Sex\"] == \"male\"]\n",
    "\n",
    "ax = sns.histplot(data=females, x=\"Age\", hue=\"Survived\", bins=20, ax=axes[0])\n",
    "ax.legend(loc='upper right', labels=[\"Survived\", \"Not survived\"])\n",
    "ax.set_title(\"Female\")\n",
    "\n",
    "ax = sns.histplot(data=males, x=\"Age\", hue=\"Survived\", bins=20, ax=axes[1])\n",
    "ax.legend(loc='upper right', labels=[\"Survived\", \"Not survived\"])\n",
    "_ = ax.set_title(\"Male\")"
   ]
  },
  {
   "cell_type": "markdown",
   "id": "fefca3d4-8438-4f5a-b138-5530b1112fe2",
   "metadata": {},
   "source": [
    "__Survival rate by Sex and Class__"
   ]
  },
  {
   "cell_type": "code",
   "execution_count": 15,
   "id": "52508bd9-073b-4284-b6fd-1aca4b01c8e7",
   "metadata": {},
   "outputs": [],
   "source": [
    "df_total_sex_pclass = df_train.groupby([\"Sex\", \"Pclass\"]).size().reset_index(name='Total')\n",
    "df_non_survivor_sex_pclass = df_train[df_train[\"Survived\"] == 0].groupby([\"Sex\", \"Pclass\"]).size().reset_index(name='Total')"
   ]
  },
  {
   "cell_type": "code",
   "execution_count": 16,
   "id": "e993b0a2-dbcd-49e3-9f57-30106006bd59",
   "metadata": {},
   "outputs": [
    {
     "data": {
      "image/png": "[encoded data removed]",
      "text/plain": [
       "<Figure size 504x432 with 1 Axes>"
      ]
     },
     "metadata": {
      "needs_background": "light"
     },
     "output_type": "display_data"
    }
   ],
   "source": [
    "classes = df_total_sex_pclass[\"Pclass\"].unique()\n",
    "\n",
    "total_males = df_total_sex_pclass[df_total_sex_pclass[\"Sex\"] == \"male\"][\"Total\"].values\n",
    "total_females = df_total_sex_pclass[df_total_sex_pclass[\"Sex\"] == \"female\"][\"Total\"].values\n",
    "non_survivor_males = df_non_survivor_sex_pclass[df_non_survivor_sex_pclass.Sex == \"male\"][\"Total\"].values\n",
    "non_survivor_females = df_non_survivor_sex_pclass[df_non_survivor_sex_pclass.Sex == \"female\"][\"Total\"].values\n",
    "\n",
    "fig, ax = plt.subplots(figsize=(7, 6))\n",
    "\n",
    "w_bar = 0.35\n",
    "lb_loc = np.arange(len(classes))\n",
    "colors = [\"#adcbe3\", \"#d89a9e\", \"#0f4c5c\", \"#640d14\"]\n",
    "\n",
    "bar_total_males = ax.bar(lb_loc - w_bar/2, total_males, w_bar, label=\"Total of Males\", color=colors[0])\n",
    "bar_total_females = ax.bar(lb_loc + w_bar/2, total_females, w_bar, label=\"Total of Females\", color=colors[1])\n",
    "bar_non_survivor_males  = ax.bar(lb_loc - w_bar/2, non_survivor_males, w_bar, label=\"Non-survivor Males\", color=colors[2])\n",
    "bar_non_survivor_females = ax.bar(lb_loc + w_bar/2, non_survivor_females, w_bar, label=\"Non-survivor Females\", color=colors[3])\n",
    "\n",
    "ax.bar_label(bar_total_males)\n",
    "ax.bar_label(bar_total_females)\n",
    "ax.bar_label(bar_non_survivor_males)\n",
    "ax.bar_label(bar_non_survivor_females)\n",
    "\n",
    "#Add some text for labels, title and custom x-axis tick labels, etc.\n",
    "ax.legend()\n",
    "ax.set_yticks([])\n",
    "ax.set_xticks(lb_loc, classes)\n",
    "\n",
    "ax.set_xlabel(\"Classes\")\n",
    "ax.set_title(\"Total of passengers and non-survivors by sex and class\")\n",
    "\n",
    "fig.tight_layout()"
   ]
  },
  {
   "cell_type": "markdown",
   "id": "c0450c74-aaeb-43d5-8c79-51e696767a9b",
   "metadata": {},
   "source": [
    "__Survival rate by sex, class and embarked gate__"
   ]
  },
  {
   "cell_type": "code",
   "execution_count": 17,
   "id": "b2b21d70-fcdb-4c5c-9d2e-f0f755b29402",
   "metadata": {},
   "outputs": [
    {
     "data": {
      "text/plain": [
       "<seaborn.axisgrid.FacetGrid at 0x7f33a8db4040>"
      ]
     },
     "execution_count": 17,
     "metadata": {},
     "output_type": "execute_result"
    },
    {
     "data": {
      "image/png": "[encoded data removed]",
      "text/plain": [
       "<Figure size 1204.5x252 with 3 Axes>"
      ]
     },
     "metadata": {
      "needs_background": "light"
     },
     "output_type": "display_data"
    }
   ],
   "source": [
    "sns.catplot(\n",
    "    data = df_train, \n",
    "    x=\"Pclass\",  y=\"Survived\", hue=\"Sex\",  kind=\"point\", col=\"Embarked\", \n",
    "    col_wrap=3, height=3.5, aspect=1.5)"
   ]
  },
  {
   "cell_type": "markdown",
   "id": "d9c94e46-3976-476d-a10c-770ce24714ad",
   "metadata": {},
   "source": [
    "### Understanding \"PCass\" Feature"
   ]
  },
  {
   "cell_type": "markdown",
   "id": "1d0eb6d2-e3f2-4cf1-9565-c731ef53cafe",
   "metadata": {},
   "source": [
    "__Survival rate by class__"
   ]
  },
  {
   "cell_type": "code",
   "execution_count": 18,
   "id": "626908c7-96dd-4240-a467-ce5fe1f9b90a",
   "metadata": {},
   "outputs": [
    {
     "data": {
      "text/plain": [
       "<AxesSubplot:xlabel='Pclass', ylabel='Survived'>"
      ]
     },
     "execution_count": 18,
     "metadata": {},
     "output_type": "execute_result"
    },
    {
     "data": {
      "image/png": "[encoded data removed]",
      "text/plain": [
       "<Figure size 432x288 with 1 Axes>"
      ]
     },
     "metadata": {
      "needs_background": "light"
     },
     "output_type": "display_data"
    }
   ],
   "source": [
    "sns.barplot(data=df_train, x=\"Pclass\", y=\"Survived\")"
   ]
  },
  {
   "cell_type": "markdown",
   "id": "1c8af1ee-dd57-49b6-88cd-04e2678090f7",
   "metadata": {},
   "source": [
    "### Understanding \"SibSp\" and \"Parch\" Feature"
   ]
  },
  {
   "cell_type": "code",
   "execution_count": 39,
   "id": "3038ad7f-6184-4c05-b3c7-840c11fa9ec3",
   "metadata": {},
   "outputs": [],
   "source": [
    "df_train[\"kinship\"] = df_train[\"SibSp\"] + df_train['Parch']"
   ]
  },
  {
   "cell_type": "code",
   "execution_count": 44,
   "id": "c6cf5e6f-77d2-4a02-99de-8c07c68f373a",
   "metadata": {},
   "outputs": [
    {
     "data": {
      "text/plain": [
       "<seaborn.axisgrid.FacetGrid at 0x7f33a8c73100>"
      ]
     },
     "execution_count": 44,
     "metadata": {},
     "output_type": "execute_result"
    },
    {
     "data": {
      "image/png": "[encoded data removed]",
      "text/plain": [
       "<Figure size 1260x360 with 1 Axes>"
      ]
     },
     "metadata": {
      "needs_background": "light"
     },
     "output_type": "display_data"
    }
   ],
   "source": [
    "sns.catplot(data = df_train, x=\"kinship\",  y=\"Survived\", kind=\"point\", aspect=3.0)"
   ]
  },
  {
   "cell_type": "markdown",
   "id": "2ff537fa-2525-4479-9a91-1f2e12c59ed9",
   "metadata": {},
   "source": [
    "### Understanding \"Fare\" Feature"
   ]
  },
  {
   "cell_type": "code",
   "execution_count": 19,
   "id": "09760df9-618a-48a5-a695-837048eaab73",
   "metadata": {},
   "outputs": [
    {
     "data": {
      "image/png": "[encoded data removed]",
      "text/plain": [
       "<Figure size 1440x576 with 3 Axes>"
      ]
     },
     "metadata": {
      "needs_background": "light"
     },
     "output_type": "display_data"
    }
   ],
   "source": [
    "nclass = 3\n",
    "fig, axes = plt.subplots(1, nclass, figsize=(20, 8))\n",
    "\n",
    "for i in range(nclass):\n",
    "    pclass = i + 1\n",
    "    dataframe = df_train[df_train.Pclass == pclass]\n",
    "    dataframe.hist(column=\"Fare\", bins=10, ax=axes[i])\n",
    "    \n",
    "    axes[i].grid(False)\n",
    "    axes[i].set_xlabel('Fare')\n",
    "    axes[i].set_ylabel('Passengers')\n",
    "    axes[i].set_title('{}º Class Tickets Cost'.format(pclass))"
   ]
  },
  {
   "cell_type": "markdown",
   "id": "34306954-68fb-4011-a9eb-7eb1ee33baee",
   "metadata": {},
   "source": [
    "__Shows passengers who paid the most tickets grouped by class__"
   ]
  },
  {
   "cell_type": "code",
   "execution_count": 20,
   "id": "4f8831fb-fc86-4303-9397-6ac9a64de7e9",
   "metadata": {},
   "outputs": [],
   "source": [
    "def lsmx_fare(dataframe, pclass):\n",
    "    \"\"\"\n",
    "    List all passengers who have  paid the maximum ticket price per class.\n",
    "    \"\"\"\n",
    "    dfclass = dataframe[dataframe.Pclass == pclass]\n",
    "    maxfare = dfclass.Fare.max()\n",
    "    return dfclass[dfclass.Fare == maxfare]"
   ]
  },
  {
   "cell_type": "code",
   "execution_count": 21,
   "id": "e3bf2b30-6df4-4620-9a5a-9eb7033a4d4c",
   "metadata": {},
   "outputs": [
    {
     "data": {
      "text/html": [
       "<div>\n",
       "<style scoped>\n",
       "    .dataframe tbody tr th:only-of-type {\n",
       "        vertical-align: middle;\n",
       "    }\n",
       "\n",
       "    .dataframe tbody tr th {\n",
       "        vertical-align: top;\n",
       "    }\n",
       "\n",
       "    .dataframe thead th {\n",
       "        text-align: right;\n",
       "    }\n",
       "</style>\n",
       "<table border=\"1\" class=\"dataframe\">\n",
       "  <thead>\n",
       "    <tr style=\"text-align: right;\">\n",
       "      <th></th>\n",
       "      <th>PassengerId</th>\n",
       "      <th>Survived</th>\n",
       "      <th>Pclass</th>\n",
       "      <th>Name</th>\n",
       "      <th>Sex</th>\n",
       "      <th>Age</th>\n",
       "      <th>SibSp</th>\n",
       "      <th>Parch</th>\n",
       "      <th>Ticket</th>\n",
       "      <th>Fare</th>\n",
       "      <th>Cabin</th>\n",
       "      <th>Embarked</th>\n",
       "    </tr>\n",
       "  </thead>\n",
       "  <tbody>\n",
       "    <tr>\n",
       "      <th>258</th>\n",
       "      <td>259</td>\n",
       "      <td>1</td>\n",
       "      <td>1</td>\n",
       "      <td>Ward, Miss. Anna</td>\n",
       "      <td>female</td>\n",
       "      <td>35.0</td>\n",
       "      <td>0</td>\n",
       "      <td>0</td>\n",
       "      <td>PC 17755</td>\n",
       "      <td>512.3292</td>\n",
       "      <td>NaN</td>\n",
       "      <td>C</td>\n",
       "    </tr>\n",
       "    <tr>\n",
       "      <th>679</th>\n",
       "      <td>680</td>\n",
       "      <td>1</td>\n",
       "      <td>1</td>\n",
       "      <td>Cardeza, Mr. Thomas Drake Martinez</td>\n",
       "      <td>male</td>\n",
       "      <td>36.0</td>\n",
       "      <td>0</td>\n",
       "      <td>1</td>\n",
       "      <td>PC 17755</td>\n",
       "      <td>512.3292</td>\n",
       "      <td>B51 B53 B55</td>\n",
       "      <td>C</td>\n",
       "    </tr>\n",
       "    <tr>\n",
       "      <th>737</th>\n",
       "      <td>738</td>\n",
       "      <td>1</td>\n",
       "      <td>1</td>\n",
       "      <td>Lesurer, Mr. Gustave J</td>\n",
       "      <td>male</td>\n",
       "      <td>35.0</td>\n",
       "      <td>0</td>\n",
       "      <td>0</td>\n",
       "      <td>PC 17755</td>\n",
       "      <td>512.3292</td>\n",
       "      <td>B101</td>\n",
       "      <td>C</td>\n",
       "    </tr>\n",
       "    <tr>\n",
       "      <th>72</th>\n",
       "      <td>73</td>\n",
       "      <td>0</td>\n",
       "      <td>2</td>\n",
       "      <td>Hood, Mr. Ambrose Jr</td>\n",
       "      <td>male</td>\n",
       "      <td>21.0</td>\n",
       "      <td>0</td>\n",
       "      <td>0</td>\n",
       "      <td>S.O.C. 14879</td>\n",
       "      <td>73.5000</td>\n",
       "      <td>NaN</td>\n",
       "      <td>S</td>\n",
       "    </tr>\n",
       "    <tr>\n",
       "      <th>120</th>\n",
       "      <td>121</td>\n",
       "      <td>0</td>\n",
       "      <td>2</td>\n",
       "      <td>Hickman, Mr. Stanley George</td>\n",
       "      <td>male</td>\n",
       "      <td>21.0</td>\n",
       "      <td>2</td>\n",
       "      <td>0</td>\n",
       "      <td>S.O.C. 14879</td>\n",
       "      <td>73.5000</td>\n",
       "      <td>NaN</td>\n",
       "      <td>S</td>\n",
       "    </tr>\n",
       "    <tr>\n",
       "      <th>385</th>\n",
       "      <td>386</td>\n",
       "      <td>0</td>\n",
       "      <td>2</td>\n",
       "      <td>Davies, Mr. Charles Henry</td>\n",
       "      <td>male</td>\n",
       "      <td>18.0</td>\n",
       "      <td>0</td>\n",
       "      <td>0</td>\n",
       "      <td>S.O.C. 14879</td>\n",
       "      <td>73.5000</td>\n",
       "      <td>NaN</td>\n",
       "      <td>S</td>\n",
       "    </tr>\n",
       "    <tr>\n",
       "      <th>655</th>\n",
       "      <td>656</td>\n",
       "      <td>0</td>\n",
       "      <td>2</td>\n",
       "      <td>Hickman, Mr. Leonard Mark</td>\n",
       "      <td>male</td>\n",
       "      <td>24.0</td>\n",
       "      <td>2</td>\n",
       "      <td>0</td>\n",
       "      <td>S.O.C. 14879</td>\n",
       "      <td>73.5000</td>\n",
       "      <td>NaN</td>\n",
       "      <td>S</td>\n",
       "    </tr>\n",
       "    <tr>\n",
       "      <th>665</th>\n",
       "      <td>666</td>\n",
       "      <td>0</td>\n",
       "      <td>2</td>\n",
       "      <td>Hickman, Mr. Lewis</td>\n",
       "      <td>male</td>\n",
       "      <td>32.0</td>\n",
       "      <td>2</td>\n",
       "      <td>0</td>\n",
       "      <td>S.O.C. 14879</td>\n",
       "      <td>73.5000</td>\n",
       "      <td>NaN</td>\n",
       "      <td>S</td>\n",
       "    </tr>\n",
       "    <tr>\n",
       "      <th>159</th>\n",
       "      <td>160</td>\n",
       "      <td>0</td>\n",
       "      <td>3</td>\n",
       "      <td>Sage, Master. Thomas Henry</td>\n",
       "      <td>male</td>\n",
       "      <td>NaN</td>\n",
       "      <td>8</td>\n",
       "      <td>2</td>\n",
       "      <td>CA. 2343</td>\n",
       "      <td>69.5500</td>\n",
       "      <td>NaN</td>\n",
       "      <td>S</td>\n",
       "    </tr>\n",
       "    <tr>\n",
       "      <th>180</th>\n",
       "      <td>181</td>\n",
       "      <td>0</td>\n",
       "      <td>3</td>\n",
       "      <td>Sage, Miss. Constance Gladys</td>\n",
       "      <td>female</td>\n",
       "      <td>NaN</td>\n",
       "      <td>8</td>\n",
       "      <td>2</td>\n",
       "      <td>CA. 2343</td>\n",
       "      <td>69.5500</td>\n",
       "      <td>NaN</td>\n",
       "      <td>S</td>\n",
       "    </tr>\n",
       "    <tr>\n",
       "      <th>201</th>\n",
       "      <td>202</td>\n",
       "      <td>0</td>\n",
       "      <td>3</td>\n",
       "      <td>Sage, Mr. Frederick</td>\n",
       "      <td>male</td>\n",
       "      <td>NaN</td>\n",
       "      <td>8</td>\n",
       "      <td>2</td>\n",
       "      <td>CA. 2343</td>\n",
       "      <td>69.5500</td>\n",
       "      <td>NaN</td>\n",
       "      <td>S</td>\n",
       "    </tr>\n",
       "    <tr>\n",
       "      <th>324</th>\n",
       "      <td>325</td>\n",
       "      <td>0</td>\n",
       "      <td>3</td>\n",
       "      <td>Sage, Mr. George John Jr</td>\n",
       "      <td>male</td>\n",
       "      <td>NaN</td>\n",
       "      <td>8</td>\n",
       "      <td>2</td>\n",
       "      <td>CA. 2343</td>\n",
       "      <td>69.5500</td>\n",
       "      <td>NaN</td>\n",
       "      <td>S</td>\n",
       "    </tr>\n",
       "    <tr>\n",
       "      <th>792</th>\n",
       "      <td>793</td>\n",
       "      <td>0</td>\n",
       "      <td>3</td>\n",
       "      <td>Sage, Miss. Stella Anna</td>\n",
       "      <td>female</td>\n",
       "      <td>NaN</td>\n",
       "      <td>8</td>\n",
       "      <td>2</td>\n",
       "      <td>CA. 2343</td>\n",
       "      <td>69.5500</td>\n",
       "      <td>NaN</td>\n",
       "      <td>S</td>\n",
       "    </tr>\n",
       "    <tr>\n",
       "      <th>846</th>\n",
       "      <td>847</td>\n",
       "      <td>0</td>\n",
       "      <td>3</td>\n",
       "      <td>Sage, Mr. Douglas Bullen</td>\n",
       "      <td>male</td>\n",
       "      <td>NaN</td>\n",
       "      <td>8</td>\n",
       "      <td>2</td>\n",
       "      <td>CA. 2343</td>\n",
       "      <td>69.5500</td>\n",
       "      <td>NaN</td>\n",
       "      <td>S</td>\n",
       "    </tr>\n",
       "    <tr>\n",
       "      <th>863</th>\n",
       "      <td>864</td>\n",
       "      <td>0</td>\n",
       "      <td>3</td>\n",
       "      <td>Sage, Miss. Dorothy Edith \"Dolly\"</td>\n",
       "      <td>female</td>\n",
       "      <td>NaN</td>\n",
       "      <td>8</td>\n",
       "      <td>2</td>\n",
       "      <td>CA. 2343</td>\n",
       "      <td>69.5500</td>\n",
       "      <td>NaN</td>\n",
       "      <td>S</td>\n",
       "    </tr>\n",
       "  </tbody>\n",
       "</table>\n",
       "</div>"
      ],
      "text/plain": [
       "     PassengerId  Survived  Pclass                                Name  \\\n",
       "258          259         1       1                    Ward, Miss. Anna   \n",
       "679          680         1       1  Cardeza, Mr. Thomas Drake Martinez   \n",
       "737          738         1       1              Lesurer, Mr. Gustave J   \n",
       "72            73         0       2                Hood, Mr. Ambrose Jr   \n",
       "120          121         0       2         Hickman, Mr. Stanley George   \n",
       "385          386         0       2           Davies, Mr. Charles Henry   \n",
       "655          656         0       2           Hickman, Mr. Leonard Mark   \n",
       "665          666         0       2                  Hickman, Mr. Lewis   \n",
       "159          160         0       3          Sage, Master. Thomas Henry   \n",
       "180          181         0       3        Sage, Miss. Constance Gladys   \n",
       "201          202         0       3                 Sage, Mr. Frederick   \n",
       "324          325         0       3            Sage, Mr. George John Jr   \n",
       "792          793         0       3             Sage, Miss. Stella Anna   \n",
       "846          847         0       3            Sage, Mr. Douglas Bullen   \n",
       "863          864         0       3   Sage, Miss. Dorothy Edith \"Dolly\"   \n",
       "\n",
       "        Sex   Age  SibSp  Parch        Ticket      Fare        Cabin Embarked  \n",
       "258  female  35.0      0      0      PC 17755  512.3292          NaN        C  \n",
       "679    male  36.0      0      1      PC 17755  512.3292  B51 B53 B55        C  \n",
       "737    male  35.0      0      0      PC 17755  512.3292         B101        C  \n",
       "72     male  21.0      0      0  S.O.C. 14879   73.5000          NaN        S  \n",
       "120    male  21.0      2      0  S.O.C. 14879   73.5000          NaN        S  \n",
       "385    male  18.0      0      0  S.O.C. 14879   73.5000          NaN        S  \n",
       "655    male  24.0      2      0  S.O.C. 14879   73.5000          NaN        S  \n",
       "665    male  32.0      2      0  S.O.C. 14879   73.5000          NaN        S  \n",
       "159    male   NaN      8      2      CA. 2343   69.5500          NaN        S  \n",
       "180  female   NaN      8      2      CA. 2343   69.5500          NaN        S  \n",
       "201    male   NaN      8      2      CA. 2343   69.5500          NaN        S  \n",
       "324    male   NaN      8      2      CA. 2343   69.5500          NaN        S  \n",
       "792  female   NaN      8      2      CA. 2343   69.5500          NaN        S  \n",
       "846    male   NaN      8      2      CA. 2343   69.5500          NaN        S  \n",
       "863  female   NaN      8      2      CA. 2343   69.5500          NaN        S  "
      ]
     },
     "execution_count": 21,
     "metadata": {},
     "output_type": "execute_result"
    }
   ],
   "source": [
    "pd.concat([\n",
    "    lsmx_fare(df_train, 1),\n",
    "    lsmx_fare(df_train, 2),\n",
    "    lsmx_fare(df_train, 3)\n",
    "])"
   ]
  },
  {
   "cell_type": "code",
   "execution_count": 22,
   "id": "0883bb57-3057-4c00-9b57-7113b51260d5",
   "metadata": {},
   "outputs": [
    {
     "data": {
      "text/html": [
       "<div>\n",
       "<style scoped>\n",
       "    .dataframe tbody tr th:only-of-type {\n",
       "        vertical-align: middle;\n",
       "    }\n",
       "\n",
       "    .dataframe tbody tr th {\n",
       "        vertical-align: top;\n",
       "    }\n",
       "\n",
       "    .dataframe thead th {\n",
       "        text-align: right;\n",
       "    }\n",
       "</style>\n",
       "<table border=\"1\" class=\"dataframe\">\n",
       "  <thead>\n",
       "    <tr style=\"text-align: right;\">\n",
       "      <th></th>\n",
       "      <th>PassengerId</th>\n",
       "      <th>Pclass</th>\n",
       "      <th>Name</th>\n",
       "      <th>Sex</th>\n",
       "      <th>Age</th>\n",
       "      <th>SibSp</th>\n",
       "      <th>Parch</th>\n",
       "      <th>Ticket</th>\n",
       "      <th>Fare</th>\n",
       "      <th>Cabin</th>\n",
       "      <th>Embarked</th>\n",
       "    </tr>\n",
       "  </thead>\n",
       "  <tbody>\n",
       "    <tr>\n",
       "      <th>343</th>\n",
       "      <td>1235</td>\n",
       "      <td>1</td>\n",
       "      <td>Cardeza, Mrs. James Warburton Martinez (Charlo...</td>\n",
       "      <td>female</td>\n",
       "      <td>58.0</td>\n",
       "      <td>0</td>\n",
       "      <td>1</td>\n",
       "      <td>PC 17755</td>\n",
       "      <td>512.3292</td>\n",
       "      <td>B51 B53 B55</td>\n",
       "      <td>C</td>\n",
       "    </tr>\n",
       "    <tr>\n",
       "      <th>212</th>\n",
       "      <td>1104</td>\n",
       "      <td>2</td>\n",
       "      <td>Deacon, Mr. Percy William</td>\n",
       "      <td>male</td>\n",
       "      <td>17.0</td>\n",
       "      <td>0</td>\n",
       "      <td>0</td>\n",
       "      <td>S.O.C. 14879</td>\n",
       "      <td>73.5000</td>\n",
       "      <td>NaN</td>\n",
       "      <td>S</td>\n",
       "    </tr>\n",
       "    <tr>\n",
       "      <th>352</th>\n",
       "      <td>1244</td>\n",
       "      <td>2</td>\n",
       "      <td>Dibden, Mr. William</td>\n",
       "      <td>male</td>\n",
       "      <td>18.0</td>\n",
       "      <td>0</td>\n",
       "      <td>0</td>\n",
       "      <td>S.O.C. 14879</td>\n",
       "      <td>73.5000</td>\n",
       "      <td>NaN</td>\n",
       "      <td>S</td>\n",
       "    </tr>\n",
       "    <tr>\n",
       "      <th>188</th>\n",
       "      <td>1080</td>\n",
       "      <td>3</td>\n",
       "      <td>Sage, Miss. Ada</td>\n",
       "      <td>female</td>\n",
       "      <td>NaN</td>\n",
       "      <td>8</td>\n",
       "      <td>2</td>\n",
       "      <td>CA. 2343</td>\n",
       "      <td>69.5500</td>\n",
       "      <td>NaN</td>\n",
       "      <td>S</td>\n",
       "    </tr>\n",
       "    <tr>\n",
       "      <th>342</th>\n",
       "      <td>1234</td>\n",
       "      <td>3</td>\n",
       "      <td>Sage, Mr. John George</td>\n",
       "      <td>male</td>\n",
       "      <td>NaN</td>\n",
       "      <td>1</td>\n",
       "      <td>9</td>\n",
       "      <td>CA. 2343</td>\n",
       "      <td>69.5500</td>\n",
       "      <td>NaN</td>\n",
       "      <td>S</td>\n",
       "    </tr>\n",
       "    <tr>\n",
       "      <th>360</th>\n",
       "      <td>1252</td>\n",
       "      <td>3</td>\n",
       "      <td>Sage, Master. William Henry</td>\n",
       "      <td>male</td>\n",
       "      <td>14.5</td>\n",
       "      <td>8</td>\n",
       "      <td>2</td>\n",
       "      <td>CA. 2343</td>\n",
       "      <td>69.5500</td>\n",
       "      <td>NaN</td>\n",
       "      <td>S</td>\n",
       "    </tr>\n",
       "    <tr>\n",
       "      <th>365</th>\n",
       "      <td>1257</td>\n",
       "      <td>3</td>\n",
       "      <td>Sage, Mrs. John (Annie Bullen)</td>\n",
       "      <td>female</td>\n",
       "      <td>NaN</td>\n",
       "      <td>1</td>\n",
       "      <td>9</td>\n",
       "      <td>CA. 2343</td>\n",
       "      <td>69.5500</td>\n",
       "      <td>NaN</td>\n",
       "      <td>S</td>\n",
       "    </tr>\n",
       "  </tbody>\n",
       "</table>\n",
       "</div>"
      ],
      "text/plain": [
       "     PassengerId  Pclass                                               Name  \\\n",
       "343         1235       1  Cardeza, Mrs. James Warburton Martinez (Charlo...   \n",
       "212         1104       2                          Deacon, Mr. Percy William   \n",
       "352         1244       2                                Dibden, Mr. William   \n",
       "188         1080       3                                    Sage, Miss. Ada   \n",
       "342         1234       3                              Sage, Mr. John George   \n",
       "360         1252       3                        Sage, Master. William Henry   \n",
       "365         1257       3                     Sage, Mrs. John (Annie Bullen)   \n",
       "\n",
       "        Sex   Age  SibSp  Parch        Ticket      Fare        Cabin Embarked  \n",
       "343  female  58.0      0      1      PC 17755  512.3292  B51 B53 B55        C  \n",
       "212    male  17.0      0      0  S.O.C. 14879   73.5000          NaN        S  \n",
       "352    male  18.0      0      0  S.O.C. 14879   73.5000          NaN        S  \n",
       "188  female   NaN      8      2      CA. 2343   69.5500          NaN        S  \n",
       "342    male   NaN      1      9      CA. 2343   69.5500          NaN        S  \n",
       "360    male  14.5      8      2      CA. 2343   69.5500          NaN        S  \n",
       "365  female   NaN      1      9      CA. 2343   69.5500          NaN        S  "
      ]
     },
     "execution_count": 22,
     "metadata": {},
     "output_type": "execute_result"
    }
   ],
   "source": [
    "pd.concat([\n",
    "    lsmx_fare(df_test, 1),\n",
    "    lsmx_fare(df_test, 2),\n",
    "    lsmx_fare(df_test, 3)\n",
    "])"
   ]
  },
  {
   "cell_type": "markdown",
   "id": "1957550b-1596-4887-9ac9-ce5c7adeb680",
   "metadata": {},
   "source": [
    "### 4. Prepare the data\n",
    "\n",
    "What are you find here?\n",
    "\n",
    "- _Keep the original dataset intact, Work on copies of it_.\n",
    "- _Write functions for all data transformations you apply_.\n",
    "- _Data cleaning_.\n",
    "- _Feature selection (optional)_.\n",
    "- _Feature engineering, where appropriates_.\n",
    "- _Feature scaling: standardize or normalize features_."
   ]
  },
  {
   "cell_type": "markdown",
   "id": "bbab0ace-6749-4e88-bab7-a278f27c2c4f",
   "metadata": {},
   "source": [
    "**Create copies of dataset**"
   ]
  },
  {
   "cell_type": "code",
   "execution_count": 23,
   "id": "c8c48dd9-424c-4e7b-be27-f4558d352509",
   "metadata": {},
   "outputs": [],
   "source": [
    "df_proc_train = df_train.copy()\n",
    "df_proc_test = df_test.copy()"
   ]
  },
  {
   "cell_type": "code",
   "execution_count": 24,
   "id": "5b1c2ded-f571-4d37-af4a-6519105498b8",
   "metadata": {},
   "outputs": [],
   "source": [
    "data_preparation.add_family_name(df_proc_train)\n",
    "data_preparation.add_family_name(df_proc_test)"
   ]
  },
  {
   "cell_type": "markdown",
   "id": "7f30a32b-3d56-4e0e-998b-6f651eb7ca9a",
   "metadata": {},
   "source": [
    "__Feature selection__"
   ]
  },
  {
   "cell_type": "code",
   "execution_count": 25,
   "id": "115cf123-27d2-4130-8a7e-2a7225b8f545",
   "metadata": {},
   "outputs": [],
   "source": [
    "df_proc_train.drop([\"PassengerId\", \"Name\", \"Cabin\"], axis=1, inplace=True)\n",
    "df_test.drop([\"Name\", \"Cabin\"], axis=1, inplace=True)"
   ]
  },
  {
   "cell_type": "markdown",
   "id": "4ee43b1e-fa0a-4c3e-b102-ff9ec83edb86",
   "metadata": {},
   "source": [
    "**Join the train and test dataframe to do some data preparation**"
   ]
  },
  {
   "cell_type": "code",
   "execution_count": 26,
   "id": "69510078-d3df-420b-a8f1-501f4e50bea3",
   "metadata": {},
   "outputs": [],
   "source": [
    "frames = [df_proc_train.drop(\"Survived\", axis=1), df_proc_test]\n",
    "df_complete = pd.concat(frames)"
   ]
  },
  {
   "cell_type": "markdown",
   "id": "086b428c-607c-4bd1-8b55-2ff64b0c45c9",
   "metadata": {},
   "source": [
    "**Set NaN Age with its mean**\n",
    "\n",
    "_Its consider complete dataframe mean age._"
   ]
  },
  {
   "cell_type": "code",
   "execution_count": 27,
   "id": "eb3205e1-2300-4517-b6b6-1d2a410cc58b",
   "metadata": {},
   "outputs": [
    {
     "name": "stdout",
     "output_type": "stream",
     "text": [
      "Mean age: 29\n"
     ]
    }
   ],
   "source": [
    "age_mean = int(df_complete[\"Age\"].mean())\n",
    "\n",
    "print(\"Mean age:\", age_mean)\n",
    "\n",
    "data_preparation.fill_age(df_proc_train, age_mean) \n",
    "data_preparation.fill_age(df_proc_test, age_mean) "
   ]
  },
  {
   "cell_type": "markdown",
   "id": "a0557a49-b076-4e92-908f-64bb261dd970",
   "metadata": {},
   "source": [
    "__Defines interval that groups passengers in approximate age__"
   ]
  },
  {
   "cell_type": "code",
   "execution_count": 28,
   "id": "780552e0-a983-4fbf-afbf-6d309905d9e3",
   "metadata": {},
   "outputs": [],
   "source": [
    "df_proc_train[\"AgeGroup\"] = data_preparation.get_age_group(df_proc_train)\n",
    "df_proc_test[\"AgeGroup\"] = data_preparation.get_age_group(df_proc_test)"
   ]
  },
  {
   "cell_type": "markdown",
   "id": "be2a7e44-05c4-465a-a09b-6eb622496333",
   "metadata": {},
   "source": [
    "__Change AgeGroup attribute. ADULT=0, CHILD=1, ELDERLY=2, TEENAGER=3__"
   ]
  },
  {
   "cell_type": "code",
   "execution_count": 29,
   "id": "2ab1c2d9-3d10-4f5c-9dcf-4cb3ecfa2035",
   "metadata": {},
   "outputs": [],
   "source": [
    "df_proc_train.AgeGroup = LabelEncoder().fit_transform(df_proc_train.AgeGroup)\n",
    "df_proc_test.AgeGroup = LabelEncoder().fit_transform(df_proc_test.AgeGroup)"
   ]
  },
  {
   "cell_type": "markdown",
   "id": "5c6f6b05-d4c0-400e-8a4e-14fafd14e096",
   "metadata": {},
   "source": [
    "__Change Sex categorical attribute. female=0, male=1__"
   ]
  },
  {
   "cell_type": "code",
   "execution_count": 30,
   "id": "e56a6b9c-8254-4138-9b7d-6306792d9707",
   "metadata": {},
   "outputs": [],
   "source": [
    "df_proc_train.Sex = LabelEncoder().fit_transform(df_proc_train.Sex)\n",
    "df_proc_test.Sex = LabelEncoder().fit_transform(df_proc_test.Sex)"
   ]
  },
  {
   "cell_type": "markdown",
   "id": "4799d16e-8942-4d60-912e-d132473814a7",
   "metadata": {},
   "source": [
    "__Change Embarked categorical attribute. C=0, Q=1, S=2__"
   ]
  },
  {
   "cell_type": "code",
   "execution_count": 31,
   "id": "7c2aa9d0-cd32-4db3-9d8c-03be693e5ab2",
   "metadata": {},
   "outputs": [],
   "source": [
    "df_proc_train.Embarked = LabelEncoder().fit_transform(df_proc_train.Embarked)\n",
    "df_proc_test.Embarked = LabelEncoder().fit_transform(df_proc_test.Embarked)"
   ]
  },
  {
   "cell_type": "markdown",
   "id": "e3f27991-1d14-4158-a8ff-d13fd55f22e4",
   "metadata": {},
   "source": [
    "__Code Ticket Identification to a number representation__"
   ]
  },
  {
   "cell_type": "code",
   "execution_count": 32,
   "id": "23e68edd-cff7-4f01-8320-5ac26829a01f",
   "metadata": {},
   "outputs": [],
   "source": [
    "df_proc_train.Ticket = LabelEncoder().fit_transform(df_proc_train.Ticket)\n",
    "df_proc_test.Ticket = LabelEncoder().fit_transform(df_proc_test.Ticket)"
   ]
  },
  {
   "cell_type": "markdown",
   "id": "532fb8bf-d6c1-4814-8664-0170fbeac863",
   "metadata": {},
   "source": [
    "__Code FamilyName to a number representation__"
   ]
  },
  {
   "cell_type": "code",
   "execution_count": 33,
   "id": "2be43817-7a8e-403a-bdf6-8180d22ff444",
   "metadata": {},
   "outputs": [],
   "source": [
    "df_proc_train.FamilyName = LabelEncoder().fit_transform(df_proc_train.FamilyName)\n",
    "df_proc_test.FamilyName = LabelEncoder().fit_transform(df_proc_test.FamilyName)"
   ]
  },
  {
   "cell_type": "markdown",
   "id": "e421d22d-79b4-4582-9923-63b0490d8779",
   "metadata": {},
   "source": [
    "__Share Fare with everyone related to the Ticket__"
   ]
  },
  {
   "cell_type": "code",
   "execution_count": 34,
   "id": "d72ffcd8-d69d-4bc4-b77e-4333c21c676d",
   "metadata": {},
   "outputs": [],
   "source": [
    "tickets = df_proc_train[\"Ticket\"].unique()\n",
    "for tkt in tickets:\n",
    "    df_ticket = df_proc_train[df_proc_train[\"Ticket\"] == tkt]\n",
    "    \n",
    "    count = df_ticket[\"Ticket\"].size\n",
    "    fare = df_ticket[\"Fare\"]\n",
    "    fare_shared = round(fare / count, 2)\n",
    "    \n",
    "    df_proc_train.loc[df_proc_train[\"Ticket\"] == tkt, \"Fare\"] = fare_shared"
   ]
  },
  {
   "cell_type": "markdown",
   "id": "c567518e-53ba-495b-ad34-7ed2f0d81ca1",
   "metadata": {},
   "source": [
    "__New Train datase after data preparation__"
   ]
  },
  {
   "cell_type": "code",
   "execution_count": 35,
   "id": "c1cc4903-67ca-4260-83c5-ed3bdd9e9d85",
   "metadata": {},
   "outputs": [
    {
     "data": {
      "text/html": [
       "<div>\n",
       "<style scoped>\n",
       "    .dataframe tbody tr th:only-of-type {\n",
       "        vertical-align: middle;\n",
       "    }\n",
       "\n",
       "    .dataframe tbody tr th {\n",
       "        vertical-align: top;\n",
       "    }\n",
       "\n",
       "    .dataframe thead th {\n",
       "        text-align: right;\n",
       "    }\n",
       "</style>\n",
       "<table border=\"1\" class=\"dataframe\">\n",
       "  <thead>\n",
       "    <tr style=\"text-align: right;\">\n",
       "      <th></th>\n",
       "      <th>Survived</th>\n",
       "      <th>Pclass</th>\n",
       "      <th>Sex</th>\n",
       "      <th>Age</th>\n",
       "      <th>SibSp</th>\n",
       "      <th>Parch</th>\n",
       "      <th>Ticket</th>\n",
       "      <th>Fare</th>\n",
       "      <th>Embarked</th>\n",
       "      <th>FamilyName</th>\n",
       "      <th>AgeGroup</th>\n",
       "    </tr>\n",
       "  </thead>\n",
       "  <tbody>\n",
       "    <tr>\n",
       "      <th>0</th>\n",
       "      <td>0</td>\n",
       "      <td>3</td>\n",
       "      <td>1</td>\n",
       "      <td>22.0</td>\n",
       "      <td>1</td>\n",
       "      <td>0</td>\n",
       "      <td>523</td>\n",
       "      <td>7.25</td>\n",
       "      <td>2</td>\n",
       "      <td>73</td>\n",
       "      <td>0</td>\n",
       "    </tr>\n",
       "    <tr>\n",
       "      <th>1</th>\n",
       "      <td>1</td>\n",
       "      <td>1</td>\n",
       "      <td>0</td>\n",
       "      <td>38.0</td>\n",
       "      <td>1</td>\n",
       "      <td>0</td>\n",
       "      <td>596</td>\n",
       "      <td>71.28</td>\n",
       "      <td>0</td>\n",
       "      <td>136</td>\n",
       "      <td>0</td>\n",
       "    </tr>\n",
       "    <tr>\n",
       "      <th>2</th>\n",
       "      <td>1</td>\n",
       "      <td>3</td>\n",
       "      <td>0</td>\n",
       "      <td>26.0</td>\n",
       "      <td>0</td>\n",
       "      <td>0</td>\n",
       "      <td>669</td>\n",
       "      <td>7.92</td>\n",
       "      <td>2</td>\n",
       "      <td>251</td>\n",
       "      <td>0</td>\n",
       "    </tr>\n",
       "    <tr>\n",
       "      <th>3</th>\n",
       "      <td>1</td>\n",
       "      <td>1</td>\n",
       "      <td>0</td>\n",
       "      <td>35.0</td>\n",
       "      <td>1</td>\n",
       "      <td>0</td>\n",
       "      <td>49</td>\n",
       "      <td>26.55</td>\n",
       "      <td>2</td>\n",
       "      <td>198</td>\n",
       "      <td>0</td>\n",
       "    </tr>\n",
       "    <tr>\n",
       "      <th>4</th>\n",
       "      <td>0</td>\n",
       "      <td>3</td>\n",
       "      <td>1</td>\n",
       "      <td>35.0</td>\n",
       "      <td>0</td>\n",
       "      <td>0</td>\n",
       "      <td>472</td>\n",
       "      <td>8.05</td>\n",
       "      <td>2</td>\n",
       "      <td>11</td>\n",
       "      <td>0</td>\n",
       "    </tr>\n",
       "    <tr>\n",
       "      <th>5</th>\n",
       "      <td>0</td>\n",
       "      <td>3</td>\n",
       "      <td>1</td>\n",
       "      <td>29.0</td>\n",
       "      <td>0</td>\n",
       "      <td>0</td>\n",
       "      <td>275</td>\n",
       "      <td>8.46</td>\n",
       "      <td>1</td>\n",
       "      <td>409</td>\n",
       "      <td>0</td>\n",
       "    </tr>\n",
       "    <tr>\n",
       "      <th>6</th>\n",
       "      <td>0</td>\n",
       "      <td>1</td>\n",
       "      <td>1</td>\n",
       "      <td>54.0</td>\n",
       "      <td>0</td>\n",
       "      <td>0</td>\n",
       "      <td>85</td>\n",
       "      <td>51.86</td>\n",
       "      <td>2</td>\n",
       "      <td>378</td>\n",
       "      <td>0</td>\n",
       "    </tr>\n",
       "    <tr>\n",
       "      <th>7</th>\n",
       "      <td>0</td>\n",
       "      <td>3</td>\n",
       "      <td>1</td>\n",
       "      <td>2.0</td>\n",
       "      <td>3</td>\n",
       "      <td>1</td>\n",
       "      <td>395</td>\n",
       "      <td>5.27</td>\n",
       "      <td>2</td>\n",
       "      <td>463</td>\n",
       "      <td>1</td>\n",
       "    </tr>\n",
       "    <tr>\n",
       "      <th>8</th>\n",
       "      <td>1</td>\n",
       "      <td>3</td>\n",
       "      <td>0</td>\n",
       "      <td>27.0</td>\n",
       "      <td>0</td>\n",
       "      <td>2</td>\n",
       "      <td>344</td>\n",
       "      <td>3.71</td>\n",
       "      <td>2</td>\n",
       "      <td>292</td>\n",
       "      <td>0</td>\n",
       "    </tr>\n",
       "    <tr>\n",
       "      <th>9</th>\n",
       "      <td>1</td>\n",
       "      <td>2</td>\n",
       "      <td>0</td>\n",
       "      <td>14.0</td>\n",
       "      <td>1</td>\n",
       "      <td>0</td>\n",
       "      <td>132</td>\n",
       "      <td>15.04</td>\n",
       "      <td>0</td>\n",
       "      <td>426</td>\n",
       "      <td>3</td>\n",
       "    </tr>\n",
       "  </tbody>\n",
       "</table>\n",
       "</div>"
      ],
      "text/plain": [
       "   Survived  Pclass  Sex   Age  SibSp  Parch  Ticket   Fare  Embarked  \\\n",
       "0         0       3    1  22.0      1      0     523   7.25         2   \n",
       "1         1       1    0  38.0      1      0     596  71.28         0   \n",
       "2         1       3    0  26.0      0      0     669   7.92         2   \n",
       "3         1       1    0  35.0      1      0      49  26.55         2   \n",
       "4         0       3    1  35.0      0      0     472   8.05         2   \n",
       "5         0       3    1  29.0      0      0     275   8.46         1   \n",
       "6         0       1    1  54.0      0      0      85  51.86         2   \n",
       "7         0       3    1   2.0      3      1     395   5.27         2   \n",
       "8         1       3    0  27.0      0      2     344   3.71         2   \n",
       "9         1       2    0  14.0      1      0     132  15.04         0   \n",
       "\n",
       "   FamilyName  AgeGroup  \n",
       "0          73         0  \n",
       "1         136         0  \n",
       "2         251         0  \n",
       "3         198         0  \n",
       "4          11         0  \n",
       "5         409         0  \n",
       "6         378         0  \n",
       "7         463         1  \n",
       "8         292         0  \n",
       "9         426         3  "
      ]
     },
     "execution_count": 35,
     "metadata": {},
     "output_type": "execute_result"
    }
   ],
   "source": [
    "df_proc_train.head(10)"
   ]
  },
  {
   "cell_type": "markdown",
   "id": "405a6b45-5e89-4a86-9df4-ed0bd7872d09",
   "metadata": {},
   "source": [
    "__Save Dataframe with promising transformations__"
   ]
  },
  {
   "cell_type": "code",
   "execution_count": 36,
   "id": "0267511c-de7a-4e0b-8363-7b1f721541ac",
   "metadata": {},
   "outputs": [],
   "source": [
    "df_proc_train.to_csv(PATH_PROCESSED_TRAIN_CSV, index=False)\n",
    "df_proc_test.to_csv(PATH_PROCESSED_TEST_CSV, index=False)"
   ]
  }
 ],
 "metadata": {
  "kernelspec": {
   "display_name": "Python 3 (ipykernel)",
   "language": "python",
   "name": "python3"
  },
  "language_info": {
   "codemirror_mode": {
    "name": "ipython",
    "version": 3
   },
   "file_extension": ".py",
   "mimetype": "text/x-python",
   "name": "python",
   "nbconvert_exporter": "python",
   "pygments_lexer": "ipython3",
   "version": "3.9.7"
  }
 },
 "nbformat": 4,
 "nbformat_minor": 5
}
