{
 "cells": [
  {
   "cell_type": "markdown",
   "id": "ae76c253-cd3b-4a82-9b46-1e2312d9e7d7",
   "metadata": {},
   "source": [
    "# Titanic - Machine Learning from Disaster\n",
    "\n",
    "__Predict survival on the Titanic and get familiar with ML basics__\n",
    "\n",
    "_See more: https://www.kaggle.com/c/titanic_\n",
    "\n",
    "__Legends__\n",
    "\n",
    "| Variable   | Definition           | Key\n",
    "|:---        |:---                  |:---\n",
    "| survival   | Survival             | 0 = No, 1 = Yes\n",
    "| pclass     |  Ticket class        |1 = 1st, 2 = 2nd, 3 = 3rd\n",
    "| embarked   | Port of Embarkation  | C = Cherbourg, Q = Queenstown, S = Southampton\n",
    "\n",
    "\n",
    "**Passenger fare**\n",
    "- 1st: between £30 and £870\n",
    "- 2nd: mean £13"
   ]
  },
  {
   "cell_type": "code",
   "execution_count": 1,
   "id": "4a5dd5a0-059f-48f6-a91b-e7a84d67cd68",
   "metadata": {},
   "outputs": [],
   "source": [
    "import numpy as np\n",
    "import pandas as pd"
   ]
  }
 ],
 "metadata": {
  "kernelspec": {
   "display_name": "Python 3 (ipykernel)",
   "language": "python",
   "name": "python3"
  },
  "language_info": {
   "codemirror_mode": {
    "name": "ipython",
    "version": 3
   },
   "file_extension": ".py",
   "mimetype": "text/x-python",
   "name": "python",
   "nbconvert_exporter": "python",
   "pygments_lexer": "ipython3",
   "version": "3.9.7"
  }
 },
 "nbformat": 4,
 "nbformat_minor": 5
}
