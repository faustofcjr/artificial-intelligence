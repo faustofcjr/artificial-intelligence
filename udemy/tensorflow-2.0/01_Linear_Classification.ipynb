{
  "nbformat": 4,
  "nbformat_minor": 0,
  "metadata": {
    "colab": {
      "name": "01. Linear Classification.ipynb",
      "provenance": [],
      "collapsed_sections": [],
      "authorship_tag": "ABX9TyP1SZFOweeiGEMkSoLciWak",
      "include_colab_link": true
    },
    "kernelspec": {
      "name": "python3",
      "display_name": "Python 3"
    },
    "language_info": {
      "name": "python"
    }
  },
  "cells": [
    {
      "cell_type": "markdown",
      "metadata": {
        "id": "view-in-github",
        "colab_type": "text"
      },
      "source": [
        "<a href=\"https://colab.research.google.com/github/faustofcjr/artificial-intelligence/blob/develop/udemy/tensorflow-2.0/01_Linear_Classification.ipynb\" target=\"_parent\"><img src=\"https://colab.research.google.com/assets/colab-badge.svg\" alt=\"Open In Colab\"/></a>"
      ]
    },
    {
      "cell_type": "code",
      "execution_count": 1,
      "metadata": {
        "colab": {
          "base_uri": "https://localhost:8080/"
        },
        "id": "ZBvWBSWZLvdZ",
        "outputId": "ae9548bc-93a7-4dea-832d-429bbeff56bb"
      },
      "outputs": [
        {
          "output_type": "stream",
          "name": "stdout",
          "text": [
            "2.8.2\n"
          ]
        }
      ],
      "source": [
        "import tensorflow as tf\n",
        "from sklearn.datasets import load_breast_cancer\n",
        "from sklearn.model_selection import train_test_split\n",
        "from sklearn.preprocessing import StandardScaler\n",
        "\n",
        "import matplotlib.pyplot as plt\n",
        "import numpy as np\n",
        "\n",
        "print(tf.__version__)"
      ]
    },
    {
      "cell_type": "code",
      "source": [
        "# Load in the data\n",
        "data = load_breast_cancer()"
      ],
      "metadata": {
        "id": "ac3XjjqLMleQ"
      },
      "execution_count": 2,
      "outputs": []
    },
    {
      "cell_type": "code",
      "source": [
        "# Check the type of 'data'\n",
        "print(\"Data type:\", type(data))\n",
        "print(\"Data Keys:\", data.keys())\n",
        "print(\"Data Shape:\", data.data.shape)"
      ],
      "metadata": {
        "colab": {
          "base_uri": "https://localhost:8080/"
        },
        "id": "esxcZxq4Nx9i",
        "outputId": "3e41eeb9-0091-4167-8227-125ad65f10e7"
      },
      "execution_count": 3,
      "outputs": [
        {
          "output_type": "stream",
          "name": "stdout",
          "text": [
            "Data type: <class 'sklearn.utils.Bunch'>\n",
            "Data Keys: dict_keys(['data', 'target', 'frame', 'target_names', 'DESCR', 'feature_names', 'filename', 'data_module'])\n",
            "Data Shape: (569, 30)\n"
          ]
        }
      ]
    },
    {
      "cell_type": "code",
      "source": [
        "# print the targets\n",
        "data.target"
      ],
      "metadata": {
        "colab": {
          "base_uri": "https://localhost:8080/"
        },
        "id": "WVsZ3F98OXI9",
        "outputId": "c2b3f6e6-9d70-4195-ad1a-9bdc1db11319"
      },
      "execution_count": 4,
      "outputs": [
        {
          "output_type": "execute_result",
          "data": {
            "text/plain": [
              "array([0, 0, 0, 0, 0, 0, 0, 0, 0, 0, 0, 0, 0, 0, 0, 0, 0, 0, 0, 1, 1, 1,\n",
              "       0, 0, 0, 0, 0, 0, 0, 0, 0, 0, 0, 0, 0, 0, 0, 1, 0, 0, 0, 0, 0, 0,\n",
              "       0, 0, 1, 0, 1, 1, 1, 1, 1, 0, 0, 1, 0, 0, 1, 1, 1, 1, 0, 1, 0, 0,\n",
              "       1, 1, 1, 1, 0, 1, 0, 0, 1, 0, 1, 0, 0, 1, 1, 1, 0, 0, 1, 0, 0, 0,\n",
              "       1, 1, 1, 0, 1, 1, 0, 0, 1, 1, 1, 0, 0, 1, 1, 1, 1, 0, 1, 1, 0, 1,\n",
              "       1, 1, 1, 1, 1, 1, 1, 0, 0, 0, 1, 0, 0, 1, 1, 1, 0, 0, 1, 0, 1, 0,\n",
              "       0, 1, 0, 0, 1, 1, 0, 1, 1, 0, 1, 1, 1, 1, 0, 1, 1, 1, 1, 1, 1, 1,\n",
              "       1, 1, 0, 1, 1, 1, 1, 0, 0, 1, 0, 1, 1, 0, 0, 1, 1, 0, 0, 1, 1, 1,\n",
              "       1, 0, 1, 1, 0, 0, 0, 1, 0, 1, 0, 1, 1, 1, 0, 1, 1, 0, 0, 1, 0, 0,\n",
              "       0, 0, 1, 0, 0, 0, 1, 0, 1, 0, 1, 1, 0, 1, 0, 0, 0, 0, 1, 1, 0, 0,\n",
              "       1, 1, 1, 0, 1, 1, 1, 1, 1, 0, 0, 1, 1, 0, 1, 1, 0, 0, 1, 0, 1, 1,\n",
              "       1, 1, 0, 1, 1, 1, 1, 1, 0, 1, 0, 0, 0, 0, 0, 0, 0, 0, 0, 0, 0, 0,\n",
              "       0, 0, 1, 1, 1, 1, 1, 1, 0, 1, 0, 1, 1, 0, 1, 1, 0, 1, 0, 0, 1, 1,\n",
              "       1, 1, 1, 1, 1, 1, 1, 1, 1, 1, 1, 0, 1, 1, 0, 1, 0, 1, 1, 1, 1, 1,\n",
              "       1, 1, 1, 1, 1, 1, 1, 1, 1, 0, 1, 1, 1, 0, 1, 0, 1, 1, 1, 1, 0, 0,\n",
              "       0, 1, 1, 1, 1, 0, 1, 0, 1, 0, 1, 1, 1, 0, 1, 1, 1, 1, 1, 1, 1, 0,\n",
              "       0, 0, 1, 1, 1, 1, 1, 1, 1, 1, 1, 1, 1, 0, 0, 1, 0, 0, 0, 1, 0, 0,\n",
              "       1, 1, 1, 1, 1, 0, 1, 1, 1, 1, 1, 0, 1, 1, 1, 0, 1, 1, 0, 0, 1, 1,\n",
              "       1, 1, 1, 1, 0, 1, 1, 1, 1, 1, 1, 1, 0, 1, 1, 1, 1, 1, 0, 1, 1, 0,\n",
              "       1, 1, 1, 1, 1, 1, 1, 1, 1, 1, 1, 1, 0, 1, 0, 0, 1, 0, 1, 1, 1, 1,\n",
              "       1, 0, 1, 1, 0, 1, 0, 1, 1, 0, 1, 0, 1, 1, 1, 1, 1, 1, 1, 1, 0, 0,\n",
              "       1, 1, 1, 1, 1, 1, 0, 1, 1, 1, 1, 1, 1, 1, 1, 1, 1, 0, 1, 1, 1, 1,\n",
              "       1, 1, 1, 0, 1, 0, 1, 1, 0, 1, 1, 1, 1, 1, 0, 0, 1, 0, 1, 0, 1, 1,\n",
              "       1, 1, 1, 0, 1, 1, 0, 1, 0, 1, 0, 0, 1, 1, 1, 0, 1, 1, 1, 1, 1, 1,\n",
              "       1, 1, 1, 1, 1, 0, 1, 0, 0, 1, 1, 1, 1, 1, 1, 1, 1, 1, 1, 1, 1, 1,\n",
              "       1, 1, 1, 1, 1, 1, 1, 1, 1, 1, 1, 1, 0, 0, 0, 0, 0, 0, 1])"
            ]
          },
          "metadata": {},
          "execution_count": 4
        }
      ]
    },
    {
      "cell_type": "code",
      "source": [
        "# their meaning is not lost\n",
        "print(\"Target names: \", data.target_names)\n",
        "print(\"Target shape\", data.target.shape)"
      ],
      "metadata": {
        "colab": {
          "base_uri": "https://localhost:8080/"
        },
        "id": "KfZ-sJfgOelc",
        "outputId": "43681e2f-8daa-4d6c-d9a4-3644fb3f3625"
      },
      "execution_count": 5,
      "outputs": [
        {
          "output_type": "stream",
          "name": "stdout",
          "text": [
            "Target names:  ['malignant' 'benign']\n",
            "Target shape (569,)\n"
          ]
        }
      ]
    },
    {
      "cell_type": "code",
      "source": [
        "# Determine the meaning of each feature\n",
        "data.feature_names"
      ],
      "metadata": {
        "colab": {
          "base_uri": "https://localhost:8080/"
        },
        "id": "CVRImD-7OxI1",
        "outputId": "e2fbbc13-01fc-4e6f-b0d5-6cabd05f0c71"
      },
      "execution_count": 6,
      "outputs": [
        {
          "output_type": "execute_result",
          "data": {
            "text/plain": [
              "array(['mean radius', 'mean texture', 'mean perimeter', 'mean area',\n",
              "       'mean smoothness', 'mean compactness', 'mean concavity',\n",
              "       'mean concave points', 'mean symmetry', 'mean fractal dimension',\n",
              "       'radius error', 'texture error', 'perimeter error', 'area error',\n",
              "       'smoothness error', 'compactness error', 'concavity error',\n",
              "       'concave points error', 'symmetry error',\n",
              "       'fractal dimension error', 'worst radius', 'worst texture',\n",
              "       'worst perimeter', 'worst area', 'worst smoothness',\n",
              "       'worst compactness', 'worst concavity', 'worst concave points',\n",
              "       'worst symmetry', 'worst fractal dimension'], dtype='<U23')"
            ]
          },
          "metadata": {},
          "execution_count": 6
        }
      ]
    },
    {
      "cell_type": "code",
      "source": [
        "# Split the data int train and test sets\n",
        "X_train, X_test, y_train, y_test = train_test_split(data.data, data.target, test_size=0.33)\n",
        "N, D = X_train.shape"
      ],
      "metadata": {
        "id": "Nn_yH7Y5PVHb"
      },
      "execution_count": 7,
      "outputs": []
    },
    {
      "cell_type": "code",
      "source": [
        "# Scale the data\n",
        "scaler = StandardScaler()\n",
        "X_train = scaler.fit_transform(X_train)\n",
        "X_test = scaler.transform(X_test)"
      ],
      "metadata": {
        "id": "bEWG-6hUP1Vk"
      },
      "execution_count": 8,
      "outputs": []
    },
    {
      "cell_type": "code",
      "source": [
        "# Build  de model\n",
        "model = tf.keras.models.Sequential([\n",
        "    tf.keras.layers.Input(shape=(D,)),\n",
        "    tf.keras.layers.Dense(1, activation=\"sigmoid\")\n",
        "])"
      ],
      "metadata": {
        "id": "FlqrofikQuNH"
      },
      "execution_count": 9,
      "outputs": []
    },
    {
      "cell_type": "code",
      "source": [
        "model.compile(\n",
        "    optimizer=\"adam\", \n",
        "    loss=\"binary_crossentropy\", \n",
        "    metrics=[\"accuracy\"]\n",
        ")"
      ],
      "metadata": {
        "id": "MJZEZIRgSJLW"
      },
      "execution_count": 10,
      "outputs": []
    },
    {
      "cell_type": "code",
      "source": [
        "# Train de model\n",
        "r = model.fit(X_train, y_train, validation_data=(X_test, y_test), epochs=100)"
      ],
      "metadata": {
        "colab": {
          "base_uri": "https://localhost:8080/"
        },
        "id": "CWhNniB8Sbsa",
        "outputId": "8c40fece-5ac7-4d9f-c5e3-56d0fce2a95a"
      },
      "execution_count": 11,
      "outputs": [
        {
          "output_type": "stream",
          "name": "stdout",
          "text": [
            "Epoch 1/100\n",
            "12/12 [==============================] - 1s 22ms/step - loss: 1.1628 - accuracy: 0.2100 - val_loss: 0.9933 - val_accuracy: 0.2553\n",
            "Epoch 2/100\n",
            "12/12 [==============================] - 0s 5ms/step - loss: 1.0469 - accuracy: 0.2441 - val_loss: 0.8919 - val_accuracy: 0.3298\n",
            "Epoch 3/100\n",
            "12/12 [==============================] - 0s 4ms/step - loss: 0.9409 - accuracy: 0.2992 - val_loss: 0.8009 - val_accuracy: 0.3989\n",
            "Epoch 4/100\n",
            "12/12 [==============================] - 0s 4ms/step - loss: 0.8457 - accuracy: 0.3570 - val_loss: 0.7209 - val_accuracy: 0.5106\n",
            "Epoch 5/100\n",
            "12/12 [==============================] - 0s 10ms/step - loss: 0.7622 - accuracy: 0.4541 - val_loss: 0.6514 - val_accuracy: 0.5957\n",
            "Epoch 6/100\n",
            "12/12 [==============================] - 0s 5ms/step - loss: 0.6880 - accuracy: 0.5564 - val_loss: 0.5926 - val_accuracy: 0.7021\n",
            "Epoch 7/100\n",
            "12/12 [==============================] - 0s 4ms/step - loss: 0.6262 - accuracy: 0.6745 - val_loss: 0.5418 - val_accuracy: 0.8138\n",
            "Epoch 8/100\n",
            "12/12 [==============================] - 0s 4ms/step - loss: 0.5709 - accuracy: 0.7795 - val_loss: 0.5002 - val_accuracy: 0.8564\n",
            "Epoch 9/100\n",
            "12/12 [==============================] - 0s 5ms/step - loss: 0.5250 - accuracy: 0.8399 - val_loss: 0.4652 - val_accuracy: 0.8777\n",
            "Epoch 10/100\n",
            "12/12 [==============================] - 0s 4ms/step - loss: 0.4869 - accuracy: 0.8661 - val_loss: 0.4347 - val_accuracy: 0.9043\n",
            "Epoch 11/100\n",
            "12/12 [==============================] - 0s 5ms/step - loss: 0.4539 - accuracy: 0.8976 - val_loss: 0.4084 - val_accuracy: 0.9255\n",
            "Epoch 12/100\n",
            "12/12 [==============================] - 0s 6ms/step - loss: 0.4251 - accuracy: 0.9160 - val_loss: 0.3862 - val_accuracy: 0.9362\n",
            "Epoch 13/100\n",
            "12/12 [==============================] - 0s 6ms/step - loss: 0.4007 - accuracy: 0.9160 - val_loss: 0.3667 - val_accuracy: 0.9362\n",
            "Epoch 14/100\n",
            "12/12 [==============================] - 0s 5ms/step - loss: 0.3794 - accuracy: 0.9186 - val_loss: 0.3495 - val_accuracy: 0.9362\n",
            "Epoch 15/100\n",
            "12/12 [==============================] - 0s 5ms/step - loss: 0.3607 - accuracy: 0.9213 - val_loss: 0.3342 - val_accuracy: 0.9415\n",
            "Epoch 16/100\n",
            "12/12 [==============================] - 0s 5ms/step - loss: 0.3439 - accuracy: 0.9291 - val_loss: 0.3206 - val_accuracy: 0.9468\n",
            "Epoch 17/100\n",
            "12/12 [==============================] - 0s 5ms/step - loss: 0.3290 - accuracy: 0.9265 - val_loss: 0.3085 - val_accuracy: 0.9521\n",
            "Epoch 18/100\n",
            "12/12 [==============================] - 0s 7ms/step - loss: 0.3157 - accuracy: 0.9318 - val_loss: 0.2976 - val_accuracy: 0.9521\n",
            "Epoch 19/100\n",
            "12/12 [==============================] - 0s 14ms/step - loss: 0.3038 - accuracy: 0.9370 - val_loss: 0.2874 - val_accuracy: 0.9574\n",
            "Epoch 20/100\n",
            "12/12 [==============================] - 0s 6ms/step - loss: 0.2926 - accuracy: 0.9370 - val_loss: 0.2784 - val_accuracy: 0.9681\n",
            "Epoch 21/100\n",
            "12/12 [==============================] - 0s 7ms/step - loss: 0.2826 - accuracy: 0.9370 - val_loss: 0.2702 - val_accuracy: 0.9681\n",
            "Epoch 22/100\n",
            "12/12 [==============================] - 0s 6ms/step - loss: 0.2734 - accuracy: 0.9396 - val_loss: 0.2625 - val_accuracy: 0.9681\n",
            "Epoch 23/100\n",
            "12/12 [==============================] - 0s 7ms/step - loss: 0.2649 - accuracy: 0.9423 - val_loss: 0.2556 - val_accuracy: 0.9734\n",
            "Epoch 24/100\n",
            "12/12 [==============================] - 0s 12ms/step - loss: 0.2570 - accuracy: 0.9423 - val_loss: 0.2491 - val_accuracy: 0.9734\n",
            "Epoch 25/100\n",
            "12/12 [==============================] - 0s 8ms/step - loss: 0.2497 - accuracy: 0.9423 - val_loss: 0.2430 - val_accuracy: 0.9734\n",
            "Epoch 26/100\n",
            "12/12 [==============================] - 0s 9ms/step - loss: 0.2428 - accuracy: 0.9449 - val_loss: 0.2373 - val_accuracy: 0.9734\n",
            "Epoch 27/100\n",
            "12/12 [==============================] - 0s 8ms/step - loss: 0.2364 - accuracy: 0.9449 - val_loss: 0.2321 - val_accuracy: 0.9734\n",
            "Epoch 28/100\n",
            "12/12 [==============================] - 0s 7ms/step - loss: 0.2304 - accuracy: 0.9449 - val_loss: 0.2273 - val_accuracy: 0.9681\n",
            "Epoch 29/100\n",
            "12/12 [==============================] - 0s 9ms/step - loss: 0.2248 - accuracy: 0.9475 - val_loss: 0.2227 - val_accuracy: 0.9681\n",
            "Epoch 30/100\n",
            "12/12 [==============================] - 0s 11ms/step - loss: 0.2195 - accuracy: 0.9501 - val_loss: 0.2183 - val_accuracy: 0.9681\n",
            "Epoch 31/100\n",
            "12/12 [==============================] - 0s 9ms/step - loss: 0.2145 - accuracy: 0.9501 - val_loss: 0.2143 - val_accuracy: 0.9681\n",
            "Epoch 32/100\n",
            "12/12 [==============================] - 0s 13ms/step - loss: 0.2099 - accuracy: 0.9528 - val_loss: 0.2104 - val_accuracy: 0.9681\n",
            "Epoch 33/100\n",
            "12/12 [==============================] - 0s 12ms/step - loss: 0.2053 - accuracy: 0.9554 - val_loss: 0.2068 - val_accuracy: 0.9681\n",
            "Epoch 34/100\n",
            "12/12 [==============================] - 0s 9ms/step - loss: 0.2011 - accuracy: 0.9554 - val_loss: 0.2034 - val_accuracy: 0.9681\n",
            "Epoch 35/100\n",
            "12/12 [==============================] - 0s 7ms/step - loss: 0.1972 - accuracy: 0.9554 - val_loss: 0.2001 - val_accuracy: 0.9681\n",
            "Epoch 36/100\n",
            "12/12 [==============================] - 0s 10ms/step - loss: 0.1933 - accuracy: 0.9580 - val_loss: 0.1970 - val_accuracy: 0.9681\n",
            "Epoch 37/100\n",
            "12/12 [==============================] - 0s 11ms/step - loss: 0.1897 - accuracy: 0.9580 - val_loss: 0.1940 - val_accuracy: 0.9681\n",
            "Epoch 38/100\n",
            "12/12 [==============================] - 0s 7ms/step - loss: 0.1862 - accuracy: 0.9580 - val_loss: 0.1912 - val_accuracy: 0.9681\n",
            "Epoch 39/100\n",
            "12/12 [==============================] - 0s 15ms/step - loss: 0.1829 - accuracy: 0.9580 - val_loss: 0.1886 - val_accuracy: 0.9681\n",
            "Epoch 40/100\n",
            "12/12 [==============================] - 0s 9ms/step - loss: 0.1798 - accuracy: 0.9606 - val_loss: 0.1861 - val_accuracy: 0.9681\n",
            "Epoch 41/100\n",
            "12/12 [==============================] - 0s 7ms/step - loss: 0.1768 - accuracy: 0.9633 - val_loss: 0.1837 - val_accuracy: 0.9628\n",
            "Epoch 42/100\n",
            "12/12 [==============================] - 0s 8ms/step - loss: 0.1739 - accuracy: 0.9659 - val_loss: 0.1814 - val_accuracy: 0.9628\n",
            "Epoch 43/100\n",
            "12/12 [==============================] - 0s 8ms/step - loss: 0.1711 - accuracy: 0.9659 - val_loss: 0.1792 - val_accuracy: 0.9628\n",
            "Epoch 44/100\n",
            "12/12 [==============================] - 0s 8ms/step - loss: 0.1685 - accuracy: 0.9685 - val_loss: 0.1770 - val_accuracy: 0.9628\n",
            "Epoch 45/100\n",
            "12/12 [==============================] - 0s 8ms/step - loss: 0.1659 - accuracy: 0.9685 - val_loss: 0.1750 - val_accuracy: 0.9628\n",
            "Epoch 46/100\n",
            "12/12 [==============================] - 0s 11ms/step - loss: 0.1635 - accuracy: 0.9711 - val_loss: 0.1731 - val_accuracy: 0.9628\n",
            "Epoch 47/100\n",
            "12/12 [==============================] - 0s 8ms/step - loss: 0.1612 - accuracy: 0.9711 - val_loss: 0.1712 - val_accuracy: 0.9628\n",
            "Epoch 48/100\n",
            "12/12 [==============================] - 0s 15ms/step - loss: 0.1589 - accuracy: 0.9711 - val_loss: 0.1694 - val_accuracy: 0.9628\n",
            "Epoch 49/100\n",
            "12/12 [==============================] - 0s 9ms/step - loss: 0.1567 - accuracy: 0.9711 - val_loss: 0.1677 - val_accuracy: 0.9628\n",
            "Epoch 50/100\n",
            "12/12 [==============================] - 0s 11ms/step - loss: 0.1546 - accuracy: 0.9711 - val_loss: 0.1660 - val_accuracy: 0.9628\n",
            "Epoch 51/100\n",
            "12/12 [==============================] - 0s 7ms/step - loss: 0.1526 - accuracy: 0.9711 - val_loss: 0.1645 - val_accuracy: 0.9628\n",
            "Epoch 52/100\n",
            "12/12 [==============================] - 0s 7ms/step - loss: 0.1507 - accuracy: 0.9711 - val_loss: 0.1629 - val_accuracy: 0.9628\n",
            "Epoch 53/100\n",
            "12/12 [==============================] - 0s 11ms/step - loss: 0.1488 - accuracy: 0.9711 - val_loss: 0.1615 - val_accuracy: 0.9628\n",
            "Epoch 54/100\n",
            "12/12 [==============================] - 0s 14ms/step - loss: 0.1470 - accuracy: 0.9711 - val_loss: 0.1600 - val_accuracy: 0.9628\n",
            "Epoch 55/100\n",
            "12/12 [==============================] - 0s 8ms/step - loss: 0.1452 - accuracy: 0.9711 - val_loss: 0.1586 - val_accuracy: 0.9628\n",
            "Epoch 56/100\n",
            "12/12 [==============================] - 0s 7ms/step - loss: 0.1435 - accuracy: 0.9711 - val_loss: 0.1574 - val_accuracy: 0.9628\n",
            "Epoch 57/100\n",
            "12/12 [==============================] - 0s 12ms/step - loss: 0.1419 - accuracy: 0.9685 - val_loss: 0.1561 - val_accuracy: 0.9628\n",
            "Epoch 58/100\n",
            "12/12 [==============================] - 0s 8ms/step - loss: 0.1403 - accuracy: 0.9685 - val_loss: 0.1550 - val_accuracy: 0.9628\n",
            "Epoch 59/100\n",
            "12/12 [==============================] - 0s 9ms/step - loss: 0.1388 - accuracy: 0.9685 - val_loss: 0.1537 - val_accuracy: 0.9628\n",
            "Epoch 60/100\n",
            "12/12 [==============================] - 0s 8ms/step - loss: 0.1372 - accuracy: 0.9685 - val_loss: 0.1524 - val_accuracy: 0.9628\n",
            "Epoch 61/100\n",
            "12/12 [==============================] - 0s 18ms/step - loss: 0.1358 - accuracy: 0.9685 - val_loss: 0.1514 - val_accuracy: 0.9628\n",
            "Epoch 62/100\n",
            "12/12 [==============================] - 0s 7ms/step - loss: 0.1344 - accuracy: 0.9685 - val_loss: 0.1503 - val_accuracy: 0.9628\n",
            "Epoch 63/100\n",
            "12/12 [==============================] - 0s 7ms/step - loss: 0.1330 - accuracy: 0.9685 - val_loss: 0.1493 - val_accuracy: 0.9628\n",
            "Epoch 64/100\n",
            "12/12 [==============================] - 0s 8ms/step - loss: 0.1317 - accuracy: 0.9685 - val_loss: 0.1483 - val_accuracy: 0.9628\n",
            "Epoch 65/100\n",
            "12/12 [==============================] - 0s 8ms/step - loss: 0.1304 - accuracy: 0.9685 - val_loss: 0.1473 - val_accuracy: 0.9628\n",
            "Epoch 66/100\n",
            "12/12 [==============================] - 0s 8ms/step - loss: 0.1291 - accuracy: 0.9685 - val_loss: 0.1463 - val_accuracy: 0.9628\n",
            "Epoch 67/100\n",
            "12/12 [==============================] - 0s 7ms/step - loss: 0.1279 - accuracy: 0.9685 - val_loss: 0.1454 - val_accuracy: 0.9628\n",
            "Epoch 68/100\n",
            "12/12 [==============================] - 0s 9ms/step - loss: 0.1267 - accuracy: 0.9685 - val_loss: 0.1445 - val_accuracy: 0.9628\n",
            "Epoch 69/100\n",
            "12/12 [==============================] - 0s 13ms/step - loss: 0.1256 - accuracy: 0.9685 - val_loss: 0.1435 - val_accuracy: 0.9628\n",
            "Epoch 70/100\n",
            "12/12 [==============================] - 0s 14ms/step - loss: 0.1244 - accuracy: 0.9685 - val_loss: 0.1428 - val_accuracy: 0.9628\n",
            "Epoch 71/100\n",
            "12/12 [==============================] - 0s 8ms/step - loss: 0.1233 - accuracy: 0.9685 - val_loss: 0.1420 - val_accuracy: 0.9628\n",
            "Epoch 72/100\n",
            "12/12 [==============================] - 0s 13ms/step - loss: 0.1222 - accuracy: 0.9685 - val_loss: 0.1412 - val_accuracy: 0.9628\n",
            "Epoch 73/100\n",
            "12/12 [==============================] - 0s 7ms/step - loss: 0.1212 - accuracy: 0.9685 - val_loss: 0.1404 - val_accuracy: 0.9628\n",
            "Epoch 74/100\n",
            "12/12 [==============================] - 0s 10ms/step - loss: 0.1201 - accuracy: 0.9685 - val_loss: 0.1396 - val_accuracy: 0.9628\n",
            "Epoch 75/100\n",
            "12/12 [==============================] - 0s 7ms/step - loss: 0.1192 - accuracy: 0.9685 - val_loss: 0.1390 - val_accuracy: 0.9628\n",
            "Epoch 76/100\n",
            "12/12 [==============================] - 0s 15ms/step - loss: 0.1182 - accuracy: 0.9685 - val_loss: 0.1383 - val_accuracy: 0.9628\n",
            "Epoch 77/100\n",
            "12/12 [==============================] - 0s 9ms/step - loss: 0.1172 - accuracy: 0.9685 - val_loss: 0.1376 - val_accuracy: 0.9628\n",
            "Epoch 78/100\n",
            "12/12 [==============================] - 0s 9ms/step - loss: 0.1163 - accuracy: 0.9685 - val_loss: 0.1369 - val_accuracy: 0.9628\n",
            "Epoch 79/100\n",
            "12/12 [==============================] - 0s 12ms/step - loss: 0.1154 - accuracy: 0.9685 - val_loss: 0.1363 - val_accuracy: 0.9628\n",
            "Epoch 80/100\n",
            "12/12 [==============================] - 0s 9ms/step - loss: 0.1145 - accuracy: 0.9685 - val_loss: 0.1356 - val_accuracy: 0.9628\n",
            "Epoch 81/100\n",
            "12/12 [==============================] - 0s 14ms/step - loss: 0.1136 - accuracy: 0.9685 - val_loss: 0.1350 - val_accuracy: 0.9628\n",
            "Epoch 82/100\n",
            "12/12 [==============================] - 0s 13ms/step - loss: 0.1127 - accuracy: 0.9685 - val_loss: 0.1343 - val_accuracy: 0.9628\n",
            "Epoch 83/100\n",
            "12/12 [==============================] - 0s 9ms/step - loss: 0.1119 - accuracy: 0.9685 - val_loss: 0.1338 - val_accuracy: 0.9628\n",
            "Epoch 84/100\n",
            "12/12 [==============================] - 0s 8ms/step - loss: 0.1111 - accuracy: 0.9685 - val_loss: 0.1333 - val_accuracy: 0.9681\n",
            "Epoch 85/100\n",
            "12/12 [==============================] - 0s 12ms/step - loss: 0.1103 - accuracy: 0.9685 - val_loss: 0.1327 - val_accuracy: 0.9681\n",
            "Epoch 86/100\n",
            "12/12 [==============================] - 0s 7ms/step - loss: 0.1095 - accuracy: 0.9711 - val_loss: 0.1322 - val_accuracy: 0.9681\n",
            "Epoch 87/100\n",
            "12/12 [==============================] - 0s 7ms/step - loss: 0.1087 - accuracy: 0.9711 - val_loss: 0.1316 - val_accuracy: 0.9681\n",
            "Epoch 88/100\n",
            "12/12 [==============================] - 0s 7ms/step - loss: 0.1080 - accuracy: 0.9711 - val_loss: 0.1311 - val_accuracy: 0.9681\n",
            "Epoch 89/100\n",
            "12/12 [==============================] - 0s 9ms/step - loss: 0.1073 - accuracy: 0.9711 - val_loss: 0.1306 - val_accuracy: 0.9681\n",
            "Epoch 90/100\n",
            "12/12 [==============================] - 0s 10ms/step - loss: 0.1065 - accuracy: 0.9711 - val_loss: 0.1301 - val_accuracy: 0.9681\n",
            "Epoch 91/100\n",
            "12/12 [==============================] - 0s 11ms/step - loss: 0.1058 - accuracy: 0.9738 - val_loss: 0.1296 - val_accuracy: 0.9681\n",
            "Epoch 92/100\n",
            "12/12 [==============================] - 0s 11ms/step - loss: 0.1051 - accuracy: 0.9738 - val_loss: 0.1291 - val_accuracy: 0.9681\n",
            "Epoch 93/100\n",
            "12/12 [==============================] - 0s 16ms/step - loss: 0.1044 - accuracy: 0.9738 - val_loss: 0.1287 - val_accuracy: 0.9681\n",
            "Epoch 94/100\n",
            "12/12 [==============================] - 0s 12ms/step - loss: 0.1038 - accuracy: 0.9738 - val_loss: 0.1283 - val_accuracy: 0.9681\n",
            "Epoch 95/100\n",
            "12/12 [==============================] - 0s 15ms/step - loss: 0.1031 - accuracy: 0.9738 - val_loss: 0.1278 - val_accuracy: 0.9681\n",
            "Epoch 96/100\n",
            "12/12 [==============================] - 0s 15ms/step - loss: 0.1025 - accuracy: 0.9738 - val_loss: 0.1273 - val_accuracy: 0.9681\n",
            "Epoch 97/100\n",
            "12/12 [==============================] - 0s 19ms/step - loss: 0.1019 - accuracy: 0.9738 - val_loss: 0.1270 - val_accuracy: 0.9734\n",
            "Epoch 98/100\n",
            "12/12 [==============================] - 0s 9ms/step - loss: 0.1012 - accuracy: 0.9738 - val_loss: 0.1266 - val_accuracy: 0.9734\n",
            "Epoch 99/100\n",
            "12/12 [==============================] - 0s 9ms/step - loss: 0.1006 - accuracy: 0.9738 - val_loss: 0.1262 - val_accuracy: 0.9734\n",
            "Epoch 100/100\n",
            "12/12 [==============================] - 0s 13ms/step - loss: 0.1000 - accuracy: 0.9738 - val_loss: 0.1258 - val_accuracy: 0.9734\n"
          ]
        }
      ]
    },
    {
      "cell_type": "code",
      "source": [
        "print(\"Train score:\", model.evaluate(X_train, y_train))\n",
        "print(\"Test score:\", model.evaluate(X_test, y_test))"
      ],
      "metadata": {
        "colab": {
          "base_uri": "https://localhost:8080/"
        },
        "id": "ePA9UZlnS2I3",
        "outputId": "cfeefe89-774a-47c3-b9ba-3e9687e196a9"
      },
      "execution_count": 12,
      "outputs": [
        {
          "output_type": "stream",
          "name": "stdout",
          "text": [
            "12/12 [==============================] - 0s 2ms/step - loss: 0.0997 - accuracy: 0.9738\n",
            "Train score: [0.09967174381017685, 0.9737532734870911]\n",
            "6/6 [==============================] - 0s 4ms/step - loss: 0.1258 - accuracy: 0.9734\n",
            "Test score: [0.12584605813026428, 0.9734042286872864]\n"
          ]
        }
      ]
    },
    {
      "cell_type": "code",
      "source": [
        "# Plot what's returned by model.fit\n",
        "plt.plot(r.history[\"loss\"], label=\"loss\")\n",
        "plt.plot(r.history[\"val_loss\"], label=\"val_loss\")\n",
        "plt.legend()"
      ],
      "metadata": {
        "colab": {
          "base_uri": "https://localhost:8080/",
          "height": 283
        },
        "id": "hekgTQ_XTaKR",
        "outputId": "725ff1f4-0e2e-47b9-cbff-f544ef9e7ee2"
      },
      "execution_count": 13,
      "outputs": [
        {
          "output_type": "execute_result",
          "data": {
            "text/plain": [
              "<matplotlib.legend.Legend at 0x7fc7f43a2fd0>"
            ]
          },
          "metadata": {},
          "execution_count": 13
        },
        {
          "output_type": "display_data",
          "data": {
            "text/plain": [
              "<Figure size 432x288 with 1 Axes>"
            ],
            "image/png": "[encoded data removed]"
          },
          "metadata": {
            "needs_background": "light"
          }
        }
      ]
    },
    {
      "cell_type": "code",
      "source": [
        "# Plot the accuracy too\n",
        "plt.plot(r.history[\"accuracy\"], label=\"acc\")\n",
        "plt.plot(r.history[\"val_accuracy\"], label=\"val_acc\")\n",
        "plt.legend()"
      ],
      "metadata": {
        "colab": {
          "base_uri": "https://localhost:8080/",
          "height": 283
        },
        "id": "OgNBs24NUCgC",
        "outputId": "c757805a-29d5-4e8f-9b92-993b2cee7d04"
      },
      "execution_count": 14,
      "outputs": [
        {
          "output_type": "execute_result",
          "data": {
            "text/plain": [
              "<matplotlib.legend.Legend at 0x7fc7f19acb50>"
            ]
          },
          "metadata": {},
          "execution_count": 14
        },
        {
          "output_type": "display_data",
          "data": {
            "text/plain": [
              "<Figure size 432x288 with 1 Axes>"
            ],
            "image/png": "[encoded data removed]"
          },
          "metadata": {
            "needs_background": "light"
          }
        }
      ]
    },
    {
      "cell_type": "markdown",
      "source": [
        "## Part 2: Making Preditions"
      ],
      "metadata": {
        "id": "W4Wzl1tf1GuK"
      }
    },
    {
      "cell_type": "code",
      "source": [
        "# Make predictions\n",
        "P = model.predict(X_test)\n",
        "print(P) # they are outputs of the sigmoid, interpreted as probabilities p(y = 1 | x)"
      ],
      "metadata": {
        "colab": {
          "base_uri": "https://localhost:8080/"
        },
        "id": "KEP_GU6y1FJy",
        "outputId": "93c70c1a-1404-4425-fb83-81a47ef1bf9f"
      },
      "execution_count": 15,
      "outputs": [
        {
          "output_type": "stream",
          "name": "stdout",
          "text": [
            "[[2.13712454e-04]\n",
            " [2.60486841e-01]\n",
            " [1.50382757e-01]\n",
            " [6.09546900e-04]\n",
            " [6.51234210e-01]\n",
            " [9.98566091e-01]\n",
            " [8.40137899e-02]\n",
            " [8.89624953e-01]\n",
            " [8.03522348e-01]\n",
            " [2.35390663e-03]\n",
            " [9.75827873e-01]\n",
            " [9.91436243e-01]\n",
            " [8.26233387e-01]\n",
            " [9.93896663e-01]\n",
            " [9.84998107e-01]\n",
            " [8.14696932e-07]\n",
            " [9.50889945e-01]\n",
            " [3.95548344e-03]\n",
            " [9.94020581e-01]\n",
            " [9.38285232e-01]\n",
            " [1.30545437e-01]\n",
            " [8.06991577e-01]\n",
            " [9.34370875e-01]\n",
            " [9.51054096e-01]\n",
            " [5.58793545e-04]\n",
            " [1.18942205e-06]\n",
            " [9.90183473e-01]\n",
            " [4.06235456e-04]\n",
            " [7.10489511e-01]\n",
            " [9.24045324e-01]\n",
            " [9.80940104e-01]\n",
            " [9.98042345e-01]\n",
            " [9.94755149e-01]\n",
            " [9.20434952e-01]\n",
            " [1.07860863e-02]\n",
            " [9.94904637e-01]\n",
            " [2.73658007e-01]\n",
            " [9.15618598e-01]\n",
            " [9.17146266e-01]\n",
            " [9.61783230e-01]\n",
            " [9.97507036e-01]\n",
            " [4.70361352e-01]\n",
            " [2.24103023e-05]\n",
            " [1.73925579e-01]\n",
            " [9.94799614e-01]\n",
            " [9.88383174e-01]\n",
            " [8.13672432e-06]\n",
            " [8.95049810e-01]\n",
            " [2.00695157e-01]\n",
            " [9.95629847e-01]\n",
            " [1.52740479e-01]\n",
            " [9.38422561e-01]\n",
            " [8.35626900e-01]\n",
            " [9.67380762e-01]\n",
            " [9.97305453e-01]\n",
            " [4.02457714e-02]\n",
            " [2.30351686e-02]\n",
            " [9.04592633e-01]\n",
            " [9.06698585e-01]\n",
            " [9.91119325e-01]\n",
            " [9.75040197e-01]\n",
            " [9.68481302e-01]\n",
            " [9.83733773e-01]\n",
            " [9.18380618e-01]\n",
            " [9.49772716e-01]\n",
            " [2.81396121e-01]\n",
            " [9.52738822e-02]\n",
            " [2.33197808e-02]\n",
            " [9.81001496e-01]\n",
            " [5.59230447e-02]\n",
            " [9.79414999e-01]\n",
            " [9.35902894e-01]\n",
            " [9.43602681e-01]\n",
            " [9.61914539e-01]\n",
            " [4.21675265e-01]\n",
            " [2.85727084e-02]\n",
            " [9.69384909e-01]\n",
            " [2.02804804e-04]\n",
            " [3.05455208e-01]\n",
            " [9.99923587e-01]\n",
            " [9.78578389e-01]\n",
            " [9.95947361e-01]\n",
            " [9.71598089e-01]\n",
            " [8.66198838e-01]\n",
            " [4.64979082e-01]\n",
            " [1.63202822e-01]\n",
            " [9.96106088e-01]\n",
            " [9.95472252e-01]\n",
            " [9.97079253e-01]\n",
            " [8.52832556e-01]\n",
            " [4.91265893e-01]\n",
            " [9.94484484e-01]\n",
            " [9.96325374e-01]\n",
            " [9.74013209e-01]\n",
            " [9.66637015e-01]\n",
            " [9.40479755e-01]\n",
            " [8.80584717e-01]\n",
            " [9.97661710e-01]\n",
            " [9.27395582e-01]\n",
            " [1.15329713e-01]\n",
            " [5.12380902e-05]\n",
            " [9.91440177e-01]\n",
            " [4.82988775e-01]\n",
            " [9.79765356e-01]\n",
            " [9.65874553e-01]\n",
            " [7.74208724e-01]\n",
            " [2.83828676e-02]\n",
            " [9.95755076e-01]\n",
            " [8.50260615e-01]\n",
            " [9.69868779e-01]\n",
            " [9.99482751e-01]\n",
            " [2.32746303e-02]\n",
            " [3.37811410e-02]\n",
            " [9.95605946e-01]\n",
            " [9.91854548e-01]\n",
            " [4.50469042e-06]\n",
            " [3.02310497e-07]\n",
            " [9.99682069e-01]\n",
            " [7.76362431e-05]\n",
            " [1.61975622e-04]\n",
            " [7.90921867e-01]\n",
            " [1.06952488e-02]\n",
            " [9.87307668e-01]\n",
            " [9.65453982e-01]\n",
            " [9.99931455e-01]\n",
            " [9.76946950e-01]\n",
            " [5.04325867e-01]\n",
            " [9.94845271e-01]\n",
            " [2.94533372e-03]\n",
            " [8.38133454e-01]\n",
            " [1.42485559e-01]\n",
            " [3.66621017e-02]\n",
            " [7.41291642e-02]\n",
            " [9.97582674e-01]\n",
            " [1.37022138e-03]\n",
            " [9.90197182e-01]\n",
            " [9.98496890e-01]\n",
            " [9.77748156e-01]\n",
            " [3.29673290e-03]\n",
            " [1.21061295e-01]\n",
            " [3.61949205e-04]\n",
            " [8.09682608e-01]\n",
            " [9.07462239e-01]\n",
            " [8.17491412e-01]\n",
            " [1.06719553e-01]\n",
            " [9.97179449e-01]\n",
            " [9.48456645e-01]\n",
            " [9.89753246e-01]\n",
            " [6.26324177e-01]\n",
            " [6.40809536e-04]\n",
            " [7.45466590e-01]\n",
            " [9.99179363e-01]\n",
            " [9.99066949e-01]\n",
            " [9.97477412e-01]\n",
            " [9.94201064e-01]\n",
            " [8.58029723e-01]\n",
            " [9.65640604e-01]\n",
            " [2.60282457e-02]\n",
            " [9.97353196e-01]\n",
            " [8.30669343e-01]\n",
            " [1.51968002e-03]\n",
            " [6.47001386e-01]\n",
            " [5.82322419e-01]\n",
            " [8.42056096e-01]\n",
            " [5.68334341e-01]\n",
            " [9.69395161e-01]\n",
            " [1.55098408e-01]\n",
            " [9.81895447e-01]\n",
            " [9.99160767e-01]\n",
            " [1.07251493e-04]\n",
            " [9.92551088e-01]\n",
            " [7.24974513e-01]\n",
            " [9.30164099e-01]\n",
            " [9.73277569e-01]\n",
            " [9.34398651e-01]\n",
            " [1.03613734e-03]\n",
            " [8.80417938e-05]\n",
            " [7.57102311e-01]\n",
            " [9.53413367e-01]\n",
            " [9.88258839e-01]\n",
            " [8.76718283e-01]\n",
            " [9.71746504e-01]\n",
            " [2.08348036e-03]\n",
            " [8.93206775e-01]\n",
            " [1.08074725e-01]\n",
            " [2.94303894e-03]\n",
            " [8.98454527e-06]\n",
            " [9.46172714e-01]]\n"
          ]
        }
      ]
    },
    {
      "cell_type": "code",
      "source": [
        "# Round to get the actual preditions\n",
        "# Note: has to be flattened since the targets are size (N,) while the predictions are size (N, 1)\n",
        "P = np.round(P).flatten()\n",
        "print(P)"
      ],
      "metadata": {
        "colab": {
          "base_uri": "https://localhost:8080/"
        },
        "id": "G5PVss6y1gKh",
        "outputId": "5e1802ec-4bfc-4547-c5d8-b31aa47ffd0c"
      },
      "execution_count": 16,
      "outputs": [
        {
          "output_type": "stream",
          "name": "stdout",
          "text": [
            "[0. 0. 0. 0. 1. 1. 0. 1. 1. 0. 1. 1. 1. 1. 1. 0. 1. 0. 1. 1. 0. 1. 1. 1.\n",
            " 0. 0. 1. 0. 1. 1. 1. 1. 1. 1. 0. 1. 0. 1. 1. 1. 1. 0. 0. 0. 1. 1. 0. 1.\n",
            " 0. 1. 0. 1. 1. 1. 1. 0. 0. 1. 1. 1. 1. 1. 1. 1. 1. 0. 0. 0. 1. 0. 1. 1.\n",
            " 1. 1. 0. 0. 1. 0. 0. 1. 1. 1. 1. 1. 0. 0. 1. 1. 1. 1. 0. 1. 1. 1. 1. 1.\n",
            " 1. 1. 1. 0. 0. 1. 0. 1. 1. 1. 0. 1. 1. 1. 1. 0. 0. 1. 1. 0. 0. 1. 0. 0.\n",
            " 1. 0. 1. 1. 1. 1. 1. 1. 0. 1. 0. 0. 0. 1. 0. 1. 1. 1. 0. 0. 0. 1. 1. 1.\n",
            " 0. 1. 1. 1. 1. 0. 1. 1. 1. 1. 1. 1. 1. 0. 1. 1. 0. 1. 1. 1. 1. 1. 0. 1.\n",
            " 1. 0. 1. 1. 1. 1. 1. 0. 0. 1. 1. 1. 1. 1. 0. 1. 0. 0. 0. 1.]\n"
          ]
        }
      ]
    },
    {
      "cell_type": "code",
      "source": [
        "# Calculate the accuracy, compare it to evaluate() output\n",
        "print(\"Manually calculated accuracy:\", np.mean(P == y_test))\n",
        "print(\"Evaluate output:\", model.evaluate(X_test, y_test))"
      ],
      "metadata": {
        "colab": {
          "base_uri": "https://localhost:8080/"
        },
        "id": "-YOOq27F3DZ5",
        "outputId": "44b12f7c-20f5-40f0-b95f-6901db65c899"
      },
      "execution_count": 17,
      "outputs": [
        {
          "output_type": "stream",
          "name": "stdout",
          "text": [
            "Manually calculated accuracy: 0.973404255319149\n",
            "6/6 [==============================] - 0s 5ms/step - loss: 0.1258 - accuracy: 0.9734\n",
            "Evaluate output: [0.12584605813026428, 0.9734042286872864]\n"
          ]
        }
      ]
    },
    {
      "cell_type": "markdown",
      "source": [
        "## Part 3: Saving and loading a model"
      ],
      "metadata": {
        "id": "FtsjADNfiQW1"
      }
    },
    {
      "cell_type": "code",
      "source": [
        "# Let's now save our model to a file\n",
        "model.save(\"linearclassifier.h5\")"
      ],
      "metadata": {
        "id": "j_200wGNiPY5"
      },
      "execution_count": 18,
      "outputs": []
    },
    {
      "cell_type": "code",
      "source": [
        "# Check that the model file exists\n",
        "!ls -h"
      ],
      "metadata": {
        "colab": {
          "base_uri": "https://localhost:8080/"
        },
        "id": "QkyeNUgtihWB",
        "outputId": "f4410116-9cb6-4c23-f8dd-74c34f2fd91d"
      },
      "execution_count": 19,
      "outputs": [
        {
          "output_type": "stream",
          "name": "stdout",
          "text": [
            "linearclassifier.h5  sample_data\n"
          ]
        }
      ]
    },
    {
      "cell_type": "code",
      "source": [
        "# Let's load the model and confirm that it still works\n",
        "model =tf.keras.models.load_model(\"linearclassifier.h5\")\n",
        "print(model.layers)\n",
        "model.evaluate(X_test, y_test)"
      ],
      "metadata": {
        "colab": {
          "base_uri": "https://localhost:8080/"
        },
        "id": "FbtUXKkBimhS",
        "outputId": "a6f9694d-6d5d-45db-c15b-58db558a37eb"
      },
      "execution_count": 20,
      "outputs": [
        {
          "output_type": "stream",
          "name": "stdout",
          "text": [
            "[<keras.layers.core.dense.Dense object at 0x7fc7f79b5090>]\n",
            "6/6 [==============================] - 0s 3ms/step - loss: 0.1258 - accuracy: 0.9734\n"
          ]
        },
        {
          "output_type": "execute_result",
          "data": {
            "text/plain": [
              "[0.12584605813026428, 0.9734042286872864]"
            ]
          },
          "metadata": {},
          "execution_count": 20
        }
      ]
    },
    {
      "cell_type": "code",
      "source": [
        "# Download the file - require Chrome (at this point)\n",
        "from google.colab import files\n",
        "files.download(\"linearclassifier.h5\")"
      ],
      "metadata": {
        "colab": {
          "base_uri": "https://localhost:8080/",
          "height": 17
        },
        "id": "2f0FUpTBkR2s",
        "outputId": "25c4ac03-102c-4be1-a81f-3d67a666b8a0"
      },
      "execution_count": 21,
      "outputs": [
        {
          "output_type": "display_data",
          "data": {
            "text/plain": [
              "<IPython.core.display.Javascript object>"
            ],
            "application/javascript": [
              "\n",
              "    async function download(id, filename, size) {\n",
              "      if (!google.colab.kernel.accessAllowed) {\n",
              "        return;\n",
              "      }\n",
              "      const div = document.createElement('div');\n",
              "      const label = document.createElement('label');\n",
              "      label.textContent = `Downloading \"${filename}\": `;\n",
              "      div.appendChild(label);\n",
              "      const progress = document.createElement('progress');\n",
              "      progress.max = size;\n",
              "      div.appendChild(progress);\n",
              "      document.body.appendChild(div);\n",
              "\n",
              "      const buffers = [];\n",
              "      let downloaded = 0;\n",
              "\n",
              "      const channel = await google.colab.kernel.comms.open(id);\n",
              "      // Send a message to notify the kernel that we're ready.\n",
              "      channel.send({})\n",
              "\n",
              "      for await (const message of channel.messages) {\n",
              "        // Send a message to notify the kernel that we're ready.\n",
              "        channel.send({})\n",
              "        if (message.buffers) {\n",
              "          for (const buffer of message.buffers) {\n",
              "            buffers.push(buffer);\n",
              "            downloaded += buffer.byteLength;\n",
              "            progress.value = downloaded;\n",
              "          }\n",
              "        }\n",
              "      }\n",
              "      const blob = new Blob(buffers, {type: 'application/binary'});\n",
              "      const a = document.createElement('a');\n",
              "      a.href = window.URL.createObjectURL(blob);\n",
              "      a.download = filename;\n",
              "      div.appendChild(a);\n",
              "      a.click();\n",
              "      div.remove();\n",
              "    }\n",
              "  "
            ]
          },
          "metadata": {}
        },
        {
          "output_type": "display_data",
          "data": {
            "text/plain": [
              "<IPython.core.display.Javascript object>"
            ],
            "application/javascript": [
              "download(\"download_81e8439c-ab30-4729-b527-7003c1d8d6c4\", \"linearclassifier.h5\", 19312)"
            ]
          },
          "metadata": {}
        }
      ]
    }
  ]
}