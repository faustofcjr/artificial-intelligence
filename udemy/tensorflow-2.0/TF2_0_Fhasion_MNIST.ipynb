{
 "cells": [
  {
   "cell_type": "code",
   "execution_count": 15,
   "metadata": {
    "executionInfo": {
     "elapsed": 25,
     "status": "ok",
     "timestamp": 1671309656911,
     "user": {
      "displayName": "Fausto Carvalho",
      "userId": "14769586862712322629"
     },
     "user_tz": 180
    },
    "id": "kHVjksSnn9MD"
   },
   "outputs": [],
   "source": [
    "import itertools\n",
    "import numpy as np\n",
    "import matplotlib.pyplot as plt\n",
    "\n",
    "from sklearn.metrics import confusion_matrix\n",
    "\n",
    "import tensorflow as tf\n",
    "from tensorflow.keras.models import Model\n",
    "from tensorflow.keras.layers import (\n",
    "    Input, \n",
    "    Conv2D, \n",
    "    Dense, \n",
    "    Flatten, \n",
    "    Dropout\n",
    ")"
   ]
  },
  {
   "cell_type": "code",
   "execution_count": 5,
   "metadata": {
    "colab": {
     "base_uri": "https://localhost:8080/"
    },
    "executionInfo": {
     "elapsed": 1385,
     "status": "ok",
     "timestamp": 1671306927945,
     "user": {
      "displayName": "Fausto Carvalho",
      "userId": "14769586862712322629"
     },
     "user_tz": 180
    },
    "id": "-_R-wmkAorkM",
    "outputId": "c379aa26-ef1f-4481-b965-d6b749686b01"
   },
   "outputs": [
    {
     "name": "stdout",
     "output_type": "stream",
     "text": [
      "x_train_shape: (60000, 28, 28)\n"
     ]
    }
   ],
   "source": [
    "# Load int the data\n",
    "\n",
    "fashion_mnist = tf.keras.datasets.fashion_mnist\n",
    "\n",
    "(x_train, y_train), (x_test, y_test) = fashion_mnist.load_data()\n",
    "x_train, x_test = x_train / 255.0, x_test / 255.0\n",
    "\n",
    "print(\"x_train_shape:\", x_train.shape)"
   ]
  },
  {
   "cell_type": "code",
   "execution_count": 6,
   "metadata": {
    "colab": {
     "base_uri": "https://localhost:8080/"
    },
    "executionInfo": {
     "elapsed": 5,
     "status": "ok",
     "timestamp": 1671307090074,
     "user": {
      "displayName": "Fausto Carvalho",
      "userId": "14769586862712322629"
     },
     "user_tz": 180
    },
    "id": "cJwTuTwQpvIT",
    "outputId": "9d369f97-40a6-4d39-eecf-6f79d9c71358"
   },
   "outputs": [
    {
     "name": "stdout",
     "output_type": "stream",
     "text": [
      "(60000, 28, 28, 1)\n"
     ]
    }
   ],
   "source": [
    "# the data is only 2D!\n",
    "# convolution expects height x width x color\n",
    "x_train = np.expand_dims(x_train, -1)\n",
    "x_test = np.expand_dims(x_test, -1)\n",
    "\n",
    "print(x_train.shape)"
   ]
  },
  {
   "cell_type": "code",
   "execution_count": 7,
   "metadata": {
    "colab": {
     "base_uri": "https://localhost:8080/"
    },
    "executionInfo": {
     "elapsed": 710,
     "status": "ok",
     "timestamp": 1671307141609,
     "user": {
      "displayName": "Fausto Carvalho",
      "userId": "14769586862712322629"
     },
     "user_tz": 180
    },
    "id": "1GAPJ8kAqlPS",
    "outputId": "82ed250f-6c72-464c-e011-bb3667f344ba"
   },
   "outputs": [
    {
     "name": "stdout",
     "output_type": "stream",
     "text": [
      "number of classes: 10\n"
     ]
    }
   ],
   "source": [
    "# number of classes\n",
    "K = len(set(y_train))\n",
    "print(\"number of classes:\", K)"
   ]
  },
  {
   "cell_type": "code",
   "execution_count": 9,
   "metadata": {
    "executionInfo": {
     "elapsed": 471,
     "status": "ok",
     "timestamp": 1671307738216,
     "user": {
      "displayName": "Fausto Carvalho",
      "userId": "14769586862712322629"
     },
     "user_tz": 180
    },
    "id": "WE1r9Shlqzks"
   },
   "outputs": [],
   "source": [
    "# Build the model using the functional API\n",
    "i = Input(shape=x_train[0].shape)\n",
    "x = Conv2D(32, (3, 3), strides=2, activation='relu')(i)\n",
    "x = Conv2D(64, (3, 3), strides=2, activation='relu')(x)\n",
    "x = Conv2D(128, (3, 3), strides=2, activation='relu')(x)\n",
    "x = Flatten()(x)\n",
    "x = Dropout(0.2)(x)\n",
    "x = Dense(512, activation='relu')(x)\n",
    "x = Dropout(0.2)(x)\n",
    "x = Dense(K, activation='softmax')(x)\n",
    "\n",
    "model = Model(i, x)"
   ]
  },
  {
   "cell_type": "code",
   "execution_count": 10,
   "metadata": {
    "colab": {
     "base_uri": "https://localhost:8080/"
    },
    "executionInfo": {
     "elapsed": 562884,
     "status": "ok",
     "timestamp": 1671308469351,
     "user": {
      "displayName": "Fausto Carvalho",
      "userId": "14769586862712322629"
     },
     "user_tz": 180
    },
    "id": "6Pl2hFkctEhN",
    "outputId": "c4bba8c4-de58-455b-f8ec-e412b04f4ae9"
   },
   "outputs": [
    {
     "name": "stdout",
     "output_type": "stream",
     "text": [
      "Epoch 1/15\n",
      "1875/1875 [==============================] - 35s 18ms/step - loss: 0.5210 - accuracy: 0.8065 - val_loss: 0.4058 - val_accuracy: 0.8440\n",
      "Epoch 2/15\n",
      "1875/1875 [==============================] - 34s 18ms/step - loss: 0.3610 - accuracy: 0.8642 - val_loss: 0.3588 - val_accuracy: 0.8598\n",
      "Epoch 3/15\n",
      "1875/1875 [==============================] - 32s 17ms/step - loss: 0.3119 - accuracy: 0.8818 - val_loss: 0.3127 - val_accuracy: 0.8849\n",
      "Epoch 4/15\n",
      "1875/1875 [==============================] - 32s 17ms/step - loss: 0.2782 - accuracy: 0.8953 - val_loss: 0.3059 - val_accuracy: 0.8881\n",
      "Epoch 5/15\n",
      "1875/1875 [==============================] - 33s 17ms/step - loss: 0.2520 - accuracy: 0.9064 - val_loss: 0.2951 - val_accuracy: 0.8941\n",
      "Epoch 6/15\n",
      "1875/1875 [==============================] - 34s 18ms/step - loss: 0.2286 - accuracy: 0.9138 - val_loss: 0.3077 - val_accuracy: 0.8946\n",
      "Epoch 7/15\n",
      "1875/1875 [==============================] - 32s 17ms/step - loss: 0.2109 - accuracy: 0.9203 - val_loss: 0.2943 - val_accuracy: 0.8992\n",
      "Epoch 8/15\n",
      "1875/1875 [==============================] - 32s 17ms/step - loss: 0.1938 - accuracy: 0.9257 - val_loss: 0.2912 - val_accuracy: 0.9030\n",
      "Epoch 9/15\n",
      "1875/1875 [==============================] - 32s 17ms/step - loss: 0.1820 - accuracy: 0.9301 - val_loss: 0.2947 - val_accuracy: 0.9032\n",
      "Epoch 10/15\n",
      "1875/1875 [==============================] - 32s 17ms/step - loss: 0.1677 - accuracy: 0.9356 - val_loss: 0.3059 - val_accuracy: 0.9042\n",
      "Epoch 11/15\n",
      "1875/1875 [==============================] - 36s 19ms/step - loss: 0.1566 - accuracy: 0.9399 - val_loss: 0.3214 - val_accuracy: 0.9015\n",
      "Epoch 12/15\n",
      "1875/1875 [==============================] - 57s 30ms/step - loss: 0.1473 - accuracy: 0.9432 - val_loss: 0.3159 - val_accuracy: 0.9021\n",
      "Epoch 13/15\n",
      "1875/1875 [==============================] - 39s 21ms/step - loss: 0.1366 - accuracy: 0.9476 - val_loss: 0.3393 - val_accuracy: 0.9012\n",
      "Epoch 14/15\n",
      "1875/1875 [==============================] - 36s 19ms/step - loss: 0.1330 - accuracy: 0.9495 - val_loss: 0.3419 - val_accuracy: 0.9002\n",
      "Epoch 15/15\n",
      "1875/1875 [==============================] - 36s 19ms/step - loss: 0.1243 - accuracy: 0.9518 - val_loss: 0.3395 - val_accuracy: 0.9022\n"
     ]
    }
   ],
   "source": [
    "# Compile and fit\n",
    "# Note: make sure you are using the GPU for this!\n",
    "model.compile(optimizer='adam',\n",
    "              loss='sparse_categorical_crossentropy',\n",
    "              metrics=['accuracy'])\n",
    "r = model.fit(x_train, y_train, validation_data=(x_test, y_test), epochs=15)"
   ]
  },
  {
   "cell_type": "code",
   "execution_count": 11,
   "metadata": {
    "colab": {
     "base_uri": "https://localhost:8080/",
     "height": 282
    },
    "executionInfo": {
     "elapsed": 574,
     "status": "ok",
     "timestamp": 1671309347364,
     "user": {
      "displayName": "Fausto Carvalho",
      "userId": "14769586862712322629"
     },
     "user_tz": 180
    },
    "id": "A0VYb1Iitsii",
    "outputId": "4cb2e16f-c8e4-474a-e871-aaa2ba598922"
   },
   "outputs": [
    {
     "data": {
      "text/plain": [
       "<matplotlib.legend.Legend at 0x7f7fa99c4b50>"
      ]
     },
     "execution_count": 11,
     "metadata": {},
     "output_type": "execute_result"
    },
    {
     "data": {
      "image/png": "[encoded data removed]",
      "text/plain": [
       "<Figure size 432x288 with 1 Axes>"
      ]
     },
     "metadata": {
      "needs_background": "light"
     },
     "output_type": "display_data"
    }
   ],
   "source": [
    "# Plot loss per interation\n",
    "plt.plot(r.history['loss'], label='loss')\n",
    "plt.plot(r.history['val_loss'], label='val_loss')\n",
    "plt.legend()"
   ]
  },
  {
   "cell_type": "code",
   "execution_count": 12,
   "metadata": {
    "colab": {
     "base_uri": "https://localhost:8080/",
     "height": 282
    },
    "executionInfo": {
     "elapsed": 656,
     "status": "ok",
     "timestamp": 1671309447742,
     "user": {
      "displayName": "Fausto Carvalho",
      "userId": "14769586862712322629"
     },
     "user_tz": 180
    },
    "id": "wg45kDFAzPbD",
    "outputId": "fd935a18-3ec0-4ac7-84c6-93a93736c507"
   },
   "outputs": [
    {
     "data": {
      "text/plain": [
       "<matplotlib.legend.Legend at 0x7f7fa6175910>"
      ]
     },
     "execution_count": 12,
     "metadata": {},
     "output_type": "execute_result"
    },
    {
     "data": {
      "image/png": "[encoded data removed]",
      "text/plain": [
       "<Figure size 432x288 with 1 Axes>"
      ]
     },
     "metadata": {
      "needs_background": "light"
     },
     "output_type": "display_data"
    }
   ],
   "source": [
    "# Plot accuracy per iteration\n",
    "plt.plot(r.history['accuracy'], label='acc')\n",
    "plt.plot(r.history['val_accuracy'], label='val_acc')\n",
    "plt.legend()"
   ]
  },
  {
   "cell_type": "code",
   "execution_count": 16,
   "metadata": {
    "colab": {
     "base_uri": "https://localhost:8080/",
     "height": 519
    },
    "executionInfo": {
     "elapsed": 6031,
     "status": "ok",
     "timestamp": 1671309688203,
     "user": {
      "displayName": "Fausto Carvalho",
      "userId": "14769586862712322629"
     },
     "user_tz": 180
    },
    "id": "2lDJCzNK0Epb",
    "outputId": "ad36d16e-3547-46db-bd41-ffaf02f416c6"
   },
   "outputs": [
    {
     "name": "stdout",
     "output_type": "stream",
     "text": [
      "313/313 [==============================] - 3s 9ms/step\n",
      "Confusion matrix, without normalization\n",
      "[[864   1  21  23   1   4  81   0   5   0]\n",
      " [  3 979   1  10   2   0   3   0   2   0]\n",
      " [ 22   2 862   8  62   0  44   0   0   0]\n",
      " [ 12  10  15 907  31   1  22   0   2   0]\n",
      " [  0   0  57  21 866   1  55   0   0   0]\n",
      " [  0   0   0   0   0 983   0  13   0   4]\n",
      " [109   2  73  28 101   0 681   0   6   0]\n",
      " [  0   0   0   0   0  25   0 947   0  28]\n",
      " [  2   0   5   4   4   2   9   1 972   1]\n",
      " [  0   0   0   0   0   9   1  29   0 961]]\n"
     ]
    },
    {
     "data": {
      "image/png": "[encoded data removed]",
      "text/plain": [
       "<Figure size 432x288 with 2 Axes>"
      ]
     },
     "metadata": {
      "needs_background": "light"
     },
     "output_type": "display_data"
    }
   ],
   "source": [
    "# Plot confusion matrix\n",
    "def plot_confusion_matrix(cm, classes,\n",
    "                          normalize=False,\n",
    "                          title=\"Confusion matrix\",\n",
    "                          cmap=plt.cm.Blues):\n",
    "  \"\"\"\n",
    "  This function prints and plots the confusion matrix.\n",
    "  Normalization can be applied by setting `normalize=True`\n",
    "  \"\"\"\n",
    "  if normalize:\n",
    "    cm = cm.astype(\"foat\") / cm.sum(axis=1)[:, np.newaxis]\n",
    "    print(\"Normalized confusion matrix\")\n",
    "  else:\n",
    "    print(\"Confusion matrix, without normalization\")\n",
    "  \n",
    "  print(cm)\n",
    "\n",
    "  plt.imshow(cm, interpolation=\"nearest\", cmap=cmap)\n",
    "  plt.title(title)\n",
    "  plt.colorbar()\n",
    "  tick_marks = np.arange(len(classes))\n",
    "  plt.xticks(tick_marks, classes, rotation=45)\n",
    "  plt.yticks(tick_marks, classes)\n",
    "\n",
    "  fmt = \".2f\" if normalize else \"d\"\n",
    "  thresh = cm.max() / 2.\n",
    "  for i, j in itertools.product(range(cm.shape[0]), range(cm.shape[1])):\n",
    "    plt.text(j, i, format(cm[i, j], fmt),\n",
    "             horizontalalignment=\"center\",\n",
    "             color=\"white\" if cm[i,j] > thresh else \"black\")\n",
    "    \n",
    "  plt.tight_layout()\n",
    "  plt.ylabel(\"True label\")\n",
    "  plt.xlabel(\"Predicted label\")\n",
    "  plt.show()\n",
    "\n",
    "\n",
    "p_test = model.predict(x_test).argmax(axis=1)\n",
    "cm = confusion_matrix(y_test, p_test)\n",
    "plot_confusion_matrix(cm, list(range(10)))\n",
    "\n",
    "# do these result make sense?\n",
    "# It's easy to confuse 9 <--> 4, 9 <--> 7, 2 <--> 7, etc.\n",
    "\n"
   ]
  },
  {
   "cell_type": "code",
   "execution_count": 24,
   "metadata": {
    "executionInfo": {
     "elapsed": 388,
     "status": "ok",
     "timestamp": 1671310048695,
     "user": {
      "displayName": "Fausto Carvalho",
      "userId": "14769586862712322629"
     },
     "user_tz": 180
    },
    "id": "CWoZt9jW0GpV"
   },
   "outputs": [],
   "source": [
    "# Label mapping\n",
    "labels = [\n",
    "    'T-shirt/top', \n",
    "    'Trouser', \n",
    "    'Pullover', \n",
    "    'Dress', \n",
    "    'Coat', \n",
    "    'Sandal', \n",
    "    'Shirt', \n",
    "    'Sneaker', \n",
    "    'Bag',\n",
    "    'Ankle boot'\n",
    "]"
   ]
  },
  {
   "cell_type": "code",
   "execution_count": 31,
   "metadata": {
    "colab": {
     "base_uri": "https://localhost:8080/",
     "height": 281
    },
    "executionInfo": {
     "elapsed": 389,
     "status": "ok",
     "timestamp": 1671310391505,
     "user": {
      "displayName": "Fausto Carvalho",
      "userId": "14769586862712322629"
     },
     "user_tz": 180
    },
    "id": "E5vhcRMN1RpD",
    "outputId": "428074f4-5682-435a-ab2a-b1bab42c3101"
   },
   "outputs": [
    {
     "data": {
      "image/png": "[encoded data removed]",
      "text/plain": [
       "<Figure size 432x288 with 1 Axes>"
      ]
     },
     "metadata": {
      "needs_background": "light"
     },
     "output_type": "display_data"
    }
   ],
   "source": [
    "# Show some misclassified examples\n",
    "misclassified_idx = np.where(p_test != y_test)[0]\n",
    "i = np.random.choice(misclassified_idx)\n",
    "plt.imshow(x_test[i].reshape(28, 28), cmap='gray')\n",
    "_ = plt.title(\"True label: %s Predicated: %s\" % (labels[y_test[i]], labels[p_test[i]]))"
   ]
  },
  {
   "cell_type": "code",
   "execution_count": null,
   "metadata": {
    "id": "ZbR7jWHv2ncR"
   },
   "outputs": [],
   "source": []
  }
 ],
 "metadata": {
  "colab": {
   "authorship_tag": "ABX9TyPp0IP58rfZxDU29OfJxx+G",
   "provenance": []
  },
  "kernelspec": {
   "display_name": "Python 3 (ipykernel)",
   "language": "python",
   "name": "python3"
  },
  "language_info": {
   "codemirror_mode": {
    "name": "ipython",
    "version": 3
   },
   "file_extension": ".py",
   "mimetype": "text/x-python",
   "name": "python",
   "nbconvert_exporter": "python",
   "pygments_lexer": "ipython3",
   "version": "3.9.15"
  }
 },
 "nbformat": 4,
 "nbformat_minor": 4
}
