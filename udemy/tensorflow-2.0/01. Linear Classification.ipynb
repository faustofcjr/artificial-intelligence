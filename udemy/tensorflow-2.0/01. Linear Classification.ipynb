{
  "nbformat": 4,
  "nbformat_minor": 0,
  "metadata": {
    "colab": {
      "name": "01. Linear Classification.ipynb",
      "provenance": [],
      "collapsed_sections": [],
      "authorship_tag": "ABX9TyOhMOzGp+iQLGieqsCnp1PA"
    },
    "kernelspec": {
      "name": "python3",
      "display_name": "Python 3"
    },
    "language_info": {
      "name": "python"
    }
  },
  "cells": [
    {
      "cell_type": "code",
      "execution_count": 19,
      "metadata": {
        "colab": {
          "base_uri": "https://localhost:8080/"
        },
        "id": "ZBvWBSWZLvdZ",
        "outputId": "a1afd0aa-8eb2-40d1-f802-be672fe566dc"
      },
      "outputs": [
        {
          "output_type": "stream",
          "name": "stdout",
          "text": [
            "2.8.2\n"
          ]
        }
      ],
      "source": [
        "import tensorflow as tf\n",
        "from sklearn.datasets import load_breast_cancer\n",
        "from sklearn.model_selection import train_test_split\n",
        "from sklearn.preprocessing import StandardScaler\n",
        "\n",
        "import matplotlib.pyplot as plt\n",
        "import numpy as np\n",
        "\n",
        "print(tf.__version__)"
      ]
    },
    {
      "cell_type": "code",
      "source": [
        "# Load in the data\n",
        "data = load_breast_cancer()"
      ],
      "metadata": {
        "id": "ac3XjjqLMleQ"
      },
      "execution_count": 20,
      "outputs": []
    },
    {
      "cell_type": "code",
      "source": [
        "# Check the type of 'data'\n",
        "print(\"Data type:\", type(data))\n",
        "print(\"Data Keys:\", data.keys())\n",
        "print(\"Data Shape:\", data.data.shape)"
      ],
      "metadata": {
        "colab": {
          "base_uri": "https://localhost:8080/"
        },
        "id": "esxcZxq4Nx9i",
        "outputId": "07de0700-43d3-4507-c4ac-b77cf9a128b0"
      },
      "execution_count": 21,
      "outputs": [
        {
          "output_type": "stream",
          "name": "stdout",
          "text": [
            "Data type: <class 'sklearn.utils.Bunch'>\n",
            "Data Keys: dict_keys(['data', 'target', 'frame', 'target_names', 'DESCR', 'feature_names', 'filename', 'data_module'])\n",
            "Data Shape: (569, 30)\n"
          ]
        }
      ]
    },
    {
      "cell_type": "code",
      "source": [
        "# print the targets\n",
        "data.target"
      ],
      "metadata": {
        "colab": {
          "base_uri": "https://localhost:8080/"
        },
        "id": "WVsZ3F98OXI9",
        "outputId": "ef85393f-3107-43d5-ea42-361ac3df9484"
      },
      "execution_count": 23,
      "outputs": [
        {
          "output_type": "execute_result",
          "data": {
            "text/plain": [
              "array([0, 0, 0, 0, 0, 0, 0, 0, 0, 0, 0, 0, 0, 0, 0, 0, 0, 0, 0, 1, 1, 1,\n",
              "       0, 0, 0, 0, 0, 0, 0, 0, 0, 0, 0, 0, 0, 0, 0, 1, 0, 0, 0, 0, 0, 0,\n",
              "       0, 0, 1, 0, 1, 1, 1, 1, 1, 0, 0, 1, 0, 0, 1, 1, 1, 1, 0, 1, 0, 0,\n",
              "       1, 1, 1, 1, 0, 1, 0, 0, 1, 0, 1, 0, 0, 1, 1, 1, 0, 0, 1, 0, 0, 0,\n",
              "       1, 1, 1, 0, 1, 1, 0, 0, 1, 1, 1, 0, 0, 1, 1, 1, 1, 0, 1, 1, 0, 1,\n",
              "       1, 1, 1, 1, 1, 1, 1, 0, 0, 0, 1, 0, 0, 1, 1, 1, 0, 0, 1, 0, 1, 0,\n",
              "       0, 1, 0, 0, 1, 1, 0, 1, 1, 0, 1, 1, 1, 1, 0, 1, 1, 1, 1, 1, 1, 1,\n",
              "       1, 1, 0, 1, 1, 1, 1, 0, 0, 1, 0, 1, 1, 0, 0, 1, 1, 0, 0, 1, 1, 1,\n",
              "       1, 0, 1, 1, 0, 0, 0, 1, 0, 1, 0, 1, 1, 1, 0, 1, 1, 0, 0, 1, 0, 0,\n",
              "       0, 0, 1, 0, 0, 0, 1, 0, 1, 0, 1, 1, 0, 1, 0, 0, 0, 0, 1, 1, 0, 0,\n",
              "       1, 1, 1, 0, 1, 1, 1, 1, 1, 0, 0, 1, 1, 0, 1, 1, 0, 0, 1, 0, 1, 1,\n",
              "       1, 1, 0, 1, 1, 1, 1, 1, 0, 1, 0, 0, 0, 0, 0, 0, 0, 0, 0, 0, 0, 0,\n",
              "       0, 0, 1, 1, 1, 1, 1, 1, 0, 1, 0, 1, 1, 0, 1, 1, 0, 1, 0, 0, 1, 1,\n",
              "       1, 1, 1, 1, 1, 1, 1, 1, 1, 1, 1, 0, 1, 1, 0, 1, 0, 1, 1, 1, 1, 1,\n",
              "       1, 1, 1, 1, 1, 1, 1, 1, 1, 0, 1, 1, 1, 0, 1, 0, 1, 1, 1, 1, 0, 0,\n",
              "       0, 1, 1, 1, 1, 0, 1, 0, 1, 0, 1, 1, 1, 0, 1, 1, 1, 1, 1, 1, 1, 0,\n",
              "       0, 0, 1, 1, 1, 1, 1, 1, 1, 1, 1, 1, 1, 0, 0, 1, 0, 0, 0, 1, 0, 0,\n",
              "       1, 1, 1, 1, 1, 0, 1, 1, 1, 1, 1, 0, 1, 1, 1, 0, 1, 1, 0, 0, 1, 1,\n",
              "       1, 1, 1, 1, 0, 1, 1, 1, 1, 1, 1, 1, 0, 1, 1, 1, 1, 1, 0, 1, 1, 0,\n",
              "       1, 1, 1, 1, 1, 1, 1, 1, 1, 1, 1, 1, 0, 1, 0, 0, 1, 0, 1, 1, 1, 1,\n",
              "       1, 0, 1, 1, 0, 1, 0, 1, 1, 0, 1, 0, 1, 1, 1, 1, 1, 1, 1, 1, 0, 0,\n",
              "       1, 1, 1, 1, 1, 1, 0, 1, 1, 1, 1, 1, 1, 1, 1, 1, 1, 0, 1, 1, 1, 1,\n",
              "       1, 1, 1, 0, 1, 0, 1, 1, 0, 1, 1, 1, 1, 1, 0, 0, 1, 0, 1, 0, 1, 1,\n",
              "       1, 1, 1, 0, 1, 1, 0, 1, 0, 1, 0, 0, 1, 1, 1, 0, 1, 1, 1, 1, 1, 1,\n",
              "       1, 1, 1, 1, 1, 0, 1, 0, 0, 1, 1, 1, 1, 1, 1, 1, 1, 1, 1, 1, 1, 1,\n",
              "       1, 1, 1, 1, 1, 1, 1, 1, 1, 1, 1, 1, 0, 0, 0, 0, 0, 0, 1])"
            ]
          },
          "metadata": {},
          "execution_count": 23
        }
      ]
    },
    {
      "cell_type": "code",
      "source": [
        "# their meaning is not lost\n",
        "print(\"Target names: \", data.target_names)\n",
        "print(\"Target shape\", data.target.shape)"
      ],
      "metadata": {
        "colab": {
          "base_uri": "https://localhost:8080/"
        },
        "id": "KfZ-sJfgOelc",
        "outputId": "101a6137-bedd-4c7b-9460-5d3fe75ddf97"
      },
      "execution_count": 24,
      "outputs": [
        {
          "output_type": "stream",
          "name": "stdout",
          "text": [
            "Target names:  ['malignant' 'benign']\n",
            "Target shape (569,)\n"
          ]
        }
      ]
    },
    {
      "cell_type": "code",
      "source": [
        "# Determine the meaning of each feature\n",
        "data.feature_names"
      ],
      "metadata": {
        "colab": {
          "base_uri": "https://localhost:8080/"
        },
        "id": "CVRImD-7OxI1",
        "outputId": "51aee6d3-9234-4fa2-c489-0d07dc8d9f1e"
      },
      "execution_count": 6,
      "outputs": [
        {
          "output_type": "execute_result",
          "data": {
            "text/plain": [
              "array(['mean radius', 'mean texture', 'mean perimeter', 'mean area',\n",
              "       'mean smoothness', 'mean compactness', 'mean concavity',\n",
              "       'mean concave points', 'mean symmetry', 'mean fractal dimension',\n",
              "       'radius error', 'texture error', 'perimeter error', 'area error',\n",
              "       'smoothness error', 'compactness error', 'concavity error',\n",
              "       'concave points error', 'symmetry error',\n",
              "       'fractal dimension error', 'worst radius', 'worst texture',\n",
              "       'worst perimeter', 'worst area', 'worst smoothness',\n",
              "       'worst compactness', 'worst concavity', 'worst concave points',\n",
              "       'worst symmetry', 'worst fractal dimension'], dtype='<U23')"
            ]
          },
          "metadata": {},
          "execution_count": 6
        }
      ]
    },
    {
      "cell_type": "code",
      "source": [
        "# Split the data int train and test sets\n",
        "X_train, X_test, y_train, y_test = train_test_split(data.data, data.target, test_size=0.33)\n",
        "N, D = X_train.shape"
      ],
      "metadata": {
        "id": "Nn_yH7Y5PVHb",
        "colab": {
          "base_uri": "https://localhost:8080/"
        },
        "outputId": "a47e4a9c-feac-49fb-b28d-930b4c0c4592"
      },
      "execution_count": 27,
      "outputs": [
        {
          "output_type": "execute_result",
          "data": {
            "text/plain": [
              "381"
            ]
          },
          "metadata": {},
          "execution_count": 27
        }
      ]
    },
    {
      "cell_type": "code",
      "source": [
        "# Scale the data\n",
        "scaler = StandardScaler()\n",
        "X_train = scaler.fit_transform(X_train)\n",
        "X_test = scaler.transform(X_test)"
      ],
      "metadata": {
        "id": "bEWG-6hUP1Vk"
      },
      "execution_count": 8,
      "outputs": []
    },
    {
      "cell_type": "code",
      "source": [
        "# Build  de model\n",
        "model = tf.keras.models.Sequential([\n",
        "    tf.keras.layers.Input(shape=(D,)),\n",
        "    tf.keras.layers.Dense(1, activation=\"sigmoid\")\n",
        "])"
      ],
      "metadata": {
        "id": "FlqrofikQuNH"
      },
      "execution_count": 9,
      "outputs": []
    },
    {
      "cell_type": "code",
      "source": [
        "model.compile(\n",
        "    optimizer=\"adam\", \n",
        "    loss=\"binary_crossentropy\", \n",
        "    metrics=[\"accuracy\"]\n",
        ")"
      ],
      "metadata": {
        "id": "MJZEZIRgSJLW"
      },
      "execution_count": 10,
      "outputs": []
    },
    {
      "cell_type": "code",
      "source": [
        "# Train de model\n",
        "r = model.fit(X_train, y_train, validation_data=(X_test, y_test), epochs=100)"
      ],
      "metadata": {
        "colab": {
          "base_uri": "https://localhost:8080/"
        },
        "id": "CWhNniB8Sbsa",
        "outputId": "13114bba-deea-4863-f599-71511b6a5d89"
      },
      "execution_count": 11,
      "outputs": [
        {
          "output_type": "stream",
          "name": "stdout",
          "text": [
            "Epoch 1/100\n",
            "12/12 [==============================] - 1s 19ms/step - loss: 0.5507 - accuracy: 0.7559 - val_loss: 0.5272 - val_accuracy: 0.7660\n",
            "Epoch 2/100\n",
            "12/12 [==============================] - 0s 5ms/step - loss: 0.5034 - accuracy: 0.7822 - val_loss: 0.4826 - val_accuracy: 0.8138\n",
            "Epoch 3/100\n",
            "12/12 [==============================] - 0s 5ms/step - loss: 0.4634 - accuracy: 0.8215 - val_loss: 0.4443 - val_accuracy: 0.8298\n",
            "Epoch 4/100\n",
            "12/12 [==============================] - 0s 3ms/step - loss: 0.4269 - accuracy: 0.8346 - val_loss: 0.4123 - val_accuracy: 0.8457\n",
            "Epoch 5/100\n",
            "12/12 [==============================] - 0s 5ms/step - loss: 0.3968 - accuracy: 0.8478 - val_loss: 0.3848 - val_accuracy: 0.8564\n",
            "Epoch 6/100\n",
            "12/12 [==============================] - 0s 4ms/step - loss: 0.3703 - accuracy: 0.8661 - val_loss: 0.3615 - val_accuracy: 0.8883\n",
            "Epoch 7/100\n",
            "12/12 [==============================] - 0s 4ms/step - loss: 0.3472 - accuracy: 0.8740 - val_loss: 0.3412 - val_accuracy: 0.8989\n",
            "Epoch 8/100\n",
            "12/12 [==============================] - 0s 4ms/step - loss: 0.3273 - accuracy: 0.8898 - val_loss: 0.3234 - val_accuracy: 0.9096\n",
            "Epoch 9/100\n",
            "12/12 [==============================] - 0s 4ms/step - loss: 0.3095 - accuracy: 0.8976 - val_loss: 0.3079 - val_accuracy: 0.9202\n",
            "Epoch 10/100\n",
            "12/12 [==============================] - 0s 4ms/step - loss: 0.2931 - accuracy: 0.9213 - val_loss: 0.2941 - val_accuracy: 0.9202\n",
            "Epoch 11/100\n",
            "12/12 [==============================] - 0s 4ms/step - loss: 0.2793 - accuracy: 0.9265 - val_loss: 0.2819 - val_accuracy: 0.9255\n",
            "Epoch 12/100\n",
            "12/12 [==============================] - 0s 4ms/step - loss: 0.2663 - accuracy: 0.9396 - val_loss: 0.2709 - val_accuracy: 0.9255\n",
            "Epoch 13/100\n",
            "12/12 [==============================] - 0s 5ms/step - loss: 0.2548 - accuracy: 0.9396 - val_loss: 0.2610 - val_accuracy: 0.9309\n",
            "Epoch 14/100\n",
            "12/12 [==============================] - 0s 3ms/step - loss: 0.2448 - accuracy: 0.9396 - val_loss: 0.2522 - val_accuracy: 0.9309\n",
            "Epoch 15/100\n",
            "12/12 [==============================] - 0s 4ms/step - loss: 0.2350 - accuracy: 0.9423 - val_loss: 0.2440 - val_accuracy: 0.9309\n",
            "Epoch 16/100\n",
            "12/12 [==============================] - 0s 5ms/step - loss: 0.2263 - accuracy: 0.9528 - val_loss: 0.2367 - val_accuracy: 0.9362\n",
            "Epoch 17/100\n",
            "12/12 [==============================] - 0s 4ms/step - loss: 0.2184 - accuracy: 0.9528 - val_loss: 0.2298 - val_accuracy: 0.9415\n",
            "Epoch 18/100\n",
            "12/12 [==============================] - 0s 4ms/step - loss: 0.2112 - accuracy: 0.9528 - val_loss: 0.2235 - val_accuracy: 0.9468\n",
            "Epoch 19/100\n",
            "12/12 [==============================] - 0s 4ms/step - loss: 0.2044 - accuracy: 0.9528 - val_loss: 0.2176 - val_accuracy: 0.9468\n",
            "Epoch 20/100\n",
            "12/12 [==============================] - 0s 3ms/step - loss: 0.1981 - accuracy: 0.9580 - val_loss: 0.2122 - val_accuracy: 0.9468\n",
            "Epoch 21/100\n",
            "12/12 [==============================] - 0s 6ms/step - loss: 0.1924 - accuracy: 0.9580 - val_loss: 0.2072 - val_accuracy: 0.9468\n",
            "Epoch 22/100\n",
            "12/12 [==============================] - 0s 4ms/step - loss: 0.1870 - accuracy: 0.9580 - val_loss: 0.2024 - val_accuracy: 0.9468\n",
            "Epoch 23/100\n",
            "12/12 [==============================] - 0s 4ms/step - loss: 0.1821 - accuracy: 0.9606 - val_loss: 0.1979 - val_accuracy: 0.9468\n",
            "Epoch 24/100\n",
            "12/12 [==============================] - 0s 4ms/step - loss: 0.1773 - accuracy: 0.9606 - val_loss: 0.1937 - val_accuracy: 0.9468\n",
            "Epoch 25/100\n",
            "12/12 [==============================] - 0s 4ms/step - loss: 0.1729 - accuracy: 0.9659 - val_loss: 0.1899 - val_accuracy: 0.9521\n",
            "Epoch 26/100\n",
            "12/12 [==============================] - 0s 4ms/step - loss: 0.1688 - accuracy: 0.9659 - val_loss: 0.1863 - val_accuracy: 0.9521\n",
            "Epoch 27/100\n",
            "12/12 [==============================] - 0s 4ms/step - loss: 0.1650 - accuracy: 0.9685 - val_loss: 0.1827 - val_accuracy: 0.9521\n",
            "Epoch 28/100\n",
            "12/12 [==============================] - 0s 4ms/step - loss: 0.1611 - accuracy: 0.9711 - val_loss: 0.1795 - val_accuracy: 0.9521\n",
            "Epoch 29/100\n",
            "12/12 [==============================] - 0s 4ms/step - loss: 0.1579 - accuracy: 0.9711 - val_loss: 0.1762 - val_accuracy: 0.9521\n",
            "Epoch 30/100\n",
            "12/12 [==============================] - 0s 4ms/step - loss: 0.1547 - accuracy: 0.9711 - val_loss: 0.1733 - val_accuracy: 0.9628\n",
            "Epoch 31/100\n",
            "12/12 [==============================] - 0s 3ms/step - loss: 0.1514 - accuracy: 0.9711 - val_loss: 0.1705 - val_accuracy: 0.9628\n",
            "Epoch 32/100\n",
            "12/12 [==============================] - 0s 3ms/step - loss: 0.1486 - accuracy: 0.9711 - val_loss: 0.1678 - val_accuracy: 0.9628\n",
            "Epoch 33/100\n",
            "12/12 [==============================] - 0s 4ms/step - loss: 0.1458 - accuracy: 0.9711 - val_loss: 0.1653 - val_accuracy: 0.9628\n",
            "Epoch 34/100\n",
            "12/12 [==============================] - 0s 3ms/step - loss: 0.1433 - accuracy: 0.9711 - val_loss: 0.1629 - val_accuracy: 0.9628\n",
            "Epoch 35/100\n",
            "12/12 [==============================] - 0s 4ms/step - loss: 0.1407 - accuracy: 0.9711 - val_loss: 0.1605 - val_accuracy: 0.9628\n",
            "Epoch 36/100\n",
            "12/12 [==============================] - 0s 4ms/step - loss: 0.1384 - accuracy: 0.9711 - val_loss: 0.1583 - val_accuracy: 0.9628\n",
            "Epoch 37/100\n",
            "12/12 [==============================] - 0s 4ms/step - loss: 0.1362 - accuracy: 0.9711 - val_loss: 0.1560 - val_accuracy: 0.9628\n",
            "Epoch 38/100\n",
            "12/12 [==============================] - 0s 4ms/step - loss: 0.1341 - accuracy: 0.9711 - val_loss: 0.1540 - val_accuracy: 0.9628\n",
            "Epoch 39/100\n",
            "12/12 [==============================] - 0s 5ms/step - loss: 0.1320 - accuracy: 0.9764 - val_loss: 0.1521 - val_accuracy: 0.9628\n",
            "Epoch 40/100\n",
            "12/12 [==============================] - 0s 4ms/step - loss: 0.1301 - accuracy: 0.9764 - val_loss: 0.1502 - val_accuracy: 0.9628\n",
            "Epoch 41/100\n",
            "12/12 [==============================] - 0s 4ms/step - loss: 0.1282 - accuracy: 0.9764 - val_loss: 0.1484 - val_accuracy: 0.9628\n",
            "Epoch 42/100\n",
            "12/12 [==============================] - 0s 5ms/step - loss: 0.1264 - accuracy: 0.9764 - val_loss: 0.1466 - val_accuracy: 0.9628\n",
            "Epoch 43/100\n",
            "12/12 [==============================] - 0s 4ms/step - loss: 0.1247 - accuracy: 0.9764 - val_loss: 0.1449 - val_accuracy: 0.9681\n",
            "Epoch 44/100\n",
            "12/12 [==============================] - 0s 4ms/step - loss: 0.1231 - accuracy: 0.9764 - val_loss: 0.1433 - val_accuracy: 0.9681\n",
            "Epoch 45/100\n",
            "12/12 [==============================] - 0s 4ms/step - loss: 0.1215 - accuracy: 0.9790 - val_loss: 0.1417 - val_accuracy: 0.9681\n",
            "Epoch 46/100\n",
            "12/12 [==============================] - 0s 4ms/step - loss: 0.1200 - accuracy: 0.9790 - val_loss: 0.1402 - val_accuracy: 0.9681\n",
            "Epoch 47/100\n",
            "12/12 [==============================] - 0s 4ms/step - loss: 0.1186 - accuracy: 0.9790 - val_loss: 0.1388 - val_accuracy: 0.9681\n",
            "Epoch 48/100\n",
            "12/12 [==============================] - 0s 4ms/step - loss: 0.1172 - accuracy: 0.9790 - val_loss: 0.1373 - val_accuracy: 0.9681\n",
            "Epoch 49/100\n",
            "12/12 [==============================] - 0s 4ms/step - loss: 0.1158 - accuracy: 0.9790 - val_loss: 0.1360 - val_accuracy: 0.9681\n",
            "Epoch 50/100\n",
            "12/12 [==============================] - 0s 4ms/step - loss: 0.1146 - accuracy: 0.9790 - val_loss: 0.1347 - val_accuracy: 0.9681\n",
            "Epoch 51/100\n",
            "12/12 [==============================] - 0s 4ms/step - loss: 0.1133 - accuracy: 0.9790 - val_loss: 0.1334 - val_accuracy: 0.9681\n",
            "Epoch 52/100\n",
            "12/12 [==============================] - 0s 5ms/step - loss: 0.1121 - accuracy: 0.9790 - val_loss: 0.1322 - val_accuracy: 0.9681\n",
            "Epoch 53/100\n",
            "12/12 [==============================] - 0s 5ms/step - loss: 0.1109 - accuracy: 0.9790 - val_loss: 0.1310 - val_accuracy: 0.9681\n",
            "Epoch 54/100\n",
            "12/12 [==============================] - 0s 3ms/step - loss: 0.1098 - accuracy: 0.9790 - val_loss: 0.1298 - val_accuracy: 0.9681\n",
            "Epoch 55/100\n",
            "12/12 [==============================] - 0s 4ms/step - loss: 0.1088 - accuracy: 0.9790 - val_loss: 0.1287 - val_accuracy: 0.9681\n",
            "Epoch 56/100\n",
            "12/12 [==============================] - 0s 3ms/step - loss: 0.1077 - accuracy: 0.9790 - val_loss: 0.1276 - val_accuracy: 0.9681\n",
            "Epoch 57/100\n",
            "12/12 [==============================] - 0s 4ms/step - loss: 0.1067 - accuracy: 0.9790 - val_loss: 0.1266 - val_accuracy: 0.9681\n",
            "Epoch 58/100\n",
            "12/12 [==============================] - 0s 6ms/step - loss: 0.1057 - accuracy: 0.9790 - val_loss: 0.1255 - val_accuracy: 0.9681\n",
            "Epoch 59/100\n",
            "12/12 [==============================] - 0s 4ms/step - loss: 0.1047 - accuracy: 0.9790 - val_loss: 0.1246 - val_accuracy: 0.9681\n",
            "Epoch 60/100\n",
            "12/12 [==============================] - 0s 4ms/step - loss: 0.1038 - accuracy: 0.9790 - val_loss: 0.1236 - val_accuracy: 0.9681\n",
            "Epoch 61/100\n",
            "12/12 [==============================] - 0s 5ms/step - loss: 0.1030 - accuracy: 0.9790 - val_loss: 0.1227 - val_accuracy: 0.9681\n",
            "Epoch 62/100\n",
            "12/12 [==============================] - 0s 4ms/step - loss: 0.1020 - accuracy: 0.9790 - val_loss: 0.1218 - val_accuracy: 0.9681\n",
            "Epoch 63/100\n",
            "12/12 [==============================] - 0s 4ms/step - loss: 0.1012 - accuracy: 0.9790 - val_loss: 0.1209 - val_accuracy: 0.9681\n",
            "Epoch 64/100\n",
            "12/12 [==============================] - 0s 5ms/step - loss: 0.1003 - accuracy: 0.9790 - val_loss: 0.1201 - val_accuracy: 0.9681\n",
            "Epoch 65/100\n",
            "12/12 [==============================] - 0s 4ms/step - loss: 0.0996 - accuracy: 0.9790 - val_loss: 0.1193 - val_accuracy: 0.9681\n",
            "Epoch 66/100\n",
            "12/12 [==============================] - 0s 5ms/step - loss: 0.0988 - accuracy: 0.9790 - val_loss: 0.1184 - val_accuracy: 0.9734\n",
            "Epoch 67/100\n",
            "12/12 [==============================] - 0s 4ms/step - loss: 0.0980 - accuracy: 0.9790 - val_loss: 0.1176 - val_accuracy: 0.9734\n",
            "Epoch 68/100\n",
            "12/12 [==============================] - 0s 3ms/step - loss: 0.0973 - accuracy: 0.9790 - val_loss: 0.1169 - val_accuracy: 0.9734\n",
            "Epoch 69/100\n",
            "12/12 [==============================] - 0s 4ms/step - loss: 0.0966 - accuracy: 0.9816 - val_loss: 0.1161 - val_accuracy: 0.9734\n",
            "Epoch 70/100\n",
            "12/12 [==============================] - 0s 4ms/step - loss: 0.0958 - accuracy: 0.9816 - val_loss: 0.1154 - val_accuracy: 0.9734\n",
            "Epoch 71/100\n",
            "12/12 [==============================] - 0s 5ms/step - loss: 0.0952 - accuracy: 0.9816 - val_loss: 0.1148 - val_accuracy: 0.9734\n",
            "Epoch 72/100\n",
            "12/12 [==============================] - 0s 3ms/step - loss: 0.0945 - accuracy: 0.9816 - val_loss: 0.1140 - val_accuracy: 0.9734\n",
            "Epoch 73/100\n",
            "12/12 [==============================] - 0s 4ms/step - loss: 0.0939 - accuracy: 0.9816 - val_loss: 0.1133 - val_accuracy: 0.9734\n",
            "Epoch 74/100\n",
            "12/12 [==============================] - 0s 4ms/step - loss: 0.0932 - accuracy: 0.9816 - val_loss: 0.1127 - val_accuracy: 0.9734\n",
            "Epoch 75/100\n",
            "12/12 [==============================] - 0s 5ms/step - loss: 0.0926 - accuracy: 0.9816 - val_loss: 0.1122 - val_accuracy: 0.9734\n",
            "Epoch 76/100\n",
            "12/12 [==============================] - 0s 5ms/step - loss: 0.0920 - accuracy: 0.9843 - val_loss: 0.1114 - val_accuracy: 0.9734\n",
            "Epoch 77/100\n",
            "12/12 [==============================] - 0s 4ms/step - loss: 0.0914 - accuracy: 0.9816 - val_loss: 0.1107 - val_accuracy: 0.9734\n",
            "Epoch 78/100\n",
            "12/12 [==============================] - 0s 5ms/step - loss: 0.0908 - accuracy: 0.9816 - val_loss: 0.1102 - val_accuracy: 0.9734\n",
            "Epoch 79/100\n",
            "12/12 [==============================] - 0s 4ms/step - loss: 0.0902 - accuracy: 0.9843 - val_loss: 0.1096 - val_accuracy: 0.9734\n",
            "Epoch 80/100\n",
            "12/12 [==============================] - 0s 4ms/step - loss: 0.0897 - accuracy: 0.9843 - val_loss: 0.1090 - val_accuracy: 0.9734\n",
            "Epoch 81/100\n",
            "12/12 [==============================] - 0s 5ms/step - loss: 0.0891 - accuracy: 0.9843 - val_loss: 0.1085 - val_accuracy: 0.9734\n",
            "Epoch 82/100\n",
            "12/12 [==============================] - 0s 4ms/step - loss: 0.0886 - accuracy: 0.9843 - val_loss: 0.1079 - val_accuracy: 0.9734\n",
            "Epoch 83/100\n",
            "12/12 [==============================] - 0s 4ms/step - loss: 0.0881 - accuracy: 0.9843 - val_loss: 0.1075 - val_accuracy: 0.9734\n",
            "Epoch 84/100\n",
            "12/12 [==============================] - 0s 10ms/step - loss: 0.0876 - accuracy: 0.9843 - val_loss: 0.1070 - val_accuracy: 0.9734\n",
            "Epoch 85/100\n",
            "12/12 [==============================] - 0s 7ms/step - loss: 0.0871 - accuracy: 0.9843 - val_loss: 0.1065 - val_accuracy: 0.9734\n",
            "Epoch 86/100\n",
            "12/12 [==============================] - 0s 7ms/step - loss: 0.0866 - accuracy: 0.9843 - val_loss: 0.1058 - val_accuracy: 0.9734\n",
            "Epoch 87/100\n",
            "12/12 [==============================] - 0s 5ms/step - loss: 0.0861 - accuracy: 0.9843 - val_loss: 0.1054 - val_accuracy: 0.9734\n",
            "Epoch 88/100\n",
            "12/12 [==============================] - 0s 8ms/step - loss: 0.0856 - accuracy: 0.9843 - val_loss: 0.1049 - val_accuracy: 0.9734\n",
            "Epoch 89/100\n",
            "12/12 [==============================] - 0s 7ms/step - loss: 0.0852 - accuracy: 0.9843 - val_loss: 0.1045 - val_accuracy: 0.9734\n",
            "Epoch 90/100\n",
            "12/12 [==============================] - 0s 5ms/step - loss: 0.0847 - accuracy: 0.9843 - val_loss: 0.1040 - val_accuracy: 0.9681\n",
            "Epoch 91/100\n",
            "12/12 [==============================] - 0s 7ms/step - loss: 0.0843 - accuracy: 0.9843 - val_loss: 0.1036 - val_accuracy: 0.9681\n",
            "Epoch 92/100\n",
            "12/12 [==============================] - 0s 6ms/step - loss: 0.0838 - accuracy: 0.9869 - val_loss: 0.1031 - val_accuracy: 0.9628\n",
            "Epoch 93/100\n",
            "12/12 [==============================] - 0s 6ms/step - loss: 0.0834 - accuracy: 0.9869 - val_loss: 0.1027 - val_accuracy: 0.9681\n",
            "Epoch 94/100\n",
            "12/12 [==============================] - 0s 10ms/step - loss: 0.0830 - accuracy: 0.9869 - val_loss: 0.1023 - val_accuracy: 0.9628\n",
            "Epoch 95/100\n",
            "12/12 [==============================] - 0s 8ms/step - loss: 0.0826 - accuracy: 0.9869 - val_loss: 0.1019 - val_accuracy: 0.9628\n",
            "Epoch 96/100\n",
            "12/12 [==============================] - 0s 8ms/step - loss: 0.0822 - accuracy: 0.9869 - val_loss: 0.1015 - val_accuracy: 0.9628\n",
            "Epoch 97/100\n",
            "12/12 [==============================] - 0s 6ms/step - loss: 0.0818 - accuracy: 0.9869 - val_loss: 0.1011 - val_accuracy: 0.9628\n",
            "Epoch 98/100\n",
            "12/12 [==============================] - 0s 8ms/step - loss: 0.0814 - accuracy: 0.9869 - val_loss: 0.1007 - val_accuracy: 0.9628\n",
            "Epoch 99/100\n",
            "12/12 [==============================] - 0s 7ms/step - loss: 0.0810 - accuracy: 0.9869 - val_loss: 0.1003 - val_accuracy: 0.9628\n",
            "Epoch 100/100\n",
            "12/12 [==============================] - 0s 9ms/step - loss: 0.0806 - accuracy: 0.9869 - val_loss: 0.1000 - val_accuracy: 0.9628\n"
          ]
        }
      ]
    },
    {
      "cell_type": "code",
      "source": [
        "print(\"Train score:\", model.evaluate(X_train, y_train))\n",
        "print(\"Test score:\", model.evaluate(X_test, y_test))"
      ],
      "metadata": {
        "colab": {
          "base_uri": "https://localhost:8080/"
        },
        "id": "ePA9UZlnS2I3",
        "outputId": "70a5f02a-a50d-4dbe-f089-90f6081d9abd"
      },
      "execution_count": 12,
      "outputs": [
        {
          "output_type": "stream",
          "name": "stdout",
          "text": [
            "12/12 [==============================] - 0s 2ms/step - loss: 0.0804 - accuracy: 0.9869\n",
            "Train score: [0.08039754629135132, 0.9868766665458679]\n",
            "6/6 [==============================] - 0s 2ms/step - loss: 0.1000 - accuracy: 0.9628\n",
            "Test score: [0.0999678522348404, 0.9627659320831299]\n"
          ]
        }
      ]
    },
    {
      "cell_type": "code",
      "source": [
        "# Plot what's returned by model.fit\n",
        "plt.plot(r.history[\"loss\"], label=\"loss\")\n",
        "plt.plot(r.history[\"val_loss\"], label=\"val_loss\")\n",
        "plt.legend()"
      ],
      "metadata": {
        "colab": {
          "base_uri": "https://localhost:8080/",
          "height": 282
        },
        "id": "hekgTQ_XTaKR",
        "outputId": "3654adc5-f2da-4eea-d587-4eb31a52d21e"
      },
      "execution_count": 13,
      "outputs": [
        {
          "output_type": "execute_result",
          "data": {
            "text/plain": [
              "<matplotlib.legend.Legend at 0x7fed2e826850>"
            ]
          },
          "metadata": {},
          "execution_count": 13
        },
        {
          "output_type": "display_data",
          "data": {
            "text/plain": [
              "<Figure size 432x288 with 1 Axes>"
            ],
            "image/png": "[encoded data removed]"
          },
          "metadata": {
            "needs_background": "light"
          }
        }
      ]
    },
    {
      "cell_type": "code",
      "source": [
        "# Plot the accuracy too\n",
        "plt.plot(r.history[\"accuracy\"], label=\"acc\")\n",
        "plt.plot(r.history[\"val_accuracy\"], label=\"val_acc\")\n",
        "plt.legend()"
      ],
      "metadata": {
        "colab": {
          "base_uri": "https://localhost:8080/",
          "height": 282
        },
        "id": "OgNBs24NUCgC",
        "outputId": "903f6051-f702-41f4-fb75-60c487166948"
      },
      "execution_count": 14,
      "outputs": [
        {
          "output_type": "execute_result",
          "data": {
            "text/plain": [
              "<matplotlib.legend.Legend at 0x7fed2bdbae50>"
            ]
          },
          "metadata": {},
          "execution_count": 14
        },
        {
          "output_type": "display_data",
          "data": {
            "text/plain": [
              "<Figure size 432x288 with 1 Axes>"
            ],
            "image/png": "[encoded data removed]"
          },
          "metadata": {
            "needs_background": "light"
          }
        }
      ]
    },
    {
      "cell_type": "markdown",
      "source": [
        "## Making Preditions"
      ],
      "metadata": {
        "id": "W4Wzl1tf1GuK"
      }
    },
    {
      "cell_type": "code",
      "source": [
        "# Make predictions\n",
        "P = model.predict(X_test)\n",
        "print(P) # they are outputs of the sigmoid, interpreted as probabilities p(y = 1 | x)"
      ],
      "metadata": {
        "colab": {
          "base_uri": "https://localhost:8080/"
        },
        "id": "KEP_GU6y1FJy",
        "outputId": "7ce196b9-d306-479d-df6d-6a0178337a41"
      },
      "execution_count": 15,
      "outputs": [
        {
          "output_type": "stream",
          "name": "stdout",
          "text": [
            "[[2.4136901e-04]\n",
            " [7.9424179e-01]\n",
            " [9.9006021e-01]\n",
            " [4.5435429e-03]\n",
            " [9.9460828e-01]\n",
            " [9.9686176e-01]\n",
            " [9.8051816e-01]\n",
            " [5.9494376e-03]\n",
            " [7.3365211e-02]\n",
            " [9.9838042e-01]\n",
            " [6.7322922e-01]\n",
            " [9.8681617e-01]\n",
            " [2.1733722e-01]\n",
            " [9.7754037e-01]\n",
            " [1.2806058e-04]\n",
            " [4.8158482e-01]\n",
            " [8.2300198e-01]\n",
            " [5.1913315e-01]\n",
            " [3.2839179e-04]\n",
            " [9.9120140e-01]\n",
            " [9.9279511e-01]\n",
            " [9.8601651e-01]\n",
            " [8.5553527e-04]\n",
            " [9.9835181e-01]\n",
            " [9.9052012e-02]\n",
            " [9.9537420e-01]\n",
            " [7.7050978e-01]\n",
            " [9.3563199e-03]\n",
            " [9.7430050e-03]\n",
            " [2.6109099e-02]\n",
            " [9.9938142e-01]\n",
            " [4.6844745e-01]\n",
            " [9.9950910e-01]\n",
            " [9.9165559e-02]\n",
            " [5.2292943e-03]\n",
            " [1.9635916e-02]\n",
            " [8.3190739e-02]\n",
            " [9.9902451e-01]\n",
            " [8.7483573e-01]\n",
            " [8.7164545e-01]\n",
            " [4.9720526e-01]\n",
            " [1.7401278e-02]\n",
            " [3.0886413e-15]\n",
            " [9.4850731e-01]\n",
            " [5.0597026e-07]\n",
            " [1.0271370e-03]\n",
            " [9.2430532e-01]\n",
            " [5.3584576e-04]\n",
            " [8.4799409e-01]\n",
            " [8.6937797e-01]\n",
            " [9.7395927e-01]\n",
            " [3.8827783e-01]\n",
            " [9.2422795e-01]\n",
            " [9.1656905e-01]\n",
            " [9.9471706e-01]\n",
            " [9.8045486e-01]\n",
            " [9.1461480e-01]\n",
            " [6.0251630e-05]\n",
            " [1.3926625e-04]\n",
            " [9.9072349e-01]\n",
            " [1.7181605e-02]\n",
            " [7.6997721e-01]\n",
            " [9.9990273e-01]\n",
            " [9.9964929e-01]\n",
            " [4.3571573e-01]\n",
            " [7.7492535e-01]\n",
            " [9.0581441e-01]\n",
            " [5.7228798e-01]\n",
            " [4.4002533e-03]\n",
            " [9.9183857e-01]\n",
            " [8.9908314e-01]\n",
            " [9.9148667e-01]\n",
            " [1.4771269e-05]\n",
            " [7.5377244e-01]\n",
            " [4.1905682e-08]\n",
            " [8.7063873e-01]\n",
            " [1.2783777e-08]\n",
            " [1.8089107e-01]\n",
            " [9.9483293e-01]\n",
            " [3.4466386e-04]\n",
            " [2.4794668e-02]\n",
            " [5.2018976e-01]\n",
            " [4.4032931e-04]\n",
            " [4.2484999e-03]\n",
            " [9.9537969e-01]\n",
            " [1.4690995e-02]\n",
            " [2.1813473e-09]\n",
            " [9.9658823e-01]\n",
            " [1.1700078e-05]\n",
            " [9.9447680e-01]\n",
            " [9.9892890e-01]\n",
            " [9.8630357e-01]\n",
            " [2.2191042e-08]\n",
            " [8.8456321e-01]\n",
            " [9.5497775e-01]\n",
            " [9.5920581e-01]\n",
            " [4.0599138e-02]\n",
            " [2.5526638e-06]\n",
            " [9.5366848e-01]\n",
            " [8.6160612e-01]\n",
            " [9.9939865e-01]\n",
            " [4.3624669e-02]\n",
            " [9.1491067e-01]\n",
            " [8.0424076e-07]\n",
            " [1.2957454e-03]\n",
            " [7.2874427e-03]\n",
            " [9.8316288e-01]\n",
            " [6.8718195e-04]\n",
            " [9.9021024e-01]\n",
            " [9.9923110e-01]\n",
            " [9.9881953e-01]\n",
            " [9.5801818e-01]\n",
            " [4.5633316e-04]\n",
            " [7.3939562e-04]\n",
            " [9.8392469e-01]\n",
            " [2.9965040e-08]\n",
            " [9.9027228e-01]\n",
            " [9.9444437e-01]\n",
            " [6.1792147e-05]\n",
            " [1.1867237e-01]\n",
            " [9.9946558e-01]\n",
            " [1.4451146e-04]\n",
            " [5.1518172e-02]\n",
            " [9.8577636e-01]\n",
            " [1.2939656e-01]\n",
            " [5.1764178e-01]\n",
            " [8.5737270e-01]\n",
            " [2.4780631e-04]\n",
            " [9.9913657e-01]\n",
            " [9.5549399e-01]\n",
            " [5.8924556e-01]\n",
            " [9.9313664e-01]\n",
            " [9.5574808e-01]\n",
            " [9.7234595e-01]\n",
            " [8.8089979e-01]\n",
            " [9.8958004e-01]\n",
            " [9.8886383e-01]\n",
            " [7.1578783e-01]\n",
            " [9.9015844e-01]\n",
            " [9.9419081e-01]\n",
            " [7.6620698e-02]\n",
            " [9.8665714e-01]\n",
            " [9.7163713e-01]\n",
            " [9.7712815e-01]\n",
            " [9.9469721e-01]\n",
            " [9.6481740e-01]\n",
            " [8.3884215e-01]\n",
            " [9.9837875e-01]\n",
            " [9.8900235e-01]\n",
            " [3.0440938e-01]\n",
            " [9.9796051e-01]\n",
            " [1.0313695e-04]\n",
            " [9.5219260e-01]\n",
            " [9.9992907e-01]\n",
            " [9.5214105e-01]\n",
            " [2.9265881e-04]\n",
            " [9.7313583e-01]\n",
            " [3.4179389e-03]\n",
            " [6.9459432e-01]\n",
            " [9.5587957e-01]\n",
            " [9.9862850e-01]\n",
            " [3.4161240e-02]\n",
            " [9.9880934e-01]\n",
            " [5.2624941e-04]\n",
            " [6.3214719e-02]\n",
            " [9.3057203e-01]\n",
            " [9.6115851e-01]\n",
            " [9.8846608e-01]\n",
            " [3.0352736e-01]\n",
            " [9.5436692e-01]\n",
            " [8.9341402e-04]\n",
            " [2.5983031e-06]\n",
            " [1.5578657e-02]\n",
            " [9.9191654e-01]\n",
            " [9.9516302e-01]\n",
            " [9.9981266e-01]\n",
            " [8.1025171e-01]\n",
            " [9.5633912e-01]\n",
            " [8.9850897e-01]\n",
            " [9.8858714e-01]\n",
            " [1.5265674e-05]\n",
            " [9.9801558e-01]\n",
            " [9.4340843e-01]\n",
            " [9.8986340e-01]\n",
            " [9.7561437e-01]\n",
            " [9.9991906e-01]\n",
            " [1.8113852e-04]\n",
            " [9.7162873e-01]]\n"
          ]
        }
      ]
    },
    {
      "cell_type": "code",
      "source": [
        "# Round to get the actual preditions\n",
        "# Note: has to be flattened since the targets are size (N,) while the predictions are size (N, 1)\n",
        "P = np.round(P).flatten()\n",
        "print(P)"
      ],
      "metadata": {
        "colab": {
          "base_uri": "https://localhost:8080/"
        },
        "id": "G5PVss6y1gKh",
        "outputId": "90f68804-52e4-4da2-b3ae-22cb4d6ba99e"
      },
      "execution_count": 16,
      "outputs": [
        {
          "output_type": "stream",
          "name": "stdout",
          "text": [
            "[0. 1. 1. 0. 1. 1. 1. 0. 0. 1. 1. 1. 0. 1. 0. 0. 1. 1. 0. 1. 1. 1. 0. 1.\n",
            " 0. 1. 1. 0. 0. 0. 1. 0. 1. 0. 0. 0. 0. 1. 1. 1. 0. 0. 0. 1. 0. 0. 1. 0.\n",
            " 1. 1. 1. 0. 1. 1. 1. 1. 1. 0. 0. 1. 0. 1. 1. 1. 0. 1. 1. 1. 0. 1. 1. 1.\n",
            " 0. 1. 0. 1. 0. 0. 1. 0. 0. 1. 0. 0. 1. 0. 0. 1. 0. 1. 1. 1. 0. 1. 1. 1.\n",
            " 0. 0. 1. 1. 1. 0. 1. 0. 0. 0. 1. 0. 1. 1. 1. 1. 0. 0. 1. 0. 1. 1. 0. 0.\n",
            " 1. 0. 0. 1. 0. 1. 1. 0. 1. 1. 1. 1. 1. 1. 1. 1. 1. 1. 1. 1. 0. 1. 1. 1.\n",
            " 1. 1. 1. 1. 1. 0. 1. 0. 1. 1. 1. 0. 1. 0. 1. 1. 1. 0. 1. 0. 0. 1. 1. 1.\n",
            " 0. 1. 0. 0. 0. 1. 1. 1. 1. 1. 1. 1. 0. 1. 1. 1. 1. 1. 0. 1.]\n"
          ]
        }
      ]
    },
    {
      "cell_type": "code",
      "source": [
        "# Calculate the accuracy, compare it to evaluate() output\n",
        "print(\"Manually calculated accuracy:\", np.mean(P == y_test))\n",
        "print(\"Evaluate output:\", model.evaluate(X_test, y_test))"
      ],
      "metadata": {
        "colab": {
          "base_uri": "https://localhost:8080/"
        },
        "id": "-YOOq27F3DZ5",
        "outputId": "62623ac5-d480-4416-c6fd-dfb0baffcd0d"
      },
      "execution_count": 17,
      "outputs": [
        {
          "output_type": "stream",
          "name": "stdout",
          "text": [
            "Manually calculated accuracy: 0.9627659574468085\n",
            "6/6 [==============================] - 0s 2ms/step - loss: 0.1000 - accuracy: 0.9628\n",
            "Evaluate output: [0.0999678522348404, 0.9627659320831299]\n"
          ]
        }
      ]
    }
  ]
}