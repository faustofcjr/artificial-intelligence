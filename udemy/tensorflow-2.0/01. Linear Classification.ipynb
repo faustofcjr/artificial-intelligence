{
  "nbformat": 4,
  "nbformat_minor": 0,
  "metadata": {
    "colab": {
      "name": "01. Linear Classification.ipynb",
      "provenance": [],
      "collapsed_sections": [],
      "authorship_tag": "ABX9TyOhMOzGp+iQLGieqsCnp1PA"
    },
    "kernelspec": {
      "name": "python3",
      "display_name": "Python 3"
    },
    "language_info": {
      "name": "python"
    }
  },
  "cells": [
    {
      "cell_type": "code",
      "execution_count": 1,
      "metadata": {
        "colab": {
          "base_uri": "https://localhost:8080/"
        },
        "id": "ZBvWBSWZLvdZ",
        "outputId": "6ad9fda0-c0aa-45a4-8d58-e1aa623633f7"
      },
      "outputs": [
        {
          "output_type": "stream",
          "name": "stdout",
          "text": [
            "2.8.2\n"
          ]
        }
      ],
      "source": [
        "import tensorflow as tf\n",
        "from sklearn.datasets import load_breast_cancer\n",
        "from sklearn.model_selection import train_test_split\n",
        "from sklearn.preprocessing import StandardScaler\n",
        "\n",
        "import matplotlib.pyplot as plt\n",
        "import numpy as np\n",
        "\n",
        "print(tf.__version__)"
      ]
    },
    {
      "cell_type": "code",
      "source": [
        "# Load in the data\n",
        "data = load_breast_cancer()"
      ],
      "metadata": {
        "id": "ac3XjjqLMleQ"
      },
      "execution_count": 2,
      "outputs": []
    },
    {
      "cell_type": "code",
      "source": [
        "# Check the type of 'data'\n",
        "print(\"Data type:\", type(data))\n",
        "print(\"Data Keys:\", data.keys())\n",
        "print(\"Data Shape:\", data.data.shape)"
      ],
      "metadata": {
        "colab": {
          "base_uri": "https://localhost:8080/"
        },
        "id": "esxcZxq4Nx9i",
        "outputId": "3b914eb9-c88b-4f5f-9357-02e8cbbcb5fe"
      },
      "execution_count": 3,
      "outputs": [
        {
          "output_type": "stream",
          "name": "stdout",
          "text": [
            "Data type: <class 'sklearn.utils.Bunch'>\n",
            "Data Keys: dict_keys(['data', 'target', 'frame', 'target_names', 'DESCR', 'feature_names', 'filename', 'data_module'])\n",
            "Data Shape: (569, 30)\n"
          ]
        }
      ]
    },
    {
      "cell_type": "code",
      "source": [
        "# print the targets\n",
        "data.target"
      ],
      "metadata": {
        "colab": {
          "base_uri": "https://localhost:8080/"
        },
        "id": "WVsZ3F98OXI9",
        "outputId": "237f3ccf-247b-4bc7-863f-3d2f4e6b5383"
      },
      "execution_count": 4,
      "outputs": [
        {
          "output_type": "execute_result",
          "data": {
            "text/plain": [
              "array([0, 0, 0, 0, 0, 0, 0, 0, 0, 0, 0, 0, 0, 0, 0, 0, 0, 0, 0, 1, 1, 1,\n",
              "       0, 0, 0, 0, 0, 0, 0, 0, 0, 0, 0, 0, 0, 0, 0, 1, 0, 0, 0, 0, 0, 0,\n",
              "       0, 0, 1, 0, 1, 1, 1, 1, 1, 0, 0, 1, 0, 0, 1, 1, 1, 1, 0, 1, 0, 0,\n",
              "       1, 1, 1, 1, 0, 1, 0, 0, 1, 0, 1, 0, 0, 1, 1, 1, 0, 0, 1, 0, 0, 0,\n",
              "       1, 1, 1, 0, 1, 1, 0, 0, 1, 1, 1, 0, 0, 1, 1, 1, 1, 0, 1, 1, 0, 1,\n",
              "       1, 1, 1, 1, 1, 1, 1, 0, 0, 0, 1, 0, 0, 1, 1, 1, 0, 0, 1, 0, 1, 0,\n",
              "       0, 1, 0, 0, 1, 1, 0, 1, 1, 0, 1, 1, 1, 1, 0, 1, 1, 1, 1, 1, 1, 1,\n",
              "       1, 1, 0, 1, 1, 1, 1, 0, 0, 1, 0, 1, 1, 0, 0, 1, 1, 0, 0, 1, 1, 1,\n",
              "       1, 0, 1, 1, 0, 0, 0, 1, 0, 1, 0, 1, 1, 1, 0, 1, 1, 0, 0, 1, 0, 0,\n",
              "       0, 0, 1, 0, 0, 0, 1, 0, 1, 0, 1, 1, 0, 1, 0, 0, 0, 0, 1, 1, 0, 0,\n",
              "       1, 1, 1, 0, 1, 1, 1, 1, 1, 0, 0, 1, 1, 0, 1, 1, 0, 0, 1, 0, 1, 1,\n",
              "       1, 1, 0, 1, 1, 1, 1, 1, 0, 1, 0, 0, 0, 0, 0, 0, 0, 0, 0, 0, 0, 0,\n",
              "       0, 0, 1, 1, 1, 1, 1, 1, 0, 1, 0, 1, 1, 0, 1, 1, 0, 1, 0, 0, 1, 1,\n",
              "       1, 1, 1, 1, 1, 1, 1, 1, 1, 1, 1, 0, 1, 1, 0, 1, 0, 1, 1, 1, 1, 1,\n",
              "       1, 1, 1, 1, 1, 1, 1, 1, 1, 0, 1, 1, 1, 0, 1, 0, 1, 1, 1, 1, 0, 0,\n",
              "       0, 1, 1, 1, 1, 0, 1, 0, 1, 0, 1, 1, 1, 0, 1, 1, 1, 1, 1, 1, 1, 0,\n",
              "       0, 0, 1, 1, 1, 1, 1, 1, 1, 1, 1, 1, 1, 0, 0, 1, 0, 0, 0, 1, 0, 0,\n",
              "       1, 1, 1, 1, 1, 0, 1, 1, 1, 1, 1, 0, 1, 1, 1, 0, 1, 1, 0, 0, 1, 1,\n",
              "       1, 1, 1, 1, 0, 1, 1, 1, 1, 1, 1, 1, 0, 1, 1, 1, 1, 1, 0, 1, 1, 0,\n",
              "       1, 1, 1, 1, 1, 1, 1, 1, 1, 1, 1, 1, 0, 1, 0, 0, 1, 0, 1, 1, 1, 1,\n",
              "       1, 0, 1, 1, 0, 1, 0, 1, 1, 0, 1, 0, 1, 1, 1, 1, 1, 1, 1, 1, 0, 0,\n",
              "       1, 1, 1, 1, 1, 1, 0, 1, 1, 1, 1, 1, 1, 1, 1, 1, 1, 0, 1, 1, 1, 1,\n",
              "       1, 1, 1, 0, 1, 0, 1, 1, 0, 1, 1, 1, 1, 1, 0, 0, 1, 0, 1, 0, 1, 1,\n",
              "       1, 1, 1, 0, 1, 1, 0, 1, 0, 1, 0, 0, 1, 1, 1, 0, 1, 1, 1, 1, 1, 1,\n",
              "       1, 1, 1, 1, 1, 0, 1, 0, 0, 1, 1, 1, 1, 1, 1, 1, 1, 1, 1, 1, 1, 1,\n",
              "       1, 1, 1, 1, 1, 1, 1, 1, 1, 1, 1, 1, 0, 0, 0, 0, 0, 0, 1])"
            ]
          },
          "metadata": {},
          "execution_count": 4
        }
      ]
    },
    {
      "cell_type": "code",
      "source": [
        "# their meaning is not lost\n",
        "print(\"Target names: \", data.target_names)\n",
        "print(\"Target shape\", data.target.shape)"
      ],
      "metadata": {
        "colab": {
          "base_uri": "https://localhost:8080/"
        },
        "id": "KfZ-sJfgOelc",
        "outputId": "9620100a-6d7a-4be3-becb-fd267a516895"
      },
      "execution_count": 5,
      "outputs": [
        {
          "output_type": "stream",
          "name": "stdout",
          "text": [
            "Target names:  ['malignant' 'benign']\n",
            "Target shape (569,)\n"
          ]
        }
      ]
    },
    {
      "cell_type": "code",
      "source": [
        "# Determine the meaning of each feature\n",
        "data.feature_names"
      ],
      "metadata": {
        "colab": {
          "base_uri": "https://localhost:8080/"
        },
        "id": "CVRImD-7OxI1",
        "outputId": "281a32d5-b3ff-4806-a836-1e34263479b8"
      },
      "execution_count": 6,
      "outputs": [
        {
          "output_type": "execute_result",
          "data": {
            "text/plain": [
              "array(['mean radius', 'mean texture', 'mean perimeter', 'mean area',\n",
              "       'mean smoothness', 'mean compactness', 'mean concavity',\n",
              "       'mean concave points', 'mean symmetry', 'mean fractal dimension',\n",
              "       'radius error', 'texture error', 'perimeter error', 'area error',\n",
              "       'smoothness error', 'compactness error', 'concavity error',\n",
              "       'concave points error', 'symmetry error',\n",
              "       'fractal dimension error', 'worst radius', 'worst texture',\n",
              "       'worst perimeter', 'worst area', 'worst smoothness',\n",
              "       'worst compactness', 'worst concavity', 'worst concave points',\n",
              "       'worst symmetry', 'worst fractal dimension'], dtype='<U23')"
            ]
          },
          "metadata": {},
          "execution_count": 6
        }
      ]
    },
    {
      "cell_type": "code",
      "source": [
        "# Split the data int train and test sets\n",
        "X_train, X_test, y_train, y_test = train_test_split(data.data, data.target, test_size=0.33)\n",
        "N, D = X_train.shape"
      ],
      "metadata": {
        "id": "Nn_yH7Y5PVHb"
      },
      "execution_count": 7,
      "outputs": []
    },
    {
      "cell_type": "code",
      "source": [
        "# Scale the data\n",
        "scaler = StandardScaler()\n",
        "X_train = scaler.fit_transform(X_train)\n",
        "X_test = scaler.transform(X_test)"
      ],
      "metadata": {
        "id": "bEWG-6hUP1Vk"
      },
      "execution_count": 8,
      "outputs": []
    },
    {
      "cell_type": "code",
      "source": [
        "# Build  de model\n",
        "model = tf.keras.models.Sequential([\n",
        "    tf.keras.layers.Input(shape=(D,)),\n",
        "    tf.keras.layers.Dense(1, activation=\"sigmoid\")\n",
        "])"
      ],
      "metadata": {
        "id": "FlqrofikQuNH"
      },
      "execution_count": 9,
      "outputs": []
    },
    {
      "cell_type": "code",
      "source": [
        "model.compile(\n",
        "    optimizer=\"adam\", \n",
        "    loss=\"binary_crossentropy\", \n",
        "    metrics=[\"accuracy\"]\n",
        ")"
      ],
      "metadata": {
        "id": "MJZEZIRgSJLW"
      },
      "execution_count": 10,
      "outputs": []
    },
    {
      "cell_type": "code",
      "source": [
        "# Train de model\n",
        "r = model.fit(X_train, y_train, validation_data=(X_test, y_test), epochs=100)"
      ],
      "metadata": {
        "colab": {
          "base_uri": "https://localhost:8080/"
        },
        "id": "CWhNniB8Sbsa",
        "outputId": "5de5243c-c490-4213-cb7a-298c75f73eb3"
      },
      "execution_count": 11,
      "outputs": [
        {
          "output_type": "stream",
          "name": "stdout",
          "text": [
            "Epoch 1/100\n",
            "12/12 [==============================] - 1s 17ms/step - loss: 0.9112 - accuracy: 0.3228 - val_loss: 0.8874 - val_accuracy: 0.2979\n",
            "Epoch 2/100\n",
            "12/12 [==============================] - 0s 3ms/step - loss: 0.8155 - accuracy: 0.4226 - val_loss: 0.7931 - val_accuracy: 0.4255\n",
            "Epoch 3/100\n",
            "12/12 [==============================] - 0s 3ms/step - loss: 0.7290 - accuracy: 0.5276 - val_loss: 0.7117 - val_accuracy: 0.5053\n",
            "Epoch 4/100\n",
            "12/12 [==============================] - 0s 3ms/step - loss: 0.6538 - accuracy: 0.6247 - val_loss: 0.6430 - val_accuracy: 0.6064\n",
            "Epoch 5/100\n",
            "12/12 [==============================] - 0s 4ms/step - loss: 0.5926 - accuracy: 0.7244 - val_loss: 0.5833 - val_accuracy: 0.7074\n",
            "Epoch 6/100\n",
            "12/12 [==============================] - 0s 4ms/step - loss: 0.5385 - accuracy: 0.7900 - val_loss: 0.5344 - val_accuracy: 0.7926\n",
            "Epoch 7/100\n",
            "12/12 [==============================] - 0s 4ms/step - loss: 0.4948 - accuracy: 0.8294 - val_loss: 0.4929 - val_accuracy: 0.8404\n",
            "Epoch 8/100\n",
            "12/12 [==============================] - 0s 4ms/step - loss: 0.4577 - accuracy: 0.8556 - val_loss: 0.4578 - val_accuracy: 0.8723\n",
            "Epoch 9/100\n",
            "12/12 [==============================] - 0s 6ms/step - loss: 0.4256 - accuracy: 0.8740 - val_loss: 0.4286 - val_accuracy: 0.8777\n",
            "Epoch 10/100\n",
            "12/12 [==============================] - 0s 5ms/step - loss: 0.3988 - accuracy: 0.8845 - val_loss: 0.4036 - val_accuracy: 0.8989\n",
            "Epoch 11/100\n",
            "12/12 [==============================] - 0s 4ms/step - loss: 0.3755 - accuracy: 0.8871 - val_loss: 0.3821 - val_accuracy: 0.9043\n",
            "Epoch 12/100\n",
            "12/12 [==============================] - 0s 3ms/step - loss: 0.3551 - accuracy: 0.9029 - val_loss: 0.3635 - val_accuracy: 0.9149\n",
            "Epoch 13/100\n",
            "12/12 [==============================] - 0s 5ms/step - loss: 0.3378 - accuracy: 0.9055 - val_loss: 0.3468 - val_accuracy: 0.9149\n",
            "Epoch 14/100\n",
            "12/12 [==============================] - 0s 6ms/step - loss: 0.3220 - accuracy: 0.9134 - val_loss: 0.3321 - val_accuracy: 0.9202\n",
            "Epoch 15/100\n",
            "12/12 [==============================] - 0s 10ms/step - loss: 0.3079 - accuracy: 0.9265 - val_loss: 0.3192 - val_accuracy: 0.9255\n",
            "Epoch 16/100\n",
            "12/12 [==============================] - 0s 9ms/step - loss: 0.2952 - accuracy: 0.9318 - val_loss: 0.3077 - val_accuracy: 0.9309\n",
            "Epoch 17/100\n",
            "12/12 [==============================] - 0s 8ms/step - loss: 0.2840 - accuracy: 0.9370 - val_loss: 0.2972 - val_accuracy: 0.9362\n",
            "Epoch 18/100\n",
            "12/12 [==============================] - 0s 6ms/step - loss: 0.2737 - accuracy: 0.9370 - val_loss: 0.2878 - val_accuracy: 0.9362\n",
            "Epoch 19/100\n",
            "12/12 [==============================] - 0s 9ms/step - loss: 0.2644 - accuracy: 0.9423 - val_loss: 0.2791 - val_accuracy: 0.9362\n",
            "Epoch 20/100\n",
            "12/12 [==============================] - 0s 6ms/step - loss: 0.2560 - accuracy: 0.9449 - val_loss: 0.2709 - val_accuracy: 0.9415\n",
            "Epoch 21/100\n",
            "12/12 [==============================] - 0s 7ms/step - loss: 0.2478 - accuracy: 0.9449 - val_loss: 0.2637 - val_accuracy: 0.9415\n",
            "Epoch 22/100\n",
            "12/12 [==============================] - 0s 8ms/step - loss: 0.2406 - accuracy: 0.9449 - val_loss: 0.2570 - val_accuracy: 0.9468\n",
            "Epoch 23/100\n",
            "12/12 [==============================] - 0s 9ms/step - loss: 0.2340 - accuracy: 0.9449 - val_loss: 0.2506 - val_accuracy: 0.9468\n",
            "Epoch 24/100\n",
            "12/12 [==============================] - 0s 6ms/step - loss: 0.2276 - accuracy: 0.9449 - val_loss: 0.2448 - val_accuracy: 0.9468\n",
            "Epoch 25/100\n",
            "12/12 [==============================] - 0s 6ms/step - loss: 0.2216 - accuracy: 0.9475 - val_loss: 0.2394 - val_accuracy: 0.9468\n",
            "Epoch 26/100\n",
            "12/12 [==============================] - 0s 6ms/step - loss: 0.2163 - accuracy: 0.9475 - val_loss: 0.2343 - val_accuracy: 0.9468\n",
            "Epoch 27/100\n",
            "12/12 [==============================] - 0s 8ms/step - loss: 0.2112 - accuracy: 0.9475 - val_loss: 0.2295 - val_accuracy: 0.9468\n",
            "Epoch 28/100\n",
            "12/12 [==============================] - 0s 9ms/step - loss: 0.2062 - accuracy: 0.9501 - val_loss: 0.2252 - val_accuracy: 0.9468\n",
            "Epoch 29/100\n",
            "12/12 [==============================] - 0s 7ms/step - loss: 0.2017 - accuracy: 0.9528 - val_loss: 0.2209 - val_accuracy: 0.9468\n",
            "Epoch 30/100\n",
            "12/12 [==============================] - 0s 8ms/step - loss: 0.1975 - accuracy: 0.9528 - val_loss: 0.2169 - val_accuracy: 0.9468\n",
            "Epoch 31/100\n",
            "12/12 [==============================] - 0s 7ms/step - loss: 0.1934 - accuracy: 0.9528 - val_loss: 0.2131 - val_accuracy: 0.9468\n",
            "Epoch 32/100\n",
            "12/12 [==============================] - 0s 7ms/step - loss: 0.1897 - accuracy: 0.9528 - val_loss: 0.2095 - val_accuracy: 0.9468\n",
            "Epoch 33/100\n",
            "12/12 [==============================] - 0s 6ms/step - loss: 0.1860 - accuracy: 0.9554 - val_loss: 0.2061 - val_accuracy: 0.9468\n",
            "Epoch 34/100\n",
            "12/12 [==============================] - 0s 6ms/step - loss: 0.1826 - accuracy: 0.9554 - val_loss: 0.2029 - val_accuracy: 0.9468\n",
            "Epoch 35/100\n",
            "12/12 [==============================] - 0s 5ms/step - loss: 0.1792 - accuracy: 0.9580 - val_loss: 0.1999 - val_accuracy: 0.9468\n",
            "Epoch 36/100\n",
            "12/12 [==============================] - 0s 6ms/step - loss: 0.1762 - accuracy: 0.9580 - val_loss: 0.1970 - val_accuracy: 0.9468\n",
            "Epoch 37/100\n",
            "12/12 [==============================] - 0s 9ms/step - loss: 0.1733 - accuracy: 0.9580 - val_loss: 0.1941 - val_accuracy: 0.9468\n",
            "Epoch 38/100\n",
            "12/12 [==============================] - 0s 6ms/step - loss: 0.1704 - accuracy: 0.9580 - val_loss: 0.1915 - val_accuracy: 0.9468\n",
            "Epoch 39/100\n",
            "12/12 [==============================] - 0s 6ms/step - loss: 0.1677 - accuracy: 0.9606 - val_loss: 0.1890 - val_accuracy: 0.9468\n",
            "Epoch 40/100\n",
            "12/12 [==============================] - 0s 10ms/step - loss: 0.1652 - accuracy: 0.9606 - val_loss: 0.1865 - val_accuracy: 0.9468\n",
            "Epoch 41/100\n",
            "12/12 [==============================] - 0s 7ms/step - loss: 0.1627 - accuracy: 0.9633 - val_loss: 0.1842 - val_accuracy: 0.9468\n",
            "Epoch 42/100\n",
            "12/12 [==============================] - 0s 6ms/step - loss: 0.1603 - accuracy: 0.9633 - val_loss: 0.1820 - val_accuracy: 0.9468\n",
            "Epoch 43/100\n",
            "12/12 [==============================] - 0s 14ms/step - loss: 0.1581 - accuracy: 0.9633 - val_loss: 0.1798 - val_accuracy: 0.9468\n",
            "Epoch 44/100\n",
            "12/12 [==============================] - 0s 17ms/step - loss: 0.1560 - accuracy: 0.9633 - val_loss: 0.1778 - val_accuracy: 0.9468\n",
            "Epoch 45/100\n",
            "12/12 [==============================] - 0s 10ms/step - loss: 0.1539 - accuracy: 0.9659 - val_loss: 0.1758 - val_accuracy: 0.9468\n",
            "Epoch 46/100\n",
            "12/12 [==============================] - 0s 14ms/step - loss: 0.1519 - accuracy: 0.9659 - val_loss: 0.1739 - val_accuracy: 0.9468\n",
            "Epoch 47/100\n",
            "12/12 [==============================] - 0s 14ms/step - loss: 0.1500 - accuracy: 0.9659 - val_loss: 0.1720 - val_accuracy: 0.9468\n",
            "Epoch 48/100\n",
            "12/12 [==============================] - 0s 14ms/step - loss: 0.1481 - accuracy: 0.9659 - val_loss: 0.1702 - val_accuracy: 0.9468\n",
            "Epoch 49/100\n",
            "12/12 [==============================] - 0s 9ms/step - loss: 0.1463 - accuracy: 0.9685 - val_loss: 0.1685 - val_accuracy: 0.9468\n",
            "Epoch 50/100\n",
            "12/12 [==============================] - 0s 12ms/step - loss: 0.1446 - accuracy: 0.9711 - val_loss: 0.1668 - val_accuracy: 0.9468\n",
            "Epoch 51/100\n",
            "12/12 [==============================] - 0s 22ms/step - loss: 0.1430 - accuracy: 0.9711 - val_loss: 0.1652 - val_accuracy: 0.9468\n",
            "Epoch 52/100\n",
            "12/12 [==============================] - 0s 21ms/step - loss: 0.1414 - accuracy: 0.9711 - val_loss: 0.1636 - val_accuracy: 0.9468\n",
            "Epoch 53/100\n",
            "12/12 [==============================] - 0s 17ms/step - loss: 0.1398 - accuracy: 0.9711 - val_loss: 0.1622 - val_accuracy: 0.9468\n",
            "Epoch 54/100\n",
            "12/12 [==============================] - 0s 9ms/step - loss: 0.1384 - accuracy: 0.9711 - val_loss: 0.1607 - val_accuracy: 0.9468\n",
            "Epoch 55/100\n",
            "12/12 [==============================] - 0s 17ms/step - loss: 0.1369 - accuracy: 0.9711 - val_loss: 0.1592 - val_accuracy: 0.9468\n",
            "Epoch 56/100\n",
            "12/12 [==============================] - 0s 14ms/step - loss: 0.1355 - accuracy: 0.9711 - val_loss: 0.1579 - val_accuracy: 0.9468\n",
            "Epoch 57/100\n",
            "12/12 [==============================] - 0s 13ms/step - loss: 0.1341 - accuracy: 0.9711 - val_loss: 0.1566 - val_accuracy: 0.9468\n",
            "Epoch 58/100\n",
            "12/12 [==============================] - 0s 10ms/step - loss: 0.1328 - accuracy: 0.9711 - val_loss: 0.1553 - val_accuracy: 0.9468\n",
            "Epoch 59/100\n",
            "12/12 [==============================] - 0s 10ms/step - loss: 0.1317 - accuracy: 0.9711 - val_loss: 0.1540 - val_accuracy: 0.9468\n",
            "Epoch 60/100\n",
            "12/12 [==============================] - 0s 13ms/step - loss: 0.1304 - accuracy: 0.9711 - val_loss: 0.1528 - val_accuracy: 0.9468\n",
            "Epoch 61/100\n",
            "12/12 [==============================] - 0s 19ms/step - loss: 0.1292 - accuracy: 0.9711 - val_loss: 0.1516 - val_accuracy: 0.9468\n",
            "Epoch 62/100\n",
            "12/12 [==============================] - 0s 9ms/step - loss: 0.1280 - accuracy: 0.9711 - val_loss: 0.1504 - val_accuracy: 0.9468\n",
            "Epoch 63/100\n",
            "12/12 [==============================] - 0s 9ms/step - loss: 0.1269 - accuracy: 0.9711 - val_loss: 0.1493 - val_accuracy: 0.9468\n",
            "Epoch 64/100\n",
            "12/12 [==============================] - 0s 15ms/step - loss: 0.1258 - accuracy: 0.9711 - val_loss: 0.1482 - val_accuracy: 0.9415\n",
            "Epoch 65/100\n",
            "12/12 [==============================] - 0s 21ms/step - loss: 0.1248 - accuracy: 0.9711 - val_loss: 0.1472 - val_accuracy: 0.9415\n",
            "Epoch 66/100\n",
            "12/12 [==============================] - 0s 13ms/step - loss: 0.1237 - accuracy: 0.9711 - val_loss: 0.1461 - val_accuracy: 0.9415\n",
            "Epoch 67/100\n",
            "12/12 [==============================] - 0s 17ms/step - loss: 0.1228 - accuracy: 0.9711 - val_loss: 0.1451 - val_accuracy: 0.9415\n",
            "Epoch 68/100\n",
            "12/12 [==============================] - 0s 15ms/step - loss: 0.1218 - accuracy: 0.9738 - val_loss: 0.1441 - val_accuracy: 0.9415\n",
            "Epoch 69/100\n",
            "12/12 [==============================] - 0s 14ms/step - loss: 0.1208 - accuracy: 0.9764 - val_loss: 0.1431 - val_accuracy: 0.9415\n",
            "Epoch 70/100\n",
            "12/12 [==============================] - 0s 12ms/step - loss: 0.1199 - accuracy: 0.9764 - val_loss: 0.1422 - val_accuracy: 0.9415\n",
            "Epoch 71/100\n",
            "12/12 [==============================] - 0s 20ms/step - loss: 0.1190 - accuracy: 0.9764 - val_loss: 0.1413 - val_accuracy: 0.9415\n",
            "Epoch 72/100\n",
            "12/12 [==============================] - 0s 10ms/step - loss: 0.1181 - accuracy: 0.9764 - val_loss: 0.1404 - val_accuracy: 0.9415\n",
            "Epoch 73/100\n",
            "12/12 [==============================] - 0s 13ms/step - loss: 0.1173 - accuracy: 0.9764 - val_loss: 0.1395 - val_accuracy: 0.9415\n",
            "Epoch 74/100\n",
            "12/12 [==============================] - 0s 12ms/step - loss: 0.1165 - accuracy: 0.9764 - val_loss: 0.1387 - val_accuracy: 0.9415\n",
            "Epoch 75/100\n",
            "12/12 [==============================] - 0s 13ms/step - loss: 0.1156 - accuracy: 0.9790 - val_loss: 0.1378 - val_accuracy: 0.9415\n",
            "Epoch 76/100\n",
            "12/12 [==============================] - 0s 12ms/step - loss: 0.1149 - accuracy: 0.9790 - val_loss: 0.1369 - val_accuracy: 0.9415\n",
            "Epoch 77/100\n",
            "12/12 [==============================] - 0s 16ms/step - loss: 0.1141 - accuracy: 0.9790 - val_loss: 0.1362 - val_accuracy: 0.9415\n",
            "Epoch 78/100\n",
            "12/12 [==============================] - 0s 11ms/step - loss: 0.1133 - accuracy: 0.9790 - val_loss: 0.1354 - val_accuracy: 0.9415\n",
            "Epoch 79/100\n",
            "12/12 [==============================] - 0s 16ms/step - loss: 0.1126 - accuracy: 0.9790 - val_loss: 0.1347 - val_accuracy: 0.9415\n",
            "Epoch 80/100\n",
            "12/12 [==============================] - 0s 16ms/step - loss: 0.1118 - accuracy: 0.9790 - val_loss: 0.1339 - val_accuracy: 0.9415\n",
            "Epoch 81/100\n",
            "12/12 [==============================] - 0s 8ms/step - loss: 0.1111 - accuracy: 0.9790 - val_loss: 0.1332 - val_accuracy: 0.9415\n",
            "Epoch 82/100\n",
            "12/12 [==============================] - 0s 17ms/step - loss: 0.1105 - accuracy: 0.9790 - val_loss: 0.1324 - val_accuracy: 0.9415\n",
            "Epoch 83/100\n",
            "12/12 [==============================] - 0s 13ms/step - loss: 0.1098 - accuracy: 0.9790 - val_loss: 0.1317 - val_accuracy: 0.9415\n",
            "Epoch 84/100\n",
            "12/12 [==============================] - 0s 20ms/step - loss: 0.1091 - accuracy: 0.9790 - val_loss: 0.1310 - val_accuracy: 0.9415\n",
            "Epoch 85/100\n",
            "12/12 [==============================] - 0s 10ms/step - loss: 0.1085 - accuracy: 0.9790 - val_loss: 0.1304 - val_accuracy: 0.9415\n",
            "Epoch 86/100\n",
            "12/12 [==============================] - 0s 14ms/step - loss: 0.1079 - accuracy: 0.9790 - val_loss: 0.1297 - val_accuracy: 0.9415\n",
            "Epoch 87/100\n",
            "12/12 [==============================] - 0s 15ms/step - loss: 0.1072 - accuracy: 0.9790 - val_loss: 0.1290 - val_accuracy: 0.9415\n",
            "Epoch 88/100\n",
            "12/12 [==============================] - 0s 11ms/step - loss: 0.1066 - accuracy: 0.9790 - val_loss: 0.1284 - val_accuracy: 0.9415\n",
            "Epoch 89/100\n",
            "12/12 [==============================] - 0s 17ms/step - loss: 0.1060 - accuracy: 0.9790 - val_loss: 0.1277 - val_accuracy: 0.9415\n",
            "Epoch 90/100\n",
            "12/12 [==============================] - 0s 24ms/step - loss: 0.1055 - accuracy: 0.9790 - val_loss: 0.1272 - val_accuracy: 0.9415\n",
            "Epoch 91/100\n",
            "12/12 [==============================] - 0s 13ms/step - loss: 0.1049 - accuracy: 0.9790 - val_loss: 0.1265 - val_accuracy: 0.9415\n",
            "Epoch 92/100\n",
            "12/12 [==============================] - 0s 14ms/step - loss: 0.1044 - accuracy: 0.9790 - val_loss: 0.1259 - val_accuracy: 0.9415\n",
            "Epoch 93/100\n",
            "12/12 [==============================] - 0s 13ms/step - loss: 0.1038 - accuracy: 0.9790 - val_loss: 0.1254 - val_accuracy: 0.9415\n",
            "Epoch 94/100\n",
            "12/12 [==============================] - 0s 14ms/step - loss: 0.1033 - accuracy: 0.9790 - val_loss: 0.1248 - val_accuracy: 0.9415\n",
            "Epoch 95/100\n",
            "12/12 [==============================] - 0s 13ms/step - loss: 0.1027 - accuracy: 0.9790 - val_loss: 0.1242 - val_accuracy: 0.9415\n",
            "Epoch 96/100\n",
            "12/12 [==============================] - 0s 14ms/step - loss: 0.1023 - accuracy: 0.9790 - val_loss: 0.1236 - val_accuracy: 0.9415\n",
            "Epoch 97/100\n",
            "12/12 [==============================] - 0s 12ms/step - loss: 0.1017 - accuracy: 0.9790 - val_loss: 0.1231 - val_accuracy: 0.9415\n",
            "Epoch 98/100\n",
            "12/12 [==============================] - 0s 15ms/step - loss: 0.1012 - accuracy: 0.9790 - val_loss: 0.1226 - val_accuracy: 0.9415\n",
            "Epoch 99/100\n",
            "12/12 [==============================] - 0s 16ms/step - loss: 0.1008 - accuracy: 0.9790 - val_loss: 0.1221 - val_accuracy: 0.9415\n",
            "Epoch 100/100\n",
            "12/12 [==============================] - 0s 8ms/step - loss: 0.1002 - accuracy: 0.9790 - val_loss: 0.1216 - val_accuracy: 0.9415\n"
          ]
        }
      ]
    },
    {
      "cell_type": "code",
      "source": [
        "print(\"Train score:\", model.evaluate(X_train, y_train))\n",
        "print(\"Test score:\", model.evaluate(X_test, y_test))"
      ],
      "metadata": {
        "colab": {
          "base_uri": "https://localhost:8080/"
        },
        "id": "ePA9UZlnS2I3",
        "outputId": "3aac1bb3-9102-404f-93ca-360557806c05"
      },
      "execution_count": 12,
      "outputs": [
        {
          "output_type": "stream",
          "name": "stdout",
          "text": [
            "12/12 [==============================] - 0s 1ms/step - loss: 0.1000 - accuracy: 0.9790\n",
            "Train score: [0.09998038411140442, 0.9790025949478149]\n",
            "6/6 [==============================] - 0s 3ms/step - loss: 0.1216 - accuracy: 0.9415\n",
            "Test score: [0.12156147509813309, 0.9414893388748169]\n"
          ]
        }
      ]
    },
    {
      "cell_type": "code",
      "source": [
        "# Plot what's returned by model.fit\n",
        "plt.plot(r.history[\"loss\"], label=\"loss\")\n",
        "plt.plot(r.history[\"val_loss\"], label=\"val_loss\")\n",
        "plt.legend()"
      ],
      "metadata": {
        "colab": {
          "base_uri": "https://localhost:8080/",
          "height": 282
        },
        "id": "hekgTQ_XTaKR",
        "outputId": "f67f519f-8b91-4044-ed26-0648f57e3159"
      },
      "execution_count": 13,
      "outputs": [
        {
          "output_type": "execute_result",
          "data": {
            "text/plain": [
              "<matplotlib.legend.Legend at 0x7f8d5ca2cdd0>"
            ]
          },
          "metadata": {},
          "execution_count": 13
        },
        {
          "output_type": "display_data",
          "data": {
            "text/plain": [
              "<Figure size 432x288 with 1 Axes>"
            ],
            "image/png": "[encoded data removed]"
          },
          "metadata": {
            "needs_background": "light"
          }
        }
      ]
    },
    {
      "cell_type": "code",
      "source": [
        "# Plot the accuracy too\n",
        "plt.plot(r.history[\"accuracy\"], label=\"acc\")\n",
        "plt.plot(r.history[\"val_accuracy\"], label=\"val_acc\")\n",
        "plt.legend()"
      ],
      "metadata": {
        "colab": {
          "base_uri": "https://localhost:8080/",
          "height": 283
        },
        "id": "OgNBs24NUCgC",
        "outputId": "3f993e49-53af-4571-bd22-6e738f8b1490"
      },
      "execution_count": 14,
      "outputs": [
        {
          "output_type": "execute_result",
          "data": {
            "text/plain": [
              "<matplotlib.legend.Legend at 0x7f8d58785990>"
            ]
          },
          "metadata": {},
          "execution_count": 14
        },
        {
          "output_type": "display_data",
          "data": {
            "text/plain": [
              "<Figure size 432x288 with 1 Axes>"
            ],
            "image/png": "[encoded data removed]"
          },
          "metadata": {
            "needs_background": "light"
          }
        }
      ]
    },
    {
      "cell_type": "markdown",
      "source": [
        "## Making Preditions"
      ],
      "metadata": {
        "id": "W4Wzl1tf1GuK"
      }
    },
    {
      "cell_type": "code",
      "source": [
        "# Make predictions\n",
        "P = model.predict(X_test)\n",
        "print(P) # they are outputs of the sigmoid, interpreted as probabilities p(y = 1 | x)"
      ],
      "metadata": {
        "colab": {
          "base_uri": "https://localhost:8080/"
        },
        "id": "KEP_GU6y1FJy",
        "outputId": "21c7ae53-75e2-49eb-fcc0-64fdbd07461a"
      },
      "execution_count": 15,
      "outputs": [
        {
          "output_type": "stream",
          "name": "stdout",
          "text": [
            "[[5.4423892e-01]\n",
            " [9.0055752e-01]\n",
            " [9.8586839e-01]\n",
            " [8.5985661e-04]\n",
            " [9.9776393e-01]\n",
            " [9.6876222e-01]\n",
            " [9.9339485e-01]\n",
            " [9.1375792e-01]\n",
            " [9.5650077e-01]\n",
            " [8.6966157e-04]\n",
            " [8.7108648e-01]\n",
            " [1.4731330e-01]\n",
            " [1.4021012e-07]\n",
            " [9.9729228e-01]\n",
            " [9.4943857e-01]\n",
            " [9.8496222e-01]\n",
            " [9.9896610e-01]\n",
            " [9.7557604e-02]\n",
            " [9.9957550e-01]\n",
            " [9.4466120e-02]\n",
            " [9.9328172e-01]\n",
            " [1.8235207e-02]\n",
            " [9.1243911e-01]\n",
            " [6.0933530e-03]\n",
            " [9.9890828e-01]\n",
            " [6.8871166e-05]\n",
            " [9.9322224e-01]\n",
            " [9.7836322e-01]\n",
            " [4.9729049e-03]\n",
            " [6.1530769e-03]\n",
            " [7.3131806e-01]\n",
            " [5.9719145e-02]\n",
            " [2.8294325e-04]\n",
            " [9.4539261e-01]\n",
            " [8.8095868e-01]\n",
            " [1.1027396e-02]\n",
            " [9.9981320e-01]\n",
            " [9.9765313e-01]\n",
            " [4.1501786e-05]\n",
            " [9.6216249e-01]\n",
            " [9.0642244e-01]\n",
            " [8.3869636e-01]\n",
            " [9.7594547e-01]\n",
            " [8.5241795e-03]\n",
            " [7.6619101e-01]\n",
            " [9.0587795e-01]\n",
            " [6.3049215e-01]\n",
            " [9.6005297e-01]\n",
            " [8.3922780e-01]\n",
            " [9.4257271e-01]\n",
            " [6.3461065e-04]\n",
            " [7.3527062e-01]\n",
            " [1.0628473e-07]\n",
            " [2.9978156e-04]\n",
            " [9.8371089e-01]\n",
            " [9.8476374e-01]\n",
            " [8.4921122e-03]\n",
            " [9.9962604e-01]\n",
            " [9.9792850e-01]\n",
            " [9.8933405e-01]\n",
            " [5.0949603e-01]\n",
            " [9.9819672e-01]\n",
            " [9.5893395e-01]\n",
            " [6.7931205e-01]\n",
            " [9.9667239e-01]\n",
            " [2.1364570e-02]\n",
            " [9.8429960e-01]\n",
            " [9.7745436e-01]\n",
            " [2.0010769e-03]\n",
            " [9.6865618e-01]\n",
            " [8.5454416e-01]\n",
            " [8.2051688e-01]\n",
            " [9.7492212e-01]\n",
            " [9.9229920e-01]\n",
            " [9.9471533e-01]\n",
            " [7.3370337e-04]\n",
            " [9.9546045e-01]\n",
            " [9.9739689e-01]\n",
            " [5.7118374e-01]\n",
            " [9.9531817e-01]\n",
            " [8.7223321e-01]\n",
            " [9.9897486e-01]\n",
            " [6.3908422e-01]\n",
            " [9.9619061e-01]\n",
            " [4.3320770e-06]\n",
            " [3.6075711e-04]\n",
            " [9.9982572e-01]\n",
            " [9.0821230e-01]\n",
            " [1.2525487e-01]\n",
            " [4.7561455e-01]\n",
            " [1.9519776e-01]\n",
            " [9.7004080e-01]\n",
            " [2.9816020e-01]\n",
            " [9.9866939e-01]\n",
            " [9.9886310e-01]\n",
            " [9.6397668e-01]\n",
            " [9.9581057e-01]\n",
            " [9.6324086e-04]\n",
            " [8.8208854e-02]\n",
            " [9.8565906e-01]\n",
            " [9.8792398e-01]\n",
            " [9.8116720e-01]\n",
            " [9.9656004e-01]\n",
            " [9.8474205e-01]\n",
            " [9.9712467e-01]\n",
            " [8.5641295e-01]\n",
            " [3.6597252e-04]\n",
            " [9.9102283e-01]\n",
            " [7.2675430e-06]\n",
            " [3.9728096e-01]\n",
            " [3.2269636e-01]\n",
            " [1.3974893e-01]\n",
            " [9.0547466e-01]\n",
            " [2.0572543e-04]\n",
            " [2.6176458e-06]\n",
            " [9.8967296e-01]\n",
            " [4.7117588e-01]\n",
            " [9.9423647e-01]\n",
            " [2.0454705e-02]\n",
            " [1.5874207e-03]\n",
            " [5.0390625e-01]\n",
            " [9.9731147e-01]\n",
            " [2.6164484e-01]\n",
            " [9.6111763e-01]\n",
            " [9.2480344e-01]\n",
            " [9.0232934e-05]\n",
            " [7.9735816e-01]\n",
            " [3.5744935e-02]\n",
            " [5.3188801e-03]\n",
            " [8.7792814e-02]\n",
            " [9.8873472e-01]\n",
            " [3.7826464e-01]\n",
            " [9.8991328e-01]\n",
            " [1.3097474e-01]\n",
            " [9.1249335e-01]\n",
            " [9.9195844e-01]\n",
            " [9.9898571e-01]\n",
            " [9.9776721e-01]\n",
            " [9.9000347e-01]\n",
            " [9.2676306e-01]\n",
            " [9.9916744e-01]\n",
            " [9.8723805e-01]\n",
            " [9.6807659e-01]\n",
            " [6.4871901e-01]\n",
            " [2.3764372e-04]\n",
            " [2.2112906e-02]\n",
            " [9.8942816e-01]\n",
            " [9.8810804e-01]\n",
            " [6.8230234e-05]\n",
            " [9.8701221e-01]\n",
            " [1.4704642e-01]\n",
            " [8.1617987e-01]\n",
            " [9.7744834e-01]\n",
            " [8.8513303e-01]\n",
            " [1.5208125e-04]\n",
            " [5.6231022e-04]\n",
            " [9.7179228e-01]\n",
            " [8.6532503e-01]\n",
            " [9.9889660e-01]\n",
            " [9.9751008e-01]\n",
            " [8.5426867e-01]\n",
            " [9.8912847e-01]\n",
            " [1.1140782e-01]\n",
            " [1.9524366e-02]\n",
            " [1.9439757e-03]\n",
            " [9.6960616e-01]\n",
            " [1.6385019e-03]\n",
            " [9.0513623e-01]\n",
            " [9.1441822e-01]\n",
            " [8.2462668e-02]\n",
            " [1.6067177e-02]\n",
            " [9.9907970e-01]\n",
            " [6.2400037e-01]\n",
            " [9.6326369e-01]\n",
            " [8.1100070e-01]\n",
            " [1.8197566e-02]\n",
            " [9.9693406e-01]\n",
            " [8.9714599e-01]\n",
            " [9.9785495e-01]\n",
            " [4.8693496e-01]\n",
            " [9.7076416e-01]\n",
            " [8.4059775e-01]\n",
            " [9.1522288e-01]\n",
            " [4.7234282e-01]\n",
            " [3.5853821e-01]\n",
            " [1.3121963e-04]\n",
            " [5.9611297e-01]\n",
            " [9.9825943e-01]]\n"
          ]
        }
      ]
    },
    {
      "cell_type": "code",
      "source": [
        "# Round to get the actual preditions\n",
        "# Note: has to be flattened since the targets are size (N,) while the predictions are size (N, 1)\n",
        "P = np.round(P).flatten()\n",
        "print(P)"
      ],
      "metadata": {
        "colab": {
          "base_uri": "https://localhost:8080/"
        },
        "id": "G5PVss6y1gKh",
        "outputId": "b16c3a82-5b30-47b1-d995-942cf8678b87"
      },
      "execution_count": 16,
      "outputs": [
        {
          "output_type": "stream",
          "name": "stdout",
          "text": [
            "[1. 1. 1. 0. 1. 1. 1. 1. 1. 0. 1. 0. 0. 1. 1. 1. 1. 0. 1. 0. 1. 0. 1. 0.\n",
            " 1. 0. 1. 1. 0. 0. 1. 0. 0. 1. 1. 0. 1. 1. 0. 1. 1. 1. 1. 0. 1. 1. 1. 1.\n",
            " 1. 1. 0. 1. 0. 0. 1. 1. 0. 1. 1. 1. 1. 1. 1. 1. 1. 0. 1. 1. 0. 1. 1. 1.\n",
            " 1. 1. 1. 0. 1. 1. 1. 1. 1. 1. 1. 1. 0. 0. 1. 1. 0. 0. 0. 1. 0. 1. 1. 1.\n",
            " 1. 0. 0. 1. 1. 1. 1. 1. 1. 1. 0. 1. 0. 0. 0. 0. 1. 0. 0. 1. 0. 1. 0. 0.\n",
            " 1. 1. 0. 1. 1. 0. 1. 0. 0. 0. 1. 0. 1. 0. 1. 1. 1. 1. 1. 1. 1. 1. 1. 1.\n",
            " 0. 0. 1. 1. 0. 1. 0. 1. 1. 1. 0. 0. 1. 1. 1. 1. 1. 1. 0. 0. 0. 1. 0. 1.\n",
            " 1. 0. 0. 1. 1. 1. 1. 0. 1. 1. 1. 0. 1. 1. 1. 0. 0. 0. 1. 1.]\n"
          ]
        }
      ]
    },
    {
      "cell_type": "code",
      "source": [
        "# Calculate the accuracy, compare it to evaluate() output\n",
        "print(\"Manually calculated accuracy:\", np.mean(P == y_test))\n",
        "print(\"Evaluate output:\", model.evaluate(X_test, y_test))"
      ],
      "metadata": {
        "colab": {
          "base_uri": "https://localhost:8080/"
        },
        "id": "-YOOq27F3DZ5",
        "outputId": "c18b9cab-b7d6-4c8d-da13-e8553b896a6a"
      },
      "execution_count": 17,
      "outputs": [
        {
          "output_type": "stream",
          "name": "stdout",
          "text": [
            "Manually calculated accuracy: 0.9414893617021277\n",
            "6/6 [==============================] - 0s 2ms/step - loss: 0.1216 - accuracy: 0.9415\n",
            "Evaluate output: [0.12156147509813309, 0.9414893388748169]\n"
          ]
        }
      ]
    }
  ]
}