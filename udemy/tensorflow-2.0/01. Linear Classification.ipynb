{
 "cells": [
  {
   "cell_type": "code",
   "execution_count": 18,
   "metadata": {
    "colab": {
     "base_uri": "https://localhost:8080/"
    },
    "executionInfo": {
     "elapsed": 312,
     "status": "ok",
     "timestamp": 1655497492458,
     "user": {
      "displayName": "Fausto Carvalho",
      "userId": "14769586862712322629"
     },
     "user_tz": 180
    },
    "id": "ZBvWBSWZLvdZ",
    "outputId": "630f4436-11fc-4515-b2ee-bedbc83adf41"
   },
   "outputs": [
    {
     "name": "stdout",
     "output_type": "stream",
     "text": [
      "2.4.1\n"
     ]
    }
   ],
   "source": [
    "import tensorflow as tf\n",
    "from sklearn.datasets import load_breast_cancer\n",
    "from sklearn.model_selection import train_test_split\n",
    "from sklearn.preprocessing import StandardScaler\n",
    "\n",
    "import matplotlib.pyplot as plt\n",
    "\n",
    "print(tf.__version__)"
   ]
  },
  {
   "cell_type": "code",
   "execution_count": 19,
   "metadata": {
    "executionInfo": {
     "elapsed": 9,
     "status": "ok",
     "timestamp": 1655497492761,
     "user": {
      "displayName": "Fausto Carvalho",
      "userId": "14769586862712322629"
     },
     "user_tz": 180
    },
    "id": "ac3XjjqLMleQ"
   },
   "outputs": [],
   "source": [
    "data = load_breast_cancer()"
   ]
  },
  {
   "cell_type": "code",
   "execution_count": 20,
   "metadata": {
    "colab": {
     "base_uri": "https://localhost:8080/"
    },
    "executionInfo": {
     "elapsed": 9,
     "status": "ok",
     "timestamp": 1655497492762,
     "user": {
      "displayName": "Fausto Carvalho",
      "userId": "14769586862712322629"
     },
     "user_tz": 180
    },
    "id": "esxcZxq4Nx9i",
    "outputId": "ebd0bf57-a115-48f3-9d2f-619caf554139"
   },
   "outputs": [
    {
     "name": "stdout",
     "output_type": "stream",
     "text": [
      "Data type: <class 'sklearn.utils.Bunch'>\n",
      "Data Keys: dict_keys(['data', 'target', 'frame', 'target_names', 'DESCR', 'feature_names', 'filename', 'data_module'])\n",
      "Data Shape: (569, 30)\n"
     ]
    }
   ],
   "source": [
    "print(\"Data type:\", type(data))\n",
    "print(\"Data Keys:\", data.keys())\n",
    "print(\"Data Shape:\", data.data.shape)"
   ]
  },
  {
   "cell_type": "code",
   "execution_count": 21,
   "metadata": {
    "colab": {
     "base_uri": "https://localhost:8080/"
    },
    "executionInfo": {
     "elapsed": 8,
     "status": "ok",
     "timestamp": 1655497492762,
     "user": {
      "displayName": "Fausto Carvalho",
      "userId": "14769586862712322629"
     },
     "user_tz": 180
    },
    "id": "WVsZ3F98OXI9",
    "outputId": "de13a0c7-9dca-49f2-b2b3-9ea2d0e47286"
   },
   "outputs": [
    {
     "data": {
      "text/plain": [
       "array([0, 0, 0, 0, 0, 0, 0, 0, 0, 0, 0, 0, 0, 0, 0, 0, 0, 0, 0, 1, 1, 1,\n",
       "       0, 0, 0, 0, 0, 0, 0, 0, 0, 0, 0, 0, 0, 0, 0, 1, 0, 0, 0, 0, 0, 0,\n",
       "       0, 0, 1, 0, 1, 1, 1, 1, 1, 0, 0, 1, 0, 0, 1, 1, 1, 1, 0, 1, 0, 0,\n",
       "       1, 1, 1, 1, 0, 1, 0, 0, 1, 0, 1, 0, 0, 1, 1, 1, 0, 0, 1, 0, 0, 0,\n",
       "       1, 1, 1, 0, 1, 1, 0, 0, 1, 1, 1, 0, 0, 1, 1, 1, 1, 0, 1, 1, 0, 1,\n",
       "       1, 1, 1, 1, 1, 1, 1, 0, 0, 0, 1, 0, 0, 1, 1, 1, 0, 0, 1, 0, 1, 0,\n",
       "       0, 1, 0, 0, 1, 1, 0, 1, 1, 0, 1, 1, 1, 1, 0, 1, 1, 1, 1, 1, 1, 1,\n",
       "       1, 1, 0, 1, 1, 1, 1, 0, 0, 1, 0, 1, 1, 0, 0, 1, 1, 0, 0, 1, 1, 1,\n",
       "       1, 0, 1, 1, 0, 0, 0, 1, 0, 1, 0, 1, 1, 1, 0, 1, 1, 0, 0, 1, 0, 0,\n",
       "       0, 0, 1, 0, 0, 0, 1, 0, 1, 0, 1, 1, 0, 1, 0, 0, 0, 0, 1, 1, 0, 0,\n",
       "       1, 1, 1, 0, 1, 1, 1, 1, 1, 0, 0, 1, 1, 0, 1, 1, 0, 0, 1, 0, 1, 1,\n",
       "       1, 1, 0, 1, 1, 1, 1, 1, 0, 1, 0, 0, 0, 0, 0, 0, 0, 0, 0, 0, 0, 0,\n",
       "       0, 0, 1, 1, 1, 1, 1, 1, 0, 1, 0, 1, 1, 0, 1, 1, 0, 1, 0, 0, 1, 1,\n",
       "       1, 1, 1, 1, 1, 1, 1, 1, 1, 1, 1, 0, 1, 1, 0, 1, 0, 1, 1, 1, 1, 1,\n",
       "       1, 1, 1, 1, 1, 1, 1, 1, 1, 0, 1, 1, 1, 0, 1, 0, 1, 1, 1, 1, 0, 0,\n",
       "       0, 1, 1, 1, 1, 0, 1, 0, 1, 0, 1, 1, 1, 0, 1, 1, 1, 1, 1, 1, 1, 0,\n",
       "       0, 0, 1, 1, 1, 1, 1, 1, 1, 1, 1, 1, 1, 0, 0, 1, 0, 0, 0, 1, 0, 0,\n",
       "       1, 1, 1, 1, 1, 0, 1, 1, 1, 1, 1, 0, 1, 1, 1, 0, 1, 1, 0, 0, 1, 1,\n",
       "       1, 1, 1, 1, 0, 1, 1, 1, 1, 1, 1, 1, 0, 1, 1, 1, 1, 1, 0, 1, 1, 0,\n",
       "       1, 1, 1, 1, 1, 1, 1, 1, 1, 1, 1, 1, 0, 1, 0, 0, 1, 0, 1, 1, 1, 1,\n",
       "       1, 0, 1, 1, 0, 1, 0, 1, 1, 0, 1, 0, 1, 1, 1, 1, 1, 1, 1, 1, 0, 0,\n",
       "       1, 1, 1, 1, 1, 1, 0, 1, 1, 1, 1, 1, 1, 1, 1, 1, 1, 0, 1, 1, 1, 1,\n",
       "       1, 1, 1, 0, 1, 0, 1, 1, 0, 1, 1, 1, 1, 1, 0, 0, 1, 0, 1, 0, 1, 1,\n",
       "       1, 1, 1, 0, 1, 1, 0, 1, 0, 1, 0, 0, 1, 1, 1, 0, 1, 1, 1, 1, 1, 1,\n",
       "       1, 1, 1, 1, 1, 0, 1, 0, 0, 1, 1, 1, 1, 1, 1, 1, 1, 1, 1, 1, 1, 1,\n",
       "       1, 1, 1, 1, 1, 1, 1, 1, 1, 1, 1, 1, 0, 0, 0, 0, 0, 0, 1])"
      ]
     },
     "execution_count": 21,
     "metadata": {},
     "output_type": "execute_result"
    }
   ],
   "source": [
    "data.target"
   ]
  },
  {
   "cell_type": "code",
   "execution_count": 22,
   "metadata": {
    "colab": {
     "base_uri": "https://localhost:8080/"
    },
    "executionInfo": {
     "elapsed": 5,
     "status": "ok",
     "timestamp": 1655497492762,
     "user": {
      "displayName": "Fausto Carvalho",
      "userId": "14769586862712322629"
     },
     "user_tz": 180
    },
    "id": "KfZ-sJfgOelc",
    "outputId": "abcefec8-c4db-4404-863b-a4ca1838813f"
   },
   "outputs": [
    {
     "name": "stdout",
     "output_type": "stream",
     "text": [
      "Target names:  ['malignant' 'benign']\n",
      "Target shape (569,)\n"
     ]
    }
   ],
   "source": [
    "print(\"Target names: \", data.target_names)\n",
    "print(\"Target shape\", data.target.shape)"
   ]
  },
  {
   "cell_type": "code",
   "execution_count": 23,
   "metadata": {
    "colab": {
     "base_uri": "https://localhost:8080/"
    },
    "executionInfo": {
     "elapsed": 4,
     "status": "ok",
     "timestamp": 1655497492762,
     "user": {
      "displayName": "Fausto Carvalho",
      "userId": "14769586862712322629"
     },
     "user_tz": 180
    },
    "id": "CVRImD-7OxI1",
    "outputId": "f587dc1a-5d2a-4591-c009-f84938601d83"
   },
   "outputs": [
    {
     "data": {
      "text/plain": [
       "array(['mean radius', 'mean texture', 'mean perimeter', 'mean area',\n",
       "       'mean smoothness', 'mean compactness', 'mean concavity',\n",
       "       'mean concave points', 'mean symmetry', 'mean fractal dimension',\n",
       "       'radius error', 'texture error', 'perimeter error', 'area error',\n",
       "       'smoothness error', 'compactness error', 'concavity error',\n",
       "       'concave points error', 'symmetry error',\n",
       "       'fractal dimension error', 'worst radius', 'worst texture',\n",
       "       'worst perimeter', 'worst area', 'worst smoothness',\n",
       "       'worst compactness', 'worst concavity', 'worst concave points',\n",
       "       'worst symmetry', 'worst fractal dimension'], dtype='<U23')"
      ]
     },
     "execution_count": 23,
     "metadata": {},
     "output_type": "execute_result"
    }
   ],
   "source": [
    "# Determine the meaning of each feature\n",
    "data.feature_names"
   ]
  },
  {
   "cell_type": "code",
   "execution_count": 25,
   "metadata": {
    "executionInfo": {
     "elapsed": 4,
     "status": "ok",
     "timestamp": 1655497492763,
     "user": {
      "displayName": "Fausto Carvalho",
      "userId": "14769586862712322629"
     },
     "user_tz": 180
    },
    "id": "Nn_yH7Y5PVHb"
   },
   "outputs": [],
   "source": [
    "# Split the data int train and test sets\n",
    "X_train, X_test, y_train, y_test = train_test_split(data.data, data.target, test_size=0.33)\n",
    "N, D = X_train.shape"
   ]
  },
  {
   "cell_type": "code",
   "execution_count": 26,
   "metadata": {
    "executionInfo": {
     "elapsed": 4,
     "status": "ok",
     "timestamp": 1655497492763,
     "user": {
      "displayName": "Fausto Carvalho",
      "userId": "14769586862712322629"
     },
     "user_tz": 180
    },
    "id": "bEWG-6hUP1Vk"
   },
   "outputs": [],
   "source": [
    "# Scale the data\n",
    "scaler = StandardScaler()\n",
    "X_train = scaler.fit_transform(X_train)\n",
    "X_test = scaler.transform(X_test)"
   ]
  },
  {
   "cell_type": "code",
   "execution_count": 27,
   "metadata": {
    "executionInfo": {
     "elapsed": 3,
     "status": "ok",
     "timestamp": 1655497492763,
     "user": {
      "displayName": "Fausto Carvalho",
      "userId": "14769586862712322629"
     },
     "user_tz": 180
    },
    "id": "FlqrofikQuNH"
   },
   "outputs": [],
   "source": [
    "# Build  de model\n",
    "model = tf.keras.models.Sequential([\n",
    "    tf.keras.layers.Input(shape=(D,)),\n",
    "    tf.keras.layers.Dense(1, activation=\"sigmoid\")\n",
    "])"
   ]
  },
  {
   "cell_type": "code",
   "execution_count": 28,
   "metadata": {
    "executionInfo": {
     "elapsed": 2,
     "status": "ok",
     "timestamp": 1655497493052,
     "user": {
      "displayName": "Fausto Carvalho",
      "userId": "14769586862712322629"
     },
     "user_tz": 180
    },
    "id": "MJZEZIRgSJLW"
   },
   "outputs": [],
   "source": [
    "model.compile(\n",
    "    optimizer=\"adam\", \n",
    "    loss=\"binary_crossentropy\", \n",
    "    metrics=[\"accuracy\"]\n",
    ")"
   ]
  },
  {
   "cell_type": "code",
   "execution_count": 29,
   "metadata": {
    "colab": {
     "base_uri": "https://localhost:8080/"
    },
    "executionInfo": {
     "elapsed": 7108,
     "status": "ok",
     "timestamp": 1655497500158,
     "user": {
      "displayName": "Fausto Carvalho",
      "userId": "14769586862712322629"
     },
     "user_tz": 180
    },
    "id": "CWhNniB8Sbsa",
    "outputId": "27c98eb0-9aea-40a0-c21c-bad7265627b7"
   },
   "outputs": [
    {
     "name": "stdout",
     "output_type": "stream",
     "text": [
      "Epoch 1/100\n",
      "12/12 [==============================] - 1s 31ms/step - loss: 0.5081 - accuracy: 0.7534 - val_loss: 0.4063 - val_accuracy: 0.8511\n",
      "Epoch 2/100\n",
      "12/12 [==============================] - 0s 11ms/step - loss: 0.4903 - accuracy: 0.7927 - val_loss: 0.3740 - val_accuracy: 0.8564\n",
      "Epoch 3/100\n",
      "12/12 [==============================] - 0s 14ms/step - loss: 0.4346 - accuracy: 0.8208 - val_loss: 0.3460 - val_accuracy: 0.8830\n",
      "Epoch 4/100\n",
      "12/12 [==============================] - 0s 18ms/step - loss: 0.4020 - accuracy: 0.8547 - val_loss: 0.3226 - val_accuracy: 0.8883\n",
      "Epoch 5/100\n",
      "12/12 [==============================] - 0s 16ms/step - loss: 0.3893 - accuracy: 0.8507 - val_loss: 0.3022 - val_accuracy: 0.9096\n",
      "Epoch 6/100\n",
      "12/12 [==============================] - 0s 9ms/step - loss: 0.3457 - accuracy: 0.8924 - val_loss: 0.2847 - val_accuracy: 0.9096\n",
      "Epoch 7/100\n",
      "12/12 [==============================] - 0s 9ms/step - loss: 0.3041 - accuracy: 0.9051 - val_loss: 0.2693 - val_accuracy: 0.9202\n",
      "Epoch 8/100\n",
      "12/12 [==============================] - 0s 14ms/step - loss: 0.2965 - accuracy: 0.9088 - val_loss: 0.2557 - val_accuracy: 0.9255\n",
      "Epoch 9/100\n",
      "12/12 [==============================] - 0s 15ms/step - loss: 0.2934 - accuracy: 0.9050 - val_loss: 0.2440 - val_accuracy: 0.9362\n",
      "Epoch 10/100\n",
      "12/12 [==============================] - 0s 16ms/step - loss: 0.2604 - accuracy: 0.9155 - val_loss: 0.2335 - val_accuracy: 0.9415\n",
      "Epoch 11/100\n",
      "12/12 [==============================] - 0s 12ms/step - loss: 0.2841 - accuracy: 0.9247 - val_loss: 0.2240 - val_accuracy: 0.9468\n",
      "Epoch 12/100\n",
      "12/12 [==============================] - 0s 15ms/step - loss: 0.2577 - accuracy: 0.9136 - val_loss: 0.2157 - val_accuracy: 0.9468\n",
      "Epoch 13/100\n",
      "12/12 [==============================] - 0s 14ms/step - loss: 0.2873 - accuracy: 0.9065 - val_loss: 0.2080 - val_accuracy: 0.9468\n",
      "Epoch 14/100\n",
      "12/12 [==============================] - 0s 16ms/step - loss: 0.2178 - accuracy: 0.9376 - val_loss: 0.2011 - val_accuracy: 0.9468\n",
      "Epoch 15/100\n",
      "12/12 [==============================] - 0s 8ms/step - loss: 0.2226 - accuracy: 0.9297 - val_loss: 0.1951 - val_accuracy: 0.9415\n",
      "Epoch 16/100\n",
      "12/12 [==============================] - 0s 9ms/step - loss: 0.2331 - accuracy: 0.9284 - val_loss: 0.1893 - val_accuracy: 0.9468\n",
      "Epoch 17/100\n",
      "12/12 [==============================] - 0s 10ms/step - loss: 0.2025 - accuracy: 0.9310 - val_loss: 0.1842 - val_accuracy: 0.9468\n",
      "Epoch 18/100\n",
      "12/12 [==============================] - 0s 9ms/step - loss: 0.2043 - accuracy: 0.9281 - val_loss: 0.1796 - val_accuracy: 0.9468\n",
      "Epoch 19/100\n",
      "12/12 [==============================] - 0s 9ms/step - loss: 0.1948 - accuracy: 0.9427 - val_loss: 0.1753 - val_accuracy: 0.9468\n",
      "Epoch 20/100\n",
      "12/12 [==============================] - 0s 8ms/step - loss: 0.1833 - accuracy: 0.9306 - val_loss: 0.1714 - val_accuracy: 0.9521\n",
      "Epoch 21/100\n",
      "12/12 [==============================] - 0s 8ms/step - loss: 0.1740 - accuracy: 0.9479 - val_loss: 0.1678 - val_accuracy: 0.9468\n",
      "Epoch 22/100\n",
      "12/12 [==============================] - 0s 8ms/step - loss: 0.1666 - accuracy: 0.9412 - val_loss: 0.1644 - val_accuracy: 0.9468\n",
      "Epoch 23/100\n",
      "12/12 [==============================] - 0s 8ms/step - loss: 0.1716 - accuracy: 0.9301 - val_loss: 0.1613 - val_accuracy: 0.9468\n",
      "Epoch 24/100\n",
      "12/12 [==============================] - 0s 7ms/step - loss: 0.1782 - accuracy: 0.9316 - val_loss: 0.1584 - val_accuracy: 0.9521\n",
      "Epoch 25/100\n",
      "12/12 [==============================] - 0s 10ms/step - loss: 0.1790 - accuracy: 0.9289 - val_loss: 0.1557 - val_accuracy: 0.9521\n",
      "Epoch 26/100\n",
      "12/12 [==============================] - 0s 15ms/step - loss: 0.1717 - accuracy: 0.9279 - val_loss: 0.1532 - val_accuracy: 0.9521\n",
      "Epoch 27/100\n",
      "12/12 [==============================] - 0s 17ms/step - loss: 0.1705 - accuracy: 0.9266 - val_loss: 0.1509 - val_accuracy: 0.9521\n",
      "Epoch 28/100\n",
      "12/12 [==============================] - 0s 16ms/step - loss: 0.1488 - accuracy: 0.9451 - val_loss: 0.1488 - val_accuracy: 0.9521\n",
      "Epoch 29/100\n",
      "12/12 [==============================] - 0s 14ms/step - loss: 0.1491 - accuracy: 0.9372 - val_loss: 0.1468 - val_accuracy: 0.9521\n",
      "Epoch 30/100\n",
      "12/12 [==============================] - 0s 13ms/step - loss: 0.1534 - accuracy: 0.9394 - val_loss: 0.1449 - val_accuracy: 0.9521\n",
      "Epoch 31/100\n",
      "12/12 [==============================] - 0s 15ms/step - loss: 0.1454 - accuracy: 0.9471 - val_loss: 0.1431 - val_accuracy: 0.9521\n",
      "Epoch 32/100\n",
      "12/12 [==============================] - 0s 15ms/step - loss: 0.1378 - accuracy: 0.9588 - val_loss: 0.1414 - val_accuracy: 0.9521\n",
      "Epoch 33/100\n",
      "12/12 [==============================] - 0s 11ms/step - loss: 0.1406 - accuracy: 0.9457 - val_loss: 0.1398 - val_accuracy: 0.9521\n",
      "Epoch 34/100\n",
      "12/12 [==============================] - 0s 12ms/step - loss: 0.1362 - accuracy: 0.9504 - val_loss: 0.1384 - val_accuracy: 0.9521\n",
      "Epoch 35/100\n",
      "12/12 [==============================] - 0s 13ms/step - loss: 0.1423 - accuracy: 0.9519 - val_loss: 0.1370 - val_accuracy: 0.9521\n",
      "Epoch 36/100\n",
      "12/12 [==============================] - 0s 9ms/step - loss: 0.1240 - accuracy: 0.9694 - val_loss: 0.1359 - val_accuracy: 0.9521\n",
      "Epoch 37/100\n",
      "12/12 [==============================] - 0s 9ms/step - loss: 0.1324 - accuracy: 0.9616 - val_loss: 0.1345 - val_accuracy: 0.9521\n",
      "Epoch 38/100\n",
      "12/12 [==============================] - 0s 9ms/step - loss: 0.1159 - accuracy: 0.9701 - val_loss: 0.1334 - val_accuracy: 0.9521\n",
      "Epoch 39/100\n",
      "12/12 [==============================] - 0s 13ms/step - loss: 0.1052 - accuracy: 0.9807 - val_loss: 0.1324 - val_accuracy: 0.9521\n",
      "Epoch 40/100\n",
      "12/12 [==============================] - 0s 11ms/step - loss: 0.1252 - accuracy: 0.9661 - val_loss: 0.1312 - val_accuracy: 0.9521\n",
      "Epoch 41/100\n",
      "12/12 [==============================] - 0s 9ms/step - loss: 0.1254 - accuracy: 0.9598 - val_loss: 0.1303 - val_accuracy: 0.9521\n",
      "Epoch 42/100\n",
      "12/12 [==============================] - 0s 13ms/step - loss: 0.1092 - accuracy: 0.9667 - val_loss: 0.1294 - val_accuracy: 0.9521\n",
      "Epoch 43/100\n",
      "12/12 [==============================] - 0s 13ms/step - loss: 0.1014 - accuracy: 0.9805 - val_loss: 0.1285 - val_accuracy: 0.9574\n",
      "Epoch 44/100\n",
      "12/12 [==============================] - 0s 15ms/step - loss: 0.1245 - accuracy: 0.9637 - val_loss: 0.1276 - val_accuracy: 0.9574\n",
      "Epoch 45/100\n",
      "12/12 [==============================] - 0s 15ms/step - loss: 0.1200 - accuracy: 0.9527 - val_loss: 0.1268 - val_accuracy: 0.9574\n",
      "Epoch 46/100\n",
      "12/12 [==============================] - 0s 12ms/step - loss: 0.1070 - accuracy: 0.9652 - val_loss: 0.1262 - val_accuracy: 0.9574\n",
      "Epoch 47/100\n",
      "12/12 [==============================] - 0s 11ms/step - loss: 0.1126 - accuracy: 0.9625 - val_loss: 0.1254 - val_accuracy: 0.9574\n",
      "Epoch 48/100\n",
      "12/12 [==============================] - 0s 8ms/step - loss: 0.1195 - accuracy: 0.9593 - val_loss: 0.1246 - val_accuracy: 0.9574\n",
      "Epoch 49/100\n",
      "12/12 [==============================] - 0s 8ms/step - loss: 0.1069 - accuracy: 0.9653 - val_loss: 0.1240 - val_accuracy: 0.9574\n",
      "Epoch 50/100\n",
      "12/12 [==============================] - 0s 14ms/step - loss: 0.1000 - accuracy: 0.9649 - val_loss: 0.1233 - val_accuracy: 0.9574\n",
      "Epoch 51/100\n",
      "12/12 [==============================] - 0s 9ms/step - loss: 0.0979 - accuracy: 0.9703 - val_loss: 0.1227 - val_accuracy: 0.9574\n",
      "Epoch 52/100\n",
      "12/12 [==============================] - 0s 9ms/step - loss: 0.0875 - accuracy: 0.9718 - val_loss: 0.1222 - val_accuracy: 0.9574\n",
      "Epoch 53/100\n",
      "12/12 [==============================] - 0s 9ms/step - loss: 0.1126 - accuracy: 0.9635 - val_loss: 0.1216 - val_accuracy: 0.9574\n",
      "Epoch 54/100\n",
      "12/12 [==============================] - 0s 10ms/step - loss: 0.1042 - accuracy: 0.9605 - val_loss: 0.1211 - val_accuracy: 0.9574\n",
      "Epoch 55/100\n",
      "12/12 [==============================] - 0s 8ms/step - loss: 0.0997 - accuracy: 0.9686 - val_loss: 0.1205 - val_accuracy: 0.9574\n",
      "Epoch 56/100\n",
      "12/12 [==============================] - 0s 7ms/step - loss: 0.1031 - accuracy: 0.9700 - val_loss: 0.1200 - val_accuracy: 0.9574\n",
      "Epoch 57/100\n",
      "12/12 [==============================] - 0s 9ms/step - loss: 0.0931 - accuracy: 0.9724 - val_loss: 0.1194 - val_accuracy: 0.9574\n",
      "Epoch 58/100\n"
     ]
    },
    {
     "name": "stdout",
     "output_type": "stream",
     "text": [
      "12/12 [==============================] - 0s 11ms/step - loss: 0.1047 - accuracy: 0.9691 - val_loss: 0.1190 - val_accuracy: 0.9574\n",
      "Epoch 59/100\n",
      "12/12 [==============================] - 0s 9ms/step - loss: 0.1029 - accuracy: 0.9712 - val_loss: 0.1186 - val_accuracy: 0.9574\n",
      "Epoch 60/100\n",
      "12/12 [==============================] - 0s 15ms/step - loss: 0.0956 - accuracy: 0.9677 - val_loss: 0.1181 - val_accuracy: 0.9574\n",
      "Epoch 61/100\n",
      "12/12 [==============================] - 0s 12ms/step - loss: 0.1065 - accuracy: 0.9662 - val_loss: 0.1177 - val_accuracy: 0.9574\n",
      "Epoch 62/100\n",
      "12/12 [==============================] - 0s 10ms/step - loss: 0.0923 - accuracy: 0.9692 - val_loss: 0.1173 - val_accuracy: 0.9574\n",
      "Epoch 63/100\n",
      "12/12 [==============================] - 0s 9ms/step - loss: 0.1138 - accuracy: 0.9508 - val_loss: 0.1169 - val_accuracy: 0.9574\n",
      "Epoch 64/100\n",
      "12/12 [==============================] - 0s 8ms/step - loss: 0.0914 - accuracy: 0.9794 - val_loss: 0.1165 - val_accuracy: 0.9574\n",
      "Epoch 65/100\n",
      "12/12 [==============================] - 0s 12ms/step - loss: 0.0890 - accuracy: 0.9743 - val_loss: 0.1160 - val_accuracy: 0.9574\n",
      "Epoch 66/100\n",
      "12/12 [==============================] - 0s 17ms/step - loss: 0.0926 - accuracy: 0.9722 - val_loss: 0.1158 - val_accuracy: 0.9574\n",
      "Epoch 67/100\n",
      "12/12 [==============================] - 0s 9ms/step - loss: 0.1050 - accuracy: 0.9611 - val_loss: 0.1154 - val_accuracy: 0.9574\n",
      "Epoch 68/100\n",
      "12/12 [==============================] - 0s 11ms/step - loss: 0.0857 - accuracy: 0.9728 - val_loss: 0.1151 - val_accuracy: 0.9574\n",
      "Epoch 69/100\n",
      "12/12 [==============================] - 0s 16ms/step - loss: 0.0880 - accuracy: 0.9778 - val_loss: 0.1147 - val_accuracy: 0.9574\n",
      "Epoch 70/100\n",
      "12/12 [==============================] - 0s 13ms/step - loss: 0.0907 - accuracy: 0.9732 - val_loss: 0.1144 - val_accuracy: 0.9574\n",
      "Epoch 71/100\n",
      "12/12 [==============================] - 0s 12ms/step - loss: 0.0863 - accuracy: 0.9771 - val_loss: 0.1141 - val_accuracy: 0.9574\n",
      "Epoch 72/100\n",
      "12/12 [==============================] - 0s 11ms/step - loss: 0.0875 - accuracy: 0.9747 - val_loss: 0.1138 - val_accuracy: 0.9574\n",
      "Epoch 73/100\n",
      "12/12 [==============================] - 0s 15ms/step - loss: 0.0700 - accuracy: 0.9864 - val_loss: 0.1136 - val_accuracy: 0.9574\n",
      "Epoch 74/100\n",
      "12/12 [==============================] - 0s 14ms/step - loss: 0.0843 - accuracy: 0.9769 - val_loss: 0.1132 - val_accuracy: 0.9574\n",
      "Epoch 75/100\n",
      "12/12 [==============================] - 0s 9ms/step - loss: 0.0979 - accuracy: 0.9666 - val_loss: 0.1129 - val_accuracy: 0.9574\n",
      "Epoch 76/100\n",
      "12/12 [==============================] - 0s 8ms/step - loss: 0.0876 - accuracy: 0.9735 - val_loss: 0.1126 - val_accuracy: 0.9574\n",
      "Epoch 77/100\n",
      "12/12 [==============================] - 0s 12ms/step - loss: 0.0813 - accuracy: 0.9756 - val_loss: 0.1123 - val_accuracy: 0.9574\n",
      "Epoch 78/100\n",
      "12/12 [==============================] - 0s 13ms/step - loss: 0.0854 - accuracy: 0.9799 - val_loss: 0.1120 - val_accuracy: 0.9574\n",
      "Epoch 79/100\n",
      "12/12 [==============================] - 0s 17ms/step - loss: 0.0733 - accuracy: 0.9796 - val_loss: 0.1118 - val_accuracy: 0.9574\n",
      "Epoch 80/100\n",
      "12/12 [==============================] - 0s 9ms/step - loss: 0.0836 - accuracy: 0.9782 - val_loss: 0.1117 - val_accuracy: 0.9574\n",
      "Epoch 81/100\n",
      "12/12 [==============================] - 0s 14ms/step - loss: 0.0795 - accuracy: 0.9828 - val_loss: 0.1113 - val_accuracy: 0.9574\n",
      "Epoch 82/100\n",
      "12/12 [==============================] - 0s 8ms/step - loss: 0.0738 - accuracy: 0.9841 - val_loss: 0.1111 - val_accuracy: 0.9574\n",
      "Epoch 83/100\n",
      "12/12 [==============================] - 0s 9ms/step - loss: 0.0820 - accuracy: 0.9723 - val_loss: 0.1108 - val_accuracy: 0.9574\n",
      "Epoch 84/100\n",
      "12/12 [==============================] - 0s 11ms/step - loss: 0.0787 - accuracy: 0.9825 - val_loss: 0.1106 - val_accuracy: 0.9574\n",
      "Epoch 85/100\n",
      "12/12 [==============================] - 0s 8ms/step - loss: 0.0903 - accuracy: 0.9650 - val_loss: 0.1104 - val_accuracy: 0.9574\n",
      "Epoch 86/100\n",
      "12/12 [==============================] - 0s 8ms/step - loss: 0.0888 - accuracy: 0.9759 - val_loss: 0.1102 - val_accuracy: 0.9574\n",
      "Epoch 87/100\n",
      "12/12 [==============================] - 0s 10ms/step - loss: 0.0787 - accuracy: 0.9645 - val_loss: 0.1100 - val_accuracy: 0.9574\n",
      "Epoch 88/100\n",
      "12/12 [==============================] - 0s 15ms/step - loss: 0.0666 - accuracy: 0.9819 - val_loss: 0.1100 - val_accuracy: 0.9574\n",
      "Epoch 89/100\n",
      "12/12 [==============================] - 0s 14ms/step - loss: 0.0770 - accuracy: 0.9751 - val_loss: 0.1096 - val_accuracy: 0.9574\n",
      "Epoch 90/100\n",
      "12/12 [==============================] - 0s 7ms/step - loss: 0.0618 - accuracy: 0.9878 - val_loss: 0.1095 - val_accuracy: 0.9574\n",
      "Epoch 91/100\n",
      "12/12 [==============================] - 0s 15ms/step - loss: 0.0738 - accuracy: 0.9811 - val_loss: 0.1094 - val_accuracy: 0.9574\n",
      "Epoch 92/100\n",
      "12/12 [==============================] - 0s 12ms/step - loss: 0.0678 - accuracy: 0.9869 - val_loss: 0.1091 - val_accuracy: 0.9574\n",
      "Epoch 93/100\n",
      "12/12 [==============================] - 0s 16ms/step - loss: 0.0678 - accuracy: 0.9829 - val_loss: 0.1089 - val_accuracy: 0.9628\n",
      "Epoch 94/100\n",
      "12/12 [==============================] - 0s 18ms/step - loss: 0.0683 - accuracy: 0.9798 - val_loss: 0.1087 - val_accuracy: 0.9628\n",
      "Epoch 95/100\n",
      "12/12 [==============================] - 0s 17ms/step - loss: 0.0766 - accuracy: 0.9713 - val_loss: 0.1085 - val_accuracy: 0.9628\n",
      "Epoch 96/100\n",
      "12/12 [==============================] - 0s 19ms/step - loss: 0.0521 - accuracy: 0.9892 - val_loss: 0.1084 - val_accuracy: 0.9628\n",
      "Epoch 97/100\n",
      "12/12 [==============================] - 0s 11ms/step - loss: 0.0719 - accuracy: 0.9747 - val_loss: 0.1081 - val_accuracy: 0.9628\n",
      "Epoch 98/100\n",
      "12/12 [==============================] - 0s 9ms/step - loss: 0.0831 - accuracy: 0.9717 - val_loss: 0.1080 - val_accuracy: 0.9628\n",
      "Epoch 99/100\n",
      "12/12 [==============================] - 0s 12ms/step - loss: 0.0731 - accuracy: 0.9800 - val_loss: 0.1079 - val_accuracy: 0.9628\n",
      "Epoch 100/100\n",
      "12/12 [==============================] - 0s 12ms/step - loss: 0.0671 - accuracy: 0.9827 - val_loss: 0.1077 - val_accuracy: 0.9628\n"
     ]
    }
   ],
   "source": [
    "# Train de model\n",
    "r = model.fit(X_train, y_train, validation_data=(X_test, y_test), epochs=100)"
   ]
  },
  {
   "cell_type": "code",
   "execution_count": 30,
   "metadata": {
    "colab": {
     "base_uri": "https://localhost:8080/"
    },
    "executionInfo": {
     "elapsed": 18,
     "status": "ok",
     "timestamp": 1655497500159,
     "user": {
      "displayName": "Fausto Carvalho",
      "userId": "14769586862712322629"
     },
     "user_tz": 180
    },
    "id": "ePA9UZlnS2I3",
    "outputId": "d262ad8e-eb66-40cd-bbd7-3ff2eca62a6c"
   },
   "outputs": [
    {
     "name": "stdout",
     "output_type": "stream",
     "text": [
      "12/12 [==============================] - 0s 4ms/step - loss: 0.0704 - accuracy: 0.9790\n",
      "Train score: [0.0703975185751915, 0.9790025949478149]\n",
      "6/6 [==============================] - 0s 3ms/step - loss: 0.1077 - accuracy: 0.9628\n",
      "Test score: [0.10766199976205826, 0.9627659320831299]\n"
     ]
    }
   ],
   "source": [
    "print(\"Train score:\", model.evaluate(X_train, y_train))\n",
    "print(\"Test score:\", model.evaluate(X_test, y_test))"
   ]
  },
  {
   "cell_type": "code",
   "execution_count": 31,
   "metadata": {
    "colab": {
     "base_uri": "https://localhost:8080/",
     "height": 282
    },
    "executionInfo": {
     "elapsed": 604,
     "status": "ok",
     "timestamp": 1655497500752,
     "user": {
      "displayName": "Fausto Carvalho",
      "userId": "14769586862712322629"
     },
     "user_tz": 180
    },
    "id": "hekgTQ_XTaKR",
    "outputId": "f7117351-f92b-46f8-a1e1-20ad01682258"
   },
   "outputs": [
    {
     "data": {
      "text/plain": [
       "<matplotlib.legend.Legend at 0x7fec646bfa30>"
      ]
     },
     "execution_count": 31,
     "metadata": {},
     "output_type": "execute_result"
    },
    {
     "data": {
      "image/png": "[encoded data removed]",
      "text/plain": [
       "<Figure size 432x288 with 1 Axes>"
      ]
     },
     "metadata": {
      "needs_background": "light"
     },
     "output_type": "display_data"
    }
   ],
   "source": [
    "# Plot what's returned by model.fit\n",
    "plt.plot(r.history[\"loss\"], label=\"loss\")\n",
    "plt.plot(r.history[\"val_loss\"], label=\"val_loss\")\n",
    "plt.legend()"
   ]
  },
  {
   "cell_type": "code",
   "execution_count": 33,
   "metadata": {
    "colab": {
     "base_uri": "https://localhost:8080/",
     "height": 286
    },
    "executionInfo": {
     "elapsed": 6,
     "status": "ok",
     "timestamp": 1655497500753,
     "user": {
      "displayName": "Fausto Carvalho",
      "userId": "14769586862712322629"
     },
     "user_tz": 180
    },
    "id": "OgNBs24NUCgC",
    "outputId": "ebb2038c-ffb1-447e-acda-f1ce46b486c4"
   },
   "outputs": [
    {
     "data": {
      "text/plain": [
       "<matplotlib.legend.Legend at 0x7fec64611370>"
      ]
     },
     "execution_count": 33,
     "metadata": {},
     "output_type": "execute_result"
    },
    {
     "data": {
      "image/png": "[encoded data removed]",
      "text/plain": [
       "<Figure size 432x288 with 1 Axes>"
      ]
     },
     "metadata": {
      "needs_background": "light"
     },
     "output_type": "display_data"
    }
   ],
   "source": [
    "# Plot the accuracy too\n",
    "plt.plot(r.history[\"accuracy\"], label=\"acc\")\n",
    "plt.plot(r.history[\"val_accuracy\"], label=\"val_acc\")\n",
    "plt.legend()"
   ]
  }
 ],
 "metadata": {
  "colab": {
   "authorship_tag": "ABX9TyPtahJp8t4pCD7jWPnvmYdu",
   "collapsed_sections": [],
   "name": "01. Linear Classification.ipynb",
   "provenance": []
  },
  "kernelspec": {
   "display_name": "Python 3 (ipykernel)",
   "language": "python",
   "name": "python3"
  },
  "language_info": {
   "codemirror_mode": {
    "name": "ipython",
    "version": 3
   },
   "file_extension": ".py",
   "mimetype": "text/x-python",
   "name": "python",
   "nbconvert_exporter": "python",
   "pygments_lexer": "ipython3",
   "version": "3.8.12"
  }
 },
 "nbformat": 4,
 "nbformat_minor": 1
}
