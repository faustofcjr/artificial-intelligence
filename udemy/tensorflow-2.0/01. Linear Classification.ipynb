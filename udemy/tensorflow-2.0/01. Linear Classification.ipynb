{
  "nbformat": 4,
  "nbformat_minor": 0,
  "metadata": {
    "colab": {
      "name": "01. Linear Classification.ipynb",
      "provenance": [],
      "collapsed_sections": [],
      "authorship_tag": "ABX9TyNJja/On2gz6u26P9Oyd8zr"
    },
    "kernelspec": {
      "name": "python3",
      "display_name": "Python 3"
    },
    "language_info": {
      "name": "python"
    }
  },
  "cells": [
    {
      "cell_type": "code",
      "execution_count": null,
      "metadata": {
        "colab": {
          "base_uri": "https://localhost:8080/"
        },
        "id": "ZBvWBSWZLvdZ",
        "outputId": "a610344c-f13d-426b-dd4e-027f3a98ab14"
      },
      "outputs": [
        {
          "output_type": "stream",
          "name": "stdout",
          "text": [
            "2.8.2\n"
          ]
        }
      ],
      "source": [
        "import tensorflow as tf\n",
        "from sklearn.datasets import load_breast_cancer\n",
        "from sklearn.model_selection import train_test_split\n",
        "from sklearn.preprocessing import StandardScaler\n",
        "\n",
        "import matplotlib.pyplot as plt\n",
        "import numpy as np\n",
        "\n",
        "print(tf.__version__)"
      ]
    },
    {
      "cell_type": "code",
      "source": [
        "data = load_breast_cancer()"
      ],
      "metadata": {
        "id": "ac3XjjqLMleQ"
      },
      "execution_count": null,
      "outputs": []
    },
    {
      "cell_type": "code",
      "source": [
        "print(\"Data type:\", type(data))\n",
        "print(\"Data Keys:\", data.keys())\n",
        "print(\"Data Shape:\", data.data.shape)"
      ],
      "metadata": {
        "colab": {
          "base_uri": "https://localhost:8080/"
        },
        "id": "esxcZxq4Nx9i",
        "outputId": "15990830-70b5-43c5-d580-ac20b54ba1d2"
      },
      "execution_count": null,
      "outputs": [
        {
          "output_type": "stream",
          "name": "stdout",
          "text": [
            "Data type: <class 'sklearn.utils.Bunch'>\n",
            "Data Keys: dict_keys(['data', 'target', 'frame', 'target_names', 'DESCR', 'feature_names', 'filename', 'data_module'])\n",
            "Data Shape: (569, 30)\n"
          ]
        }
      ]
    },
    {
      "cell_type": "code",
      "source": [
        "data.target"
      ],
      "metadata": {
        "colab": {
          "base_uri": "https://localhost:8080/"
        },
        "id": "WVsZ3F98OXI9",
        "outputId": "318c6864-94d0-4d78-d7bc-2984e834018e"
      },
      "execution_count": null,
      "outputs": [
        {
          "output_type": "execute_result",
          "data": {
            "text/plain": [
              "array([0, 0, 0, 0, 0, 0, 0, 0, 0, 0, 0, 0, 0, 0, 0, 0, 0, 0, 0, 1, 1, 1,\n",
              "       0, 0, 0, 0, 0, 0, 0, 0, 0, 0, 0, 0, 0, 0, 0, 1, 0, 0, 0, 0, 0, 0,\n",
              "       0, 0, 1, 0, 1, 1, 1, 1, 1, 0, 0, 1, 0, 0, 1, 1, 1, 1, 0, 1, 0, 0,\n",
              "       1, 1, 1, 1, 0, 1, 0, 0, 1, 0, 1, 0, 0, 1, 1, 1, 0, 0, 1, 0, 0, 0,\n",
              "       1, 1, 1, 0, 1, 1, 0, 0, 1, 1, 1, 0, 0, 1, 1, 1, 1, 0, 1, 1, 0, 1,\n",
              "       1, 1, 1, 1, 1, 1, 1, 0, 0, 0, 1, 0, 0, 1, 1, 1, 0, 0, 1, 0, 1, 0,\n",
              "       0, 1, 0, 0, 1, 1, 0, 1, 1, 0, 1, 1, 1, 1, 0, 1, 1, 1, 1, 1, 1, 1,\n",
              "       1, 1, 0, 1, 1, 1, 1, 0, 0, 1, 0, 1, 1, 0, 0, 1, 1, 0, 0, 1, 1, 1,\n",
              "       1, 0, 1, 1, 0, 0, 0, 1, 0, 1, 0, 1, 1, 1, 0, 1, 1, 0, 0, 1, 0, 0,\n",
              "       0, 0, 1, 0, 0, 0, 1, 0, 1, 0, 1, 1, 0, 1, 0, 0, 0, 0, 1, 1, 0, 0,\n",
              "       1, 1, 1, 0, 1, 1, 1, 1, 1, 0, 0, 1, 1, 0, 1, 1, 0, 0, 1, 0, 1, 1,\n",
              "       1, 1, 0, 1, 1, 1, 1, 1, 0, 1, 0, 0, 0, 0, 0, 0, 0, 0, 0, 0, 0, 0,\n",
              "       0, 0, 1, 1, 1, 1, 1, 1, 0, 1, 0, 1, 1, 0, 1, 1, 0, 1, 0, 0, 1, 1,\n",
              "       1, 1, 1, 1, 1, 1, 1, 1, 1, 1, 1, 0, 1, 1, 0, 1, 0, 1, 1, 1, 1, 1,\n",
              "       1, 1, 1, 1, 1, 1, 1, 1, 1, 0, 1, 1, 1, 0, 1, 0, 1, 1, 1, 1, 0, 0,\n",
              "       0, 1, 1, 1, 1, 0, 1, 0, 1, 0, 1, 1, 1, 0, 1, 1, 1, 1, 1, 1, 1, 0,\n",
              "       0, 0, 1, 1, 1, 1, 1, 1, 1, 1, 1, 1, 1, 0, 0, 1, 0, 0, 0, 1, 0, 0,\n",
              "       1, 1, 1, 1, 1, 0, 1, 1, 1, 1, 1, 0, 1, 1, 1, 0, 1, 1, 0, 0, 1, 1,\n",
              "       1, 1, 1, 1, 0, 1, 1, 1, 1, 1, 1, 1, 0, 1, 1, 1, 1, 1, 0, 1, 1, 0,\n",
              "       1, 1, 1, 1, 1, 1, 1, 1, 1, 1, 1, 1, 0, 1, 0, 0, 1, 0, 1, 1, 1, 1,\n",
              "       1, 0, 1, 1, 0, 1, 0, 1, 1, 0, 1, 0, 1, 1, 1, 1, 1, 1, 1, 1, 0, 0,\n",
              "       1, 1, 1, 1, 1, 1, 0, 1, 1, 1, 1, 1, 1, 1, 1, 1, 1, 0, 1, 1, 1, 1,\n",
              "       1, 1, 1, 0, 1, 0, 1, 1, 0, 1, 1, 1, 1, 1, 0, 0, 1, 0, 1, 0, 1, 1,\n",
              "       1, 1, 1, 0, 1, 1, 0, 1, 0, 1, 0, 0, 1, 1, 1, 0, 1, 1, 1, 1, 1, 1,\n",
              "       1, 1, 1, 1, 1, 0, 1, 0, 0, 1, 1, 1, 1, 1, 1, 1, 1, 1, 1, 1, 1, 1,\n",
              "       1, 1, 1, 1, 1, 1, 1, 1, 1, 1, 1, 1, 0, 0, 0, 0, 0, 0, 1])"
            ]
          },
          "metadata": {},
          "execution_count": 22
        }
      ]
    },
    {
      "cell_type": "code",
      "source": [
        "print(\"Target names: \", data.target_names)\n",
        "print(\"Target shape\", data.target.shape)"
      ],
      "metadata": {
        "colab": {
          "base_uri": "https://localhost:8080/"
        },
        "id": "KfZ-sJfgOelc",
        "outputId": "8d78b285-3b56-4247-dfac-71ea2be91fa8"
      },
      "execution_count": null,
      "outputs": [
        {
          "output_type": "stream",
          "name": "stdout",
          "text": [
            "Target names:  ['malignant' 'benign']\n",
            "Target shape (569,)\n"
          ]
        }
      ]
    },
    {
      "cell_type": "code",
      "source": [
        "# Determine the meaning of each feature\n",
        "data.feature_names"
      ],
      "metadata": {
        "colab": {
          "base_uri": "https://localhost:8080/"
        },
        "id": "CVRImD-7OxI1",
        "outputId": "4c39f99b-650f-4744-f426-53b587aff70c"
      },
      "execution_count": null,
      "outputs": [
        {
          "output_type": "execute_result",
          "data": {
            "text/plain": [
              "array(['mean radius', 'mean texture', 'mean perimeter', 'mean area',\n",
              "       'mean smoothness', 'mean compactness', 'mean concavity',\n",
              "       'mean concave points', 'mean symmetry', 'mean fractal dimension',\n",
              "       'radius error', 'texture error', 'perimeter error', 'area error',\n",
              "       'smoothness error', 'compactness error', 'concavity error',\n",
              "       'concave points error', 'symmetry error',\n",
              "       'fractal dimension error', 'worst radius', 'worst texture',\n",
              "       'worst perimeter', 'worst area', 'worst smoothness',\n",
              "       'worst compactness', 'worst concavity', 'worst concave points',\n",
              "       'worst symmetry', 'worst fractal dimension'], dtype='<U23')"
            ]
          },
          "metadata": {},
          "execution_count": 24
        }
      ]
    },
    {
      "cell_type": "code",
      "source": [
        "# Split the data int train and test sets\n",
        "X_train, X_test, y_train, y_test = train_test_split(data.data, data.target, test_size=0.33)\n",
        "N, D = X_train.shape"
      ],
      "metadata": {
        "id": "Nn_yH7Y5PVHb"
      },
      "execution_count": null,
      "outputs": []
    },
    {
      "cell_type": "code",
      "source": [
        "# Scale the data\n",
        "scaler = StandardScaler()\n",
        "X_train = scaler.fit_transform(X_train)\n",
        "X_test = scaler.transform(X_test)"
      ],
      "metadata": {
        "id": "bEWG-6hUP1Vk"
      },
      "execution_count": null,
      "outputs": []
    },
    {
      "cell_type": "code",
      "source": [
        "# Build  de model\n",
        "model = tf.keras.models.Sequential([\n",
        "    tf.keras.layers.Input(shape=(D,)),\n",
        "    tf.keras.layers.Dense(1, activation=\"sigmoid\")\n",
        "])"
      ],
      "metadata": {
        "id": "FlqrofikQuNH"
      },
      "execution_count": null,
      "outputs": []
    },
    {
      "cell_type": "code",
      "source": [
        "model.compile(\n",
        "    optimizer=\"adam\", \n",
        "    loss=\"binary_crossentropy\", \n",
        "    metrics=[\"accuracy\"]\n",
        ")"
      ],
      "metadata": {
        "id": "MJZEZIRgSJLW"
      },
      "execution_count": null,
      "outputs": []
    },
    {
      "cell_type": "code",
      "source": [
        "# Train de model\n",
        "r = model.fit(X_train, y_train, validation_data=(X_test, y_test), epochs=100)"
      ],
      "metadata": {
        "colab": {
          "base_uri": "https://localhost:8080/"
        },
        "id": "CWhNniB8Sbsa",
        "outputId": "dcbe9354-7337-42b2-e5b7-6381d89138f0"
      },
      "execution_count": null,
      "outputs": [
        {
          "output_type": "stream",
          "name": "stdout",
          "text": [
            "Epoch 1/100\n",
            "12/12 [==============================] - 1s 28ms/step - loss: 0.3819 - accuracy: 0.8478 - val_loss: 0.4142 - val_accuracy: 0.8670\n",
            "Epoch 2/100\n",
            "12/12 [==============================] - 0s 9ms/step - loss: 0.3502 - accuracy: 0.8819 - val_loss: 0.3820 - val_accuracy: 0.8723\n",
            "Epoch 3/100\n",
            "12/12 [==============================] - 0s 8ms/step - loss: 0.3235 - accuracy: 0.8950 - val_loss: 0.3549 - val_accuracy: 0.8723\n",
            "Epoch 4/100\n",
            "12/12 [==============================] - 0s 8ms/step - loss: 0.3016 - accuracy: 0.9055 - val_loss: 0.3321 - val_accuracy: 0.9043\n",
            "Epoch 5/100\n",
            "12/12 [==============================] - 0s 11ms/step - loss: 0.2831 - accuracy: 0.9108 - val_loss: 0.3127 - val_accuracy: 0.9096\n",
            "Epoch 6/100\n",
            "12/12 [==============================] - 0s 8ms/step - loss: 0.2676 - accuracy: 0.9186 - val_loss: 0.2959 - val_accuracy: 0.9096\n",
            "Epoch 7/100\n",
            "12/12 [==============================] - 0s 8ms/step - loss: 0.2538 - accuracy: 0.9265 - val_loss: 0.2820 - val_accuracy: 0.9096\n",
            "Epoch 8/100\n",
            "12/12 [==============================] - 0s 8ms/step - loss: 0.2422 - accuracy: 0.9318 - val_loss: 0.2697 - val_accuracy: 0.9149\n",
            "Epoch 9/100\n",
            "12/12 [==============================] - 0s 8ms/step - loss: 0.2320 - accuracy: 0.9318 - val_loss: 0.2588 - val_accuracy: 0.9255\n",
            "Epoch 10/100\n",
            "12/12 [==============================] - 0s 9ms/step - loss: 0.2227 - accuracy: 0.9344 - val_loss: 0.2492 - val_accuracy: 0.9255\n",
            "Epoch 11/100\n",
            "12/12 [==============================] - 0s 8ms/step - loss: 0.2145 - accuracy: 0.9396 - val_loss: 0.2404 - val_accuracy: 0.9309\n",
            "Epoch 12/100\n",
            "12/12 [==============================] - 0s 9ms/step - loss: 0.2071 - accuracy: 0.9423 - val_loss: 0.2324 - val_accuracy: 0.9309\n",
            "Epoch 13/100\n",
            "12/12 [==============================] - 0s 8ms/step - loss: 0.2001 - accuracy: 0.9423 - val_loss: 0.2254 - val_accuracy: 0.9309\n",
            "Epoch 14/100\n",
            "12/12 [==============================] - 0s 11ms/step - loss: 0.1940 - accuracy: 0.9475 - val_loss: 0.2189 - val_accuracy: 0.9362\n",
            "Epoch 15/100\n",
            "12/12 [==============================] - 0s 9ms/step - loss: 0.1885 - accuracy: 0.9475 - val_loss: 0.2128 - val_accuracy: 0.9415\n",
            "Epoch 16/100\n",
            "12/12 [==============================] - 0s 11ms/step - loss: 0.1831 - accuracy: 0.9475 - val_loss: 0.2070 - val_accuracy: 0.9415\n",
            "Epoch 17/100\n",
            "12/12 [==============================] - 0s 8ms/step - loss: 0.1783 - accuracy: 0.9475 - val_loss: 0.2017 - val_accuracy: 0.9415\n",
            "Epoch 18/100\n",
            "12/12 [==============================] - 0s 8ms/step - loss: 0.1737 - accuracy: 0.9475 - val_loss: 0.1969 - val_accuracy: 0.9415\n",
            "Epoch 19/100\n",
            "12/12 [==============================] - 0s 9ms/step - loss: 0.1694 - accuracy: 0.9475 - val_loss: 0.1925 - val_accuracy: 0.9415\n",
            "Epoch 20/100\n",
            "12/12 [==============================] - 0s 9ms/step - loss: 0.1655 - accuracy: 0.9475 - val_loss: 0.1884 - val_accuracy: 0.9415\n",
            "Epoch 21/100\n",
            "12/12 [==============================] - 0s 8ms/step - loss: 0.1619 - accuracy: 0.9501 - val_loss: 0.1844 - val_accuracy: 0.9415\n",
            "Epoch 22/100\n",
            "12/12 [==============================] - 0s 9ms/step - loss: 0.1584 - accuracy: 0.9501 - val_loss: 0.1809 - val_accuracy: 0.9415\n",
            "Epoch 23/100\n",
            "12/12 [==============================] - 0s 10ms/step - loss: 0.1552 - accuracy: 0.9501 - val_loss: 0.1774 - val_accuracy: 0.9415\n",
            "Epoch 24/100\n",
            "12/12 [==============================] - 0s 10ms/step - loss: 0.1521 - accuracy: 0.9475 - val_loss: 0.1742 - val_accuracy: 0.9415\n",
            "Epoch 25/100\n",
            "12/12 [==============================] - 0s 7ms/step - loss: 0.1491 - accuracy: 0.9475 - val_loss: 0.1712 - val_accuracy: 0.9415\n",
            "Epoch 26/100\n",
            "12/12 [==============================] - 0s 8ms/step - loss: 0.1464 - accuracy: 0.9475 - val_loss: 0.1683 - val_accuracy: 0.9468\n",
            "Epoch 27/100\n",
            "12/12 [==============================] - 0s 8ms/step - loss: 0.1439 - accuracy: 0.9501 - val_loss: 0.1655 - val_accuracy: 0.9468\n",
            "Epoch 28/100\n",
            "12/12 [==============================] - 0s 8ms/step - loss: 0.1414 - accuracy: 0.9501 - val_loss: 0.1629 - val_accuracy: 0.9468\n",
            "Epoch 29/100\n",
            "12/12 [==============================] - 0s 8ms/step - loss: 0.1390 - accuracy: 0.9501 - val_loss: 0.1605 - val_accuracy: 0.9468\n",
            "Epoch 30/100\n",
            "12/12 [==============================] - 0s 8ms/step - loss: 0.1367 - accuracy: 0.9501 - val_loss: 0.1582 - val_accuracy: 0.9468\n",
            "Epoch 31/100\n",
            "12/12 [==============================] - 0s 8ms/step - loss: 0.1346 - accuracy: 0.9501 - val_loss: 0.1559 - val_accuracy: 0.9468\n",
            "Epoch 32/100\n",
            "12/12 [==============================] - 0s 12ms/step - loss: 0.1325 - accuracy: 0.9528 - val_loss: 0.1539 - val_accuracy: 0.9468\n",
            "Epoch 33/100\n",
            "12/12 [==============================] - 0s 9ms/step - loss: 0.1306 - accuracy: 0.9554 - val_loss: 0.1518 - val_accuracy: 0.9521\n",
            "Epoch 34/100\n",
            "12/12 [==============================] - 0s 7ms/step - loss: 0.1287 - accuracy: 0.9554 - val_loss: 0.1499 - val_accuracy: 0.9521\n",
            "Epoch 35/100\n",
            "12/12 [==============================] - 0s 10ms/step - loss: 0.1269 - accuracy: 0.9554 - val_loss: 0.1480 - val_accuracy: 0.9521\n",
            "Epoch 36/100\n",
            "12/12 [==============================] - 0s 9ms/step - loss: 0.1252 - accuracy: 0.9554 - val_loss: 0.1463 - val_accuracy: 0.9521\n",
            "Epoch 37/100\n",
            "12/12 [==============================] - 0s 7ms/step - loss: 0.1235 - accuracy: 0.9554 - val_loss: 0.1446 - val_accuracy: 0.9521\n",
            "Epoch 38/100\n",
            "12/12 [==============================] - 0s 9ms/step - loss: 0.1220 - accuracy: 0.9554 - val_loss: 0.1430 - val_accuracy: 0.9521\n",
            "Epoch 39/100\n",
            "12/12 [==============================] - 0s 7ms/step - loss: 0.1205 - accuracy: 0.9554 - val_loss: 0.1414 - val_accuracy: 0.9574\n",
            "Epoch 40/100\n",
            "12/12 [==============================] - 0s 8ms/step - loss: 0.1190 - accuracy: 0.9580 - val_loss: 0.1399 - val_accuracy: 0.9574\n",
            "Epoch 41/100\n",
            "12/12 [==============================] - 0s 9ms/step - loss: 0.1176 - accuracy: 0.9633 - val_loss: 0.1384 - val_accuracy: 0.9574\n",
            "Epoch 42/100\n",
            "12/12 [==============================] - 0s 8ms/step - loss: 0.1162 - accuracy: 0.9659 - val_loss: 0.1370 - val_accuracy: 0.9574\n",
            "Epoch 43/100\n",
            "12/12 [==============================] - 0s 8ms/step - loss: 0.1149 - accuracy: 0.9659 - val_loss: 0.1356 - val_accuracy: 0.9574\n",
            "Epoch 44/100\n",
            "12/12 [==============================] - 0s 8ms/step - loss: 0.1136 - accuracy: 0.9685 - val_loss: 0.1344 - val_accuracy: 0.9574\n",
            "Epoch 45/100\n",
            "12/12 [==============================] - 0s 8ms/step - loss: 0.1124 - accuracy: 0.9685 - val_loss: 0.1331 - val_accuracy: 0.9574\n",
            "Epoch 46/100\n",
            "12/12 [==============================] - 0s 9ms/step - loss: 0.1113 - accuracy: 0.9685 - val_loss: 0.1319 - val_accuracy: 0.9574\n",
            "Epoch 47/100\n",
            "12/12 [==============================] - 0s 8ms/step - loss: 0.1100 - accuracy: 0.9685 - val_loss: 0.1308 - val_accuracy: 0.9574\n",
            "Epoch 48/100\n",
            "12/12 [==============================] - 0s 7ms/step - loss: 0.1090 - accuracy: 0.9685 - val_loss: 0.1297 - val_accuracy: 0.9574\n",
            "Epoch 49/100\n",
            "12/12 [==============================] - 0s 7ms/step - loss: 0.1079 - accuracy: 0.9685 - val_loss: 0.1285 - val_accuracy: 0.9574\n",
            "Epoch 50/100\n",
            "12/12 [==============================] - 0s 14ms/step - loss: 0.1069 - accuracy: 0.9685 - val_loss: 0.1275 - val_accuracy: 0.9574\n",
            "Epoch 51/100\n",
            "12/12 [==============================] - 0s 8ms/step - loss: 0.1059 - accuracy: 0.9685 - val_loss: 0.1264 - val_accuracy: 0.9574\n",
            "Epoch 52/100\n",
            "12/12 [==============================] - 0s 10ms/step - loss: 0.1048 - accuracy: 0.9685 - val_loss: 0.1255 - val_accuracy: 0.9628\n",
            "Epoch 53/100\n",
            "12/12 [==============================] - 0s 8ms/step - loss: 0.1039 - accuracy: 0.9685 - val_loss: 0.1245 - val_accuracy: 0.9628\n",
            "Epoch 54/100\n",
            "12/12 [==============================] - 0s 8ms/step - loss: 0.1030 - accuracy: 0.9685 - val_loss: 0.1236 - val_accuracy: 0.9628\n",
            "Epoch 55/100\n",
            "12/12 [==============================] - 0s 8ms/step - loss: 0.1021 - accuracy: 0.9685 - val_loss: 0.1227 - val_accuracy: 0.9628\n",
            "Epoch 56/100\n",
            "12/12 [==============================] - 0s 8ms/step - loss: 0.1012 - accuracy: 0.9685 - val_loss: 0.1218 - val_accuracy: 0.9628\n",
            "Epoch 57/100\n",
            "12/12 [==============================] - 0s 8ms/step - loss: 0.1003 - accuracy: 0.9685 - val_loss: 0.1210 - val_accuracy: 0.9628\n",
            "Epoch 58/100\n",
            "12/12 [==============================] - 0s 8ms/step - loss: 0.0996 - accuracy: 0.9685 - val_loss: 0.1201 - val_accuracy: 0.9628\n",
            "Epoch 59/100\n",
            "12/12 [==============================] - 0s 9ms/step - loss: 0.0988 - accuracy: 0.9685 - val_loss: 0.1193 - val_accuracy: 0.9628\n",
            "Epoch 60/100\n",
            "12/12 [==============================] - 0s 8ms/step - loss: 0.0979 - accuracy: 0.9685 - val_loss: 0.1186 - val_accuracy: 0.9628\n",
            "Epoch 61/100\n",
            "12/12 [==============================] - 0s 8ms/step - loss: 0.0972 - accuracy: 0.9685 - val_loss: 0.1178 - val_accuracy: 0.9681\n",
            "Epoch 62/100\n",
            "12/12 [==============================] - 0s 10ms/step - loss: 0.0964 - accuracy: 0.9685 - val_loss: 0.1171 - val_accuracy: 0.9681\n",
            "Epoch 63/100\n",
            "12/12 [==============================] - 0s 7ms/step - loss: 0.0957 - accuracy: 0.9685 - val_loss: 0.1164 - val_accuracy: 0.9681\n",
            "Epoch 64/100\n",
            "12/12 [==============================] - 0s 8ms/step - loss: 0.0950 - accuracy: 0.9685 - val_loss: 0.1158 - val_accuracy: 0.9681\n",
            "Epoch 65/100\n",
            "12/12 [==============================] - 0s 10ms/step - loss: 0.0943 - accuracy: 0.9685 - val_loss: 0.1151 - val_accuracy: 0.9681\n",
            "Epoch 66/100\n",
            "12/12 [==============================] - 0s 8ms/step - loss: 0.0936 - accuracy: 0.9711 - val_loss: 0.1144 - val_accuracy: 0.9681\n",
            "Epoch 67/100\n",
            "12/12 [==============================] - 0s 10ms/step - loss: 0.0930 - accuracy: 0.9711 - val_loss: 0.1138 - val_accuracy: 0.9681\n",
            "Epoch 68/100\n",
            "12/12 [==============================] - 0s 10ms/step - loss: 0.0924 - accuracy: 0.9711 - val_loss: 0.1132 - val_accuracy: 0.9681\n",
            "Epoch 69/100\n",
            "12/12 [==============================] - 0s 8ms/step - loss: 0.0917 - accuracy: 0.9711 - val_loss: 0.1126 - val_accuracy: 0.9681\n",
            "Epoch 70/100\n",
            "12/12 [==============================] - 0s 8ms/step - loss: 0.0911 - accuracy: 0.9711 - val_loss: 0.1120 - val_accuracy: 0.9681\n",
            "Epoch 71/100\n",
            "12/12 [==============================] - 0s 12ms/step - loss: 0.0905 - accuracy: 0.9711 - val_loss: 0.1114 - val_accuracy: 0.9681\n",
            "Epoch 72/100\n",
            "12/12 [==============================] - 0s 8ms/step - loss: 0.0899 - accuracy: 0.9711 - val_loss: 0.1109 - val_accuracy: 0.9681\n",
            "Epoch 73/100\n",
            "12/12 [==============================] - 0s 8ms/step - loss: 0.0893 - accuracy: 0.9711 - val_loss: 0.1104 - val_accuracy: 0.9681\n",
            "Epoch 74/100\n",
            "12/12 [==============================] - 0s 13ms/step - loss: 0.0888 - accuracy: 0.9711 - val_loss: 0.1098 - val_accuracy: 0.9681\n",
            "Epoch 75/100\n",
            "12/12 [==============================] - 0s 8ms/step - loss: 0.0882 - accuracy: 0.9711 - val_loss: 0.1094 - val_accuracy: 0.9681\n",
            "Epoch 76/100\n",
            "12/12 [==============================] - 0s 15ms/step - loss: 0.0877 - accuracy: 0.9711 - val_loss: 0.1089 - val_accuracy: 0.9681\n",
            "Epoch 77/100\n",
            "12/12 [==============================] - 0s 11ms/step - loss: 0.0872 - accuracy: 0.9711 - val_loss: 0.1084 - val_accuracy: 0.9681\n",
            "Epoch 78/100\n",
            "12/12 [==============================] - 0s 11ms/step - loss: 0.0867 - accuracy: 0.9738 - val_loss: 0.1080 - val_accuracy: 0.9681\n",
            "Epoch 79/100\n",
            "12/12 [==============================] - 0s 8ms/step - loss: 0.0861 - accuracy: 0.9764 - val_loss: 0.1074 - val_accuracy: 0.9681\n",
            "Epoch 80/100\n",
            "12/12 [==============================] - 0s 8ms/step - loss: 0.0856 - accuracy: 0.9764 - val_loss: 0.1070 - val_accuracy: 0.9681\n",
            "Epoch 81/100\n",
            "12/12 [==============================] - 0s 9ms/step - loss: 0.0851 - accuracy: 0.9764 - val_loss: 0.1066 - val_accuracy: 0.9681\n",
            "Epoch 82/100\n",
            "12/12 [==============================] - 0s 8ms/step - loss: 0.0847 - accuracy: 0.9764 - val_loss: 0.1062 - val_accuracy: 0.9681\n",
            "Epoch 83/100\n",
            "12/12 [==============================] - 0s 8ms/step - loss: 0.0842 - accuracy: 0.9764 - val_loss: 0.1057 - val_accuracy: 0.9681\n",
            "Epoch 84/100\n",
            "12/12 [==============================] - 0s 9ms/step - loss: 0.0837 - accuracy: 0.9764 - val_loss: 0.1054 - val_accuracy: 0.9681\n",
            "Epoch 85/100\n",
            "12/12 [==============================] - 0s 8ms/step - loss: 0.0833 - accuracy: 0.9764 - val_loss: 0.1050 - val_accuracy: 0.9681\n",
            "Epoch 86/100\n",
            "12/12 [==============================] - 0s 8ms/step - loss: 0.0828 - accuracy: 0.9764 - val_loss: 0.1047 - val_accuracy: 0.9681\n",
            "Epoch 87/100\n",
            "12/12 [==============================] - 0s 7ms/step - loss: 0.0824 - accuracy: 0.9790 - val_loss: 0.1042 - val_accuracy: 0.9681\n",
            "Epoch 88/100\n",
            "12/12 [==============================] - 0s 8ms/step - loss: 0.0820 - accuracy: 0.9790 - val_loss: 0.1039 - val_accuracy: 0.9681\n",
            "Epoch 89/100\n",
            "12/12 [==============================] - 0s 9ms/step - loss: 0.0815 - accuracy: 0.9790 - val_loss: 0.1035 - val_accuracy: 0.9681\n",
            "Epoch 90/100\n",
            "12/12 [==============================] - 0s 8ms/step - loss: 0.0811 - accuracy: 0.9790 - val_loss: 0.1031 - val_accuracy: 0.9681\n",
            "Epoch 91/100\n",
            "12/12 [==============================] - 0s 8ms/step - loss: 0.0808 - accuracy: 0.9790 - val_loss: 0.1028 - val_accuracy: 0.9681\n",
            "Epoch 92/100\n",
            "12/12 [==============================] - 0s 9ms/step - loss: 0.0803 - accuracy: 0.9790 - val_loss: 0.1025 - val_accuracy: 0.9734\n",
            "Epoch 93/100\n",
            "12/12 [==============================] - 0s 9ms/step - loss: 0.0799 - accuracy: 0.9790 - val_loss: 0.1022 - val_accuracy: 0.9734\n",
            "Epoch 94/100\n",
            "12/12 [==============================] - 0s 8ms/step - loss: 0.0796 - accuracy: 0.9790 - val_loss: 0.1018 - val_accuracy: 0.9734\n",
            "Epoch 95/100\n",
            "12/12 [==============================] - 0s 8ms/step - loss: 0.0792 - accuracy: 0.9790 - val_loss: 0.1015 - val_accuracy: 0.9787\n",
            "Epoch 96/100\n",
            "12/12 [==============================] - 0s 8ms/step - loss: 0.0788 - accuracy: 0.9790 - val_loss: 0.1012 - val_accuracy: 0.9787\n",
            "Epoch 97/100\n",
            "12/12 [==============================] - 0s 8ms/step - loss: 0.0784 - accuracy: 0.9790 - val_loss: 0.1009 - val_accuracy: 0.9787\n",
            "Epoch 98/100\n",
            "12/12 [==============================] - 0s 12ms/step - loss: 0.0780 - accuracy: 0.9790 - val_loss: 0.1006 - val_accuracy: 0.9787\n",
            "Epoch 99/100\n",
            "12/12 [==============================] - 0s 8ms/step - loss: 0.0777 - accuracy: 0.9790 - val_loss: 0.1003 - val_accuracy: 0.9787\n",
            "Epoch 100/100\n",
            "12/12 [==============================] - 0s 8ms/step - loss: 0.0773 - accuracy: 0.9790 - val_loss: 0.1000 - val_accuracy: 0.9787\n"
          ]
        }
      ]
    },
    {
      "cell_type": "code",
      "source": [
        "print(\"Train score:\", model.evaluate(X_train, y_train))\n",
        "print(\"Test score:\", model.evaluate(X_test, y_test))"
      ],
      "metadata": {
        "colab": {
          "base_uri": "https://localhost:8080/"
        },
        "id": "ePA9UZlnS2I3",
        "outputId": "f77fb974-1f38-428f-db6a-caa09482f401"
      },
      "execution_count": null,
      "outputs": [
        {
          "output_type": "stream",
          "name": "stdout",
          "text": [
            "12/12 [==============================] - 0s 2ms/step - loss: 0.0771 - accuracy: 0.9790\n",
            "Train score: [0.07710295915603638, 0.9790025949478149]\n",
            "6/6 [==============================] - 0s 3ms/step - loss: 0.1000 - accuracy: 0.9787\n",
            "Test score: [0.10002782195806503, 0.978723406791687]\n"
          ]
        }
      ]
    },
    {
      "cell_type": "code",
      "source": [
        "# Plot what's returned by model.fit\n",
        "plt.plot(r.history[\"loss\"], label=\"loss\")\n",
        "plt.plot(r.history[\"val_loss\"], label=\"val_loss\")\n",
        "plt.legend()"
      ],
      "metadata": {
        "colab": {
          "base_uri": "https://localhost:8080/",
          "height": 282
        },
        "id": "hekgTQ_XTaKR",
        "outputId": "b38eb204-0e69-49d2-834f-6f48b7911d87"
      },
      "execution_count": null,
      "outputs": [
        {
          "output_type": "execute_result",
          "data": {
            "text/plain": [
              "<matplotlib.legend.Legend at 0x7ffa1b25a210>"
            ]
          },
          "metadata": {},
          "execution_count": 31
        },
        {
          "output_type": "display_data",
          "data": {
            "text/plain": [
              "<Figure size 432x288 with 1 Axes>"
            ],
            "image/png": "[encoded data removed]"
          },
          "metadata": {
            "needs_background": "light"
          }
        }
      ]
    },
    {
      "cell_type": "code",
      "source": [
        "# Plot the accuracy too\n",
        "plt.plot(r.history[\"accuracy\"], label=\"acc\")\n",
        "plt.plot(r.history[\"val_accuracy\"], label=\"val_acc\")\n",
        "plt.legend()"
      ],
      "metadata": {
        "colab": {
          "base_uri": "https://localhost:8080/",
          "height": 282
        },
        "id": "OgNBs24NUCgC",
        "outputId": "0785134e-1d59-427e-af43-796aa096ac60"
      },
      "execution_count": null,
      "outputs": [
        {
          "output_type": "execute_result",
          "data": {
            "text/plain": [
              "<matplotlib.legend.Legend at 0x7ffa18d8f350>"
            ]
          },
          "metadata": {},
          "execution_count": 32
        },
        {
          "output_type": "display_data",
          "data": {
            "text/plain": [
              "<Figure size 432x288 with 1 Axes>"
            ],
            "image/png": "[encoded data removed]"
          },
          "metadata": {
            "needs_background": "light"
          }
        }
      ]
    },
    {
      "cell_type": "markdown",
      "source": [
        "## Making Preditions"
      ],
      "metadata": {
        "id": "W4Wzl1tf1GuK"
      }
    },
    {
      "cell_type": "code",
      "source": [
        "# Make predictions\n",
        "P = model.predict(X_test)\n",
        "print(P) # they are outputs of the sigmoid, interpreted as probabilities p(y = 1 | x)"
      ],
      "metadata": {
        "colab": {
          "base_uri": "https://localhost:8080/"
        },
        "id": "KEP_GU6y1FJy",
        "outputId": "a2448828-9109-4820-dbd6-e9e65cb2ff4f"
      },
      "execution_count": null,
      "outputs": [
        {
          "output_type": "stream",
          "name": "stdout",
          "text": [
            "[[1.26580596e-02]\n",
            " [9.94282603e-01]\n",
            " [1.58934802e-01]\n",
            " [4.00325060e-02]\n",
            " [9.90410805e-01]\n",
            " [6.95156097e-01]\n",
            " [5.64962626e-04]\n",
            " [7.33058003e-10]\n",
            " [9.98315096e-01]\n",
            " [9.99154210e-01]\n",
            " [1.79797411e-04]\n",
            " [9.98676062e-01]\n",
            " [3.81452054e-07]\n",
            " [1.15515613e-04]\n",
            " [9.97815609e-01]\n",
            " [9.86723304e-01]\n",
            " [4.68867123e-02]\n",
            " [5.27945161e-03]\n",
            " [9.53592896e-01]\n",
            " [2.11018958e-09]\n",
            " [9.97680902e-01]\n",
            " [9.20949280e-01]\n",
            " [5.67319134e-08]\n",
            " [4.59232926e-03]\n",
            " [6.47168932e-08]\n",
            " [9.65816259e-01]\n",
            " [9.96159196e-01]\n",
            " [2.11179554e-02]\n",
            " [2.11879611e-03]\n",
            " [9.98204291e-01]\n",
            " [9.78265524e-01]\n",
            " [9.91229892e-01]\n",
            " [2.17134880e-06]\n",
            " [7.62820244e-04]\n",
            " [9.82902884e-01]\n",
            " [7.03456998e-01]\n",
            " [9.99955535e-01]\n",
            " [9.98642206e-01]\n",
            " [3.16909063e-05]\n",
            " [1.91032887e-04]\n",
            " [1.02182746e-01]\n",
            " [9.99158025e-01]\n",
            " [3.45883163e-05]\n",
            " [9.99576449e-01]\n",
            " [6.53858602e-01]\n",
            " [9.82668042e-01]\n",
            " [6.12586737e-05]\n",
            " [9.96177912e-01]\n",
            " [7.58081675e-03]\n",
            " [9.67524052e-01]\n",
            " [9.98453796e-01]\n",
            " [9.96354818e-01]\n",
            " [9.97046828e-01]\n",
            " [9.88669157e-01]\n",
            " [9.32549953e-01]\n",
            " [9.99928236e-01]\n",
            " [9.97431278e-01]\n",
            " [1.09327435e-02]\n",
            " [9.98764813e-01]\n",
            " [8.27563763e-01]\n",
            " [8.44893157e-02]\n",
            " [4.89093184e-01]\n",
            " [9.98521984e-01]\n",
            " [1.50870383e-02]\n",
            " [9.73816276e-01]\n",
            " [9.99415874e-01]\n",
            " [9.76719677e-01]\n",
            " [8.92919302e-02]\n",
            " [1.25584006e-02]\n",
            " [9.71198678e-01]\n",
            " [5.14057159e-01]\n",
            " [2.06425786e-03]\n",
            " [9.77204382e-01]\n",
            " [9.98532057e-01]\n",
            " [9.68443334e-01]\n",
            " [6.18394256e-01]\n",
            " [9.97767150e-01]\n",
            " [9.05383229e-01]\n",
            " [9.90968823e-01]\n",
            " [9.93361831e-01]\n",
            " [9.80047643e-01]\n",
            " [4.59362864e-02]\n",
            " [8.89995694e-02]\n",
            " [8.98108840e-01]\n",
            " [6.70374095e-01]\n",
            " [8.50685894e-01]\n",
            " [2.04041898e-02]\n",
            " [1.23505145e-01]\n",
            " [5.02814901e-10]\n",
            " [8.72824192e-01]\n",
            " [9.64292169e-01]\n",
            " [8.30024481e-04]\n",
            " [9.96717691e-01]\n",
            " [8.10277939e-01]\n",
            " [1.64950336e-07]\n",
            " [9.99906301e-01]\n",
            " [9.14148569e-01]\n",
            " [8.00565394e-05]\n",
            " [8.71951699e-01]\n",
            " [9.98088539e-01]\n",
            " [9.98214841e-01]\n",
            " [1.48587227e-02]\n",
            " [9.43661928e-01]\n",
            " [9.97202992e-01]\n",
            " [1.69447064e-03]\n",
            " [9.99203801e-01]\n",
            " [4.37901914e-02]\n",
            " [3.30136865e-01]\n",
            " [8.95350218e-01]\n",
            " [9.45695758e-01]\n",
            " [9.51065004e-01]\n",
            " [9.60164905e-01]\n",
            " [8.36676955e-01]\n",
            " [5.41877747e-03]\n",
            " [2.64975429e-03]\n",
            " [1.78531706e-02]\n",
            " [9.99650478e-01]\n",
            " [9.88353610e-01]\n",
            " [9.97397304e-01]\n",
            " [9.99088049e-01]\n",
            " [9.79456902e-01]\n",
            " [9.19928133e-01]\n",
            " [9.99517977e-01]\n",
            " [4.18695152e-01]\n",
            " [9.99738455e-01]\n",
            " [9.94216979e-01]\n",
            " [9.99302268e-01]\n",
            " [1.49580121e-01]\n",
            " [3.29456031e-02]\n",
            " [9.60606337e-01]\n",
            " [9.47729826e-01]\n",
            " [3.54823169e-05]\n",
            " [2.69699097e-03]\n",
            " [9.95931089e-01]\n",
            " [4.67120226e-05]\n",
            " [2.78838343e-06]\n",
            " [1.63426805e-07]\n",
            " [4.30315733e-04]\n",
            " [9.99722004e-01]\n",
            " [1.38086975e-01]\n",
            " [9.12317097e-01]\n",
            " [9.98625159e-01]\n",
            " [8.18852365e-01]\n",
            " [4.30304044e-06]\n",
            " [9.71119881e-01]\n",
            " [9.98701692e-01]\n",
            " [9.95536089e-01]\n",
            " [9.77169394e-01]\n",
            " [4.57992473e-06]\n",
            " [9.89000261e-01]\n",
            " [9.99989748e-01]\n",
            " [3.12179327e-04]\n",
            " [3.55367007e-07]\n",
            " [1.30325556e-03]\n",
            " [2.87845731e-03]\n",
            " [2.82998380e-09]\n",
            " [9.90255237e-01]\n",
            " [6.87661469e-01]\n",
            " [1.28969550e-03]\n",
            " [9.93910789e-01]\n",
            " [8.55475903e-01]\n",
            " [9.36617851e-01]\n",
            " [6.41005933e-01]\n",
            " [9.01555419e-01]\n",
            " [9.73265231e-01]\n",
            " [9.65130448e-01]\n",
            " [3.26940417e-03]\n",
            " [9.99661922e-01]\n",
            " [9.88811374e-01]\n",
            " [9.49921548e-01]\n",
            " [9.99757528e-01]\n",
            " [9.95879710e-01]\n",
            " [1.53467268e-01]\n",
            " [9.01758671e-04]\n",
            " [2.84396634e-07]\n",
            " [1.77262723e-02]\n",
            " [9.84294415e-01]\n",
            " [1.20019913e-03]\n",
            " [9.97738004e-01]\n",
            " [4.38146453e-05]\n",
            " [9.96812820e-01]\n",
            " [6.01058006e-01]\n",
            " [9.93477583e-01]\n",
            " [2.15619802e-04]\n",
            " [9.11492467e-01]\n",
            " [9.46263433e-01]\n",
            " [9.99708354e-01]\n",
            " [6.91672444e-01]]\n"
          ]
        }
      ]
    },
    {
      "cell_type": "code",
      "source": [
        "# Round to get the actual preditions\n",
        "# Note: has to be flattened since the targets are size (N,) while the predictions are size (N, 1)\n",
        "P = np.round(P).flatten()\n",
        "print(P)"
      ],
      "metadata": {
        "colab": {
          "base_uri": "https://localhost:8080/"
        },
        "id": "G5PVss6y1gKh",
        "outputId": "77f44ab3-8999-4fb4-90cf-b8f341c29584"
      },
      "execution_count": null,
      "outputs": [
        {
          "output_type": "stream",
          "name": "stdout",
          "text": [
            "[0. 1. 0. 0. 1. 1. 0. 0. 1. 1. 0. 1. 0. 0. 1. 1. 0. 0. 1. 0. 1. 1. 0. 0.\n",
            " 0. 1. 1. 0. 0. 1. 1. 1. 0. 0. 1. 1. 1. 1. 0. 0. 0. 1. 0. 1. 1. 1. 0. 1.\n",
            " 0. 1. 1. 1. 1. 1. 1. 1. 1. 0. 1. 1. 0. 0. 1. 0. 1. 1. 1. 0. 0. 1. 1. 0.\n",
            " 1. 1. 1. 1. 1. 1. 1. 1. 1. 0. 0. 1. 1. 1. 0. 0. 0. 1. 1. 0. 1. 1. 0. 1.\n",
            " 1. 0. 1. 1. 1. 0. 1. 1. 0. 1. 0. 0. 1. 1. 1. 1. 1. 0. 0. 0. 1. 1. 1. 1.\n",
            " 1. 1. 1. 0. 1. 1. 1. 0. 0. 1. 1. 0. 0. 1. 0. 0. 0. 0. 1. 0. 1. 1. 1. 0.\n",
            " 1. 1. 1. 1. 0. 1. 1. 0. 0. 0. 0. 0. 1. 1. 0. 1. 1. 1. 1. 1. 1. 1. 0. 1.\n",
            " 1. 1. 1. 1. 0. 0. 0. 0. 1. 0. 1. 0. 1. 1. 1. 0. 1. 1. 1. 1.]\n"
          ]
        }
      ]
    },
    {
      "cell_type": "code",
      "source": [
        "# Calculate the accuracy, compare it to evaluate() output\n",
        "print(\"Manually calculated accuracy:\", np.mean(P == y_test))\n",
        "print(\"Evaluate output:\", model.evaluate(X_test, y_test))"
      ],
      "metadata": {
        "colab": {
          "base_uri": "https://localhost:8080/"
        },
        "id": "-YOOq27F3DZ5",
        "outputId": "8d7f3d3b-a4d1-4644-c292-f6a30262abf7"
      },
      "execution_count": null,
      "outputs": [
        {
          "output_type": "stream",
          "name": "stdout",
          "text": [
            "Manually calculated accuracy: 0.9787234042553191\n",
            "6/6 [==============================] - 0s 3ms/step - loss: 0.1000 - accuracy: 0.9787\n",
            "Evaluate output: [0.10002782195806503, 0.978723406791687]\n"
          ]
        }
      ]
    }
  ]
}