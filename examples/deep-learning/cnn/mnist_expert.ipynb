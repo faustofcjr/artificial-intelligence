{
 "cells": [
  {
   "cell_type": "markdown",
   "id": "b22ad025-4b1a-4534-8701-61f713daea00",
   "metadata": {},
   "source": [
    "# TensorFlow 2 quickstart for experts\n",
    "\n",
    "_source_: https://www.tensorflow.org/tutorials/quickstart/advanced"
   ]
  },
  {
   "cell_type": "code",
   "execution_count": 1,
   "id": "f767d452-e3b7-420f-bdc2-c9ba442d28bc",
   "metadata": {},
   "outputs": [],
   "source": [
    "import tensorflow as tf\n",
    "\n",
    "from tensorflow.keras import datasets\n",
    "from tensorflow.keras import Model\n",
    "from tensorflow.keras.layers import (\n",
    "    Dense,\n",
    "    Flatten,\n",
    "    Conv2D\n",
    ")"
   ]
  },
  {
   "cell_type": "markdown",
   "id": "dccfd88e-9162-4263-85cf-5dd200831853",
   "metadata": {},
   "source": [
    "## Load and prepare the MNIST dataset"
   ]
  },
  {
   "cell_type": "code",
   "execution_count": 2,
   "id": "77fdcb7f-d23d-4feb-8d79-2d5c0bf16d4f",
   "metadata": {},
   "outputs": [],
   "source": [
    "mnist = datasets.mnist\n",
    "\n",
    "(x_train, y_train), (x_test, y_test) = mnist.load_data()\n",
    "x_train, x_test = x_train / 255.0, x_test / 255.0"
   ]
  },
  {
   "cell_type": "markdown",
   "id": "b97c5e1e-fa09-46a9-983a-4c9867492ac7",
   "metadata": {},
   "source": [
    "**Add a channels dimension**"
   ]
  },
  {
   "cell_type": "code",
   "execution_count": 3,
   "id": "6bcecf66-89fe-41eb-b442-5324203b4975",
   "metadata": {},
   "outputs": [],
   "source": [
    "x_train = x_train[..., tf.newaxis].astype(\"float32\")\n",
    "x_test = x_test[..., tf.newaxis].astype(\"float32\")"
   ]
  },
  {
   "cell_type": "markdown",
   "id": "84c0500c-0cc4-408c-a69f-14d073300196",
   "metadata": {},
   "source": [
    "**Batch and shuffle dataset**"
   ]
  },
  {
   "cell_type": "code",
   "execution_count": 4,
   "id": "3d3b2b54-2134-4fe2-9dbd-efc6bc6e4883",
   "metadata": {},
   "outputs": [
    {
     "name": "stderr",
     "output_type": "stream",
     "text": [
      "2022-02-24 01:07:22.379543: I tensorflow/compiler/jit/xla_cpu_device.cc:41] Not creating XLA devices, tf_xla_enable_xla_devices not set\n",
      "2022-02-24 01:07:22.379733: I tensorflow/core/platform/cpu_feature_guard.cc:142] This TensorFlow binary is optimized with oneAPI Deep Neural Network Library (oneDNN) to use the following CPU instructions in performance-critical operations:  SSE4.1 SSE4.2 AVX AVX2 FMA\n",
      "To enable them in other operations, rebuild TensorFlow with the appropriate compiler flags.\n",
      "2022-02-24 01:07:22.380940: I tensorflow/core/common_runtime/process_util.cc:146] Creating new thread pool with default inter op setting: 2. Tune using inter_op_parallelism_threads for best performance.\n"
     ]
    }
   ],
   "source": [
    "train_ds = tf.data.Dataset.from_tensor_slices((x_train, y_train)).shuffle(10000).batch(32)\n",
    "test_ds = tf.data.Dataset.from_tensor_slices((x_test, y_test)).batch(32)"
   ]
  },
  {
   "cell_type": "markdown",
   "id": "6d74ba9d-7332-476d-ab7c-8a9fa6b64685",
   "metadata": {},
   "source": [
    "## Create a specialized model based on tf.keras.model"
   ]
  },
  {
   "cell_type": "code",
   "execution_count": 5,
   "id": "ac8abcdb-ccf4-4ed2-be8c-eb994d0cbd31",
   "metadata": {},
   "outputs": [],
   "source": [
    "class MyModel(Model):\n",
    "    \n",
    "    def __init__(self):\n",
    "        super(MyModel, self).__init__()\n",
    "        \n",
    "        self.conv1 = Conv2D(32, 3, activation=\"relu\")\n",
    "        self.flatten = Flatten()\n",
    "        self.d1 = Dense(128, activation=\"relu\")\n",
    "        self.d2 = Dense(10)\n",
    "    \n",
    "    def call(self, x):\n",
    "        x = self.conv1(x)\n",
    "        x = self.flatten(x)\n",
    "        x = self.d1(x)\n",
    "        x = self.d2(x)\n",
    "        \n",
    "        return x"
   ]
  },
  {
   "cell_type": "markdown",
   "id": "8310eb1e-21f9-48a8-97d9-b5d12feecc5c",
   "metadata": {},
   "source": [
    "**Create an instance of the model**"
   ]
  },
  {
   "cell_type": "code",
   "execution_count": 6,
   "id": "1c60da46-fc33-40a5-b952-b19553e89cf0",
   "metadata": {},
   "outputs": [],
   "source": [
    "model = MyModel()"
   ]
  },
  {
   "cell_type": "markdown",
   "id": "c2254ff5-74df-4faf-8e50-ef2a141daa8c",
   "metadata": {},
   "source": [
    "## Define a optimizer and loss function for training"
   ]
  },
  {
   "cell_type": "code",
   "execution_count": 7,
   "id": "433f6afe-0075-465a-ba0f-5a744da12cc4",
   "metadata": {},
   "outputs": [],
   "source": [
    "optimizer = tf.keras.optimizers.Adam()\n",
    "loss_object = tf.keras.losses.SparseCategoricalCrossentropy(from_logits=True)"
   ]
  },
  {
   "cell_type": "markdown",
   "id": "7c626096-9ecc-4026-bcd2-1ee69f379734",
   "metadata": {},
   "source": [
    "## Create metrics to measure the loss and the accuracy of the model"
   ]
  },
  {
   "cell_type": "code",
   "execution_count": 8,
   "id": "47447701-5652-4203-a3d8-5d57cc25de99",
   "metadata": {},
   "outputs": [],
   "source": [
    "train_loss = tf.keras.metrics.Mean(name=\"train_loss\")\n",
    "train_accuracy = tf.keras.metrics.SparseCategoricalAccuracy(name=\"train_accurary\")\n",
    "\n",
    "test_loss = tf.keras.metrics.Mean(name=\"test_loss\")\n",
    "test_accuracy = tf.keras.metrics.SparseCategoricalAccuracy(name=\"test_accuracy\")"
   ]
  },
  {
   "cell_type": "markdown",
   "id": "bd269a57-59ea-4ff2-a31b-1c5e17b245cb",
   "metadata": {},
   "source": [
    "## Train and Test Model"
   ]
  },
  {
   "cell_type": "markdown",
   "id": "57a5be5a-cecd-4739-a500-b24a3cea8431",
   "metadata": {},
   "source": [
    "**Train the model**"
   ]
  },
  {
   "cell_type": "code",
   "execution_count": 9,
   "id": "93bcf414-e8e0-47ea-b4c1-6537b8895087",
   "metadata": {},
   "outputs": [],
   "source": [
    "@tf.function\n",
    "def train_step(images, labels):\n",
    "    with tf.GradientTape() as tape:\n",
    "        # training=True is only needed if there are layers with different\n",
    "        # behavior during training versus inference (e.g. Dropout).\n",
    "        predictions = model(images, training=True)\n",
    "        loss = loss_object(labels, predictions)\n",
    "    \n",
    "    gradients = tape.gradient(loss, model.trainable_variables)\n",
    "    optimizer.apply_gradients(zip(gradients, model.trainable_variables))\n",
    "    \n",
    "    train_loss(loss)\n",
    "    train_accuracy(labels, predictions)"
   ]
  },
  {
   "cell_type": "markdown",
   "id": "f531da24-970c-4127-8d80-e2135a8f36cf",
   "metadata": {},
   "source": [
    "**Test the model**"
   ]
  },
  {
   "cell_type": "code",
   "execution_count": 10,
   "id": "a5adb5ef-caa4-4ce0-a06c-6f42655b061b",
   "metadata": {},
   "outputs": [],
   "source": [
    "@tf.function\n",
    "def test_step(images, labels):\n",
    "    # training=False is only needed if there are layers with different\n",
    "    # behavior during training versus inference (e.g. Dropout).\n",
    "    predictions = model(images, training=False)\n",
    "    t_loss = loss_object(labels, predictions)\n",
    "\n",
    "    test_loss(t_loss)\n",
    "    test_accuracy(labels, predictions)"
   ]
  },
  {
   "cell_type": "code",
   "execution_count": 11,
   "id": "159ca1dd-f80c-4d92-9cb5-1e5cfb0e0096",
   "metadata": {},
   "outputs": [
    {
     "name": "stderr",
     "output_type": "stream",
     "text": [
      "2022-02-24 01:07:22.842172: I tensorflow/compiler/mlir/mlir_graph_optimization_pass.cc:116] None of the MLIR optimization passes are enabled (registered 2)\n",
      "2022-02-24 01:07:22.863242: I tensorflow/core/platform/profile_utils/cpu_utils.cc:112] CPU Frequency: 2599990000 Hz\n"
     ]
    },
    {
     "name": "stdout",
     "output_type": "stream",
     "text": [
      "Epoch 1, Loss: 0.13648653030395508, Accuracy: 95.89666748046875, Test Loss: 0.07013160735368729, Test Accuracy: 97.63999938964844\n",
      "Epoch 2, Loss: 0.04204922914505005, Accuracy: 97.30999755859375, Test Loss: 0.05730622261762619, Test Accuracy: 97.875\n",
      "Epoch 3, Loss: 0.021122807636857033, Accuracy: 97.98500061035156, Test Loss: 0.051009077578783035, Test Accuracy: 98.05333709716797\n",
      "Epoch 4, Loss: 0.013048380613327026, Accuracy: 98.37999725341797, Test Loss: 0.05427629128098488, Test Accuracy: 98.15999603271484\n",
      "Epoch 5, Loss: 0.009324409067630768, Accuracy: 98.63899993896484, Test Loss: 0.07172208279371262, Test Accuracy: 98.19200134277344\n"
     ]
    }
   ],
   "source": [
    "EPOCHS = 5\n",
    "\n",
    "for epoch in range(EPOCHS):\n",
    "    # Reset the metrics at the start of the next epoch\n",
    "    train_loss.reset_states()\n",
    "    train_accuracy.reset_states\n",
    "    test_loss.reset_states()\n",
    "    test_accuracy.reset_states\n",
    "    \n",
    "    for images, labels in train_ds:\n",
    "        train_step(images, labels)\n",
    "    \n",
    "    for test_images, test_labels in test_ds:\n",
    "        test_step(test_images, test_labels)\n",
    "    \n",
    "    print(\n",
    "        f\"Epoch {epoch + 1}, \"\n",
    "        f\"Loss: {train_loss.result()}, \"\n",
    "        f\"Accuracy: {train_accuracy.result() * 100}, \"\n",
    "        f\"Test Loss: {test_loss.result()}, \"\n",
    "        f\"Test Accuracy: {test_accuracy.result() * 100}\"\n",
    "    )"
   ]
  }
 ],
 "metadata": {
  "kernelspec": {
   "display_name": "Python 3 (ipykernel)",
   "language": "python",
   "name": "python3"
  },
  "language_info": {
   "codemirror_mode": {
    "name": "ipython",
    "version": 3
   },
   "file_extension": ".py",
   "mimetype": "text/x-python",
   "name": "python",
   "nbconvert_exporter": "python",
   "pygments_lexer": "ipython3",
   "version": "3.9.15"
  }
 },
 "nbformat": 4,
 "nbformat_minor": 5
}
