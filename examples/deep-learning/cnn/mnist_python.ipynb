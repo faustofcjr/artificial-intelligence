{
 "cells": [
  {
   "cell_type": "markdown",
   "id": "12c20580-9425-4a33-9081-fbf7493ce783",
   "metadata": {},
   "source": [
    "# Neural Network with Python language\n",
    "\n",
    "__source__: https://www.deeplearningbook.com.br/construindo-uma-rede-neural-com-linguagem-python/"
   ]
  },
  {
   "cell_type": "code",
   "execution_count": 26,
   "id": "f94ea68c-ba16-481f-b7e3-fe63b3061c4f",
   "metadata": {},
   "outputs": [],
   "source": [
    "import numpy as np\n",
    "from network import Network"
   ]
  },
  {
   "cell_type": "markdown",
   "id": "ee2d2a58-3890-47b4-a15f-bf662d0e6fd8",
   "metadata": {},
   "source": [
    "## Initialing neural network"
   ]
  },
  {
   "cell_type": "code",
   "execution_count": 27,
   "id": "3f81ecba-1897-4d52-adf4-014499fb07e4",
   "metadata": {},
   "outputs": [],
   "source": [
    "# Number of neurons by layers of network\n",
    "sizes = [2, 3, 1]\n",
    "\n",
    "cnn = Network(sizes)"
   ]
  },
  {
   "cell_type": "code",
   "execution_count": 29,
   "id": "70ce708a-48cc-4b03-ade9-a9c132952e46",
   "metadata": {},
   "outputs": [
    {
     "data": {
      "text/plain": [
       "[array([[-1.39037924],\n",
       "        [ 0.62971904],\n",
       "        [-0.07547201]]),\n",
       " array([[-0.87351198]])]"
      ]
     },
     "execution_count": 29,
     "metadata": {},
     "output_type": "execute_result"
    }
   ],
   "source": [
    "cnn.biases"
   ]
  },
  {
   "cell_type": "code",
   "execution_count": 32,
   "id": "49085ce7-70ca-4d43-b5f5-19282e3e91b7",
   "metadata": {},
   "outputs": [
    {
     "data": {
      "text/plain": [
       "array([[ 0.45425251, -1.16400354,  1.18804353]])"
      ]
     },
     "execution_count": 32,
     "metadata": {},
     "output_type": "execute_result"
    }
   ],
   "source": [
    "cnn.weights[1]"
   ]
  }
 ],
 "metadata": {
  "kernelspec": {
   "display_name": "Python 3 (ipykernel)",
   "language": "python",
   "name": "python3"
  },
  "language_info": {
   "codemirror_mode": {
    "name": "ipython",
    "version": 3
   },
   "file_extension": ".py",
   "mimetype": "text/x-python",
   "name": "python",
   "nbconvert_exporter": "python",
   "pygments_lexer": "ipython3",
   "version": "3.9.15"
  }
 },
 "nbformat": 4,
 "nbformat_minor": 5
}
