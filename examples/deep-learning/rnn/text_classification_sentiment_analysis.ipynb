{
 "cells": [
  {
   "cell_type": "markdown",
   "id": "c0c3f721-26ff-489a-94de-ed3c1e4cbf25",
   "metadata": {},
   "source": [
    "# Text classification with an RNN\n",
    "\n",
    "This is a text classification that uses recurrent neural network on the IMDB large movie review dataset for sentiment analysis.\n",
    "\n",
    "_source_: https://www.tensorflow.org/text/tutorials/text_classification_rnn"
   ]
  },
  {
   "cell_type": "markdown",
   "id": "b8bec517-535c-4b03-8132-8b8b42f9e7d0",
   "metadata": {
    "tags": []
   },
   "source": [
    "## Design of the Model\n",
    "![image.png](https://www.tensorflow.org/text/tutorials/images/bidirectional.png)"
   ]
  },
  {
   "cell_type": "code",
   "execution_count": 1,
   "id": "59c242f8-c2eb-4d11-92d7-28276659ed4e",
   "metadata": {},
   "outputs": [],
   "source": [
    "import numpy as np\n",
    "\n",
    "import matplotlib.pyplot as plt\n",
    "\n",
    "import tensorflow as tf\n",
    "import tensorflow_datasets as tfds"
   ]
  },
  {
   "cell_type": "code",
   "execution_count": 2,
   "id": "6d10da94-901d-4432-8d04-8fb1cb86ddc3",
   "metadata": {},
   "outputs": [],
   "source": [
    "tfds.disable_progress_bar()"
   ]
  },
  {
   "cell_type": "markdown",
   "id": "f1edcb73-8a13-45db-8801-574df44dd09a",
   "metadata": {},
   "source": [
    "## Helpers functions"
   ]
  },
  {
   "cell_type": "code",
   "execution_count": 3,
   "id": "4293b787-c6e6-4e14-ab53-d0763a297600",
   "metadata": {},
   "outputs": [],
   "source": [
    "def plot_graphs(history, metric):\n",
    "    plt.plot(history.history[metric])\n",
    "    plt.plot(history.history['val_' + metric], '')\n",
    "    plt.xlabel('Epochs')\n",
    "    plt.ylable(metric)\n",
    "    plt.legend([metric, 'val_' + metric])"
   ]
  },
  {
   "cell_type": "markdown",
   "id": "ccaf0ee6-7b2e-476a-80aa-aa8a904afb6b",
   "metadata": {},
   "source": [
    "## Setup input pipeline"
   ]
  },
  {
   "cell_type": "code",
   "execution_count": 4,
   "id": "974ddaf2-8de7-4280-a1e9-b72872dfc929",
   "metadata": {},
   "outputs": [
    {
     "name": "stderr",
     "output_type": "stream",
     "text": [
      "2022-03-09 01:01:03.039650: I tensorflow/core/platform/cpu_feature_guard.cc:142] This TensorFlow binary is optimized with oneAPI Deep Neural Network Library (oneDNN) to use the following CPU instructions in performance-critical operations:  SSE4.1 SSE4.2 AVX AVX2 FMA\n",
      "To enable them in other operations, rebuild TensorFlow with the appropriate compiler flags.\n",
      "2022-03-09 01:01:03.041718: I tensorflow/core/common_runtime/process_util.cc:146] Creating new thread pool with default inter op setting: 2. Tune using inter_op_parallelism_threads for best performance.\n",
      "WARNING:absl:Warning: Setting shuffle_files=True because split=TRAIN and shuffle_files=None. This behavior will be deprecated on 2019-08-06, at which point shuffle_files=False will be the default for all splits.\n"
     ]
    }
   ],
   "source": [
    "dataset, info = tfds.load('imdb_reviews', with_info=True, as_supervised=True)\n",
    "train_dataset, test_dataset = dataset['train'], dataset['test']"
   ]
  },
  {
   "cell_type": "code",
   "execution_count": 5,
   "id": "916505bf-7967-46b1-9fed-9c802c681842",
   "metadata": {},
   "outputs": [
    {
     "data": {
      "text/plain": [
       "(TensorSpec(shape=(), dtype=tf.string, name=None),\n",
       " TensorSpec(shape=(), dtype=tf.int64, name=None))"
      ]
     },
     "execution_count": 5,
     "metadata": {},
     "output_type": "execute_result"
    }
   ],
   "source": [
    "train_dataset.element_spec"
   ]
  },
  {
   "cell_type": "markdown",
   "id": "72a0eb6c-d56d-4a90-b508-fe4a321bb46c",
   "metadata": {},
   "source": [
    "for example, label in train_dataset.take(1):\n",
    "    print(\"text: \", example.numpy())\n",
    "    print(\"label: \", label.numpy())"
   ]
  },
  {
   "cell_type": "markdown",
   "id": "8b8b167f-0831-41f6-bcf3-191b7ce543ca",
   "metadata": {},
   "source": [
    "### Shuffle the data for train and create batches of these (text, label) pairs"
   ]
  },
  {
   "cell_type": "code",
   "execution_count": 6,
   "id": "f64997fb-a928-4d23-88e9-1a9b5799cf8e",
   "metadata": {},
   "outputs": [],
   "source": [
    "BUFFER_SIZE = 10000\n",
    "BATCH_SIZE = 64"
   ]
  },
  {
   "cell_type": "code",
   "execution_count": 7,
   "id": "c91e650f-d334-4589-9df5-169261ec7743",
   "metadata": {},
   "outputs": [],
   "source": [
    "train_dataset = train_dataset.shuffle(BUFFER_SIZE).batch(BATCH_SIZE).prefetch(tf.data.AUTOTUNE)\n",
    "test_dataset = test_dataset.batch(BATCH_SIZE).prefetch(tf.data.AUTOTUNE)"
   ]
  },
  {
   "cell_type": "code",
   "execution_count": 8,
   "id": "332d382b-a4df-4a3f-973a-5acb4561828e",
   "metadata": {},
   "outputs": [
    {
     "name": "stderr",
     "output_type": "stream",
     "text": [
      "2022-03-09 01:01:03.143980: I tensorflow/compiler/mlir/mlir_graph_optimization_pass.cc:185] None of the MLIR Optimization Passes are enabled (registered 2)\n"
     ]
    },
    {
     "name": "stdout",
     "output_type": "stream",
     "text": [
      "texts:  [b'One of the worst films I have ever seen. How to define \"worst?\" I would prefer having both eye balls yanked out and then be forced to tap dance on them than ever view this pitiful dreck again. Somehow, One-Hit Wonder Zwick manages a film that simultaneously offends Elvis fans, Mary Kay saleswomen, Las Vegas, gays, FBI agents and the rest of humanity with any intelligence with a shoddy, sloppy farce so forced it deserves to be forsaken ed. How Elvis Presley Enterprises could allow the rights of actual Elvis songs to be used in a film with a central premise that seems to be \"The only good Elvis Presley Imitator is a dead one\" is beyond me. The worst part of this mess - and that takes some work - is the mangled script: In 1958, Elvis\\' words and songs that he would speak/perform in the 1970\\'s are quoted! Worst special effect? That Oscar would go to the moron who decided that Elvis\\' grave, potentially the most photographed/recognizable grave in the world, resembles a pyramid with a gold record glued atop and is situated in the middle of a park somewhere. Potentially, this film\\'s biggest audience would be Elvis fans. However, the rampant stupidity (Nixon gave Elvis a DEA badge, not FBI credentials...and I could go on and on) actually undercuts THAT conventional wisdom. Ugh. I used the word \"wisdom\" to describe this stupid movie. This is truly a horrible, horrible film.'\n",
      " b'A childless couple (Brooke Adams, Jeff Hayenga) go to a doctor (James Karen) to try to conceive. It works but Adams slowly becomes aware that there\\'s something seriously wrong with the baby...<br /><br />Pretty interesting idea is thoroughly done in by a lousy script--the basic idea is OK but becomes screamingly predictable towards the end. I saw every \"twist\" coming. The direction is poor--he seems to have no idea how to shoot a basic scene. The production values are--to be nice--lousy. Very shabby. And, the gore scenes are too unpleasant (I almost turned it off when a pregnant woman started stabbing herself in the stomach) with lousy special effects. The film completely derails at the end when it becomes quite clear they had no idea HOW to end this film.<br /><br />Some good acting makes it somewhat bearable. Adams, Hayenga and Karen are all good at their roles and kept me watching but that was about it. This film barely got released in 1991 and still remains unknown--it\\'s easy to see why. I give it a 4.'\n",
      " b'I saw this movie at the 2006 Palm Springs International Film Festival and it is a movie and not a film since it apparently was shot by HBO to be shown on their cable network sometime this year. This movie presents Page as a bondage and discipline fetish pinup and B&D stag film actress who had enough talent to become a real actress. Page was a little more than that and the film touches on some of her other roles in modeling but not enough to balance out the career of the 50\\'s pinup icon. This film is supposedly based on the book \"The Real Bettie Page\" by Richard Foster. It\\'s shot in black and white for that 1950\\'s nostalgia feel. I have the book called \"Bettie Page The Life of a Pinup Legend\" that has a lot of great photos chronicling the career of Page and I must say that this movie reproduces on film, with Gretchen Mol as Page, many of those famous photo\\'s very accurately. Mol herself with the Bettie Page black wig and brown contact lenses is Bettie Page. Not only does she have the Bettie Page look but she has the smile and characteristics of her personality that came through the camera down perfect. And her body is as close to a replica of Page\\'s as possible. Terrific casting. The story is kind of thin and tabloidesque and certainly could have been a lot better. But this is a pretty good TV movie. I would rate it a 7.0 of a scale of 10 and recommend it\\'s viewing when it comes on TV.']\n",
      "\n",
      "labels:  [0 0 1]\n"
     ]
    }
   ],
   "source": [
    "for example, label in train_dataset.take(1):\n",
    "    print(\"texts: \", example.numpy()[:3],)\n",
    "    print()\n",
    "    print(\"labels: \", label.numpy()[:3])"
   ]
  },
  {
   "cell_type": "markdown",
   "id": "2863b881-8ba8-4914-9b4a-dd8610171882",
   "metadata": {},
   "source": [
    "## Create the text encoder"
   ]
  },
  {
   "cell_type": "code",
   "execution_count": 9,
   "id": "fed7c3fa-8706-4cde-aa6b-16ce444be029",
   "metadata": {},
   "outputs": [],
   "source": [
    "VOCAB_SIZE = 1000\n",
    "\n",
    "encoder_layer = tf.keras.layers.TextVectorization(max_tokens=VOCAB_SIZE)\n",
    "encoder_layer.adapt(train_dataset.map(lambda text, label: text))"
   ]
  },
  {
   "cell_type": "code",
   "execution_count": 10,
   "id": "ddc9b515-78b7-46c8-aef1-9db9f1faa7b8",
   "metadata": {},
   "outputs": [
    {
     "data": {
      "text/plain": [
       "array(['', '[UNK]', 'the', 'and', 'a', 'of', 'to', 'is', 'in', 'it', 'i',\n",
       "       'this', 'that', 'br', 'was', 'as', 'for', 'with', 'movie', 'but'],\n",
       "      dtype='<U14')"
      ]
     },
     "execution_count": 10,
     "metadata": {},
     "output_type": "execute_result"
    }
   ],
   "source": [
    "vocab = np.array(encoder_layer.get_vocabulary())\n",
    "vocab[:20]"
   ]
  },
  {
   "cell_type": "code",
   "execution_count": 11,
   "id": "b5b49713-21d9-4610-b08c-cd0701774cf8",
   "metadata": {},
   "outputs": [
    {
     "data": {
      "text/plain": [
       "array([[ 29,   5,   2, ...,   0,   0,   0],\n",
       "       [  4,   1, 365, ...,   0,   0,   0],\n",
       "       [ 10, 208,  11, ...,   0,   0,   0]])"
      ]
     },
     "execution_count": 11,
     "metadata": {},
     "output_type": "execute_result"
    }
   ],
   "source": [
    "encoded_example = encoder_layer(example)[:3].numpy()\n",
    "encoded_example"
   ]
  },
  {
   "cell_type": "code",
   "execution_count": 12,
   "id": "c0817081-a167-4d35-812a-95f432d50c4a",
   "metadata": {},
   "outputs": [
    {
     "name": "stdout",
     "output_type": "stream",
     "text": [
      "Original:  b'One of the worst films I have ever seen. How to define \"worst?\" I would prefer having both eye balls yanked out and then be forced to tap dance on them than ever view this pitiful dreck again. Somehow, One-Hit Wonder Zwick manages a film that simultaneously offends Elvis fans, Mary Kay saleswomen, Las Vegas, gays, FBI agents and the rest of humanity with any intelligence with a shoddy, sloppy farce so forced it deserves to be forsaken ed. How Elvis Presley Enterprises could allow the rights of actual Elvis songs to be used in a film with a central premise that seems to be \"The only good Elvis Presley Imitator is a dead one\" is beyond me. The worst part of this mess - and that takes some work - is the mangled script: In 1958, Elvis\\' words and songs that he would speak/perform in the 1970\\'s are quoted! Worst special effect? That Oscar would go to the moron who decided that Elvis\\' grave, potentially the most photographed/recognizable grave in the world, resembles a pyramid with a gold record glued atop and is situated in the middle of a park somewhere. Potentially, this film\\'s biggest audience would be Elvis fans. However, the rampant stupidity (Nixon gave Elvis a DEA badge, not FBI credentials...and I could go on and on) actually undercuts THAT conventional wisdom. Ugh. I used the word \"wisdom\" to describe this stupid movie. This is truly a horrible, horrible film.'\n",
      "--------------------------------\n",
      "Round-trip:  one of the worst films i have ever seen how to [UNK] worst i would [UNK] having both eye [UNK] [UNK] out and then be forced to [UNK] dance on them than ever view this [UNK] [UNK] again somehow [UNK] wonder [UNK] manages a film that [UNK] [UNK] [UNK] fans [UNK] [UNK] [UNK] [UNK] [UNK] [UNK] [UNK] [UNK] and the rest of [UNK] with any [UNK] with a [UNK] [UNK] [UNK] so forced it deserves to be [UNK] [UNK] how [UNK] [UNK] [UNK] could [UNK] the [UNK] of actual [UNK] songs to be used in a film with a [UNK] premise that seems to be the only good [UNK] [UNK] [UNK] is a dead one is beyond me the worst part of this mess and that takes some work is the [UNK] script in [UNK] [UNK] words and songs that he would [UNK] in the [UNK] are [UNK] worst special effect that oscar would go to the [UNK] who decided that [UNK] [UNK] [UNK] the most [UNK] [UNK] in the world [UNK] a [UNK] with a [UNK] [UNK] [UNK] [UNK] and is [UNK] in the middle of a [UNK] [UNK] [UNK] this films [UNK] audience would be [UNK] fans however the [UNK] [UNK] [UNK] gave [UNK] a [UNK] [UNK] not [UNK] [UNK] i could go on and on actually [UNK] that [UNK] [UNK] [UNK] i used the word [UNK] to [UNK] this stupid movie this is truly a horrible horrible film                                                                                                                                                                                                                                                                                                                                                                                                                                                                                                                                                                                                              \n",
      "\n",
      "Original:  b'A childless couple (Brooke Adams, Jeff Hayenga) go to a doctor (James Karen) to try to conceive. It works but Adams slowly becomes aware that there\\'s something seriously wrong with the baby...<br /><br />Pretty interesting idea is thoroughly done in by a lousy script--the basic idea is OK but becomes screamingly predictable towards the end. I saw every \"twist\" coming. The direction is poor--he seems to have no idea how to shoot a basic scene. The production values are--to be nice--lousy. Very shabby. And, the gore scenes are too unpleasant (I almost turned it off when a pregnant woman started stabbing herself in the stomach) with lousy special effects. The film completely derails at the end when it becomes quite clear they had no idea HOW to end this film.<br /><br />Some good acting makes it somewhat bearable. Adams, Hayenga and Karen are all good at their roles and kept me watching but that was about it. This film barely got released in 1991 and still remains unknown--it\\'s easy to see why. I give it a 4.'\n",
      "--------------------------------\n",
      "Round-trip:  a [UNK] couple [UNK] [UNK] [UNK] [UNK] go to a [UNK] james [UNK] to try to [UNK] it works but [UNK] [UNK] becomes [UNK] that theres something seriously wrong with the [UNK] br pretty interesting idea is [UNK] done in by a [UNK] [UNK] [UNK] idea is ok but becomes [UNK] predictable towards the end i saw every twist coming the direction is [UNK] seems to have no idea how to [UNK] a [UNK] scene the production [UNK] [UNK] be [UNK] very [UNK] and the gore scenes are too [UNK] i almost turned it off when a [UNK] woman started [UNK] herself in the [UNK] with [UNK] special effects the film completely [UNK] at the end when it becomes quite clear they had no idea how to end this filmbr br some good acting makes it somewhat [UNK] [UNK] [UNK] and [UNK] are all good at their roles and kept me watching but that was about it this film [UNK] got released in [UNK] and still [UNK] [UNK] easy to see why i give it a 4                                                                                                                                                                                                                                                                                                                                                                                                                                                                                                                                                                                                                                                                              \n",
      "\n",
      "Original:  b'I saw this movie at the 2006 Palm Springs International Film Festival and it is a movie and not a film since it apparently was shot by HBO to be shown on their cable network sometime this year. This movie presents Page as a bondage and discipline fetish pinup and B&D stag film actress who had enough talent to become a real actress. Page was a little more than that and the film touches on some of her other roles in modeling but not enough to balance out the career of the 50\\'s pinup icon. This film is supposedly based on the book \"The Real Bettie Page\" by Richard Foster. It\\'s shot in black and white for that 1950\\'s nostalgia feel. I have the book called \"Bettie Page The Life of a Pinup Legend\" that has a lot of great photos chronicling the career of Page and I must say that this movie reproduces on film, with Gretchen Mol as Page, many of those famous photo\\'s very accurately. Mol herself with the Bettie Page black wig and brown contact lenses is Bettie Page. Not only does she have the Bettie Page look but she has the smile and characteristics of her personality that came through the camera down perfect. And her body is as close to a replica of Page\\'s as possible. Terrific casting. The story is kind of thin and tabloidesque and certainly could have been a lot better. But this is a pretty good TV movie. I would rate it a 7.0 of a scale of 10 and recommend it\\'s viewing when it comes on TV.'\n",
      "--------------------------------\n",
      "Round-trip:  i saw this movie at the [UNK] [UNK] [UNK] [UNK] film [UNK] and it is a movie and not a film since it apparently was shot by [UNK] to be shown on their [UNK] [UNK] [UNK] this year this movie [UNK] [UNK] as a [UNK] and [UNK] [UNK] [UNK] and [UNK] [UNK] film actress who had enough talent to become a real actress [UNK] was a little more than that and the film [UNK] on some of her other roles in [UNK] but not enough to [UNK] out the career of the [UNK] [UNK] [UNK] this film is [UNK] based on the book the real [UNK] [UNK] by richard [UNK] its shot in black and white for that [UNK] [UNK] feel i have the book called [UNK] [UNK] the life of a [UNK] [UNK] that has a lot of great [UNK] [UNK] the career of [UNK] and i must say that this movie [UNK] on film with [UNK] [UNK] as [UNK] many of those famous [UNK] very [UNK] [UNK] herself with the [UNK] [UNK] black [UNK] and [UNK] [UNK] [UNK] is [UNK] [UNK] not only does she have the [UNK] [UNK] look but she has the [UNK] and [UNK] of her [UNK] that came through the camera down perfect and her body is as close to a [UNK] of [UNK] as possible [UNK] casting the story is kind of [UNK] and [UNK] and certainly could have been a lot better but this is a pretty good tv movie i would [UNK] it a [UNK] of a [UNK] of 10 and recommend its viewing when it comes on tv                                                                                                                                                                                                                                                                                                                                                                                                                                                                                                                                                                                   \n",
      "\n"
     ]
    }
   ],
   "source": [
    "for n in range(3):\n",
    "    print(\"Original: \", example[n].numpy())\n",
    "    print(\"--------------------------------\")\n",
    "    print(\"Round-trip: \", \" \".join(vocab[encoded_example[n]]))\n",
    "    print()"
   ]
  },
  {
   "cell_type": "markdown",
   "id": "daebe96c-c7b3-444d-9e87-29d114de6dc0",
   "metadata": {
    "tags": []
   },
   "source": [
    "## Create the model"
   ]
  },
  {
   "cell_type": "code",
   "execution_count": 13,
   "id": "ca030e6d-31ce-4a9a-b9c6-668b48d34935",
   "metadata": {},
   "outputs": [],
   "source": [
    "embedding_layer = tf.keras.layers.Embedding(\n",
    "    input_dim=len(encoder_layer.get_vocabulary()),\n",
    "    output_dim=64,\n",
    "    mask_zero=True)"
   ]
  },
  {
   "cell_type": "code",
   "execution_count": 16,
   "id": "f82c368d-6c95-4326-96bd-e61dea5bef06",
   "metadata": {},
   "outputs": [],
   "source": [
    "model = tf.keras.Sequential([\n",
    "    encoder_layer,\n",
    "    embedding_layer,\n",
    "    tf.keras.layers.Bidirectional(tf.keras.layers.LSTM(64)),\n",
    "    tf.keras.layers.Dense(64, activation='relu'),\n",
    "    tf.keras.layers.Dense(1)\n",
    "])"
   ]
  },
  {
   "cell_type": "code",
   "execution_count": 19,
   "id": "4a722926-c4b3-4838-9c6c-34d546f0209f",
   "metadata": {},
   "outputs": [
    {
     "name": "stdout",
     "output_type": "stream",
     "text": [
      "[False, True, True, True, True]\n"
     ]
    }
   ],
   "source": [
    "print([layer.supports_masking for layer in model.layers])"
   ]
  },
  {
   "cell_type": "markdown",
   "id": "d4e187bf-ffad-4555-bd8a-15d640677f60",
   "metadata": {},
   "source": [
    "### Predict on a sample text without padding"
   ]
  },
  {
   "cell_type": "code",
   "execution_count": 33,
   "id": "b8b033ef-ff58-4ef7-996f-4606af1da721",
   "metadata": {},
   "outputs": [
    {
     "name": "stdout",
     "output_type": "stream",
     "text": [
      "[-0.00907584]\n"
     ]
    }
   ],
   "source": [
    "sample_text = ('The movie was cool. The animation and the graphics '\n",
    "               'were out of this world. I would recommend this movie.')\n",
    "\n",
    "predictions = model.predict(np.array([sample_text]))\n",
    "print(predictions[0])"
   ]
  },
  {
   "cell_type": "markdown",
   "id": "7860e6d6-9679-456b-8223-82b3e9eaeedc",
   "metadata": {},
   "source": [
    "### Predict on a sample text with padding"
   ]
  },
  {
   "cell_type": "code",
   "execution_count": 36,
   "id": "a41e1b45-402b-4d9a-8f21-8c285441e21a",
   "metadata": {},
   "outputs": [
    {
     "name": "stdout",
     "output_type": "stream",
     "text": [
      "[-0.00907583]\n"
     ]
    }
   ],
   "source": [
    "padding = \"the \" * 2000\n",
    "predictions = model.predict(np.array([sample_text, padding]))\n",
    "print(predictions[0])"
   ]
  },
  {
   "cell_type": "markdown",
   "id": "fdd19d57-b443-4994-8436-21ba5e49e316",
   "metadata": {},
   "source": [
    "### Compile the Keras model to configure the training process"
   ]
  },
  {
   "cell_type": "code",
   "execution_count": 38,
   "id": "48325f4e-b6b5-4986-bed1-268b872f80d9",
   "metadata": {},
   "outputs": [],
   "source": [
    "model.compile(\n",
    "    loss=tf.keras.losses.BinaryCrossentropy(from_logits=True),\n",
    "    optimizer=tf.keras.optimizers.Adam(1e-4),\n",
    "    metrics=['accuracy']\n",
    ")"
   ]
  },
  {
   "cell_type": "markdown",
   "id": "7e989894-7a1f-45df-aaeb-701b0b3b734b",
   "metadata": {},
   "source": [
    "## Train the model"
   ]
  },
  {
   "cell_type": "code",
   "execution_count": null,
   "id": "0ffb81fc-def9-4ad0-bffd-19c92ba68616",
   "metadata": {},
   "outputs": [
    {
     "name": "stdout",
     "output_type": "stream",
     "text": [
      "Epoch 1/10\n",
      "     57/Unknown - 155s 3s/step - loss: 0.6930 - accuracy: 0.5033"
     ]
    }
   ],
   "source": [
    "history = model.fit(\n",
    "    train_dataset, \n",
    "    epochs=10,\n",
    "    validation_data=test_dataset,\n",
    "    validation_steps=30)"
   ]
  },
  {
   "cell_type": "code",
   "execution_count": null,
   "id": "0b0ea5d1-1bd4-47d1-b330-fa08e6ef11ad",
   "metadata": {},
   "outputs": [],
   "source": [
    "test_loss, test_acc = model.evaluate(test_dataset)\n",
    "\n",
    "print(\"Test Loss:\", test_loss)\n",
    "print(\"Test Accuracy:\", test_acc)"
   ]
  }
 ],
 "metadata": {
  "kernelspec": {
   "display_name": "Python 3 (ipykernel)",
   "language": "python",
   "name": "python3"
  },
  "language_info": {
   "codemirror_mode": {
    "name": "ipython",
    "version": 3
   },
   "file_extension": ".py",
   "mimetype": "text/x-python",
   "name": "python",
   "nbconvert_exporter": "python",
   "pygments_lexer": "ipython3",
   "version": "3.9.7"
  }
 },
 "nbformat": 4,
 "nbformat_minor": 5
}
