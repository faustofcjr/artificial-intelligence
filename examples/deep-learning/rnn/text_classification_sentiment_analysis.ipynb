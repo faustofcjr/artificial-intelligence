{
 "cells": [
  {
   "cell_type": "markdown",
   "id": "c0c3f721-26ff-489a-94de-ed3c1e4cbf25",
   "metadata": {
    "tags": []
   },
   "source": [
    "# Text classification with an RNN\n",
    "\n",
    "This is a text classification that uses recurrent neural network on the IMDB large movie review dataset for sentiment analysis.\n",
    "\n",
    "\n",
    "_source_: https://www.tensorflow.org/text/tutorials/text_classification_rnn\n",
    "\n",
    "_Tensorflow Version_: >= 2.6.0\n",
    "\n",
    "\n",
    "Design of Bidirectional Model                                                         |                                       Design of Stack two or more LSTM layers\n",
    ":------------------------------------------------------------------------------------:|:-----------------------------------------------------------------------------------------------------:\n",
    "![bidirectional](https://www.tensorflow.org/text/tutorials/images/bidirectional.png)  |  ![layered_bidirectional](https://www.tensorflow.org/text/tutorials/images/layered_bidirectional.png)"
   ]
  },
  {
   "cell_type": "code",
   "execution_count": null,
   "id": "59c242f8-c2eb-4d11-92d7-28276659ed4e",
   "metadata": {},
   "outputs": [],
   "source": [
    "import numpy as np\n",
    "\n",
    "import matplotlib.pyplot as plt\n",
    "\n",
    "import tensorflow as tf\n",
    "import tensorflow_datasets as tfds"
   ]
  },
  {
   "cell_type": "code",
   "execution_count": null,
   "id": "6d10da94-901d-4432-8d04-8fb1cb86ddc3",
   "metadata": {},
   "outputs": [],
   "source": [
    "tfds.disable_progress_bar()"
   ]
  },
  {
   "cell_type": "markdown",
   "id": "f1edcb73-8a13-45db-8801-574df44dd09a",
   "metadata": {},
   "source": [
    "## Helpers functions"
   ]
  },
  {
   "cell_type": "code",
   "execution_count": null,
   "id": "4293b787-c6e6-4e14-ab53-d0763a297600",
   "metadata": {},
   "outputs": [],
   "source": [
    "def plot_history_metric(history, metric):\n",
    "    \"\"\"\n",
    "    Plot metric of model train by epochs history.\n",
    "    \"\"\"\n",
    "    plt.plot(history.history[metric])\n",
    "    plt.plot(history.history['val_' + metric], '')\n",
    "    plt.xlabel('Epochs')\n",
    "    plt.ylabel(metric)\n",
    "    plt.legend([metric, 'val_' + metric])"
   ]
  },
  {
   "cell_type": "markdown",
   "id": "ccaf0ee6-7b2e-476a-80aa-aa8a904afb6b",
   "metadata": {
    "tags": []
   },
   "source": [
    "## Setup input pipeline"
   ]
  },
  {
   "cell_type": "code",
   "execution_count": null,
   "id": "974ddaf2-8de7-4280-a1e9-b72872dfc929",
   "metadata": {},
   "outputs": [],
   "source": [
    "dataset, info = tfds.load(\"imdb_reviews\", with_info=True, as_supervised=True, shuffle_files=True)\n",
    "train_dataset, test_dataset = dataset[\"train\"], dataset[\"test\"]"
   ]
  },
  {
   "cell_type": "code",
   "execution_count": null,
   "id": "916505bf-7967-46b1-9fed-9c802c681842",
   "metadata": {},
   "outputs": [],
   "source": [
    "train_dataset.element_spec"
   ]
  },
  {
   "cell_type": "markdown",
   "id": "5b1b0b0e-cae1-42b2-9b47-cd10e9df1786",
   "metadata": {},
   "source": [
    "#### Take one text example and its label. "
   ]
  },
  {
   "cell_type": "code",
   "execution_count": null,
   "id": "9355662f-2df7-427a-b452-643d511a4b1a",
   "metadata": {},
   "outputs": [],
   "source": [
    "example_text, example_label = None, None\n",
    "for text, label in train_dataset.take(1):\n",
    "    example_text = text.numpy()\n",
    "    example_label = label.numpy()"
   ]
  },
  {
   "cell_type": "markdown",
   "id": "b9be0969-daea-4d5c-a608-e958c5426b40",
   "metadata": {},
   "source": [
    "__Text Example:__"
   ]
  },
  {
   "cell_type": "code",
   "execution_count": null,
   "id": "4092ee9b-fd90-4e46-903f-73cd7f63d980",
   "metadata": {},
   "outputs": [],
   "source": [
    "print(example_text)"
   ]
  },
  {
   "cell_type": "markdown",
   "id": "3ae086a4-6814-482b-a94a-324fdecea30a",
   "metadata": {},
   "source": [
    "__Label Example:__"
   ]
  },
  {
   "cell_type": "code",
   "execution_count": null,
   "id": "1a1bc8e2-6170-4c3d-ab99-8e28f476d9d3",
   "metadata": {},
   "outputs": [],
   "source": [
    "print(example_label)"
   ]
  },
  {
   "cell_type": "markdown",
   "id": "8b8b167f-0831-41f6-bcf3-191b7ce543ca",
   "metadata": {},
   "source": [
    "## Shuffle the data for train and create batches of these (text, label) pairs"
   ]
  },
  {
   "cell_type": "code",
   "execution_count": null,
   "id": "f64997fb-a928-4d23-88e9-1a9b5799cf8e",
   "metadata": {},
   "outputs": [],
   "source": [
    "BUFFER_SIZE = 10000\n",
    "BATCH_SIZE = 64"
   ]
  },
  {
   "cell_type": "code",
   "execution_count": null,
   "id": "c91e650f-d334-4589-9df5-169261ec7743",
   "metadata": {},
   "outputs": [],
   "source": [
    "train_dataset = train_dataset.shuffle(BUFFER_SIZE).batch(BATCH_SIZE).prefetch(tf.data.AUTOTUNE)\n",
    "test_dataset = test_dataset.batch(BATCH_SIZE).prefetch(tf.data.AUTOTUNE)"
   ]
  },
  {
   "cell_type": "code",
   "execution_count": null,
   "id": "332d382b-a4df-4a3f-973a-5acb4561828e",
   "metadata": {},
   "outputs": [],
   "source": [
    "example_batch_texts, example_batch_labels = None, None,\n",
    "for example, label in train_dataset.take(1):\n",
    "    example_batch_texts = example.numpy()\n",
    "    example_batch_labels = label.numpy()"
   ]
  },
  {
   "cell_type": "markdown",
   "id": "010d003a-8b40-499a-8416-dabcf5f7df0e",
   "metadata": {},
   "source": [
    "__Batch Texts Example:__"
   ]
  },
  {
   "cell_type": "code",
   "execution_count": null,
   "id": "eccca282-7ff2-4661-9c5d-0561ad22dd58",
   "metadata": {},
   "outputs": [],
   "source": [
    "print(example_batch_texts[:3])"
   ]
  },
  {
   "cell_type": "markdown",
   "id": "cd70c452-bd4f-47a2-abce-bae78672951f",
   "metadata": {},
   "source": [
    "__Batch Labels Example:__"
   ]
  },
  {
   "cell_type": "code",
   "execution_count": null,
   "id": "e05343bc-dc9c-4cc3-be66-336adb97c652",
   "metadata": {},
   "outputs": [],
   "source": [
    "print(example_batch_labels[:3])"
   ]
  },
  {
   "cell_type": "markdown",
   "id": "2863b881-8ba8-4914-9b4a-dd8610171882",
   "metadata": {},
   "source": [
    "## Create the text encoder"
   ]
  },
  {
   "cell_type": "code",
   "execution_count": null,
   "id": "fed7c3fa-8706-4cde-aa6b-16ce444be029",
   "metadata": {},
   "outputs": [],
   "source": [
    "VOCAB_SIZE = 1000\n",
    "\n",
    "encoder_layer = tf.keras.layers.TextVectorization(max_tokens=VOCAB_SIZE)\n",
    "encoder_layer.adapt(train_dataset.map(lambda text, label: text))"
   ]
  },
  {
   "cell_type": "code",
   "execution_count": null,
   "id": "ddc9b515-78b7-46c8-aef1-9db9f1faa7b8",
   "metadata": {},
   "outputs": [],
   "source": [
    "vocab = np.array(encoder_layer.get_vocabulary())\n",
    "\n",
    "print(vocab[:15])"
   ]
  },
  {
   "cell_type": "code",
   "execution_count": null,
   "id": "b5b49713-21d9-4610-b08c-cd0701774cf8",
   "metadata": {},
   "outputs": [],
   "source": [
    "encoded_example = encoder_layer(example)[:3].numpy()\n",
    "\n",
    "print(encoded_example)"
   ]
  },
  {
   "cell_type": "code",
   "execution_count": null,
   "id": "c0817081-a167-4d35-812a-95f432d50c4a",
   "metadata": {},
   "outputs": [],
   "source": [
    "for n in range(2):\n",
    "    print(\"Original: \", example[n].numpy())\n",
    "    print(\"--------------------------------\")\n",
    "    print(\"Round-trip: \", \" \".join(vocab[encoded_example[n]]))\n",
    "    print()"
   ]
  },
  {
   "cell_type": "markdown",
   "id": "daebe96c-c7b3-444d-9e87-29d114de6dc0",
   "metadata": {
    "tags": []
   },
   "source": [
    "## Create the model"
   ]
  },
  {
   "cell_type": "code",
   "execution_count": null,
   "id": "ca030e6d-31ce-4a9a-b9c6-668b48d34935",
   "metadata": {},
   "outputs": [],
   "source": [
    "embedding_layer = tf.keras.layers.Embedding(\n",
    "    input_dim=len(encoder_layer.get_vocabulary()),\n",
    "    output_dim=64,\n",
    "    mask_zero=True)"
   ]
  },
  {
   "cell_type": "code",
   "execution_count": null,
   "id": "f82c368d-6c95-4326-96bd-e61dea5bef06",
   "metadata": {},
   "outputs": [],
   "source": [
    "model = tf.keras.Sequential([\n",
    "    encoder_layer,\n",
    "    embedding_layer,\n",
    "    tf.keras.layers.Bidirectional(tf.keras.layers.LSTM(64)),\n",
    "    tf.keras.layers.Dense(64, activation='relu'),\n",
    "    tf.keras.layers.Dense(1)\n",
    "])"
   ]
  },
  {
   "cell_type": "code",
   "execution_count": null,
   "id": "4a722926-c4b3-4838-9c6c-34d546f0209f",
   "metadata": {},
   "outputs": [],
   "source": [
    "print([layer.supports_masking for layer in model.layers])"
   ]
  },
  {
   "cell_type": "markdown",
   "id": "d4e187bf-ffad-4555-bd8a-15d640677f60",
   "metadata": {},
   "source": [
    "### Predict on a sample text without padding"
   ]
  },
  {
   "cell_type": "code",
   "execution_count": null,
   "id": "b8b033ef-ff58-4ef7-996f-4606af1da721",
   "metadata": {},
   "outputs": [],
   "source": [
    "sample_text = ('The movie was cool. The animation and the graphics '\n",
    "               'were out of this world. I would recommend this movie.')\n",
    "\n",
    "predictions = model.predict(np.array([sample_text]))\n",
    "print(predictions[0])"
   ]
  },
  {
   "cell_type": "markdown",
   "id": "7860e6d6-9679-456b-8223-82b3e9eaeedc",
   "metadata": {},
   "source": [
    "### Predict on a sample text with padding"
   ]
  },
  {
   "cell_type": "code",
   "execution_count": null,
   "id": "a41e1b45-402b-4d9a-8f21-8c285441e21a",
   "metadata": {},
   "outputs": [],
   "source": [
    "padding = \"the \" * 2000\n",
    "predictions = model.predict(np.array([sample_text, padding]))\n",
    "print(predictions[0])"
   ]
  },
  {
   "cell_type": "markdown",
   "id": "fdd19d57-b443-4994-8436-21ba5e49e316",
   "metadata": {},
   "source": [
    "### Compile the Keras model to configure the training process"
   ]
  },
  {
   "cell_type": "code",
   "execution_count": null,
   "id": "48325f4e-b6b5-4986-bed1-268b872f80d9",
   "metadata": {},
   "outputs": [],
   "source": [
    "model.compile(\n",
    "    loss=tf.keras.losses.BinaryCrossentropy(from_logits=True),\n",
    "    optimizer=tf.keras.optimizers.Adam(1e-4),\n",
    "    metrics=['accuracy']\n",
    ")"
   ]
  },
  {
   "cell_type": "markdown",
   "id": "7e989894-7a1f-45df-aaeb-701b0b3b734b",
   "metadata": {
    "tags": []
   },
   "source": [
    "## Train the model"
   ]
  },
  {
   "cell_type": "code",
   "execution_count": null,
   "id": "0ffb81fc-def9-4ad0-bffd-19c92ba68616",
   "metadata": {},
   "outputs": [],
   "source": [
    "history = model.fit(\n",
    "    train_dataset, \n",
    "    epochs=10,\n",
    "    validation_data=test_dataset,\n",
    "    validation_steps=30)"
   ]
  },
  {
   "cell_type": "code",
   "execution_count": null,
   "id": "56574503-0844-4aff-962c-3b31b6f7925a",
   "metadata": {},
   "outputs": [],
   "source": [
    "test_loss, test_acc = model.evaluate(test_dataset)\n",
    "\n",
    "print(\"Test Loss:\", test_loss)\n",
    "print(\"Test Accuracy:\", test_acc)"
   ]
  },
  {
   "cell_type": "code",
   "execution_count": null,
   "id": "67c248a4-738d-4311-99b2-6a6005a5f4c6",
   "metadata": {},
   "outputs": [],
   "source": [
    "plt.figure(figsize=(16, 8))\n",
    "plt.subplot(1, 2, 1)\n",
    "plot_graphs(history, 'accuracy')\n",
    "plt.ylim(None, 1)\n",
    "\n",
    "plt.subplot(1, 2, 2)\n",
    "plot_graphs(history, 'loss')\n",
    "plt.ylim(0, None)"
   ]
  },
  {
   "cell_type": "markdown",
   "id": "47e0f0a1-c8a3-496a-9286-330032efb950",
   "metadata": {},
   "source": [
    "### Prediction on a new sentence"
   ]
  },
  {
   "cell_type": "code",
   "execution_count": null,
   "id": "55a45f2e-142c-4d97-b550-1875c21988c6",
   "metadata": {},
   "outputs": [],
   "source": [
    "ample_text = ('The movie was cool. The animation and the graphics were out of this world. I would recommend this movie.')\n",
    "predictions = model.predict(np.array([sample_text]))\n",
    "\n",
    "print(predictions)"
   ]
  },
  {
   "cell_type": "markdown",
   "id": "cab18901-83da-4fbc-b01a-a9b01d3529fd",
   "metadata": {},
   "source": [
    "## Stack more two LSTM Layers\n",
    "\n",
    "Set _return_sequences=True_ to generate sequences of successive outputs for each timestep (a 3D tensor of shape (batch_size, timesteps, output_features))."
   ]
  },
  {
   "cell_type": "code",
   "execution_count": null,
   "id": "5eee73fe-cf14-4336-8283-885bd34bf270",
   "metadata": {},
   "outputs": [],
   "source": [
    "many_outputs_model = tf.keras.Sequential([\n",
    "    encoder,\n",
    "    tf.keras.layers.Embedding(len(encoder.get_vocabulary()), 64, mask_zero=True),\n",
    "    tf.keras.layers.Bidirectional(tf.keras.layers.LSTM(64, return_sequences=True)),\n",
    "    tf.keras.layers.Bidirectional(tf.keras.layers.LSTM(32)),\n",
    "    tf.keras.layers.Dense(64, activation='relu'),\n",
    "    tf.keras.layers.Dropout(0.5),\n",
    "    tf.keras.layers.Dense(1)\n",
    "])"
   ]
  },
  {
   "cell_type": "code",
   "execution_count": null,
   "id": "23440c94-fbb3-4b17-9a28-97a5e507aef8",
   "metadata": {},
   "outputs": [],
   "source": [
    "many_outputs_model.compile(\n",
    "    loss=tf.keras.losses.BinaryCrossentropy(from_logits=True),\n",
    "    optimizer=tf.keras.optimizers.Adam(1e-4),\n",
    "    metrics=['accuracy']\n",
    ")"
   ]
  },
  {
   "cell_type": "code",
   "execution_count": null,
   "id": "e46c44a5-5db7-485a-8196-735ab8c9f010",
   "metadata": {},
   "outputs": [],
   "source": [
    "many_outputs_history = model.fit(train_dataset, \n",
    "                                 epochs=10,\n",
    "                                 validation_data_set=test_dataset,\n",
    "                                 validation_steps=30)"
   ]
  },
  {
   "cell_type": "code",
   "execution_count": null,
   "id": "ef5fb3eb-98df-4b24-8648-b403d6c504a2",
   "metadata": {},
   "outputs": [],
   "source": [
    "many_outputs_test_loss, many_outputs_test_acc = many_outputs_history.evaluate(test_dataset)\n",
    "\n",
    "print('Test Loss:', many_outputs_test_loss)\n",
    "print('Test Accuracy:', many_outputs_test_acc)"
   ]
  },
  {
   "cell_type": "code",
   "execution_count": null,
   "id": "440b6a8b-6a52-47c4-aa97-c33562f9fec3",
   "metadata": {},
   "outputs": [],
   "source": [
    "sample_text = (\"The movie was not good. The animation and the graphics were terrible. I would not recommend this movie.\")\n",
    "predictions = model.predict(np.array([sample_text]))\n",
    "print(predictions)"
   ]
  },
  {
   "cell_type": "code",
   "execution_count": null,
   "id": "7865c281-13f1-42ab-abb0-2704b016ee08",
   "metadata": {},
   "outputs": [],
   "source": [
    "plt.figure(figsize=(16, 6))\n",
    "plt.subplot(1, 2, 1)\n",
    "plot_graphs(many_outputs_history, 'accuracy')\n",
    "\n",
    "plt.subplot(1, 2, 2)\n",
    "plot_graphs(many_outputs_history, 'loss')"
   ]
  }
 ],
 "metadata": {
  "kernelspec": {
   "display_name": "Python 3 (ipykernel)",
   "language": "python",
   "name": "python3"
  },
  "language_info": {
   "codemirror_mode": {
    "name": "ipython",
    "version": 3
   },
   "file_extension": ".py",
   "mimetype": "text/x-python",
   "name": "python",
   "nbconvert_exporter": "python",
   "pygments_lexer": "ipython3",
   "version": "3.9.7"
  }
 },
 "nbformat": 4,
 "nbformat_minor": 5
}
