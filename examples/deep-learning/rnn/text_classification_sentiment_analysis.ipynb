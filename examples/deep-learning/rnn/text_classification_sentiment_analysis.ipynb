{
 "cells": [
  {
   "cell_type": "markdown",
   "id": "c0c3f721-26ff-489a-94de-ed3c1e4cbf25",
   "metadata": {},
   "source": [
    "# Text classification with an RNN\n",
    "\n",
    "This is a text classification that uses recurrent neural network on the IMDB large movie review dataset for sentiment analysis.\n",
    "\n",
    "_source_: https://www.tensorflow.org/text/tutorials/text_classification_rnn"
   ]
  },
  {
   "cell_type": "markdown",
   "id": "b8bec517-535c-4b03-8132-8b8b42f9e7d0",
   "metadata": {
    "tags": []
   },
   "source": [
    "## Design of the Model\n",
    "![image.png](https://www.tensorflow.org/text/tutorials/images/bidirectional.png)"
   ]
  },
  {
   "cell_type": "code",
   "execution_count": 1,
   "id": "59c242f8-c2eb-4d11-92d7-28276659ed4e",
   "metadata": {},
   "outputs": [],
   "source": [
    "import numpy as np\n",
    "\n",
    "import matplotlib.pyplot as plt\n",
    "\n",
    "import tensorflow as tf\n",
    "import tensorflow_datasets as tfds"
   ]
  },
  {
   "cell_type": "code",
   "execution_count": 2,
   "id": "6d10da94-901d-4432-8d04-8fb1cb86ddc3",
   "metadata": {},
   "outputs": [],
   "source": [
    "tfds.disable_progress_bar()"
   ]
  },
  {
   "cell_type": "markdown",
   "id": "f1edcb73-8a13-45db-8801-574df44dd09a",
   "metadata": {},
   "source": [
    "## Helpers functions"
   ]
  },
  {
   "cell_type": "code",
   "execution_count": 3,
   "id": "4293b787-c6e6-4e14-ab53-d0763a297600",
   "metadata": {},
   "outputs": [],
   "source": [
    "def plot_graphs(history, metric):\n",
    "    plt.plot(history.history[metric])\n",
    "    plt.plot(history.history['val_' + metric], '')\n",
    "    plt.xlabel('Epochs')\n",
    "    plt.ylable(metric)\n",
    "    plt.legend([metric, 'val_' + metric])"
   ]
  },
  {
   "cell_type": "markdown",
   "id": "ccaf0ee6-7b2e-476a-80aa-aa8a904afb6b",
   "metadata": {},
   "source": [
    "## Setup input pipeline"
   ]
  },
  {
   "cell_type": "code",
   "execution_count": 4,
   "id": "974ddaf2-8de7-4280-a1e9-b72872dfc929",
   "metadata": {},
   "outputs": [
    {
     "name": "stderr",
     "output_type": "stream",
     "text": [
      "2022-03-08 22:10:14.412641: I tensorflow/core/platform/cpu_feature_guard.cc:142] This TensorFlow binary is optimized with oneAPI Deep Neural Network Library (oneDNN) to use the following CPU instructions in performance-critical operations:  SSE4.1 SSE4.2 AVX AVX2 FMA\n",
      "To enable them in other operations, rebuild TensorFlow with the appropriate compiler flags.\n",
      "2022-03-08 22:10:14.414219: I tensorflow/core/common_runtime/process_util.cc:146] Creating new thread pool with default inter op setting: 2. Tune using inter_op_parallelism_threads for best performance.\n",
      "WARNING:absl:Warning: Setting shuffle_files=True because split=TRAIN and shuffle_files=None. This behavior will be deprecated on 2019-08-06, at which point shuffle_files=False will be the default for all splits.\n"
     ]
    }
   ],
   "source": [
    "dataset, info = tfds.load('imdb_reviews', with_info=True, as_supervised=True)\n",
    "train_dataset, test_dataset = dataset['train'], dataset['test']"
   ]
  },
  {
   "cell_type": "code",
   "execution_count": 5,
   "id": "916505bf-7967-46b1-9fed-9c802c681842",
   "metadata": {},
   "outputs": [
    {
     "data": {
      "text/plain": [
       "(TensorSpec(shape=(), dtype=tf.string, name=None),\n",
       " TensorSpec(shape=(), dtype=tf.int64, name=None))"
      ]
     },
     "execution_count": 5,
     "metadata": {},
     "output_type": "execute_result"
    }
   ],
   "source": [
    "train_dataset.element_spec"
   ]
  },
  {
   "cell_type": "markdown",
   "id": "72a0eb6c-d56d-4a90-b508-fe4a321bb46c",
   "metadata": {},
   "source": [
    "for example, label in train_dataset.take(1):\n",
    "    print(\"text: \", example.numpy())\n",
    "    print(\"label: \", label.numpy())"
   ]
  },
  {
   "cell_type": "markdown",
   "id": "8b8b167f-0831-41f6-bcf3-191b7ce543ca",
   "metadata": {},
   "source": [
    "### Shuffle the data for train and create batches of these (text, label) pairs"
   ]
  },
  {
   "cell_type": "code",
   "execution_count": 6,
   "id": "f64997fb-a928-4d23-88e9-1a9b5799cf8e",
   "metadata": {},
   "outputs": [],
   "source": [
    "BUFFER_SIZE = 10000\n",
    "BATCH_SIZE = 64"
   ]
  },
  {
   "cell_type": "code",
   "execution_count": 7,
   "id": "c91e650f-d334-4589-9df5-169261ec7743",
   "metadata": {},
   "outputs": [],
   "source": [
    "train_dataset = train_dataset.shuffle(BUFFER_SIZE).batch(BATCH_SIZE).prefetch(tf.data.AUTOTUNE)\n",
    "test_dataset = test_dataset.batch(BATCH_SIZE).prefetch(tf.data.AUTOTUNE)"
   ]
  },
  {
   "cell_type": "code",
   "execution_count": 8,
   "id": "332d382b-a4df-4a3f-973a-5acb4561828e",
   "metadata": {},
   "outputs": [
    {
     "name": "stderr",
     "output_type": "stream",
     "text": [
      "2022-03-08 22:10:14.545559: I tensorflow/compiler/mlir/mlir_graph_optimization_pass.cc:185] None of the MLIR Optimization Passes are enabled (registered 2)\n"
     ]
    },
    {
     "name": "stdout",
     "output_type": "stream",
     "text": [
      "texts:  [b'this movie is ok if you like mindless action ,corny acting, and a very small plot !The special effects are decent considering this movie is from the director of\"Event Horizon\". The costumes are like something from a mad max movie .None of the soldiers talk ,so others tell them what to do.It eventually end up as a big shoot\\'em up movie with explosions all the place. I personally liked Russell better in \"tango and cash\"\"escape from la/new york\" and \"executive decision\". It must see this movie leave your mind at the door for a no brainer action science fiction movie!!'\n",
      " b\"Stefan is an x-con that five years ago got married to Marie. Their marriage has been stable until Stefan past catch up with them and he's offered to do a courier job. Stefan's job is a heroin delivery from Germany to Sweden which should go easily.<br /><br />In Germany Stefan meet Elli, a girl from Bosnia that has been sold to a stripclub owner. Stefan dislikes what he sees and decide to help Elli out of her misery. Due to the fact that Elli's father during the war fleed to Sweden Elli now goes with Stefan to Sweden. To make up with the past Stefan promises Elli to help her find her father, no matter what it takes. Finally back in Sweden the whole situation seems to be more complicated than Stefan ever thought of..<br /><br />This movie doesn't seem to fit in the ordinary class of swedish movies due to the fact that it's been americanized alot. Regina Lund and Cecilia Bergqvist makes it all average, the effects makes the movie a little too much though. See it and jugde for yourself.<br /><br />\"\n",
      " b'The group of people are travelling to Belgrade in an awful bus led by a drunk conductor and his dumb son (who likes to drive with his eyes closed). Their journey is frequently interrupted by many hilarious events which with much irony describe the fall of nation`s spirit in 1941 and are so funny that they are even today used as a common jokes. The man who \"steals the show\" is a peasant 4 feet tall with his 4 sons who are almost two times bigger than him. In the end, the movie takes one dramatical turn and the trip becomes nothing but a swan`s song of a dying country.']\n",
      "\n",
      "labels:  [1 0 1]\n"
     ]
    }
   ],
   "source": [
    "for example, label in train_dataset.take(1):\n",
    "    print(\"texts: \", example.numpy()[:3],)\n",
    "    print(\"\")\n",
    "    print(\"labels: \", label.numpy()[:3])"
   ]
  },
  {
   "cell_type": "markdown",
   "id": "2863b881-8ba8-4914-9b4a-dd8610171882",
   "metadata": {},
   "source": [
    "## Create the text encoder"
   ]
  },
  {
   "cell_type": "code",
   "execution_count": 9,
   "id": "fed7c3fa-8706-4cde-aa6b-16ce444be029",
   "metadata": {},
   "outputs": [],
   "source": [
    "VOCAB_SIZE = 1000\n",
    "\n",
    "encoder = tf.keras.layers.TextVectorization(max_tokens=VOCAB_SIZE)\n",
    "encoder.adapt(train_dataset.map(lambda text, label: text))"
   ]
  },
  {
   "cell_type": "code",
   "execution_count": 10,
   "id": "ddc9b515-78b7-46c8-aef1-9db9f1faa7b8",
   "metadata": {},
   "outputs": [
    {
     "data": {
      "text/plain": [
       "array(['', '[UNK]', 'the', 'and', 'a', 'of', 'to', 'is', 'in', 'it', 'i',\n",
       "       'this', 'that', 'br', 'was', 'as', 'for', 'with', 'movie', 'but'],\n",
       "      dtype='<U14')"
      ]
     },
     "execution_count": 10,
     "metadata": {},
     "output_type": "execute_result"
    }
   ],
   "source": [
    "vocab = np.array(encoder.get_vocabulary())\n",
    "vocab[:20]"
   ]
  },
  {
   "cell_type": "code",
   "execution_count": 11,
   "id": "b5b49713-21d9-4610-b08c-cd0701774cf8",
   "metadata": {},
   "outputs": [
    {
     "data": {
      "text/plain": [
       "array([[ 11,  18,   7, ...,   0,   0,   0],\n",
       "       [  1,   7,  34, ...,   0,   0,   0],\n",
       "       [  2, 579,   5, ...,   0,   0,   0]])"
      ]
     },
     "execution_count": 11,
     "metadata": {},
     "output_type": "execute_result"
    }
   ],
   "source": [
    "encoded_example = encoder(example)[:3].numpy()\n",
    "encoded_example"
   ]
  },
  {
   "cell_type": "code",
   "execution_count": 12,
   "id": "c0817081-a167-4d35-812a-95f432d50c4a",
   "metadata": {},
   "outputs": [
    {
     "name": "stdout",
     "output_type": "stream",
     "text": [
      "Original:  b'this movie is ok if you like mindless action ,corny acting, and a very small plot !The special effects are decent considering this movie is from the director of\"Event Horizon\". The costumes are like something from a mad max movie .None of the soldiers talk ,so others tell them what to do.It eventually end up as a big shoot\\'em up movie with explosions all the place. I personally liked Russell better in \"tango and cash\"\"escape from la/new york\" and \"executive decision\". It must see this movie leave your mind at the door for a no brainer action science fiction movie!!'\n",
      "--------------------------------\n",
      "Round-trip:  this movie is ok if you like [UNK] action [UNK] acting and a very small plot the special effects are decent [UNK] this movie is from the director [UNK] [UNK] the [UNK] are like something from a [UNK] [UNK] movie none of the [UNK] talk so others tell them what to [UNK] eventually end up as a big [UNK] up movie with [UNK] all the place i [UNK] liked [UNK] better in [UNK] and [UNK] from [UNK] york and [UNK] [UNK] it must see this movie leave your mind at the [UNK] for a no [UNK] action [UNK] [UNK] movie                                                                                                                                                                                                                                                                                                                                                                                                                                                                                                                                                                                                                                                    \n",
      "\n",
      "Original:  b\"Stefan is an x-con that five years ago got married to Marie. Their marriage has been stable until Stefan past catch up with them and he's offered to do a courier job. Stefan's job is a heroin delivery from Germany to Sweden which should go easily.<br /><br />In Germany Stefan meet Elli, a girl from Bosnia that has been sold to a stripclub owner. Stefan dislikes what he sees and decide to help Elli out of her misery. Due to the fact that Elli's father during the war fleed to Sweden Elli now goes with Stefan to Sweden. To make up with the past Stefan promises Elli to help her find her father, no matter what it takes. Finally back in Sweden the whole situation seems to be more complicated than Stefan ever thought of..<br /><br />This movie doesn't seem to fit in the ordinary class of swedish movies due to the fact that it's been americanized alot. Regina Lund and Cecilia Bergqvist makes it all average, the effects makes the movie a little too much though. See it and jugde for yourself.<br /><br />\"\n",
      "--------------------------------\n",
      "Round-trip:  [UNK] is an [UNK] that five years ago got [UNK] to [UNK] their [UNK] has been [UNK] until [UNK] past [UNK] up with them and hes [UNK] to do a [UNK] job [UNK] job is a [UNK] [UNK] from [UNK] to [UNK] which should go [UNK] br in [UNK] [UNK] meet [UNK] a girl from [UNK] that has been [UNK] to a [UNK] [UNK] [UNK] [UNK] what he [UNK] and [UNK] to help [UNK] out of her [UNK] due to the fact that [UNK] father during the war [UNK] to [UNK] [UNK] now goes with [UNK] to [UNK] to make up with the past [UNK] [UNK] [UNK] to help her find her father no matter what it takes finally back in [UNK] the whole situation seems to be more [UNK] than [UNK] ever thought [UNK] br this movie doesnt seem to [UNK] in the [UNK] class of [UNK] movies due to the fact that its been [UNK] [UNK] [UNK] [UNK] and [UNK] [UNK] makes it all average the effects makes the movie a little too much though see it and [UNK] for [UNK] br                                                                                                                                                                                                                                                                                                                                                                                                                                                                                                                                                                \n",
      "\n",
      "Original:  b'The group of people are travelling to Belgrade in an awful bus led by a drunk conductor and his dumb son (who likes to drive with his eyes closed). Their journey is frequently interrupted by many hilarious events which with much irony describe the fall of nation`s spirit in 1941 and are so funny that they are even today used as a common jokes. The man who \"steals the show\" is a peasant 4 feet tall with his 4 sons who are almost two times bigger than him. In the end, the movie takes one dramatical turn and the trip becomes nothing but a swan`s song of a dying country.'\n",
      "--------------------------------\n",
      "Round-trip:  the group of people are [UNK] to [UNK] in an awful [UNK] [UNK] by a [UNK] [UNK] and his dumb son who [UNK] to [UNK] with his eyes [UNK] their [UNK] is [UNK] [UNK] by many hilarious events which with much [UNK] [UNK] the fall of [UNK] [UNK] in [UNK] and are so funny that they are even today used as a [UNK] jokes the man who [UNK] the show is a [UNK] 4 [UNK] [UNK] with his 4 [UNK] who are almost two times [UNK] than him in the end the movie takes one [UNK] turn and the [UNK] becomes nothing but a [UNK] song of a [UNK] country                                                                                                                                                                                                                                                                                                                                                                                                                                                                                                                                                                                                                                          \n",
      "\n"
     ]
    }
   ],
   "source": [
    "for n in range(3):\n",
    "    print(\"Original: \", example[n].numpy())\n",
    "    print(\"--------------------------------\")\n",
    "    print(\"Round-trip: \", \" \".join(vocab[encoded_example[n]]))\n",
    "    print()"
   ]
  },
  {
   "cell_type": "markdown",
   "id": "daebe96c-c7b3-444d-9e87-29d114de6dc0",
   "metadata": {
    "tags": []
   },
   "source": [
    "## Create the model"
   ]
  }
 ],
 "metadata": {
  "kernelspec": {
   "display_name": "Python 3 (ipykernel)",
   "language": "python",
   "name": "python3"
  },
  "language_info": {
   "codemirror_mode": {
    "name": "ipython",
    "version": 3
   },
   "file_extension": ".py",
   "mimetype": "text/x-python",
   "name": "python",
   "nbconvert_exporter": "python",
   "pygments_lexer": "ipython3",
   "version": "3.9.7"
  }
 },
 "nbformat": 4,
 "nbformat_minor": 5
}
