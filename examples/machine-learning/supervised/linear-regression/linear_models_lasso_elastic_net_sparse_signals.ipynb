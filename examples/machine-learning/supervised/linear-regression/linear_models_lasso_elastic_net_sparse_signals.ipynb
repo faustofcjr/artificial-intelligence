{
 "cells": [
  {
   "cell_type": "markdown",
   "metadata": {
    "id": "Lr15k4IcDJdQ"
   },
   "source": [
    "# LINEAR MODEL\n",
    "## Lasso model selection: AIC-BIC / cross-validation - [source](https://scikit-learn.org/stable/auto_examples/linear_model/plot_lasso_model_selection.html#sphx-glr-auto-examples-linear-model-plot-lasso-model-selection-py)"
   ]
  },
  {
   "cell_type": "code",
   "execution_count": 1,
   "metadata": {
    "executionInfo": {
     "elapsed": 359,
     "status": "ok",
     "timestamp": 1642801227844,
     "user": {
      "displayName": "Fausto Carvalho",
      "photoUrl": "https://lh3.googleusercontent.com/a-/AOh14GhQSp8A75VnSre8_0cZLC_op7xUuyx_SZKDhtk6rw=s64",
      "userId": "14769586862712322629"
     },
     "user_tz": 180
    },
    "id": "2tW4Uh-ZCee_"
   },
   "outputs": [],
   "source": [
    "from sklearn.metrics import r2_score\n",
    "import numpy as np\n",
    "import matplotlib.pyplot as plt"
   ]
  },
  {
   "cell_type": "markdown",
   "metadata": {
    "id": "S8Z9fAjuUQ-K"
   },
   "source": [
    "### Generate some sparse data to play with"
   ]
  },
  {
   "cell_type": "code",
   "execution_count": 2,
   "metadata": {},
   "outputs": [],
   "source": [
    "np.random.seed(42)\n",
    "\n",
    "n_samples, n_features = 50, 100\n",
    "X = np.random.randn(n_samples, n_features)"
   ]
  },
  {
   "cell_type": "markdown",
   "metadata": {},
   "source": [
    "### Decreasing coef w. alternated signs for visualization"
   ]
  },
  {
   "cell_type": "code",
   "execution_count": 3,
   "metadata": {},
   "outputs": [],
   "source": [
    "idx = np.arange(n_features)\n",
    "coef = (-1) ** idx * np.exp(-idx / 10)\n",
    "coef[10:] = 0 # sparsify coef\n",
    "y = np.dot(X, coef)"
   ]
  },
  {
   "cell_type": "markdown",
   "metadata": {},
   "source": [
    "### Add Noise"
   ]
  },
  {
   "cell_type": "code",
   "execution_count": 4,
   "metadata": {},
   "outputs": [],
   "source": [
    "y += 0.01 * np.random.normal(size = n_samples)"
   ]
  },
  {
   "cell_type": "markdown",
   "metadata": {},
   "source": [
    "### Split data in train set and test set"
   ]
  },
  {
   "cell_type": "code",
   "execution_count": 5,
   "metadata": {},
   "outputs": [],
   "source": [
    "n_sample = X.shape[0]\n",
    "X_train, y_train = X[: n_samples // 2], y[: n_samples // 2]\n",
    "X_test, y_test = X[n_samples // 2 :], y[n_samples // 2 :]"
   ]
  },
  {
   "cell_type": "markdown",
   "metadata": {},
   "source": [
    "## Lasso"
   ]
  },
  {
   "cell_type": "code",
   "execution_count": 6,
   "metadata": {},
   "outputs": [],
   "source": [
    "from sklearn.linear_model import Lasso"
   ]
  },
  {
   "cell_type": "code",
   "execution_count": 7,
   "metadata": {},
   "outputs": [
    {
     "name": "stdout",
     "output_type": "stream",
     "text": [
      "Lasso(alpha=0.1)\n",
      "r^2 on test data : 0.658064\n"
     ]
    }
   ],
   "source": [
    "lasso = Lasso(alpha=0.1)\n",
    "\n",
    "y_pred_lasso = lasso.fit(X_train, y_train).predict(X_test)\n",
    "r2_score_lasso = r2_score(y_test, y_pred_lasso)\n",
    "\n",
    "print(lasso)\n",
    "print(\"r^2 on test data : %f\" % r2_score_lasso)"
   ]
  },
  {
   "cell_type": "markdown",
   "metadata": {},
   "source": [
    "## ElasticNet"
   ]
  },
  {
   "cell_type": "code",
   "execution_count": 8,
   "metadata": {},
   "outputs": [],
   "source": [
    "from sklearn.linear_model import ElasticNet"
   ]
  },
  {
   "cell_type": "code",
   "execution_count": 9,
   "metadata": {},
   "outputs": [
    {
     "name": "stdout",
     "output_type": "stream",
     "text": [
      "ElasticNet(alpha=0.1, l1_ratio=0.7)\n",
      "r^2 on test data : 0.642515\n"
     ]
    }
   ],
   "source": [
    "enet = ElasticNet(alpha=0.1, l1_ratio=0.7)\n",
    "\n",
    "y_pred_enet = enet.fit(X_train, y_train).predict(X_test)\n",
    "r2_score_enet = r2_score(y_test, y_pred_enet)\n",
    "\n",
    "print(enet)\n",
    "print(\"r^2 on test data : %f\" % r2_score_enet)"
   ]
  },
  {
   "cell_type": "code",
   "execution_count": 10,
   "metadata": {},
   "outputs": [
    {
     "data": {
      "image/png": "[encoded data removed]",
      "text/plain": [
       "<Figure size 432x288 with 1 Axes>"
      ]
     },
     "metadata": {
      "needs_background": "light"
     },
     "output_type": "display_data"
    }
   ],
   "source": [
    "m, s, _ = plt.stem(\n",
    "    np.where(enet.coef_)[0],\n",
    "    enet.coef_[enet.coef_ != 0],\n",
    "    markerfmt=\"x\",\n",
    "    label=\"Elastic Net Coefficients\",\n",
    "    use_line_collection=True\n",
    ")\n",
    "\n",
    "plt.setp([m, s], color=\"#2ca02c\")\n",
    "m, s, _ = plt.stem(\n",
    "    np.where(lasso.coef_)[0],\n",
    "    lasso.coef_[lasso.coef_ != 0],\n",
    "    markerfmt=\"x\",\n",
    "    label=\"Lasso Coefficients\",\n",
    "    use_line_collection=True\n",
    ")\n",
    "\n",
    "plt.setp([m, s], color=\"#ff7f0e\")\n",
    "plt.stem(\n",
    "    np.where(coef)[0],\n",
    "    coef[coef != 0],\n",
    "    label=\"True Coefficients\",\n",
    "    markerfmt=\"bx\",\n",
    "    use_line_collection=True,\n",
    ")\n",
    "\n",
    "plt.legend(loc=\"best\")\n",
    "plt.title(\"Lasso $R^2$: %.3f, Elastic Net $R^2$: %.3f\" % (r2_score_lasso, r2_score_enet))\n",
    "plt.show()"
   ]
  }
 ],
 "metadata": {
  "colab": {
   "authorship_tag": "ABX9TyO0spnoxwtCx/b+dlAC+A8G",
   "collapsed_sections": [],
   "name": "linear_model_compressive_sensing_tomography.ipynb",
   "provenance": []
  },
  "kernelspec": {
   "display_name": "Python 3 (ipykernel)",
   "language": "python",
   "name": "python3"
  },
  "language_info": {
   "codemirror_mode": {
    "name": "ipython",
    "version": 3
   },
   "file_extension": ".py",
   "mimetype": "text/x-python",
   "name": "python",
   "nbconvert_exporter": "python",
   "pygments_lexer": "ipython3",
   "version": "3.9.7"
  }
 },
 "nbformat": 4,
 "nbformat_minor": 4
}
